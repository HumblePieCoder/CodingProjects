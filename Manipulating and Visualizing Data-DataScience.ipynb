{
 "cells": [
  {
   "cell_type": "code",
   "execution_count": 42,
   "metadata": {
    "deletable": false,
    "editable": false
   },
   "outputs": [
    {
     "name": "stdout",
     "output_type": "stream",
     "text": [
      "=====================================================================\n",
      "Assignment: Project 1: World Progress\n",
      "OK, version v1.18.1\n",
      "=====================================================================\n",
      "\n"
     ]
    }
   ],
   "source": [
    "# Initialize OK\n",
    "from client.api.notebook import Notebook\n",
    "ok = Notebook('project1.ok')"
   ]
  },
  {
   "cell_type": "markdown",
   "metadata": {},
   "source": [
    "## Project 1: World Progress"
   ]
  },
  {
   "cell_type": "markdown",
   "metadata": {},
   "source": [
    "In this project, you'll explore data from [Gapminder.org](http://gapminder.org), a website dedicated to providing a fact-based view of the world and how it has changed. That site includes several data visualizations and presentations, but also publishes the raw data that we will use in this project to recreate and extend some of their most famous visualizations.\n",
    "\n",
    "The Gapminder website collects data from many sources and compiles them into tables that describe many countries around the world. All of the data they aggregate are published in the [Systema Globalis](https://github.com/open-numbers/ddf--gapminder--systema_globalis/blob/master/README.md). Their goal is \"to compile all public statistics; Social, Economic and Environmental; into a comparable total dataset.\" All data sets in this project are copied directly from the Systema Globalis without any changes.\n",
    "\n",
    "This project is dedicated to [Hans Rosling](https://en.wikipedia.org/wiki/Hans_Rosling) (1948-2017), who championed the use of data to understand and prioritize global development challenges."
   ]
  },
  {
   "cell_type": "markdown",
   "metadata": {},
   "source": [
    "### Logistics\n",
    "\n",
    "**Deadline.** This project is due at 11:59pm P.T. on Thursday, 2/25. Projects will be accepted up to 2 days (48 hours) late; a project submitted less than 24 hours after the deadline will receive 2/3 credit, a project submitted between 24 and 48 hours after the deadline will receive 1/3 credit, and a project submitted 48 hours or more after the deadline will receive no credit. It's **much** better to be early than late, so start working now.\n",
    "\n",
    "**Checkpoint.** For full credit on the checkpoint, you must also complete the first 8 questions, pass all public autograder tests, and submit to okpy by 11:59pm P.T. on Friday, 2/19. This is worth 1 point of your entire project grade. After you've submitted the checkpoint, you may still change your answers before the project deadline - only your final submission will be graded for correctness. You will have some lab time to work on these questions, but we recommend that you start the project before lab and leave time to finish the checkpoint afterward.\n",
    "\n",
    "**Partners.** You may work with one other partner; your partner must be from your assigned lab section. Only one of you is required to submit the project. On [okpy.org](http://okpy.org), the person who submits should also designate their partner so that both of you receive credit. Feel free to split up the work between your partner, share what you complete with each other in a google document, and share your screen in a Zoom call as you work together.\n",
    "\n",
    "**Rules.** Don't share your code with anybody but your partner. You are welcome to discuss questions with other students, but don't share the answers. The experience of solving the problems in this project will prepare you for exams (and life). If someone asks you for the answer, resist! Instead, you can demonstrate how you would solve a similar problem.\n",
    "\n",
    "**Support.** You are not alone! Come to office hours, post on Piazza, and talk to your classmates. If you want to ask about the details of your solution to a problem, make a private Piazza post and the staff will respond. If you're ever feeling overwhelmed or don't know how to make progress, email your discussion TA or tutor for help. You can find contact information for the staff on the [course website](http://data8.org/sp21/staff.html).\n",
    "\n",
    "**Tests.** The tests that are given are **not comprehensive** and passing the tests for a question **does not** mean that you answered the question correctly. Tests usually only check that your table has the correct column labels. However, more tests will be applied to verify the correctness of your submission in order to assign your final score, so be careful and check your work! You might want to create your own checks along the way to see if your answers make sense. Additionally, before you submit, make sure that none of your cells take a very long time to run (several minutes). Each question is worth 1 point of your total project grade.\n",
    "\n",
    "**Free Response Questions:** Make sure that you put the answers to the written questions in the indicated cell we provide. **Every free response question should include an explanation** that adequately answers the question. Check to make sure that you have a [Gradescope](http://gradescope.com) account, which is where the scores to the free response questions will be posted. If you do not, make sure to reach out to your assigned (u)GSI.\n",
    "\n",
    "**Advice.** Develop your answers incrementally. To perform a complicated table manipulation, break it up into steps, perform each step on a different line, give a new name to each result, and check that each intermediate result is what you expect. You can add any additional names or functions you want to the provided cells. Make sure that you are using distinct and meaningful variable names throughout the notebook. Along that line, **DO NOT** reuse the variable names that we use when we grade your answers. For example, in Question 1 of the Global Poverty section, we ask you to assign an answer to `latest`. Do not reassign the variable name `latest` to anything else in your notebook, otherwise there is the chance that our tests grade against what `latest` was reassigned to.\n",
    "\n",
    "You **never** have to use just one line in this project or any others. Use intermediate variables and multiple lines as much as you would like!  \n",
    "\n",
    "To get started, load `datascience`, `numpy`, `plots`, and `ok`."
   ]
  },
  {
   "cell_type": "code",
   "execution_count": 43,
   "metadata": {},
   "outputs": [
    {
     "name": "stdout",
     "output_type": "stream",
     "text": [
      "=====================================================================\n",
      "Assignment: Project 1: World Progress\n",
      "OK, version v1.18.1\n",
      "=====================================================================\n",
      "\n"
     ]
    }
   ],
   "source": [
    "from datascience import *\n",
    "import numpy as np\n",
    "\n",
    "%matplotlib inline\n",
    "import matplotlib.pyplot as plots\n",
    "plots.style.use('fivethirtyeight')\n",
    "\n",
    "from client.api.notebook import *\n",
    "def new_save_notebook(self):\n",
    "    \"\"\" Saves the current notebook by\n",
    "        injecting JavaScript to save to .ipynb file.\n",
    "    \"\"\"\n",
    "    try:\n",
    "        from IPython.display import display, Javascript\n",
    "    except ImportError:\n",
    "        log.warning(\"Could not import IPython Display Function\")\n",
    "        print(\"Make sure to save your notebook before sending it to OK!\")\n",
    "        return\n",
    "\n",
    "    if self.mode == \"jupyter\":\n",
    "        display(Javascript('IPython.notebook.save_checkpoint();'))\n",
    "        display(Javascript('IPython.notebook.save_notebook();'))\n",
    "    elif self.mode == \"jupyterlab\":\n",
    "        display(Javascript('document.querySelector(\\'[data-command=\"docmanager:save\"]\\').click();'))   \n",
    "\n",
    "    print('Saving notebook...', end=' ')\n",
    "\n",
    "    ipynbs = [path for path in self.assignment.src\n",
    "              if os.path.splitext(path)[1] == '.ipynb']\n",
    "    # Wait for first .ipynb to save\n",
    "    if ipynbs:\n",
    "        if wait_for_save(ipynbs[0]):\n",
    "            print(\"Saved '{}'.\".format(ipynbs[0]))\n",
    "        else:\n",
    "            log.warning(\"Timed out waiting for IPython save\")\n",
    "            print(\"Could not automatically save \\'{}\\'\".format(ipynbs[0]))\n",
    "            print(\"Make sure your notebook\"\n",
    "                  \" is correctly named and saved before submitting to OK!\".format(ipynbs[0]))\n",
    "            return False                \n",
    "    else:\n",
    "        print(\"No valid file sources found\")\n",
    "    return True\n",
    "\n",
    "def wait_for_save(filename, timeout=600):\n",
    "    \"\"\"Waits for FILENAME to update, waiting up to TIMEOUT seconds.\n",
    "    Returns True if a save was detected, and False otherwise.\n",
    "    \"\"\"\n",
    "    modification_time = os.path.getmtime(filename)\n",
    "    start_time = time.time()\n",
    "    while time.time() < start_time + timeout:\n",
    "        if (os.path.getmtime(filename) > modification_time and\n",
    "            os.path.getsize(filename) > 0):\n",
    "            return True\n",
    "        time.sleep(0.2)\n",
    "    print(\"\\nERROR!\\n YOUR SUBMISSION DID NOT GO THROUGH. PLEASE TRY AGAIN. IF THIS PROBLEM PERSISTS POST ON PIAZZA RIGHT AWAY.\\n ERROR!\" + \"\\n\"*20)\n",
    "    return False\n",
    "\n",
    "Notebook.save_notebook = new_save_notebook\n",
    "\n",
    "from client.api.notebook import Notebook\n",
    "ok = Notebook('project1.ok')"
   ]
  },
  {
   "cell_type": "markdown",
   "metadata": {},
   "source": [
    "Before continuing the assignment, select \"Save and Checkpoint\" in the File menu and then execute the submit cell below. The result will contain a link that you can use to check that your assignment has been submitted successfully. If you submit more than once before the deadline, we will only grade your final submission. If you mistakenly submit the wrong one, you can head to okpy.org and flag the correct version. There will be another submit cell at the end of the assignment when you finish!"
   ]
  },
  {
   "cell_type": "code",
   "execution_count": 44,
   "metadata": {},
   "outputs": [
    {
     "data": {
      "application/javascript": [
       "IPython.notebook.save_checkpoint();"
      ],
      "text/plain": [
       "<IPython.core.display.Javascript object>"
      ]
     },
     "metadata": {},
     "output_type": "display_data"
    },
    {
     "data": {
      "application/javascript": [
       "IPython.notebook.save_notebook();"
      ],
      "text/plain": [
       "<IPython.core.display.Javascript object>"
      ]
     },
     "metadata": {},
     "output_type": "display_data"
    },
    {
     "name": "stdout",
     "output_type": "stream",
     "text": [
      "Saving notebook... Saved 'project1.ipynb'.\n",
      "Submit... 100% complete\n",
      "Submission successful for user: edmiller2020@berkeley.edu\n",
      "URL: https://okpy.org/cal/data8/sp21/project1/submissions/14NMM3\n",
      "\n"
     ]
    }
   ],
   "source": [
    "_ = ok.submit()"
   ]
  },
  {
   "cell_type": "markdown",
   "metadata": {
    "deletable": false,
    "editable": false
   },
   "source": [
    "## 1. Global Population Growth\n"
   ]
  },
  {
   "cell_type": "markdown",
   "metadata": {
    "deletable": false,
    "editable": false
   },
   "source": [
    "The global population of humans reached 1 billion around 1800, 3 billion around 1960, and 7 billion around 2011. The potential impact of exponential population growth has concerned scientists, economists, and politicians alike.\n",
    "\n",
    "The UN Population Division estimates that the world population will likely continue to grow throughout the 21st century, but at a slower rate, perhaps reaching 11 billion by 2100. However, the UN does not rule out scenarios of more extreme growth.\n",
    "\n",
    "<a href=\"http://www.pewresearch.org/fact-tank/2015/06/08/scientists-more-worried-than-public-about-worlds-growing-population/ft_15-06-04_popcount/\"> \n",
    " <img src=\"pew_population_projection.png\"/> \n",
    "</a>\n",
    "\n",
    "In this section, we will examine some of the factors that influence population growth and how they are changing around the world.\n",
    "\n",
    "The first table we will consider contains the total population of each country over time. Run the cell below."
   ]
  },
  {
   "cell_type": "code",
   "execution_count": 45,
   "metadata": {
    "deletable": false
   },
   "outputs": [
    {
     "data": {
      "text/html": [
       "<table border=\"1\" class=\"dataframe\">\n",
       "    <thead>\n",
       "        <tr>\n",
       "            <th>geo</th> <th>time</th> <th>population_total</th>\n",
       "        </tr>\n",
       "    </thead>\n",
       "    <tbody>\n",
       "        <tr>\n",
       "            <td>afg </td> <td>1800</td> <td>3280000         </td>\n",
       "        </tr>\n",
       "        <tr>\n",
       "            <td>afg </td> <td>1801</td> <td>3280000         </td>\n",
       "        </tr>\n",
       "        <tr>\n",
       "            <td>afg </td> <td>1802</td> <td>3280000         </td>\n",
       "        </tr>\n",
       "    </tbody>\n",
       "</table>\n",
       "<p>... (43534 rows omitted)</p>"
      ],
      "text/plain": [
       "<IPython.core.display.HTML object>"
      ]
     },
     "metadata": {},
     "output_type": "display_data"
    }
   ],
   "source": [
    "population = Table.read_table('population.csv').where(\"time\", are.below(2021))\n",
    "population.show(3)"
   ]
  },
  {
   "cell_type": "markdown",
   "metadata": {
    "deletable": false
   },
   "source": [
    "### Haiti\n",
    "\n",
    "In the `population` table, the `geo` column contains three-letter codes established by the [International Organization for Standardization](https://en.wikipedia.org/wiki/International_Organization_for_Standardization) (ISO) in the [Alpha-3](https://en.wikipedia.org/wiki/ISO_3166-1_alpha-3#Current_codes) standard. We will begin by taking a close look at Haiti. Use the ISO link to find the 3-letter code for Haiti."
   ]
  },
  {
   "cell_type": "markdown",
   "metadata": {
    "deletable": false,
    "editable": false
   },
   "source": [
    "**Question 1.** Create a table called `h_pop` that has two columns labeled `time` and `population_total`. The first column should contain the years from 1970 through 2020 (including both 1970 and 2020) and the second should contain the population of Haiti in each of those years.\n",
    "\n",
    "<!--\n",
    "BEGIN QUESTION\n",
    "name: q1_1\n",
    "-->"
   ]
  },
  {
   "cell_type": "code",
   "execution_count": 46,
   "metadata": {
    "deletable": false
   },
   "outputs": [
    {
     "data": {
      "text/html": [
       "<table border=\"1\" class=\"dataframe\">\n",
       "    <thead>\n",
       "        <tr>\n",
       "            <th>time</th> <th>population_total</th>\n",
       "        </tr>\n",
       "    </thead>\n",
       "    <tbody>\n",
       "        <tr>\n",
       "            <td>1970</td> <td>4676237         </td>\n",
       "        </tr>\n",
       "        <tr>\n",
       "            <td>1971</td> <td>4757175         </td>\n",
       "        </tr>\n",
       "        <tr>\n",
       "            <td>1972</td> <td>4837334         </td>\n",
       "        </tr>\n",
       "        <tr>\n",
       "            <td>1973</td> <td>4918625         </td>\n",
       "        </tr>\n",
       "        <tr>\n",
       "            <td>1974</td> <td>5003708         </td>\n",
       "        </tr>\n",
       "        <tr>\n",
       "            <td>1975</td> <td>5094570         </td>\n",
       "        </tr>\n",
       "        <tr>\n",
       "            <td>1976</td> <td>5191637         </td>\n",
       "        </tr>\n",
       "        <tr>\n",
       "            <td>1977</td> <td>5294625         </td>\n",
       "        </tr>\n",
       "        <tr>\n",
       "            <td>1978</td> <td>5404020         </td>\n",
       "        </tr>\n",
       "        <tr>\n",
       "            <td>1979</td> <td>5520187         </td>\n",
       "        </tr>\n",
       "    </tbody>\n",
       "</table>\n",
       "<p>... (41 rows omitted)</p>"
      ],
      "text/plain": [
       "time | population_total\n",
       "1970 | 4676237\n",
       "1971 | 4757175\n",
       "1972 | 4837334\n",
       "1973 | 4918625\n",
       "1974 | 5003708\n",
       "1975 | 5094570\n",
       "1976 | 5191637\n",
       "1977 | 5294625\n",
       "1978 | 5404020\n",
       "1979 | 5520187\n",
       "... (41 rows omitted)"
      ]
     },
     "execution_count": 46,
     "metadata": {},
     "output_type": "execute_result"
    }
   ],
   "source": [
    "h_pop = population.where(\"geo\", \"hti\").select(\"time\", \"population_total\").where(\"time\", are.between_or_equal_to(1970, 2020))\n",
    "h_pop"
   ]
  },
  {
   "cell_type": "code",
   "execution_count": 47,
   "metadata": {
    "deletable": false,
    "editable": false
   },
   "outputs": [
    {
     "name": "stdout",
     "output_type": "stream",
     "text": [
      "~~~~~~~~~~~~~~~~~~~~~~~~~~~~~~~~~~~~~~~~~~~~~~~~~~~~~~~~~~~~~~~~~~~~~\n",
      "Running tests\n",
      "\n",
      "---------------------------------------------------------------------\n",
      "Test summary\n",
      "    Passed: 2\n",
      "    Failed: 0\n",
      "[ooooooooook] 100.0% passed\n",
      "\n"
     ]
    }
   ],
   "source": [
    "ok.grade(\"q1_1\");"
   ]
  },
  {
   "cell_type": "markdown",
   "metadata": {
    "deletable": false
   },
   "source": [
    "Run the following cell to create a table called `h_decade` that has the population of Haiti for every ten years starting in 1970 and going up to 2020. At a glance, it appears that the population of Haiti has been growing quickly indeed!"
   ]
  },
  {
   "cell_type": "code",
   "execution_count": 48,
   "metadata": {
    "deletable": false
   },
   "outputs": [
    {
     "data": {
      "text/html": [
       "<table border=\"1\" class=\"dataframe\">\n",
       "    <thead>\n",
       "        <tr>\n",
       "            <th>time</th> <th>population_total</th>\n",
       "        </tr>\n",
       "    </thead>\n",
       "    <tbody>\n",
       "        <tr>\n",
       "            <td>1970</td> <td>4,676,237       </td>\n",
       "        </tr>\n",
       "        <tr>\n",
       "            <td>1980</td> <td>5,643,175       </td>\n",
       "        </tr>\n",
       "        <tr>\n",
       "            <td>1990</td> <td>7,037,915       </td>\n",
       "        </tr>\n",
       "        <tr>\n",
       "            <td>2000</td> <td>8,463,802       </td>\n",
       "        </tr>\n",
       "        <tr>\n",
       "            <td>2010</td> <td>9,949,318       </td>\n",
       "        </tr>\n",
       "        <tr>\n",
       "            <td>2020</td> <td>11,402,533      </td>\n",
       "        </tr>\n",
       "    </tbody>\n",
       "</table>"
      ],
      "text/plain": [
       "<IPython.core.display.HTML object>"
      ]
     },
     "metadata": {},
     "output_type": "display_data"
    }
   ],
   "source": [
    "h_pop.set_format('population_total', NumberFormatter)\n",
    "\n",
    "tens = np.arange(1970, 2021, 10) # 1970, 1980, 1990, ...\n",
    "h_decade = h_pop.sort('time').where('time', are.contained_in(tens))\n",
    "h_decade.show()"
   ]
  },
  {
   "cell_type": "markdown",
   "metadata": {
    "deletable": false,
    "editable": false
   },
   "source": [
    "**Question 2.** Assign `initial` to an array that contains the population for every ten year interval from 1970 to 2010. Then, assign `changed` to an array that contains the population for every ten year interval from 1980 to 2020. You should use the h_decade table to create both arrays by first filtering the table to only contain the relevant years.\n",
    "\n",
    "The annual growth rate for a time period is equal to:\n",
    "\n",
    "$$(\\frac{\\text{Population at end of period}}{\\text{Population at start of period}}^{\\frac{1}{\\text{number of years}}} )-1$$\n",
    "\n",
    "We have provided the code below that uses  `initial` and `changed` in order to add a column to `h_decade` called `annual_growth`. Don't worry about the calculation of the growth rates; run the test below to test your solution.\n",
    "\n",
    "If you are interested in how we came up with the formula for growth rates, consult the [growth rates](https://www.inferentialthinking.com/chapters/03/2/1/growth) section of the textbook.\n",
    "\n",
    "<!--\n",
    "BEGIN QUESTION\n",
    "name: q1_2\n",
    "-->"
   ]
  },
  {
   "cell_type": "code",
   "execution_count": 49,
   "metadata": {},
   "outputs": [
    {
     "data": {
      "text/html": [
       "<table border=\"1\" class=\"dataframe\">\n",
       "    <thead>\n",
       "        <tr>\n",
       "            <th>time</th> <th>population_total</th> <th>annual_growth</th>\n",
       "        </tr>\n",
       "    </thead>\n",
       "    <tbody>\n",
       "        <tr>\n",
       "            <td>1970</td> <td>4,676,237       </td> <td>1.90%        </td>\n",
       "        </tr>\n",
       "        <tr>\n",
       "            <td>1980</td> <td>5,643,175       </td> <td>2.23%        </td>\n",
       "        </tr>\n",
       "        <tr>\n",
       "            <td>1990</td> <td>7,037,915       </td> <td>1.86%        </td>\n",
       "        </tr>\n",
       "        <tr>\n",
       "            <td>2000</td> <td>8,463,802       </td> <td>1.63%        </td>\n",
       "        </tr>\n",
       "        <tr>\n",
       "            <td>2010</td> <td>9,949,318       </td> <td>1.37%        </td>\n",
       "        </tr>\n",
       "    </tbody>\n",
       "</table>"
      ],
      "text/plain": [
       "time | population_total | annual_growth\n",
       "1970 | 4,676,237        | 1.90%\n",
       "1980 | 5,643,175        | 2.23%\n",
       "1990 | 7,037,915        | 1.86%\n",
       "2000 | 8,463,802        | 1.63%\n",
       "2010 | 9,949,318        | 1.37%"
      ]
     },
     "execution_count": 49,
     "metadata": {},
     "output_type": "execute_result"
    }
   ],
   "source": [
    "initial = h_decade.take(np.arange(5)).column('population_total')\n",
    "changed = h_decade.take(np.arange(1,6)).column('population_total')\n",
    "\n",
    "growth_rates = ((changed/initial)**0.1)-1\n",
    "\n",
    "h_1970_through_2010 = h_decade.where('time', are.below_or_equal_to(2010)) \n",
    "h_decade_growth = h_1970_through_2010.with_column('annual_growth', growth_rates)\n",
    "# Don't change this line!\n",
    "h_decade_growth.set_format('annual_growth', PercentFormatter)"
   ]
  },
  {
   "cell_type": "code",
   "execution_count": 50,
   "metadata": {
    "deletable": false,
    "editable": false
   },
   "outputs": [
    {
     "name": "stdout",
     "output_type": "stream",
     "text": [
      "~~~~~~~~~~~~~~~~~~~~~~~~~~~~~~~~~~~~~~~~~~~~~~~~~~~~~~~~~~~~~~~~~~~~~\n",
      "Running tests\n",
      "\n",
      "---------------------------------------------------------------------\n",
      "Test summary\n",
      "    Passed: 2\n",
      "    Failed: 0\n",
      "[ooooooooook] 100.0% passed\n",
      "\n"
     ]
    }
   ],
   "source": [
    "ok.grade(\"q1_2\");"
   ]
  },
  {
   "cell_type": "markdown",
   "metadata": {
    "deletable": false
   },
   "source": [
    "While the population has grown every decade since 1970, the annual growth rate decreased dramatically from 1980 to 2020. Let's look at some other information in order to develop a possible explanation. Run the next cell to load three additional tables of measurements about countries over time."
   ]
  },
  {
   "cell_type": "code",
   "execution_count": 51,
   "metadata": {
    "deletable": false
   },
   "outputs": [],
   "source": [
    "life_expectancy = Table.read_table('life_expectancy.csv').where('time', are.below(2021))\n",
    "child_mortality = Table.read_table('child_mortality.csv').relabel(2, 'child_mortality_under_5_per_1000_born').where('time', are.below(2021))\n",
    "fertility = Table.read_table('fertility.csv').where('time', are.below(2021))"
   ]
  },
  {
   "cell_type": "markdown",
   "metadata": {
    "deletable": false,
    "editable": false
   },
   "source": [
    "The `life_expectancy` table contains a statistic that is often used to measure how long people live, called *life expectancy at birth*. This number, for a country in a given year, [does not measure how long babies born in that year are expected to live](http://blogs.worldbank.org/opendata/what-does-life-expectancy-birth-really-mean). Instead, it measures how long someone would live, on average, if the *mortality conditions* in that year persisted throughout their lifetime. These \"mortality conditions\" describe what fraction of people at each age survived the year. So, it is a way of measuring the proportion of people that are staying alive, aggregated over different age groups in the population."
   ]
  },
  {
   "cell_type": "markdown",
   "metadata": {},
   "source": [
    "Run the following cells below to see `life_expectancy`, `child_mortality`, and `fertility`. Refer back to these tables as they will be helpful for answering further questions!"
   ]
  },
  {
   "cell_type": "code",
   "execution_count": 52,
   "metadata": {},
   "outputs": [
    {
     "data": {
      "text/html": [
       "<table border=\"1\" class=\"dataframe\">\n",
       "    <thead>\n",
       "        <tr>\n",
       "            <th>geo</th> <th>time</th> <th>life_expectancy_years</th>\n",
       "        </tr>\n",
       "    </thead>\n",
       "    <tbody>\n",
       "        <tr>\n",
       "            <td>afg </td> <td>1800</td> <td>28.21                </td>\n",
       "        </tr>\n",
       "        <tr>\n",
       "            <td>afg </td> <td>1801</td> <td>28.2                 </td>\n",
       "        </tr>\n",
       "        <tr>\n",
       "            <td>afg </td> <td>1802</td> <td>28.19                </td>\n",
       "        </tr>\n",
       "        <tr>\n",
       "            <td>afg </td> <td>1803</td> <td>28.18                </td>\n",
       "        </tr>\n",
       "        <tr>\n",
       "            <td>afg </td> <td>1804</td> <td>28.17                </td>\n",
       "        </tr>\n",
       "        <tr>\n",
       "            <td>afg </td> <td>1805</td> <td>28.16                </td>\n",
       "        </tr>\n",
       "        <tr>\n",
       "            <td>afg </td> <td>1806</td> <td>28.15                </td>\n",
       "        </tr>\n",
       "        <tr>\n",
       "            <td>afg </td> <td>1807</td> <td>28.14                </td>\n",
       "        </tr>\n",
       "        <tr>\n",
       "            <td>afg </td> <td>1808</td> <td>28.13                </td>\n",
       "        </tr>\n",
       "        <tr>\n",
       "            <td>afg </td> <td>1809</td> <td>28.12                </td>\n",
       "        </tr>\n",
       "    </tbody>\n",
       "</table>\n",
       "<p>... (41240 rows omitted)</p>"
      ],
      "text/plain": [
       "geo  | time | life_expectancy_years\n",
       "afg  | 1800 | 28.21\n",
       "afg  | 1801 | 28.2\n",
       "afg  | 1802 | 28.19\n",
       "afg  | 1803 | 28.18\n",
       "afg  | 1804 | 28.17\n",
       "afg  | 1805 | 28.16\n",
       "afg  | 1806 | 28.15\n",
       "afg  | 1807 | 28.14\n",
       "afg  | 1808 | 28.13\n",
       "afg  | 1809 | 28.12\n",
       "... (41240 rows omitted)"
      ]
     },
     "execution_count": 52,
     "metadata": {},
     "output_type": "execute_result"
    }
   ],
   "source": [
    "life_expectancy"
   ]
  },
  {
   "cell_type": "code",
   "execution_count": 53,
   "metadata": {},
   "outputs": [
    {
     "data": {
      "text/html": [
       "<table border=\"1\" class=\"dataframe\">\n",
       "    <thead>\n",
       "        <tr>\n",
       "            <th>geo</th> <th>time</th> <th>child_mortality_under_5_per_1000_born</th>\n",
       "        </tr>\n",
       "    </thead>\n",
       "    <tbody>\n",
       "        <tr>\n",
       "            <td>afg </td> <td>1800</td> <td>468.58                               </td>\n",
       "        </tr>\n",
       "        <tr>\n",
       "            <td>afg </td> <td>1801</td> <td>468.58                               </td>\n",
       "        </tr>\n",
       "        <tr>\n",
       "            <td>afg </td> <td>1802</td> <td>468.58                               </td>\n",
       "        </tr>\n",
       "        <tr>\n",
       "            <td>afg </td> <td>1803</td> <td>468.58                               </td>\n",
       "        </tr>\n",
       "        <tr>\n",
       "            <td>afg </td> <td>1804</td> <td>468.58                               </td>\n",
       "        </tr>\n",
       "        <tr>\n",
       "            <td>afg </td> <td>1805</td> <td>468.58                               </td>\n",
       "        </tr>\n",
       "        <tr>\n",
       "            <td>afg </td> <td>1806</td> <td>469.98                               </td>\n",
       "        </tr>\n",
       "        <tr>\n",
       "            <td>afg </td> <td>1807</td> <td>469.98                               </td>\n",
       "        </tr>\n",
       "        <tr>\n",
       "            <td>afg </td> <td>1808</td> <td>469.98                               </td>\n",
       "        </tr>\n",
       "        <tr>\n",
       "            <td>afg </td> <td>1809</td> <td>469.98                               </td>\n",
       "        </tr>\n",
       "    </tbody>\n",
       "</table>\n",
       "<p>... (41727 rows omitted)</p>"
      ],
      "text/plain": [
       "geo  | time | child_mortality_under_5_per_1000_born\n",
       "afg  | 1800 | 468.58\n",
       "afg  | 1801 | 468.58\n",
       "afg  | 1802 | 468.58\n",
       "afg  | 1803 | 468.58\n",
       "afg  | 1804 | 468.58\n",
       "afg  | 1805 | 468.58\n",
       "afg  | 1806 | 469.98\n",
       "afg  | 1807 | 469.98\n",
       "afg  | 1808 | 469.98\n",
       "afg  | 1809 | 469.98\n",
       "... (41727 rows omitted)"
      ]
     },
     "execution_count": 53,
     "metadata": {},
     "output_type": "execute_result"
    }
   ],
   "source": [
    "child_mortality"
   ]
  },
  {
   "cell_type": "code",
   "execution_count": 54,
   "metadata": {},
   "outputs": [
    {
     "data": {
      "text/html": [
       "<table border=\"1\" class=\"dataframe\">\n",
       "    <thead>\n",
       "        <tr>\n",
       "            <th>geo</th> <th>time</th> <th>children_per_woman_total_fertility</th>\n",
       "        </tr>\n",
       "    </thead>\n",
       "    <tbody>\n",
       "        <tr>\n",
       "            <td>abw </td> <td>1800</td> <td>5.64                              </td>\n",
       "        </tr>\n",
       "        <tr>\n",
       "            <td>abw </td> <td>1801</td> <td>5.64                              </td>\n",
       "        </tr>\n",
       "        <tr>\n",
       "            <td>abw </td> <td>1802</td> <td>5.64                              </td>\n",
       "        </tr>\n",
       "        <tr>\n",
       "            <td>abw </td> <td>1803</td> <td>5.64                              </td>\n",
       "        </tr>\n",
       "        <tr>\n",
       "            <td>abw </td> <td>1804</td> <td>5.64                              </td>\n",
       "        </tr>\n",
       "        <tr>\n",
       "            <td>abw </td> <td>1805</td> <td>5.64                              </td>\n",
       "        </tr>\n",
       "        <tr>\n",
       "            <td>abw </td> <td>1806</td> <td>5.64                              </td>\n",
       "        </tr>\n",
       "        <tr>\n",
       "            <td>abw </td> <td>1807</td> <td>5.64                              </td>\n",
       "        </tr>\n",
       "        <tr>\n",
       "            <td>abw </td> <td>1808</td> <td>5.64                              </td>\n",
       "        </tr>\n",
       "        <tr>\n",
       "            <td>abw </td> <td>1809</td> <td>5.64                              </td>\n",
       "        </tr>\n",
       "    </tbody>\n",
       "</table>\n",
       "<p>... (44625 rows omitted)</p>"
      ],
      "text/plain": [
       "geo  | time | children_per_woman_total_fertility\n",
       "abw  | 1800 | 5.64\n",
       "abw  | 1801 | 5.64\n",
       "abw  | 1802 | 5.64\n",
       "abw  | 1803 | 5.64\n",
       "abw  | 1804 | 5.64\n",
       "abw  | 1805 | 5.64\n",
       "abw  | 1806 | 5.64\n",
       "abw  | 1807 | 5.64\n",
       "abw  | 1808 | 5.64\n",
       "abw  | 1809 | 5.64\n",
       "... (44625 rows omitted)"
      ]
     },
     "execution_count": 54,
     "metadata": {},
     "output_type": "execute_result"
    }
   ],
   "source": [
    "fertility"
   ]
  },
  {
   "cell_type": "markdown",
   "metadata": {
    "deletable": false,
    "editable": false
   },
   "source": [
    "**Question 3.** Perhaps population is growing more slowly because people aren't living as long. Use the `life_expectancy` table to draw a line graph with the years 1970 and later on the horizontal axis that shows how the *life expectancy at birth* has changed in Haiti.\n",
    "\n",
    "<!--\n",
    "BEGIN QUESTION\n",
    "name: q1_3\n",
    "manual: true\n",
    "-->\n",
    "<!-- EXPORT TO PDF -->"
   ]
  },
  {
   "cell_type": "code",
   "execution_count": 55,
   "metadata": {
    "deletable": false,
    "export_pdf": true,
    "manual_grade": true,
    "manual_problem_id": "global_pop_3"
   },
   "outputs": [
    {
     "data": {
      "image/png": "[encoded data removed]",
      "text/plain": [
       "<Figure size 432x432 with 1 Axes>"
      ]
     },
     "metadata": {},
     "output_type": "display_data"
    }
   ],
   "source": [
    "#Fill in code here\n",
    "life_expectancy.where(\"geo\", 'hti').drop(\"geo\").where('time', are.above_or_equal_to(1970)).plot(\"time\", \"life_expectancy_years\")"
   ]
  },
  {
   "cell_type": "markdown",
   "metadata": {
    "deletable": false,
    "editable": false
   },
   "source": [
    "**Question 4.** Assuming everything else stays the same, do the trends in life expectancy in the graph above directly explain why the population growth rate decreased from 1980 to 2020 in Haiti? Why or why not? \n",
    "\n",
    "Hint: What happened in Haiti in 2010, and does that event explain the overall change in population growth rate?\n",
    "\n",
    "<!--\n",
    "BEGIN QUESTION\n",
    "name: q1_4\n",
    "manual: true\n",
    "-->\n",
    "<!-- EXPORT TO PDF -->"
   ]
  },
  {
   "cell_type": "markdown",
   "metadata": {
    "collapsed": true,
    "deletable": false,
    "export_pdf": true,
    "manual_grade": true,
    "manual_problem_id": "global_pop_4"
   },
   "source": [
    "The trends in life expectancy do not explain why the population growth rate decreased. As shown by graph, Haiti's mortality conditions have slowly been decreasing each year, meaning that more people throughout all ages are staying alive longer on average each year. Life expectancy at birth has increased from around 50 to 65 years old, from 1980 to 2020, respectively. One would assume that this trend would lead to an increase in the population growth rate rather than a decrease. In 2010 there was a catastophic earthquake in Haiti, which would drastically increase mortalities across all ages for that year. This earthquake does not explain the population's overall growth rate change because Haiti's life expectancy quickly regained an upward trend back to pre-2010 levels."
   ]
  },
  {
   "cell_type": "markdown",
   "metadata": {
    "deletable": false,
    "editable": false
   },
   "source": [
    "The `fertility` table contains a statistic that is often used to measure how many babies are being born, the *total fertility rate*. This number describes the [number of children a woman would have in her lifetime](https://www.measureevaluation.org/prh/rh_indicators/specific/fertility/total-fertility-rate), on average, if the current rates of birth by age of the mother persisted throughout her child bearing years, assuming she survived through age 49. "
   ]
  },
  {
   "cell_type": "markdown",
   "metadata": {
    "deletable": false,
    "editable": false
   },
   "source": [
    "**Question 5.** Write a function `fertility_over_time` that takes the Alpha-3 code of a `country` and a `start` year. It returns a two-column table with labels `Year` and `Children per woman` that can be used to generate a line chart of the country's fertility rate each year, starting at the `start` year. The plot should include the `start` year and all later years that appear in the `fertility` table. \n",
    "\n",
    "Then, in the next cell, call your `fertility_over_time` function on the Alpha-3 code for Haiti and the year 1970 in order to plot how Haiti's fertility rate has changed since 1970. Note that the function `fertility_over_time` should not return the plot itself. **The expression that draws the line plot is provided for you; please don't change it.**\n",
    "\n",
    "<!--\n",
    "BEGIN QUESTION\n",
    "name: q1_5\n",
    "-->"
   ]
  },
  {
   "cell_type": "code",
   "execution_count": 56,
   "metadata": {
    "deletable": false
   },
   "outputs": [
    {
     "data": {
      "image/png": "[encoded data removed]",
      "text/plain": [
       "<Figure size 432x432 with 1 Axes>"
      ]
     },
     "metadata": {},
     "output_type": "display_data"
    }
   ],
   "source": [
    "def fertility_over_time(country, start):\n",
    "    \"\"\"Create a two-column table that describes a country's total fertility rate each year.\"\"\"\n",
    "    country_fertility = fertility.where(\"geo\", country)\n",
    "    country_fertility_after_start = country_fertility.where(\"time\", are.above_or_equal_to(start))\n",
    "    cleaned_table = country_fertility_after_start.relabel(\"time\", \n",
    "                        \"Year\").relabel(\"children_per_woman_total_fertility\", \n",
    "                            \"Children per woman\").drop(\"geo\")\n",
    "    return cleaned_table\n",
    "    \n",
    "haiti_code = \"hti\"\n",
    "fertility_over_time(haiti_code, 1970).plot(0, 1) # You should *not* change this line.\n"
   ]
  },
  {
   "cell_type": "code",
   "execution_count": 57,
   "metadata": {
    "deletable": false,
    "editable": false
   },
   "outputs": [
    {
     "name": "stdout",
     "output_type": "stream",
     "text": [
      "~~~~~~~~~~~~~~~~~~~~~~~~~~~~~~~~~~~~~~~~~~~~~~~~~~~~~~~~~~~~~~~~~~~~~\n",
      "Running tests\n",
      "\n",
      "---------------------------------------------------------------------\n",
      "Test summary\n",
      "    Passed: 3\n",
      "    Failed: 0\n",
      "[ooooooooook] 100.0% passed\n",
      "\n"
     ]
    }
   ],
   "source": [
    "ok.grade(\"q1_5\");"
   ]
  },
  {
   "cell_type": "markdown",
   "metadata": {
    "deletable": false,
    "editable": false
   },
   "source": [
    "**Question 6.** Assuming everything else is constant, do the trends in fertility in the graph above help directly explain why the population growth rate decreased from 1980 to 2020 in Haiti? Why or why not?\n",
    "\n",
    "<!--\n",
    "BEGIN QUESTION\n",
    "name: q1_6\n",
    "manual: true\n",
    "-->\n",
    "<!-- EXPORT TO PDF -->"
   ]
  },
  {
   "cell_type": "markdown",
   "metadata": {
    "deletable": false,
    "export_pdf": true,
    "manual_grade": true,
    "manual_problem_id": "global_pop_6"
   },
   "source": [
    "The trends in fertility help directly explain the decrease in population growth. Since around 1980 the amount of children birthed on average by a woman has steadily decreased from a little over six to a little less than 3 kids. \"Chilren per woman\" has been cut in half. If more women produce less children then the population's growth rate would surely descrease during that time period."
   ]
  },
  {
   "cell_type": "markdown",
   "metadata": {
    "deletable": false
   },
   "source": [
    "It has been observed that lower fertility rates are often associated with lower child mortality rates. The link has been attributed to family planning: if parents can expect that their children will all survive into adulthood, then they will choose to have fewer children. We can see if this association is evident in Haiti by plotting the relationship between total fertility rate and [child mortality rate per 1000 children](https://en.wikipedia.org/wiki/Child_mortality)."
   ]
  },
  {
   "cell_type": "markdown",
   "metadata": {
    "deletable": false,
    "editable": false
   },
   "source": [
    "**Question 7.** Using both the `fertility` and `child_mortality` tables, draw a scatter diagram that has Haiti's total fertility on the horizontal axis and its child mortality on the vertical axis with one point for each year, starting with 1970.\n",
    "\n",
    "**The expression that draws the scatter diagram is provided for you; please don't change it.** Instead, create a table called `post_1969_fertility_and_child_mortality` with the appropriate column labels and data in order to generate the chart correctly. Use the label `Children per woman` to describe total fertility and the label `Child deaths per 1000 born` to describe child mortality.\n",
    "\n",
    "*Hint*: Do not drop the `time` column or you will get an error in the scatterplot in the next cell!\n",
    "\n",
    "<!--\n",
    "BEGIN QUESTION\n",
    "name: q1_7\n",
    "manual: false\n",
    "-->"
   ]
  },
  {
   "cell_type": "code",
   "execution_count": 58,
   "metadata": {
    "deletable": false
   },
   "outputs": [
    {
     "data": {
      "image/png": "[encoded data removed]",
      "text/plain": [
       "<Figure size 360x360 with 1 Axes>"
      ]
     },
     "metadata": {},
     "output_type": "display_data"
    }
   ],
   "source": [
    "hti_fertility = fertility_over_time(haiti_code, 1970)\n",
    "hti_child_mortality = child_mortality.where(\"geo\",\"hti\").where('time', are.above_or_equal_to(1970)).drop('geo')\n",
    "fertility_and_child_mortality = hti_fertility.with_column(\"child_mortality_under_5_per_1000_born\", \n",
    "                                                          hti_child_mortality.column(\"child_mortality_under_5_per_1000_born\"))\n",
    "post_1969_fertility_and_child_mortality = fertility_and_child_mortality.relabel('child_mortality_under_5_per_1000_born',\n",
    "                                                                                'Child deaths per 1000 born')\n",
    "\n",
    "# Don't change this line!\n",
    "post_1969_fertility_and_child_mortality.scatter('Children per woman', 'Child deaths per 1000 born')"
   ]
  },
  {
   "cell_type": "code",
   "execution_count": 59,
   "metadata": {
    "deletable": false,
    "editable": false
   },
   "outputs": [
    {
     "name": "stdout",
     "output_type": "stream",
     "text": [
      "~~~~~~~~~~~~~~~~~~~~~~~~~~~~~~~~~~~~~~~~~~~~~~~~~~~~~~~~~~~~~~~~~~~~~\n",
      "Running tests\n",
      "\n",
      "---------------------------------------------------------------------\n",
      "Test summary\n",
      "    Passed: 2\n",
      "    Failed: 0\n",
      "[ooooooooook] 100.0% passed\n",
      "\n"
     ]
    }
   ],
   "source": [
    "ok.grade(\"q1_7\");"
   ]
  },
  {
   "cell_type": "markdown",
   "metadata": {
    "deletable": false,
    "editable": false
   },
   "source": [
    "**Question 8.** In one or two sentences, describe the association (if any) that is illustrated by this scatter diagram. Does the diagram show that reduced child mortality causes parents to choose to have fewer children? Beyond the general association, are there any irregularities or odd points that would be worth investigating? \n",
    "\n",
    "<!--\n",
    "BEGIN QUESTION\n",
    "name: q1_8\n",
    "manual: true\n",
    "-->\n",
    "<!-- EXPORT TO PDF -->"
   ]
  },
  {
   "cell_type": "markdown",
   "metadata": {
    "deletable": false,
    "export_pdf": true,
    "manual_grade": true,
    "manual_problem_id": "global_pop_8"
   },
   "source": [
    "There is as general positive association between child mortality and children per woman. As child mortality decreases (as we go down vertically in the scatter plot), there are fewer children being produced and the points go farther to the left. There is one outlier on the plot worth investigating at around 3.3 children per woman, which has an astronomically high child mortality rate (210) compared to the other points around it."
   ]
  },
  {
   "cell_type": "code",
   "execution_count": 60,
   "metadata": {},
   "outputs": [
    {
     "data": {
      "image/png": "[encoded data removed]",
      "text/plain": [
       "<Figure size 360x360 with 1 Axes>"
      ]
     },
     "metadata": {},
     "output_type": "display_data"
    }
   ],
   "source": [
    "# Don't change this line!\n",
    "post_1969_fertility_and_child_mortality.scatter('Year', 'Child deaths per 1000 born')"
   ]
  },
  {
   "cell_type": "markdown",
   "metadata": {
    "deletable": false,
    "editable": false
   },
   "source": [
    "**Question 9.** Using our knowledge that historical factors may affect Haiti's population, we decide to plot the child mortality rate per 1000 born against time, as seen in the scatter plot above. The y-axis remains the same as the plot from 1.8, but we are now plotting against time rather than the number of children per woman. Does this new visualization give us a better understanding of the outlier in 1.8?\n",
    "<!--\n",
    "BEGIN QUESTION\n",
    "name: q1_9\n",
    "manual: true\n",
    "-->\n",
    "<!-- EXPORT TO PDF -->"
   ]
  },
  {
   "cell_type": "markdown",
   "metadata": {
    "export_pdf": true
   },
   "source": [
    "This new visualization plotting child mortality against time gives us a much better understanding of the outlier in 1.8 . This astronomically high child mortality rate is because of the Haiti earthquake in 2010. Plotting child mortality against fertility rates would not have led us to this conclusion."
   ]
  },
  {
   "cell_type": "markdown",
   "metadata": {},
   "source": [
    "### Checkpoint (due Friday 2/19 by 11:59 PM PT)\n",
    "#### Congratulations, you have reached the checkpoint! Run the submit cell below to generate the checkpoint submission. "
   ]
  },
  {
   "cell_type": "code",
   "execution_count": 61,
   "metadata": {},
   "outputs": [
    {
     "data": {
      "application/javascript": [
       "IPython.notebook.save_checkpoint();"
      ],
      "text/plain": [
       "<IPython.core.display.Javascript object>"
      ]
     },
     "metadata": {},
     "output_type": "display_data"
    },
    {
     "data": {
      "application/javascript": [
       "IPython.notebook.save_notebook();"
      ],
      "text/plain": [
       "<IPython.core.display.Javascript object>"
      ]
     },
     "metadata": {},
     "output_type": "display_data"
    },
    {
     "name": "stdout",
     "output_type": "stream",
     "text": [
      "Saving notebook... Saved 'project1.ipynb'.\n",
      "Submit... 100% complete\n",
      "Submission successful for user: edmiller2020@berkeley.edu\n",
      "URL: https://okpy.org/cal/data8/sp21/project1/submissions/2WNXXJ\n",
      "\n"
     ]
    }
   ],
   "source": [
    "_ = ok.submit()"
   ]
  },
  {
   "cell_type": "markdown",
   "metadata": {
    "deletable": false
   },
   "source": [
    "### The World\n",
    "\n",
    "The change observed in Haiti since 1970 can also be observed in many other developing countries: health services improve, life expectancy increases, and child mortality decreases. At the same time, the fertility rate often plummets, and so the population growth rate decreases despite increasing longevity."
   ]
  },
  {
   "cell_type": "markdown",
   "metadata": {
    "deletable": false
   },
   "source": [
    "Run the cell below to generate two overlaid histograms, one for 1960 and one for 2013, that show the distributions of total fertility rates for these two years among all 201 countries in the `fertility` table."
   ]
  },
  {
   "cell_type": "code",
   "execution_count": 62,
   "metadata": {
    "deletable": false
   },
   "outputs": [
    {
     "data": {
      "image/png": "[encoded data removed]",
      "text/plain": [
       "<Figure size 432x288 with 1 Axes>"
      ]
     },
     "metadata": {},
     "output_type": "display_data"
    }
   ],
   "source": [
    "Table().with_columns(\n",
    "    '1960', fertility.where('time', 1960).column(2),\n",
    "    '2013', fertility.where('time', 2013).column(2)\n",
    ").hist(bins=np.arange(0, 10, 0.5), unit='child per woman')\n",
    "_ = plots.xlabel('Children per woman')\n",
    "_ = plots.ylabel('Percent per children per woman')\n",
    "_ = plots.xticks(np.arange(10))"
   ]
  },
  {
   "cell_type": "markdown",
   "metadata": {
    "deletable": false,
    "editable": false
   },
   "source": [
    "**Question 9.** Assign `fertility_statements` to an array of the numbers of each statement below that can be correctly inferred from these histograms.\n",
    "\n",
    "1. About the same number of countries had a fertility rate between 3.5 and 4.5 in both 1960 and 2013.\n",
    "1. In 1960, less than 20% of countries had a fertility rate below 3.\n",
    "1. At least half of countries had a fertility rate between 5 and 8 in 1960.\n",
    "1. In 2013, about 40% of countries had a fertility rate between 1.5 and 2.\n",
    "1. At least half of countries had a fertility rate below 3 in 2013.\n",
    "1. More countries had a fertility rate above 3 in 1960 than in 2013.\n",
    "\n",
    "<!--\n",
    "BEGIN QUESTION\n",
    "name: q1_9\n",
    "-->"
   ]
  },
  {
   "cell_type": "code",
   "execution_count": 63,
   "metadata": {
    "deletable": false
   },
   "outputs": [],
   "source": [
    "fertility_statements = make_array(3, 5, 6)"
   ]
  },
  {
   "cell_type": "code",
   "execution_count": 64,
   "metadata": {
    "deletable": false,
    "editable": false
   },
   "outputs": [
    {
     "name": "stdout",
     "output_type": "stream",
     "text": [
      "~~~~~~~~~~~~~~~~~~~~~~~~~~~~~~~~~~~~~~~~~~~~~~~~~~~~~~~~~~~~~~~~~~~~~\n",
      "Running tests\n",
      "\n",
      "---------------------------------------------------------------------\n",
      "Test summary\n",
      "    Passed: 1\n",
      "    Failed: 0\n",
      "[ooooooooook] 100.0% passed\n",
      "\n"
     ]
    }
   ],
   "source": [
    "ok.grade(\"q1_9\");"
   ]
  },
  {
   "cell_type": "markdown",
   "metadata": {
    "deletable": false,
    "editable": false
   },
   "source": [
    "**Question 10.** Draw a line plot of the world population from 1800 through 2020. The world population is the sum of all of the countries' populations. \n",
    "\n",
    "<!--\n",
    "BEGIN QUESTION\n",
    "name: q1_10\n",
    "manual: true\n",
    "-->\n",
    "<!-- EXPORT TO PDF -->"
   ]
  },
  {
   "cell_type": "code",
   "execution_count": 65,
   "metadata": {
    "deletable": false,
    "export_pdf": true,
    "manual_grade": true,
    "manual_problem_id": "global_pop_10"
   },
   "outputs": [
    {
     "data": {
      "image/png": "[encoded data removed]",
      "text/plain": [
       "<Figure size 432x432 with 1 Axes>"
      ]
     },
     "metadata": {},
     "output_type": "display_data"
    }
   ],
   "source": [
    "#Fill in code here\n",
    "population.drop(\"geo\").group(\"time\", sum).plot('time', 'population_total sum')"
   ]
  },
  {
   "cell_type": "markdown",
   "metadata": {
    "deletable": false,
    "editable": false
   },
   "source": [
    "**Question 11.** Create a function `stats_for_year` that takes a `year` and returns a table of statistics. The table it returns should have four columns: `geo`, `population_total`, `children_per_woman_total_fertility`, and `child_mortality_under_5_per_1000_born`. Each row should contain one Alpha-3 country code and three statistics: population, fertility rate, and child mortality for that `year` from the `population`, `fertility` and `child_mortality` tables. Only include rows for which all three statistics are available for the country and year.\n",
    "\n",
    "In addition, restrict the result to country codes that appears in `big_50`, an array of the 50 most populous countries in 2020. This restriction will speed up computations later in the project.\n",
    "\n",
    "After you write `stats_for_year`, try calling `stats_for_year` on any year between 1960 and 2020. Try to understand the output of stats_for_year.\n",
    "\n",
    "*Hint*: The tests for this question are quite comprehensive, so if you pass the tests, your function is probably correct. However, without calling your function yourself and looking at the output, it will be very difficult to understand any problems you have, so try your best to write the function correctly and check that it works before you rely on the `ok` tests to confirm your work.\n",
    "\n",
    "<!--\n",
    "BEGIN QUESTION\n",
    "name: q1_11\n",
    "manual: false\n",
    "-->"
   ]
  },
  {
   "cell_type": "code",
   "execution_count": 66,
   "metadata": {
    "deletable": false
   },
   "outputs": [],
   "source": [
    "# We first create a population table that only includes the \n",
    "# 50 countries with the largest 2020 populations. We focus on \n",
    "# these 50 countries only so that plotting later will run faster.\n",
    "big_50 = population.where('time', are.equal_to(2020)).sort(\"population_total\", descending=True).take(np.arange(50)).column('geo')\n",
    "population_of_big_50 = population.where('time', are.above(1959)).where('geo', are.contained_in(big_50))\n",
    "\n",
    "def stats_for_year(year):\n",
    "    \"\"\"Return a table of the stats for each country that year.\"\"\"\n",
    "    p = population_of_big_50.where('time', are.equal_to(year)).drop('time')\n",
    "    f = fertility.where('time', are.equal_to(year)).drop('time').where('geo', are.contained_in(big_50))\n",
    "    c = child_mortality.where('time', are.equal_to(year)).drop('time').where('geo', are.contained_in(big_50))\n",
    "    big_50_table = Table().with_columns(\"geo\", p.column('geo'), \"population_total\", p.column(\"population_total\"),\n",
    "                                  \"children_per_woman_total_fertility\", f.column(\"children_per_woman_total_fertility\"),\n",
    "                                  \"child_mortality_under_5_per_1000_born\", c.column(\"child_mortality_under_5_per_1000_born\"))\n",
    "    return big_50_table"
   ]
  },
  {
   "cell_type": "code",
   "execution_count": 67,
   "metadata": {
    "deletable": false,
    "editable": false
   },
   "outputs": [
    {
     "name": "stdout",
     "output_type": "stream",
     "text": [
      "~~~~~~~~~~~~~~~~~~~~~~~~~~~~~~~~~~~~~~~~~~~~~~~~~~~~~~~~~~~~~~~~~~~~~\n",
      "Running tests\n",
      "\n",
      "---------------------------------------------------------------------\n",
      "Test summary\n",
      "    Passed: 4\n",
      "    Failed: 0\n",
      "[ooooooooook] 100.0% passed\n",
      "\n"
     ]
    }
   ],
   "source": [
    "ok.grade(\"q1_11\");"
   ]
  },
  {
   "cell_type": "markdown",
   "metadata": {
    "deletable": false,
    "editable": false
   },
   "source": [
    "**Question 12.** Create a table called `pop_by_decade` with two columns called `decade` and `population`. It has a row for each `year` since 1960 that starts a decade. The `population` column contains the total population of all countries included in the result of `stats_for_year(year)` for the first `year` of the decade. For example, 1960 is the first year of the 1960's decade. You should see that these countries contain most of the world's population.\n",
    "\n",
    "*Hint:* One approach is to define a function `pop_for_year` that computes this total population, then `apply` it to the `decade` column.  The `stats_for_year` function from the previous question may be useful here.\n",
    "\n",
    "This first test is just a sanity check for your helper function if you choose to use it. You will not lose points for not implementing the function `pop_for_year`.\n",
    "\n",
    "**Note:** The cell where you will generate the `pop_by_decade` table is below the cell where you can choose to define the helper function `pop_for_year`. You should define your `pop_by_decade` table in the cell that starts with the table `decades` being defined. \n",
    "\n",
    "<!--\n",
    "BEGIN QUESTION\n",
    "name: q1_12_0\n",
    "manual: false\n",
    "points: 0\n",
    "-->"
   ]
  },
  {
   "cell_type": "code",
   "execution_count": 68,
   "metadata": {},
   "outputs": [],
   "source": [
    "def pop_for_year(year):\n",
    "    \"\"\"Returns the total population of all countries in the top 50 of population size\"\"\"\n",
    "    year_pop_total = sum(stats_for_year(year).column(\"population_total\"))\n",
    "    return year_pop_total"
   ]
  },
  {
   "cell_type": "code",
   "execution_count": 69,
   "metadata": {
    "deletable": false,
    "editable": false
   },
   "outputs": [
    {
     "name": "stdout",
     "output_type": "stream",
     "text": [
      "~~~~~~~~~~~~~~~~~~~~~~~~~~~~~~~~~~~~~~~~~~~~~~~~~~~~~~~~~~~~~~~~~~~~~\n",
      "Running tests\n",
      "\n",
      "---------------------------------------------------------------------\n",
      "Test summary\n",
      "    Passed: 4\n",
      "    Failed: 0\n",
      "[ooooooooook] 100.0% passed\n",
      "\n"
     ]
    }
   ],
   "source": [
    "ok.grade(\"q1_12_0\");"
   ]
  },
  {
   "cell_type": "markdown",
   "metadata": {
    "deletable": false,
    "editable": false
   },
   "source": [
    "Now that you've defined your helper function (if you've chosen to do so), define the `pop_by_decade` table.\n",
    "\n",
    "<!--\n",
    "BEGIN QUESTION\n",
    "name: q1_12\n",
    "manual: false\n",
    "-->"
   ]
  },
  {
   "cell_type": "code",
   "execution_count": 70,
   "metadata": {
    "deletable": false
   },
   "outputs": [
    {
     "data": {
      "text/html": [
       "<table border=\"1\" class=\"dataframe\">\n",
       "    <thead>\n",
       "        <tr>\n",
       "            <th>decade</th> <th>population</th>\n",
       "        </tr>\n",
       "    </thead>\n",
       "    <tbody>\n",
       "        <tr>\n",
       "            <td>1960  </td> <td>2,635,123,897</td>\n",
       "        </tr>\n",
       "        <tr>\n",
       "            <td>1970  </td> <td>3,221,457,416</td>\n",
       "        </tr>\n",
       "        <tr>\n",
       "            <td>1980  </td> <td>3,890,044,418</td>\n",
       "        </tr>\n",
       "        <tr>\n",
       "            <td>1990  </td> <td>4,656,339,803</td>\n",
       "        </tr>\n",
       "        <tr>\n",
       "            <td>2000  </td> <td>5,377,062,169</td>\n",
       "        </tr>\n",
       "        <tr>\n",
       "            <td>2010  </td> <td>6,064,674,132</td>\n",
       "        </tr>\n",
       "        <tr>\n",
       "            <td>2020  </td> <td>6,765,161,289</td>\n",
       "        </tr>\n",
       "    </tbody>\n",
       "</table>"
      ],
      "text/plain": [
       "decade | population\n",
       "1960   | 2,635,123,897\n",
       "1970   | 3,221,457,416\n",
       "1980   | 3,890,044,418\n",
       "1990   | 4,656,339,803\n",
       "2000   | 5,377,062,169\n",
       "2010   | 6,064,674,132\n",
       "2020   | 6,765,161,289"
      ]
     },
     "execution_count": 70,
     "metadata": {},
     "output_type": "execute_result"
    }
   ],
   "source": [
    "decades = Table().with_column('decade', np.arange(1960, 2021, 10))\n",
    "\n",
    "decade_pop_total = decades.apply(pop_for_year, \"decade\")\n",
    "pop_by_decade = decades.with_column('population', decade_pop_total)\n",
    "pop_by_decade.set_format(1, NumberFormatter)"
   ]
  },
  {
   "cell_type": "code",
   "execution_count": 71,
   "metadata": {
    "deletable": false,
    "editable": false
   },
   "outputs": [
    {
     "name": "stdout",
     "output_type": "stream",
     "text": [
      "~~~~~~~~~~~~~~~~~~~~~~~~~~~~~~~~~~~~~~~~~~~~~~~~~~~~~~~~~~~~~~~~~~~~~\n",
      "Running tests\n",
      "\n",
      "---------------------------------------------------------------------\n",
      "Test summary\n",
      "    Passed: 2\n",
      "    Failed: 0\n",
      "[ooooooooook] 100.0% passed\n",
      "\n"
     ]
    }
   ],
   "source": [
    "ok.grade(\"q1_12\");"
   ]
  },
  {
   "cell_type": "markdown",
   "metadata": {
    "deletable": false,
    "editable": false
   },
   "source": [
    "The `countries` table describes various characteristics of countries. The `country` column contains the same codes as the `geo` column in each of the other data tables (`population`, `fertility`, and `child_mortality`). The `world_6region` column classifies each country into a region of the world. Run the cell below to inspect the data."
   ]
  },
  {
   "cell_type": "code",
   "execution_count": 72,
   "metadata": {},
   "outputs": [
    {
     "data": {
      "text/html": [
       "<table border=\"1\" class=\"dataframe\">\n",
       "    <thead>\n",
       "        <tr>\n",
       "            <th>country</th> <th>name</th> <th>world_6region</th>\n",
       "        </tr>\n",
       "    </thead>\n",
       "    <tbody>\n",
       "        <tr>\n",
       "            <td>afg    </td> <td>Afghanistan         </td> <td>south_asia              </td>\n",
       "        </tr>\n",
       "        <tr>\n",
       "            <td>ago    </td> <td>Angola              </td> <td>sub_saharan_africa      </td>\n",
       "        </tr>\n",
       "        <tr>\n",
       "            <td>alb    </td> <td>Albania             </td> <td>europe_central_asia     </td>\n",
       "        </tr>\n",
       "        <tr>\n",
       "            <td>and    </td> <td>Andorra             </td> <td>europe_central_asia     </td>\n",
       "        </tr>\n",
       "        <tr>\n",
       "            <td>are    </td> <td>United Arab Emirates</td> <td>middle_east_north_africa</td>\n",
       "        </tr>\n",
       "        <tr>\n",
       "            <td>arg    </td> <td>Argentina           </td> <td>america                 </td>\n",
       "        </tr>\n",
       "        <tr>\n",
       "            <td>arm    </td> <td>Armenia             </td> <td>europe_central_asia     </td>\n",
       "        </tr>\n",
       "        <tr>\n",
       "            <td>atg    </td> <td>Antigua and Barbuda </td> <td>america                 </td>\n",
       "        </tr>\n",
       "        <tr>\n",
       "            <td>aus    </td> <td>Australia           </td> <td>east_asia_pacific       </td>\n",
       "        </tr>\n",
       "        <tr>\n",
       "            <td>aut    </td> <td>Austria             </td> <td>europe_central_asia     </td>\n",
       "        </tr>\n",
       "    </tbody>\n",
       "</table>\n",
       "<p>... (187 rows omitted)</p>"
      ],
      "text/plain": [
       "country | name                 | world_6region\n",
       "afg     | Afghanistan          | south_asia\n",
       "ago     | Angola               | sub_saharan_africa\n",
       "alb     | Albania              | europe_central_asia\n",
       "and     | Andorra              | europe_central_asia\n",
       "are     | United Arab Emirates | middle_east_north_africa\n",
       "arg     | Argentina            | america\n",
       "arm     | Armenia              | europe_central_asia\n",
       "atg     | Antigua and Barbuda  | america\n",
       "aus     | Australia            | east_asia_pacific\n",
       "aut     | Austria              | europe_central_asia\n",
       "... (187 rows omitted)"
      ]
     },
     "execution_count": 72,
     "metadata": {},
     "output_type": "execute_result"
    }
   ],
   "source": [
    "countries = Table.read_table('countries.csv').where('country', are.contained_in(population.group('geo').column('geo')))\n",
    "countries.select('country', 'name', 'world_6region')"
   ]
  },
  {
   "cell_type": "markdown",
   "metadata": {
    "deletable": false,
    "editable": false
   },
   "source": [
    "**Question 13.** Create a table called `region_counts` that has two columns, `region` and `count`. It should contain two columns: a region column and a count column that contains the number of countries in each region that appear in the result of `stats_for_year(2020)`. For example, one row would have `south_asia` as its `world_6region` value and an integer as its `count` value: the number of large South Asian countries for which we have population, fertility, and child mortality numbers from 2020.\n",
    "\n",
    "<!--\n",
    "BEGIN QUESTION\n",
    "name: q1_13\n",
    "-->"
   ]
  },
  {
   "cell_type": "code",
   "execution_count": 73,
   "metadata": {
    "deletable": false
   },
   "outputs": [
    {
     "data": {
      "text/html": [
       "<table border=\"1\" class=\"dataframe\">\n",
       "    <thead>\n",
       "        <tr>\n",
       "            <th>region</th> <th>count</th>\n",
       "        </tr>\n",
       "    </thead>\n",
       "    <tbody>\n",
       "        <tr>\n",
       "            <td>america                 </td> <td>8    </td>\n",
       "        </tr>\n",
       "        <tr>\n",
       "            <td>east_asia_pacific       </td> <td>9    </td>\n",
       "        </tr>\n",
       "        <tr>\n",
       "            <td>europe_central_asia     </td> <td>10   </td>\n",
       "        </tr>\n",
       "        <tr>\n",
       "            <td>middle_east_north_africa</td> <td>7    </td>\n",
       "        </tr>\n",
       "        <tr>\n",
       "            <td>south_asia              </td> <td>5    </td>\n",
       "        </tr>\n",
       "        <tr>\n",
       "            <td>sub_saharan_africa      </td> <td>11   </td>\n",
       "        </tr>\n",
       "    </tbody>\n",
       "</table>"
      ],
      "text/plain": [
       "region                   | count\n",
       "america                  | 8\n",
       "east_asia_pacific        | 9\n",
       "europe_central_asia      | 10\n",
       "middle_east_north_africa | 7\n",
       "south_asia               | 5\n",
       "sub_saharan_africa       | 11"
      ]
     },
     "execution_count": 73,
     "metadata": {},
     "output_type": "execute_result"
    }
   ],
   "source": [
    "country_region = countries.join('country', stats_for_year(2020), \"geo\").select(\"country\", 'world_6region')\n",
    "region_counts = country_region.group(\"world_6region\").relabel(\"world_6region\", \"region\")\n",
    "region_counts"
   ]
  },
  {
   "cell_type": "code",
   "execution_count": 74,
   "metadata": {
    "deletable": false,
    "editable": false
   },
   "outputs": [
    {
     "name": "stdout",
     "output_type": "stream",
     "text": [
      "~~~~~~~~~~~~~~~~~~~~~~~~~~~~~~~~~~~~~~~~~~~~~~~~~~~~~~~~~~~~~~~~~~~~~\n",
      "Running tests\n",
      "\n",
      "---------------------------------------------------------------------\n",
      "Test summary\n",
      "    Passed: 2\n",
      "    Failed: 0\n",
      "[ooooooooook] 100.0% passed\n",
      "\n"
     ]
    }
   ],
   "source": [
    "ok.grade(\"q1_13\");"
   ]
  },
  {
   "cell_type": "markdown",
   "metadata": {
    "deletable": false,
    "editable": false
   },
   "source": [
    "The following scatter diagram compares total fertility rate and child mortality rate for each country in 2020. The area of each dot represents the population of the country, and the color represents its region of the world. Run the cell. Do you think you can identify any of the dots?"
   ]
  },
  {
   "cell_type": "code",
   "execution_count": 75,
   "metadata": {
    "deletable": false
   },
   "outputs": [
    {
     "data": {
      "image/png": "[encoded data removed]",
      "text/plain": [
       "<Figure size 360x360 with 1 Axes>"
      ]
     },
     "metadata": {},
     "output_type": "display_data"
    }
   ],
   "source": [
    "from functools import lru_cache as cache\n",
    "\n",
    "# This cache annotation makes sure that if the same year\n",
    "# is passed as an argument twice, the work of computing\n",
    "# the result is only carried out once.\n",
    "@cache(None)\n",
    "def stats_relabeled(year):\n",
    "    \"\"\"Relabeled and cached version of stats_for_year.\"\"\"\n",
    "    return stats_for_year(year).relabel(2, 'Children per woman').relabel(3, 'Child deaths per 1000 born')\n",
    "\n",
    "def fertility_vs_child_mortality(year):\n",
    "    \"\"\"Draw a color scatter diagram comparing child mortality and fertility.\"\"\"\n",
    "    with_region = stats_relabeled(year).join('geo', countries.select('country', 'world_6region'), 'country')\n",
    "    with_region.scatter(2, 3, sizes=1, group=4, s=500)\n",
    "    plots.xlim(0,6)\n",
    "    plots.ylim(-25, 150)\n",
    "    plots.title(year)\n",
    "\n",
    "fertility_vs_child_mortality(2020)"
   ]
  },
  {
   "cell_type": "markdown",
   "metadata": {
    "deletable": false,
    "editable": false
   },
   "source": [
    "**Question 14.** Assign `scatter_statements` to an array of the numbers of each statement below that can be inferred from this scatter diagram for 2020. \n",
    "1. Most countries had a fertility rate above 5.\n",
    "1. There was an association between child mortality and fertility.\n",
    "1. The two largest countries by population also had the two highest child mortality rate.\n",
    "\n",
    "<!--\n",
    "BEGIN QUESTION\n",
    "name: q1_14\n",
    "-->"
   ]
  },
  {
   "cell_type": "code",
   "execution_count": 76,
   "metadata": {
    "deletable": false
   },
   "outputs": [],
   "source": [
    "scatter_statements = make_array(2)"
   ]
  },
  {
   "cell_type": "code",
   "execution_count": 77,
   "metadata": {
    "deletable": false,
    "editable": false
   },
   "outputs": [
    {
     "name": "stdout",
     "output_type": "stream",
     "text": [
      "~~~~~~~~~~~~~~~~~~~~~~~~~~~~~~~~~~~~~~~~~~~~~~~~~~~~~~~~~~~~~~~~~~~~~\n",
      "Running tests\n",
      "\n",
      "---------------------------------------------------------------------\n",
      "Test summary\n",
      "    Passed: 1\n",
      "    Failed: 0\n",
      "[ooooooooook] 100.0% passed\n",
      "\n"
     ]
    }
   ],
   "source": [
    "ok.grade(\"q1_14\");"
   ]
  },
  {
   "cell_type": "markdown",
   "metadata": {
    "deletable": false
   },
   "source": [
    "The result of the cell below is interactive. Drag the slider to the right to see how countries have changed over time. You'll find that the great divide between so-called \"Western\" and \"developing\" countries that existed in the 1960's has nearly disappeared. This shift in fertility rates is the reason that the global population is expected to grow more slowly in the 21st century than it did in the 19th and 20th centuries.\n",
    "\n",
    "**Note:** Don't worry if a red warning pops up when running the cell below. You'll still be able to run the cell!"
   ]
  },
  {
   "cell_type": "code",
   "execution_count": 78,
   "metadata": {
    "deletable": false,
    "scrolled": false
   },
   "outputs": [
    {
     "name": "stderr",
     "output_type": "stream",
     "text": [
      "/opt/conda/lib/python3.8/site-packages/datascience/tables.py:222: FutureWarning: Implicit column method lookup is deprecated.\n",
      "  warnings.warn(\"Implicit column method lookup is deprecated.\", FutureWarning)\n"
     ]
    },
    {
     "ename": "ValueError",
     "evalue": "invalid __array_struct__",
     "output_type": "error",
     "traceback": [
      "\u001b[0;31m---------------------------------------------------------------------------\u001b[0m",
      "\u001b[0;31mValueError\u001b[0m                                Traceback (most recent call last)",
      "\u001b[0;32m<ipython-input-78-e88b3f8bf9dc>\u001b[0m in \u001b[0;36m<module>\u001b[0;34m\u001b[0m\n\u001b[1;32m      3\u001b[0m \u001b[0;31m# This part takes a few minutes to run because it\u001b[0m\u001b[0;34m\u001b[0m\u001b[0;34m\u001b[0m\u001b[0;34m\u001b[0m\u001b[0m\n\u001b[1;32m      4\u001b[0m \u001b[0;31m# computes 55 tables in advance: one for each year.\u001b[0m\u001b[0;34m\u001b[0m\u001b[0;34m\u001b[0m\u001b[0;34m\u001b[0m\u001b[0m\n\u001b[0;32m----> 5\u001b[0;31m \u001b[0mTable\u001b[0m\u001b[0;34m(\u001b[0m\u001b[0;34m)\u001b[0m\u001b[0;34m.\u001b[0m\u001b[0mwith_column\u001b[0m\u001b[0;34m(\u001b[0m\u001b[0;34m'Year'\u001b[0m\u001b[0;34m,\u001b[0m \u001b[0mnp\u001b[0m\u001b[0;34m.\u001b[0m\u001b[0marange\u001b[0m\u001b[0;34m(\u001b[0m\u001b[0;36m1960\u001b[0m\u001b[0;34m,\u001b[0m \u001b[0;36m2016\u001b[0m\u001b[0;34m)\u001b[0m\u001b[0;34m)\u001b[0m\u001b[0;34m.\u001b[0m\u001b[0mapply\u001b[0m\u001b[0;34m(\u001b[0m\u001b[0mstats_relabeled\u001b[0m\u001b[0;34m,\u001b[0m \u001b[0;34m'Year'\u001b[0m\u001b[0;34m)\u001b[0m\u001b[0;34m\u001b[0m\u001b[0;34m\u001b[0m\u001b[0m\n\u001b[0m\u001b[1;32m      6\u001b[0m \u001b[0;34m\u001b[0m\u001b[0m\n\u001b[1;32m      7\u001b[0m _ = widgets.interact(fertility_vs_child_mortality, \n",
      "\u001b[0;32m/opt/conda/lib/python3.8/site-packages/datascience/tables.py\u001b[0m in \u001b[0;36mapply\u001b[0;34m(self, fn, *column_or_columns)\u001b[0m\n\u001b[1;32m    473\u001b[0m                 \u001b[0mcolumn_or_columns\u001b[0m \u001b[0;34m=\u001b[0m \u001b[0mcolumn_or_columns\u001b[0m\u001b[0;34m[\u001b[0m\u001b[0;36m0\u001b[0m\u001b[0;34m]\u001b[0m\u001b[0;34m\u001b[0m\u001b[0;34m\u001b[0m\u001b[0m\n\u001b[1;32m    474\u001b[0m             \u001b[0mrows\u001b[0m \u001b[0;34m=\u001b[0m \u001b[0mzip\u001b[0m\u001b[0;34m(\u001b[0m\u001b[0;34m*\u001b[0m\u001b[0mself\u001b[0m\u001b[0;34m.\u001b[0m\u001b[0mselect\u001b[0m\u001b[0;34m(\u001b[0m\u001b[0;34m*\u001b[0m\u001b[0mcolumn_or_columns\u001b[0m\u001b[0;34m)\u001b[0m\u001b[0;34m.\u001b[0m\u001b[0mcolumns\u001b[0m\u001b[0;34m)\u001b[0m\u001b[0;34m\u001b[0m\u001b[0;34m\u001b[0m\u001b[0m\n\u001b[0;32m--> 475\u001b[0;31m             \u001b[0;32mreturn\u001b[0m \u001b[0mnp\u001b[0m\u001b[0;34m.\u001b[0m\u001b[0marray\u001b[0m\u001b[0;34m(\u001b[0m\u001b[0;34m[\u001b[0m\u001b[0mfn\u001b[0m\u001b[0;34m(\u001b[0m\u001b[0;34m*\u001b[0m\u001b[0mrow\u001b[0m\u001b[0;34m)\u001b[0m \u001b[0;32mfor\u001b[0m \u001b[0mrow\u001b[0m \u001b[0;32min\u001b[0m \u001b[0mrows\u001b[0m\u001b[0;34m]\u001b[0m\u001b[0;34m)\u001b[0m\u001b[0;34m\u001b[0m\u001b[0;34m\u001b[0m\u001b[0m\n\u001b[0m\u001b[1;32m    476\u001b[0m \u001b[0;34m\u001b[0m\u001b[0m\n\u001b[1;32m    477\u001b[0m     \u001b[0;32mdef\u001b[0m \u001b[0mfirst\u001b[0m\u001b[0;34m(\u001b[0m\u001b[0mself\u001b[0m\u001b[0;34m,\u001b[0m \u001b[0mlabel\u001b[0m\u001b[0;34m)\u001b[0m\u001b[0;34m:\u001b[0m\u001b[0;34m\u001b[0m\u001b[0;34m\u001b[0m\u001b[0m\n",
      "\u001b[0;31mValueError\u001b[0m: invalid __array_struct__"
     ]
    }
   ],
   "source": [
    "import ipywidgets as widgets\n",
    "\n",
    "# This part takes a few minutes to run because it \n",
    "# computes 55 tables in advance: one for each year.\n",
    "Table().with_column('Year', np.arange(1960, 2016)).apply(stats_relabeled, 'Year')\n",
    "\n",
    "_ = widgets.interact(fertility_vs_child_mortality, \n",
    "                     year=widgets.IntSlider(min=1960, max=2015, value=1960))"
   ]
  },
  {
   "cell_type": "markdown",
   "metadata": {
    "deletable": false,
    "editable": false
   },
   "source": [
    "Now is a great time to take a break and watch the same data presented by [Hans Rosling in a 2010 TEDx talk](https://www.gapminder.org/videos/reducing-child-mortality-a-moral-and-environmental-imperative) with smoother animation and witty commentary."
   ]
  },
  {
   "cell_type": "markdown",
   "metadata": {
    "deletable": false,
    "editable": false
   },
   "source": [
    "## 2. Global Poverty\n"
   ]
  },
  {
   "cell_type": "markdown",
   "metadata": {
    "deletable": false,
    "editable": false
   },
   "source": [
    "In 1800, 85% of the world's 1 billion people lived in *extreme poverty*, defined by the United Nations as \"a condition characterized by severe deprivation of basic human needs, including food, safe drinking water, sanitation facilities, health, shelter, education and information.\" A common measure of extreme poverty is a person living on less than \\$1.25 per day.\n",
    "\n",
    "In 2018, the proportion of people living in extreme poverty was estimated to be 8%. Although the world rate of extreme poverty has declined consistently for hundreds of years, the number of people living in extreme poverty is still over 600 million. The United Nations recently adopted an [ambitious goal](http://www.un.org/sustainabledevelopment/poverty/): \"By 2030, eradicate extreme poverty for all people everywhere.\"\n",
    "In this section, we will examine extreme poverty trends around the world."
   ]
  },
  {
   "cell_type": "markdown",
   "metadata": {
    "deletable": false,
    "editable": false
   },
   "source": [
    "First, load the population and poverty rate by country and year and the country descriptions. While the `population` table has values for every recent year for many countries, the `poverty` table only includes certain years for each country in which a measurement of the rate of extreme poverty was available."
   ]
  },
  {
   "cell_type": "code",
   "execution_count": 79,
   "metadata": {},
   "outputs": [
    {
     "data": {
      "text/html": [
       "<table border=\"1\" class=\"dataframe\">\n",
       "    <thead>\n",
       "        <tr>\n",
       "            <th>geo</th> <th>time</th> <th>population_total</th>\n",
       "        </tr>\n",
       "    </thead>\n",
       "    <tbody>\n",
       "        <tr>\n",
       "            <td>afg </td> <td>2010</td> <td>29185511        </td>\n",
       "        </tr>\n",
       "        <tr>\n",
       "            <td>ago </td> <td>2010</td> <td>23356247        </td>\n",
       "        </tr>\n",
       "        <tr>\n",
       "            <td>alb </td> <td>2010</td> <td>2948029         </td>\n",
       "        </tr>\n",
       "        <tr>\n",
       "            <td>and </td> <td>2010</td> <td>84454           </td>\n",
       "        </tr>\n",
       "        <tr>\n",
       "            <td>are </td> <td>2010</td> <td>8549998         </td>\n",
       "        </tr>\n",
       "        <tr>\n",
       "            <td>arg </td> <td>2010</td> <td>40895751        </td>\n",
       "        </tr>\n",
       "        <tr>\n",
       "            <td>arm </td> <td>2010</td> <td>2877314         </td>\n",
       "        </tr>\n",
       "        <tr>\n",
       "            <td>atg </td> <td>2010</td> <td>88030           </td>\n",
       "        </tr>\n",
       "        <tr>\n",
       "            <td>aus </td> <td>2010</td> <td>22154687        </td>\n",
       "        </tr>\n",
       "        <tr>\n",
       "            <td>aut </td> <td>2010</td> <td>8409945         </td>\n",
       "        </tr>\n",
       "    </tbody>\n",
       "</table>\n",
       "<p>... (187 rows omitted)</p>"
      ],
      "text/plain": [
       "geo  | time | population_total\n",
       "afg  | 2010 | 29185511\n",
       "ago  | 2010 | 23356247\n",
       "alb  | 2010 | 2948029\n",
       "and  | 2010 | 84454\n",
       "are  | 2010 | 8549998\n",
       "arg  | 2010 | 40895751\n",
       "arm  | 2010 | 2877314\n",
       "atg  | 2010 | 88030\n",
       "aus  | 2010 | 22154687\n",
       "aut  | 2010 | 8409945\n",
       "... (187 rows omitted)"
      ]
     },
     "execution_count": 79,
     "metadata": {},
     "output_type": "execute_result"
    }
   ],
   "source": [
    "population = Table.read_table('population.csv')\n",
    "countries = Table.read_table('countries.csv').where('country', are.contained_in(population.group('geo').column('geo')))\n",
    "poverty = Table.read_table('poverty.csv')\n",
    "population.where('time', 2010)"
   ]
  },
  {
   "cell_type": "markdown",
   "metadata": {
    "deletable": false,
    "editable": false
   },
   "source": [
    "**Question 1.** Assign `latest_poverty` to a three-column table with one row for each country that appears in the `poverty` table. The first column should contain the 3-letter code for the country. The second column should contain the most recent year for which an extreme poverty rate is available for the country. The third column should contain the poverty rate in that year. **Do not change the last line, so the labels of your table are set correctly.**\n",
    "\n",
    "*Hint*: think about how ```group``` works: it does a sequential search of the table (from top to bottom) and collects values in the array in the order in which they appear, and then applies a function to that array. The `first` function may be helpful, but you are not required to use it.\n",
    "\n",
    "<!--\n",
    "BEGIN QUESTION\n",
    "name: q2_1\n",
    "-->"
   ]
  },
  {
   "cell_type": "code",
   "execution_count": 80,
   "metadata": {
    "deletable": false
   },
   "outputs": [
    {
     "data": {
      "text/html": [
       "<table border=\"1\" class=\"dataframe\">\n",
       "    <thead>\n",
       "        <tr>\n",
       "            <th>geo</th> <th>time</th> <th>poverty_percent</th>\n",
       "        </tr>\n",
       "    </thead>\n",
       "    <tbody>\n",
       "        <tr>\n",
       "            <td>ago </td> <td>2009</td> <td>43.37          </td>\n",
       "        </tr>\n",
       "        <tr>\n",
       "            <td>alb </td> <td>2012</td> <td>0.46           </td>\n",
       "        </tr>\n",
       "        <tr>\n",
       "            <td>arg </td> <td>2011</td> <td>1.41           </td>\n",
       "        </tr>\n",
       "        <tr>\n",
       "            <td>arm </td> <td>2012</td> <td>1.75           </td>\n",
       "        </tr>\n",
       "        <tr>\n",
       "            <td>aus </td> <td>2003</td> <td>1.36           </td>\n",
       "        </tr>\n",
       "        <tr>\n",
       "            <td>aut </td> <td>2004</td> <td>0.34           </td>\n",
       "        </tr>\n",
       "        <tr>\n",
       "            <td>aze </td> <td>2008</td> <td>0.31           </td>\n",
       "        </tr>\n",
       "        <tr>\n",
       "            <td>bdi </td> <td>2006</td> <td>81.32          </td>\n",
       "        </tr>\n",
       "        <tr>\n",
       "            <td>bel </td> <td>2000</td> <td>0.5            </td>\n",
       "        </tr>\n",
       "        <tr>\n",
       "            <td>ben </td> <td>2012</td> <td>51.61          </td>\n",
       "        </tr>\n",
       "    </tbody>\n",
       "</table>\n",
       "<p>... (135 rows omitted)</p>"
      ],
      "text/plain": [
       "geo  | time | poverty_percent\n",
       "ago  | 2009 | 43.37\n",
       "alb  | 2012 | 0.46\n",
       "arg  | 2011 | 1.41\n",
       "arm  | 2012 | 1.75\n",
       "aus  | 2003 | 1.36\n",
       "aut  | 2004 | 0.34\n",
       "aze  | 2008 | 0.31\n",
       "bdi  | 2006 | 81.32\n",
       "bel  | 2000 | 0.5\n",
       "ben  | 2012 | 51.61\n",
       "... (135 rows omitted)"
      ]
     },
     "execution_count": 80,
     "metadata": {},
     "output_type": "execute_result"
    }
   ],
   "source": [
    "def first(values):\n",
    "    return values.item(0)\n",
    "\n",
    "latest_poverty = poverty.sort('time', descending = True).group('geo', first)\n",
    "latest_poverty = latest_poverty.relabeled(0, 'geo').relabeled(1, 'time').relabeled(2, 'poverty_percent') # You should *not* change this line.\n",
    "latest_poverty"
   ]
  },
  {
   "cell_type": "code",
   "execution_count": 81,
   "metadata": {
    "deletable": false,
    "editable": false
   },
   "outputs": [
    {
     "name": "stdout",
     "output_type": "stream",
     "text": [
      "~~~~~~~~~~~~~~~~~~~~~~~~~~~~~~~~~~~~~~~~~~~~~~~~~~~~~~~~~~~~~~~~~~~~~\n",
      "Running tests\n",
      "\n",
      "---------------------------------------------------------------------\n",
      "Test summary\n",
      "    Passed: 2\n",
      "    Failed: 0\n",
      "[ooooooooook] 100.0% passed\n",
      "\n"
     ]
    }
   ],
   "source": [
    "ok.grade(\"q2_1\");"
   ]
  },
  {
   "cell_type": "markdown",
   "metadata": {
    "deletable": false,
    "editable": false
   },
   "source": [
    "**Question 2.** Using both `latest_poverty` and `population`, create a four-column table called `recent_poverty_total` with one row for each country in `latest_poverty`. The four columns should have the following labels and contents:\n",
    "1. `geo` contains the 3-letter country code,\n",
    "1. `poverty_percent` contains the most recent poverty percent,\n",
    "1. `population_total` contains the population of the country in 2010,\n",
    "1. `poverty_total` contains the number of people in poverty **rounded to the nearest integer**, based on the 2010 population and most recent poverty rate.\n",
    "\n",
    "<!--\n",
    "BEGIN QUESTION\n",
    "name: q2_2\n",
    "-->"
   ]
  },
  {
   "cell_type": "code",
   "execution_count": 82,
   "metadata": {
    "deletable": false
   },
   "outputs": [
    {
     "data": {
      "text/html": [
       "<table border=\"1\" class=\"dataframe\">\n",
       "    <thead>\n",
       "        <tr>\n",
       "            <th>geo</th> <th>poverty_percent</th> <th>population_total</th> <th>poverty_total</th>\n",
       "        </tr>\n",
       "    </thead>\n",
       "    <tbody>\n",
       "        <tr>\n",
       "            <td>ago </td> <td>43.37          </td> <td>23356247        </td> <td>10129604     </td>\n",
       "        </tr>\n",
       "        <tr>\n",
       "            <td>alb </td> <td>0.46           </td> <td>2948029         </td> <td>13561        </td>\n",
       "        </tr>\n",
       "        <tr>\n",
       "            <td>arg </td> <td>1.41           </td> <td>40895751        </td> <td>576630       </td>\n",
       "        </tr>\n",
       "        <tr>\n",
       "            <td>arm </td> <td>1.75           </td> <td>2877314         </td> <td>50353        </td>\n",
       "        </tr>\n",
       "        <tr>\n",
       "            <td>aus </td> <td>1.36           </td> <td>22154687        </td> <td>301304       </td>\n",
       "        </tr>\n",
       "        <tr>\n",
       "            <td>aut </td> <td>0.34           </td> <td>8409945         </td> <td>28594        </td>\n",
       "        </tr>\n",
       "        <tr>\n",
       "            <td>aze </td> <td>0.31           </td> <td>9032465         </td> <td>28001        </td>\n",
       "        </tr>\n",
       "        <tr>\n",
       "            <td>bdi </td> <td>81.32          </td> <td>8675606         </td> <td>7055003      </td>\n",
       "        </tr>\n",
       "        <tr>\n",
       "            <td>bel </td> <td>0.5            </td> <td>10938735        </td> <td>54694        </td>\n",
       "        </tr>\n",
       "        <tr>\n",
       "            <td>ben </td> <td>51.61          </td> <td>9199254         </td> <td>4747735      </td>\n",
       "        </tr>\n",
       "    </tbody>\n",
       "</table>\n",
       "<p>... (135 rows omitted)</p>"
      ],
      "text/plain": [
       "geo  | poverty_percent | population_total | poverty_total\n",
       "ago  | 43.37           | 23356247         | 10129604\n",
       "alb  | 0.46            | 2948029          | 13561\n",
       "arg  | 1.41            | 40895751         | 576630\n",
       "arm  | 1.75            | 2877314          | 50353\n",
       "aus  | 1.36            | 22154687         | 301304\n",
       "aut  | 0.34            | 8409945          | 28594\n",
       "aze  | 0.31            | 9032465          | 28001\n",
       "bdi  | 81.32           | 8675606          | 7055003\n",
       "bel  | 0.5             | 10938735         | 54694\n",
       "ben  | 51.61           | 9199254          | 4747735\n",
       "... (135 rows omitted)"
      ]
     },
     "execution_count": 82,
     "metadata": {},
     "output_type": "execute_result"
    }
   ],
   "source": [
    "population_2010 = population.where('time', 2010)\n",
    "poverty_and_pop = latest_poverty.drop('time').join('geo', population_2010).drop(\"time\")\n",
    "poverty_total_array = poverty_and_pop.column('poverty_percent')/100 * poverty_and_pop.column(\"population_total\")\n",
    "rounded_poverty_total = poverty_and_pop.with_column(\"poverty_total\", poverty_total_array).apply(round, \"poverty_total\")\n",
    "recent_poverty_total = poverty_and_pop.with_column(\"poverty_total\", rounded_poverty_total)\n",
    "recent_poverty_total"
   ]
  },
  {
   "cell_type": "code",
   "execution_count": 83,
   "metadata": {
    "deletable": false,
    "editable": false
   },
   "outputs": [
    {
     "name": "stdout",
     "output_type": "stream",
     "text": [
      "~~~~~~~~~~~~~~~~~~~~~~~~~~~~~~~~~~~~~~~~~~~~~~~~~~~~~~~~~~~~~~~~~~~~~\n",
      "Running tests\n",
      "\n",
      "---------------------------------------------------------------------\n",
      "Test summary\n",
      "    Passed: 3\n",
      "    Failed: 0\n",
      "[ooooooooook] 100.0% passed\n",
      "\n"
     ]
    }
   ],
   "source": [
    "ok.grade(\"q2_2\");"
   ]
  },
  {
   "cell_type": "markdown",
   "metadata": {
    "deletable": false,
    "editable": false
   },
   "source": [
    "**Question 3.** Assign the name `poverty_percent` to the known percentage of the world’s 2010 population that were living in extreme poverty. Assume that the `poverty_total` numbers in the `recent_poverty_total` table describe **all** people in 2010 living in extreme poverty. You should find a number that is above the 2018 global estimate of 8%, since many country-specific poverty rates are older than 2018.\n",
    "\n",
    "*Hint*: The sum of the `population_total` column in the `recent_poverty_total` table is not the world population, because only a subset of the world's countries are included in the `recent_poverty_total` table (only some countries have known poverty rates). Use the `population` table to compute the world's 2010 total population..\n",
    "\n",
    "<!--\n",
    "BEGIN QUESTION\n",
    "name: q2_3\n",
    "-->"
   ]
  },
  {
   "cell_type": "code",
   "execution_count": 84,
   "metadata": {
    "deletable": false
   },
   "outputs": [
    {
     "data": {
      "text/plain": [
       "14.248865303997139"
      ]
     },
     "execution_count": 84,
     "metadata": {},
     "output_type": "execute_result"
    }
   ],
   "source": [
    "poverty_percent = sum(recent_poverty_total.column(\"poverty_total\")) / sum(population_2010.column(\"population_total\")) * 100\n",
    "poverty_percent"
   ]
  },
  {
   "cell_type": "code",
   "execution_count": 85,
   "metadata": {
    "deletable": false,
    "editable": false
   },
   "outputs": [
    {
     "name": "stdout",
     "output_type": "stream",
     "text": [
      "~~~~~~~~~~~~~~~~~~~~~~~~~~~~~~~~~~~~~~~~~~~~~~~~~~~~~~~~~~~~~~~~~~~~~\n",
      "Running tests\n",
      "\n",
      "---------------------------------------------------------------------\n",
      "Test summary\n",
      "    Passed: 1\n",
      "    Failed: 0\n",
      "[ooooooooook] 100.0% passed\n",
      "\n"
     ]
    }
   ],
   "source": [
    "ok.grade(\"q2_3\");"
   ]
  },
  {
   "cell_type": "markdown",
   "metadata": {
    "deletable": false,
    "editable": false
   },
   "source": [
    "The `countries` table includes not only the name and region of countries, but also their positions on the globe."
   ]
  },
  {
   "cell_type": "code",
   "execution_count": 86,
   "metadata": {
    "deletable": false,
    "editable": false
   },
   "outputs": [
    {
     "data": {
      "text/html": [
       "<table border=\"1\" class=\"dataframe\">\n",
       "    <thead>\n",
       "        <tr>\n",
       "            <th>country</th> <th>name</th> <th>world_4region</th> <th>latitude</th> <th>longitude</th>\n",
       "        </tr>\n",
       "    </thead>\n",
       "    <tbody>\n",
       "        <tr>\n",
       "            <td>afg    </td> <td>Afghanistan         </td> <td>asia         </td> <td>33      </td> <td>66       </td>\n",
       "        </tr>\n",
       "        <tr>\n",
       "            <td>ago    </td> <td>Angola              </td> <td>africa       </td> <td>-12.5   </td> <td>18.5     </td>\n",
       "        </tr>\n",
       "        <tr>\n",
       "            <td>alb    </td> <td>Albania             </td> <td>europe       </td> <td>41      </td> <td>20       </td>\n",
       "        </tr>\n",
       "        <tr>\n",
       "            <td>and    </td> <td>Andorra             </td> <td>europe       </td> <td>42.5078 </td> <td>1.52109  </td>\n",
       "        </tr>\n",
       "        <tr>\n",
       "            <td>are    </td> <td>United Arab Emirates</td> <td>asia         </td> <td>23.75   </td> <td>54.5     </td>\n",
       "        </tr>\n",
       "        <tr>\n",
       "            <td>arg    </td> <td>Argentina           </td> <td>americas     </td> <td>-34     </td> <td>-64      </td>\n",
       "        </tr>\n",
       "        <tr>\n",
       "            <td>arm    </td> <td>Armenia             </td> <td>europe       </td> <td>40.25   </td> <td>45       </td>\n",
       "        </tr>\n",
       "        <tr>\n",
       "            <td>atg    </td> <td>Antigua and Barbuda </td> <td>americas     </td> <td>17.05   </td> <td>-61.8    </td>\n",
       "        </tr>\n",
       "        <tr>\n",
       "            <td>aus    </td> <td>Australia           </td> <td>asia         </td> <td>-25     </td> <td>135      </td>\n",
       "        </tr>\n",
       "        <tr>\n",
       "            <td>aut    </td> <td>Austria             </td> <td>europe       </td> <td>47.3333 </td> <td>13.3333  </td>\n",
       "        </tr>\n",
       "    </tbody>\n",
       "</table>\n",
       "<p>... (187 rows omitted)</p>"
      ],
      "text/plain": [
       "country | name                 | world_4region | latitude | longitude\n",
       "afg     | Afghanistan          | asia          | 33       | 66\n",
       "ago     | Angola               | africa        | -12.5    | 18.5\n",
       "alb     | Albania              | europe        | 41       | 20\n",
       "and     | Andorra              | europe        | 42.5078  | 1.52109\n",
       "are     | United Arab Emirates | asia          | 23.75    | 54.5\n",
       "arg     | Argentina            | americas      | -34      | -64\n",
       "arm     | Armenia              | europe        | 40.25    | 45\n",
       "atg     | Antigua and Barbuda  | americas      | 17.05    | -61.8\n",
       "aus     | Australia            | asia          | -25      | 135\n",
       "aut     | Austria              | europe        | 47.3333  | 13.3333\n",
       "... (187 rows omitted)"
      ]
     },
     "execution_count": 86,
     "metadata": {},
     "output_type": "execute_result"
    }
   ],
   "source": [
    "countries.select('country', 'name', 'world_4region', 'latitude', 'longitude')"
   ]
  },
  {
   "cell_type": "markdown",
   "metadata": {
    "deletable": false,
    "editable": false
   },
   "source": [
    "**Question 4.** Using both `countries` and `recent_poverty_total`, create a five-column table called `poverty_map` with one row for every country in `recent_poverty_total`.  The five columns should have the following labels and contents:\n",
    "1. `latitude` contains the country's latitude,\n",
    "1. `longitude` contains the country's longitude,\n",
    "1. `name` contains the country's name,\n",
    "1. `region` contains the country's region from the `world_4region` column of `countries`,\n",
    "1. `poverty_total` contains the country's poverty total.\n",
    "\n",
    "<!--\n",
    "BEGIN QUESTION\n",
    "name: q2_4\n",
    "-->"
   ]
  },
  {
   "cell_type": "code",
   "execution_count": 87,
   "metadata": {
    "deletable": false
   },
   "outputs": [
    {
     "data": {
      "text/html": [
       "<table border=\"1\" class=\"dataframe\">\n",
       "    <thead>\n",
       "        <tr>\n",
       "            <th>latitude</th> <th>longitude</th> <th>name</th> <th>region</th> <th>poverty_total</th>\n",
       "        </tr>\n",
       "    </thead>\n",
       "    <tbody>\n",
       "        <tr>\n",
       "            <td>-12.5   </td> <td>18.5     </td> <td>Angola    </td> <td>africa  </td> <td>10129604     </td>\n",
       "        </tr>\n",
       "        <tr>\n",
       "            <td>41      </td> <td>20       </td> <td>Albania   </td> <td>europe  </td> <td>13561        </td>\n",
       "        </tr>\n",
       "        <tr>\n",
       "            <td>-34     </td> <td>-64      </td> <td>Argentina </td> <td>americas</td> <td>576630       </td>\n",
       "        </tr>\n",
       "        <tr>\n",
       "            <td>40.25   </td> <td>45       </td> <td>Armenia   </td> <td>europe  </td> <td>50353        </td>\n",
       "        </tr>\n",
       "        <tr>\n",
       "            <td>-25     </td> <td>135      </td> <td>Australia </td> <td>asia    </td> <td>301304       </td>\n",
       "        </tr>\n",
       "        <tr>\n",
       "            <td>47.3333 </td> <td>13.3333  </td> <td>Austria   </td> <td>europe  </td> <td>28594        </td>\n",
       "        </tr>\n",
       "        <tr>\n",
       "            <td>40.5    </td> <td>47.5     </td> <td>Azerbaijan</td> <td>europe  </td> <td>28001        </td>\n",
       "        </tr>\n",
       "        <tr>\n",
       "            <td>-3.5    </td> <td>30       </td> <td>Burundi   </td> <td>africa  </td> <td>7055003      </td>\n",
       "        </tr>\n",
       "        <tr>\n",
       "            <td>50.75   </td> <td>4.5      </td> <td>Belgium   </td> <td>europe  </td> <td>54694        </td>\n",
       "        </tr>\n",
       "        <tr>\n",
       "            <td>9.5     </td> <td>2.25     </td> <td>Benin     </td> <td>africa  </td> <td>4747735      </td>\n",
       "        </tr>\n",
       "    </tbody>\n",
       "</table>\n",
       "<p>... (135 rows omitted)</p>"
      ],
      "text/plain": [
       "latitude | longitude | name       | region   | poverty_total\n",
       "-12.5    | 18.5      | Angola     | africa   | 10129604\n",
       "41       | 20        | Albania    | europe   | 13561\n",
       "-34      | -64       | Argentina  | americas | 576630\n",
       "40.25    | 45        | Armenia    | europe   | 50353\n",
       "-25      | 135       | Australia  | asia     | 301304\n",
       "47.3333  | 13.3333   | Austria    | europe   | 28594\n",
       "40.5     | 47.5      | Azerbaijan | europe   | 28001\n",
       "-3.5     | 30        | Burundi    | africa   | 7055003\n",
       "50.75    | 4.5       | Belgium    | europe   | 54694\n",
       "9.5      | 2.25      | Benin      | africa   | 4747735\n",
       "... (135 rows omitted)"
      ]
     },
     "execution_count": 87,
     "metadata": {},
     "output_type": "execute_result"
    }
   ],
   "source": [
    "joined_poverty_country_map = recent_poverty_total.join(\"geo\", countries, \"country\")\n",
    "poverty_map = Table().with_columns('latitude', joined_poverty_country_map.column('latitude'), \n",
    "                        'longitude', joined_poverty_country_map.column('longitude'), \n",
    "                        'name', joined_poverty_country_map.column('name'), \n",
    "                        'region', joined_poverty_country_map.column('world_4region'), \n",
    "                        'poverty_total', joined_poverty_country_map.column('poverty_total'))\n",
    "poverty_map"
   ]
  },
  {
   "cell_type": "code",
   "execution_count": 88,
   "metadata": {
    "deletable": false,
    "editable": false
   },
   "outputs": [
    {
     "name": "stdout",
     "output_type": "stream",
     "text": [
      "~~~~~~~~~~~~~~~~~~~~~~~~~~~~~~~~~~~~~~~~~~~~~~~~~~~~~~~~~~~~~~~~~~~~~\n",
      "Running tests\n",
      "\n",
      "---------------------------------------------------------------------\n",
      "Test summary\n",
      "    Passed: 2\n",
      "    Failed: 0\n",
      "[ooooooooook] 100.0% passed\n",
      "\n"
     ]
    }
   ],
   "source": [
    "ok.grade(\"q2_4\");"
   ]
  },
  {
   "cell_type": "markdown",
   "metadata": {
    "deletable": false,
    "editable": false
   },
   "source": [
    "Run the cell below to draw a map of the world in which the areas of circles represent the number of people living in extreme poverty. Double-click on the map to zoom in."
   ]
  },
  {
   "cell_type": "code",
   "execution_count": 89,
   "metadata": {
    "deletable": false,
    "editable": false
   },
   "outputs": [
    {
     "data": {
      "text/html": [
       "<div style=\"width:100%;\"><div style=\"position:relative;width:100%;height:0;padding-bottom:60%;\"><span style=\"color:#565656\">Make this Notebook Trusted to load map: File -> Trust Notebook</span><iframe src=\"about:blank\" style=\"position:absolute;width:100%;height:100%;left:0;top:0;border:none !important;\" data-html=%3C%21DOCTYPE%20html%3E%0A%3Chead%3E%20%20%20%20%0A%20%20%20%20%3Cmeta%20http-equiv%3D%22content-type%22%20content%3D%22text/html%3B%20charset%3DUTF-8%22%20/%3E%0A%20%20%20%20%0A%20%20%20%20%20%20%20%20%3Cscript%3E%0A%20%20%20%20%20%20%20%20%20%20%20%20L_NO_TOUCH%20%3D%20false%3B%0A%20%20%20%20%20%20%20%20%20%20%20%20L_DISABLE_3D%20%3D%20false%3B%0A%20%20%20%20%20%20%20%20%3C/script%3E%0A%20%20%20%20%0A%20%20%20%20%3Cscript%20src%3D%22https%3A//cdn.jsdelivr.net/npm/leaflet%401.6.0/dist/leaflet.js%22%3E%3C/script%3E%0A%20%20%20%20%3Cscript%20src%3D%22https%3A//code.jquery.com/jquery-1.12.4.min.js%22%3E%3C/script%3E%0A%20%20%20%20%3Cscript%20src%3D%22https%3A//maxcdn.bootstrapcdn.com/bootstrap/3.2.0/js/bootstrap.min.js%22%3E%3C/script%3E%0A%20%20%20%20%3Cscript%20src%3D%22https%3A//cdnjs.cloudflare.com/ajax/libs/Leaflet.awesome-markers/2.0.2/leaflet.awesome-markers.js%22%3E%3C/script%3E%0A%20%20%20%20%3Clink%20rel%3D%22stylesheet%22%20href%3D%22https%3A//cdn.jsdelivr.net/npm/leaflet%401.6.0/dist/leaflet.css%22/%3E%0A%20%20%20%20%3Clink%20rel%3D%22stylesheet%22%20href%3D%22https%3A//maxcdn.bootstrapcdn.com/bootstrap/3.2.0/css/bootstrap.min.css%22/%3E%0A%20%20%20%20%3Clink%20rel%3D%22stylesheet%22%20href%3D%22https%3A//maxcdn.bootstrapcdn.com/bootstrap/3.2.0/css/bootstrap-theme.min.css%22/%3E%0A%20%20%20%20%3Clink%20rel%3D%22stylesheet%22%20href%3D%22https%3A//maxcdn.bootstrapcdn.com/font-awesome/4.6.3/css/font-awesome.min.css%22/%3E%0A%20%20%20%20%3Clink%20rel%3D%22stylesheet%22%20href%3D%22https%3A//cdnjs.cloudflare.com/ajax/libs/Leaflet.awesome-markers/2.0.2/leaflet.awesome-markers.css%22/%3E%0A%20%20%20%20%3Clink%20rel%3D%22stylesheet%22%20href%3D%22https%3A//rawcdn.githack.com/python-visualization/folium/master/folium/templates/leaflet.awesome.rotate.css%22/%3E%0A%20%20%20%20%3Cstyle%3Ehtml%2C%20body%20%7Bwidth%3A%20100%25%3Bheight%3A%20100%25%3Bmargin%3A%200%3Bpadding%3A%200%3B%7D%3C/style%3E%0A%20%20%20%20%3Cstyle%3E%23map%20%7Bposition%3Aabsolute%3Btop%3A0%3Bbottom%3A0%3Bright%3A0%3Bleft%3A0%3B%7D%3C/style%3E%0A%20%20%20%20%0A%20%20%20%20%20%20%20%20%20%20%20%20%3Cmeta%20name%3D%22viewport%22%20content%3D%22width%3Ddevice-width%2C%0A%20%20%20%20%20%20%20%20%20%20%20%20%20%20%20%20initial-scale%3D1.0%2C%20maximum-scale%3D1.0%2C%20user-scalable%3Dno%22%20/%3E%0A%20%20%20%20%20%20%20%20%20%20%20%20%3Cstyle%3E%0A%20%20%20%20%20%20%20%20%20%20%20%20%20%20%20%20%23map_adb6d74cb18349f3821b952856c762ca%20%7B%0A%20%20%20%20%20%20%20%20%20%20%20%20%20%20%20%20%20%20%20%20position%3A%20relative%3B%0A%20%20%20%20%20%20%20%20%20%20%20%20%20%20%20%20%20%20%20%20width%3A%20960.0px%3B%0A%20%20%20%20%20%20%20%20%20%20%20%20%20%20%20%20%20%20%20%20height%3A%20500.0px%3B%0A%20%20%20%20%20%20%20%20%20%20%20%20%20%20%20%20%20%20%20%20left%3A%200.0%25%3B%0A%20%20%20%20%20%20%20%20%20%20%20%20%20%20%20%20%20%20%20%20top%3A%200.0%25%3B%0A%20%20%20%20%20%20%20%20%20%20%20%20%20%20%20%20%7D%0A%20%20%20%20%20%20%20%20%20%20%20%20%3C/style%3E%0A%20%20%20%20%20%20%20%20%0A%3C/head%3E%0A%3Cbody%3E%20%20%20%20%0A%20%20%20%20%0A%20%20%20%20%20%20%20%20%20%20%20%20%3Cdiv%20class%3D%22folium-map%22%20id%3D%22map_adb6d74cb18349f3821b952856c762ca%22%20%3E%3C/div%3E%0A%20%20%20%20%20%20%20%20%0A%3C/body%3E%0A%3Cscript%3E%20%20%20%20%0A%20%20%20%20%0A%20%20%20%20%20%20%20%20%20%20%20%20var%20map_adb6d74cb18349f3821b952856c762ca%20%3D%20L.map%28%0A%20%20%20%20%20%20%20%20%20%20%20%20%20%20%20%20%22map_adb6d74cb18349f3821b952856c762ca%22%2C%0A%20%20%20%20%20%20%20%20%20%20%20%20%20%20%20%20%7B%0A%20%20%20%20%20%20%20%20%20%20%20%20%20%20%20%20%20%20%20%20center%3A%20%5B15.0%2C%2032.17871%5D%2C%0A%20%20%20%20%20%20%20%20%20%20%20%20%20%20%20%20%20%20%20%20crs%3A%20L.CRS.EPSG3857%2C%0A%20%20%20%20%20%20%20%20%20%20%20%20%20%20%20%20%20%20%20%20zoom%3A%201%2C%0A%20%20%20%20%20%20%20%20%20%20%20%20%20%20%20%20%20%20%20%20zoomControl%3A%20true%2C%0A%20%20%20%20%20%20%20%20%20%20%20%20%20%20%20%20%20%20%20%20preferCanvas%3A%20false%2C%0A%20%20%20%20%20%20%20%20%20%20%20%20%20%20%20%20%20%20%20%20clusteredMarker%3A%20false%2C%0A%20%20%20%20%20%20%20%20%20%20%20%20%20%20%20%20%20%20%20%20includeColorScaleOutliers%3A%20true%2C%0A%20%20%20%20%20%20%20%20%20%20%20%20%20%20%20%20%20%20%20%20radiusInMeters%3A%20false%2C%0A%20%20%20%20%20%20%20%20%20%20%20%20%20%20%20%20%7D%0A%20%20%20%20%20%20%20%20%20%20%20%20%29%3B%0A%0A%20%20%20%20%20%20%20%20%20%20%20%20%0A%0A%20%20%20%20%20%20%20%20%0A%20%20%20%20%0A%20%20%20%20%20%20%20%20%20%20%20%20var%20tile_layer_f447b79f6f46424c8b409dec0c9bfc11%20%3D%20L.tileLayer%28%0A%20%20%20%20%20%20%20%20%20%20%20%20%20%20%20%20%22https%3A//%7Bs%7D.tile.openstreetmap.org/%7Bz%7D/%7Bx%7D/%7By%7D.png%22%2C%0A%20%20%20%20%20%20%20%20%20%20%20%20%20%20%20%20%7B%22attribution%22%3A%20%22Data%20by%20%5Cu0026copy%3B%20%5Cu003ca%20href%3D%5C%22http%3A//openstreetmap.org%5C%22%5Cu003eOpenStreetMap%5Cu003c/a%5Cu003e%2C%20under%20%5Cu003ca%20href%3D%5C%22http%3A//www.openstreetmap.org/copyright%5C%22%5Cu003eODbL%5Cu003c/a%5Cu003e.%22%2C%20%22detectRetina%22%3A%20false%2C%20%22maxNativeZoom%22%3A%2017%2C%20%22maxZoom%22%3A%2017%2C%20%22minZoom%22%3A%20-1%2C%20%22noWrap%22%3A%20false%2C%20%22opacity%22%3A%201%2C%20%22subdomains%22%3A%20%22abc%22%2C%20%22tms%22%3A%20false%7D%0A%20%20%20%20%20%20%20%20%20%20%20%20%29.addTo%28map_adb6d74cb18349f3821b952856c762ca%29%3B%0A%20%20%20%20%20%20%20%20%0A%20%20%20%20%0A%20%20%20%20%20%20%20%20%20%20%20%20var%20circle_marker_f354cc395c1b4cd0a43358ca2b3bbc7b%20%3D%20L.circleMarker%28%0A%20%20%20%20%20%20%20%20%20%20%20%20%20%20%20%20%5B-12.5%2C%2018.5%5D%2C%0A%20%20%20%20%20%20%20%20%20%20%20%20%20%20%20%20%7B%22bubblingMouseEvents%22%3A%20true%2C%20%22color%22%3A%20%22%233388ff%22%2C%20%22dashArray%22%3A%20null%2C%20%22dashOffset%22%3A%20null%2C%20%22fill%22%3A%20true%2C%20%22fillColor%22%3A%20%22blue%22%2C%20%22fillOpacity%22%3A%200.2%2C%20%22fillRule%22%3A%20%22evenodd%22%2C%20%22lineCap%22%3A%20%22round%22%2C%20%22lineJoin%22%3A%20%22round%22%2C%20%22opacity%22%3A%201.0%2C%20%22radius%22%3A%2017.956483776972792%2C%20%22stroke%22%3A%20true%2C%20%22weight%22%3A%203%7D%0A%20%20%20%20%20%20%20%20%20%20%20%20%29.addTo%28map_adb6d74cb18349f3821b952856c762ca%29%3B%0A%20%20%20%20%20%20%20%20%0A%20%20%20%20%0A%20%20%20%20%20%20%20%20var%20popup_491a2f40476d41108d7d9ea2619d1dfb%20%3D%20L.popup%28%7B%22maxWidth%22%3A%20%22100%25%22%7D%29%3B%0A%0A%20%20%20%20%20%20%20%20%0A%20%20%20%20%20%20%20%20%20%20%20%20var%20html_291de566a4a449cfa63db086d072ddf8%20%3D%20%24%28%60%3Cdiv%20id%3D%22html_291de566a4a449cfa63db086d072ddf8%22%20style%3D%22width%3A%20100.0%25%3B%20height%3A%20100.0%25%3B%22%3EAngola%3C/div%3E%60%29%5B0%5D%3B%0A%20%20%20%20%20%20%20%20%20%20%20%20popup_491a2f40476d41108d7d9ea2619d1dfb.setContent%28html_291de566a4a449cfa63db086d072ddf8%29%3B%0A%20%20%20%20%20%20%20%20%0A%0A%20%20%20%20%20%20%20%20circle_marker_f354cc395c1b4cd0a43358ca2b3bbc7b.bindPopup%28popup_491a2f40476d41108d7d9ea2619d1dfb%29%0A%20%20%20%20%20%20%20%20%3B%0A%0A%20%20%20%20%20%20%20%20%0A%20%20%20%20%0A%20%20%20%20%0A%20%20%20%20%20%20%20%20%20%20%20%20var%20circle_marker_8f3d4a685b394a97a4752966a6b82851%20%3D%20L.circleMarker%28%0A%20%20%20%20%20%20%20%20%20%20%20%20%20%20%20%20%5B41.0%2C%2020.0%5D%2C%0A%20%20%20%20%20%20%20%20%20%20%20%20%20%20%20%20%7B%22bubblingMouseEvents%22%3A%20true%2C%20%22color%22%3A%20%22%233388ff%22%2C%20%22dashArray%22%3A%20null%2C%20%22dashOffset%22%3A%20null%2C%20%22fill%22%3A%20true%2C%20%22fillColor%22%3A%20%22black%22%2C%20%22fillOpacity%22%3A%200.2%2C%20%22fillRule%22%3A%20%22evenodd%22%2C%20%22lineCap%22%3A%20%22round%22%2C%20%22lineJoin%22%3A%20%22round%22%2C%20%22opacity%22%3A%201.0%2C%20%22radius%22%3A%200.6570083992262493%2C%20%22stroke%22%3A%20true%2C%20%22weight%22%3A%203%7D%0A%20%20%20%20%20%20%20%20%20%20%20%20%29.addTo%28map_adb6d74cb18349f3821b952856c762ca%29%3B%0A%20%20%20%20%20%20%20%20%0A%20%20%20%20%0A%20%20%20%20%20%20%20%20var%20popup_7992d495620c44f18a665a111a9e74ce%20%3D%20L.popup%28%7B%22maxWidth%22%3A%20%22100%25%22%7D%29%3B%0A%0A%20%20%20%20%20%20%20%20%0A%20%20%20%20%20%20%20%20%20%20%20%20var%20html_c41de59e810d4bdaa59230ffcdc21f98%20%3D%20%24%28%60%3Cdiv%20id%3D%22html_c41de59e810d4bdaa59230ffcdc21f98%22%20style%3D%22width%3A%20100.0%25%3B%20height%3A%20100.0%25%3B%22%3EAlbania%3C/div%3E%60%29%5B0%5D%3B%0A%20%20%20%20%20%20%20%20%20%20%20%20popup_7992d495620c44f18a665a111a9e74ce.setContent%28html_c41de59e810d4bdaa59230ffcdc21f98%29%3B%0A%20%20%20%20%20%20%20%20%0A%0A%20%20%20%20%20%20%20%20circle_marker_8f3d4a685b394a97a4752966a6b82851.bindPopup%28popup_7992d495620c44f18a665a111a9e74ce%29%0A%20%20%20%20%20%20%20%20%3B%0A%0A%20%20%20%20%20%20%20%20%0A%20%20%20%20%0A%20%20%20%20%0A%20%20%20%20%20%20%20%20%20%20%20%20var%20circle_marker_78b274d16ee54df5a2fc9cfa0daad1a0%20%3D%20L.circleMarker%28%0A%20%20%20%20%20%20%20%20%20%20%20%20%20%20%20%20%5B-34.0%2C%20-64.0%5D%2C%0A%20%20%20%20%20%20%20%20%20%20%20%20%20%20%20%20%7B%22bubblingMouseEvents%22%3A%20true%2C%20%22color%22%3A%20%22%233388ff%22%2C%20%22dashArray%22%3A%20null%2C%20%22dashOffset%22%3A%20null%2C%20%22fill%22%3A%20true%2C%20%22fillColor%22%3A%20%22green%22%2C%20%22fillOpacity%22%3A%200.2%2C%20%22fillRule%22%3A%20%22evenodd%22%2C%20%22lineCap%22%3A%20%22round%22%2C%20%22lineJoin%22%3A%20%22round%22%2C%20%22opacity%22%3A%201.0%2C%20%22radius%22%3A%204.284238901720576%2C%20%22stroke%22%3A%20true%2C%20%22weight%22%3A%203%7D%0A%20%20%20%20%20%20%20%20%20%20%20%20%29.addTo%28map_adb6d74cb18349f3821b952856c762ca%29%3B%0A%20%20%20%20%20%20%20%20%0A%20%20%20%20%0A%20%20%20%20%20%20%20%20var%20popup_bc9abbafe5e042fc86b6b8086b6e20fe%20%3D%20L.popup%28%7B%22maxWidth%22%3A%20%22100%25%22%7D%29%3B%0A%0A%20%20%20%20%20%20%20%20%0A%20%20%20%20%20%20%20%20%20%20%20%20var%20html_8948ad80e218409895c49288f4770450%20%3D%20%24%28%60%3Cdiv%20id%3D%22html_8948ad80e218409895c49288f4770450%22%20style%3D%22width%3A%20100.0%25%3B%20height%3A%20100.0%25%3B%22%3EArgentina%3C/div%3E%60%29%5B0%5D%3B%0A%20%20%20%20%20%20%20%20%20%20%20%20popup_bc9abbafe5e042fc86b6b8086b6e20fe.setContent%28html_8948ad80e218409895c49288f4770450%29%3B%0A%20%20%20%20%20%20%20%20%0A%0A%20%20%20%20%20%20%20%20circle_marker_78b274d16ee54df5a2fc9cfa0daad1a0.bindPopup%28popup_bc9abbafe5e042fc86b6b8086b6e20fe%29%0A%20%20%20%20%20%20%20%20%3B%0A%0A%20%20%20%20%20%20%20%20%0A%20%20%20%20%0A%20%20%20%20%0A%20%20%20%20%20%20%20%20%20%20%20%20var%20circle_marker_abe687a7969d4c8f9606ad8174f6d02d%20%3D%20L.circleMarker%28%0A%20%20%20%20%20%20%20%20%20%20%20%20%20%20%20%20%5B40.25%2C%2045.0%5D%2C%0A%20%20%20%20%20%20%20%20%20%20%20%20%20%20%20%20%7B%22bubblingMouseEvents%22%3A%20true%2C%20%22color%22%3A%20%22%233388ff%22%2C%20%22dashArray%22%3A%20null%2C%20%22dashOffset%22%3A%20null%2C%20%22fill%22%3A%20true%2C%20%22fillColor%22%3A%20%22black%22%2C%20%22fillOpacity%22%3A%200.2%2C%20%22fillRule%22%3A%20%22evenodd%22%2C%20%22lineCap%22%3A%20%22round%22%2C%20%22lineJoin%22%3A%20%22round%22%2C%20%22opacity%22%3A%201.0%2C%20%22radius%22%3A%201.2660117574103493%2C%20%22stroke%22%3A%20true%2C%20%22weight%22%3A%203%7D%0A%20%20%20%20%20%20%20%20%20%20%20%20%29.addTo%28map_adb6d74cb18349f3821b952856c762ca%29%3B%0A%20%20%20%20%20%20%20%20%0A%20%20%20%20%0A%20%20%20%20%20%20%20%20var%20popup_a8383cf80f8844b7a475491e5725e8fd%20%3D%20L.popup%28%7B%22maxWidth%22%3A%20%22100%25%22%7D%29%3B%0A%0A%20%20%20%20%20%20%20%20%0A%20%20%20%20%20%20%20%20%20%20%20%20var%20html_01f7e44fe1774ee09fb60644cf16cc62%20%3D%20%24%28%60%3Cdiv%20id%3D%22html_01f7e44fe1774ee09fb60644cf16cc62%22%20style%3D%22width%3A%20100.0%25%3B%20height%3A%20100.0%25%3B%22%3EArmenia%3C/div%3E%60%29%5B0%5D%3B%0A%20%20%20%20%20%20%20%20%20%20%20%20popup_a8383cf80f8844b7a475491e5725e8fd.setContent%28html_01f7e44fe1774ee09fb60644cf16cc62%29%3B%0A%20%20%20%20%20%20%20%20%0A%0A%20%20%20%20%20%20%20%20circle_marker_abe687a7969d4c8f9606ad8174f6d02d.bindPopup%28popup_a8383cf80f8844b7a475491e5725e8fd%29%0A%20%20%20%20%20%20%20%20%3B%0A%0A%20%20%20%20%20%20%20%20%0A%20%20%20%20%0A%20%20%20%20%0A%20%20%20%20%20%20%20%20%20%20%20%20var%20circle_marker_ad7e99e31782466f92c95b234f009aaf%20%3D%20L.circleMarker%28%0A%20%20%20%20%20%20%20%20%20%20%20%20%20%20%20%20%5B-25.0%2C%20135.0%5D%2C%0A%20%20%20%20%20%20%20%20%20%20%20%20%20%20%20%20%7B%22bubblingMouseEvents%22%3A%20true%2C%20%22color%22%3A%20%22%233388ff%22%2C%20%22dashArray%22%3A%20null%2C%20%22dashOffset%22%3A%20null%2C%20%22fill%22%3A%20true%2C%20%22fillColor%22%3A%20%22red%22%2C%20%22fillOpacity%22%3A%200.2%2C%20%22fillRule%22%3A%20%22evenodd%22%2C%20%22lineCap%22%3A%20%22round%22%2C%20%22lineJoin%22%3A%20%22round%22%2C%20%22opacity%22%3A%201.0%2C%20%22radius%22%3A%203.0969023547202914%2C%20%22stroke%22%3A%20true%2C%20%22weight%22%3A%203%7D%0A%20%20%20%20%20%20%20%20%20%20%20%20%29.addTo%28map_adb6d74cb18349f3821b952856c762ca%29%3B%0A%20%20%20%20%20%20%20%20%0A%20%20%20%20%0A%20%20%20%20%20%20%20%20var%20popup_eed2630c7b284beb8608e9ffaf0f4b06%20%3D%20L.popup%28%7B%22maxWidth%22%3A%20%22100%25%22%7D%29%3B%0A%0A%20%20%20%20%20%20%20%20%0A%20%20%20%20%20%20%20%20%20%20%20%20var%20html_ce44b15820c74bd3867c40efb4f06b8b%20%3D%20%24%28%60%3Cdiv%20id%3D%22html_ce44b15820c74bd3867c40efb4f06b8b%22%20style%3D%22width%3A%20100.0%25%3B%20height%3A%20100.0%25%3B%22%3EAustralia%3C/div%3E%60%29%5B0%5D%3B%0A%20%20%20%20%20%20%20%20%20%20%20%20popup_eed2630c7b284beb8608e9ffaf0f4b06.setContent%28html_ce44b15820c74bd3867c40efb4f06b8b%29%3B%0A%20%20%20%20%20%20%20%20%0A%0A%20%20%20%20%20%20%20%20circle_marker_ad7e99e31782466f92c95b234f009aaf.bindPopup%28popup_eed2630c7b284beb8608e9ffaf0f4b06%29%0A%20%20%20%20%20%20%20%20%3B%0A%0A%20%20%20%20%20%20%20%20%0A%20%20%20%20%0A%20%20%20%20%0A%20%20%20%20%20%20%20%20%20%20%20%20var%20circle_marker_057bba7958f84659b3fb86098c69e76f%20%3D%20L.circleMarker%28%0A%20%20%20%20%20%20%20%20%20%20%20%20%20%20%20%20%5B47.33333%2C%2013.33333%5D%2C%0A%20%20%20%20%20%20%20%20%20%20%20%20%20%20%20%20%7B%22bubblingMouseEvents%22%3A%20true%2C%20%22color%22%3A%20%22%233388ff%22%2C%20%22dashArray%22%3A%20null%2C%20%22dashOffset%22%3A%20null%2C%20%22fill%22%3A%20true%2C%20%22fillColor%22%3A%20%22black%22%2C%20%22fillOpacity%22%3A%200.2%2C%20%22fillRule%22%3A%20%22evenodd%22%2C%20%22lineCap%22%3A%20%22round%22%2C%20%22lineJoin%22%3A%20%22round%22%2C%20%22opacity%22%3A%201.0%2C%20%22radius%22%3A%200.9540310731595334%2C%20%22stroke%22%3A%20true%2C%20%22weight%22%3A%203%7D%0A%20%20%20%20%20%20%20%20%20%20%20%20%29.addTo%28map_adb6d74cb18349f3821b952856c762ca%29%3B%0A%20%20%20%20%20%20%20%20%0A%20%20%20%20%0A%20%20%20%20%20%20%20%20var%20popup_5fbc9a5dbd3141e3ade5b9315be3af99%20%3D%20L.popup%28%7B%22maxWidth%22%3A%20%22100%25%22%7D%29%3B%0A%0A%20%20%20%20%20%20%20%20%0A%20%20%20%20%20%20%20%20%20%20%20%20var%20html_8471e43328634c03a2e9714f550c97c2%20%3D%20%24%28%60%3Cdiv%20id%3D%22html_8471e43328634c03a2e9714f550c97c2%22%20style%3D%22width%3A%20100.0%25%3B%20height%3A%20100.0%25%3B%22%3EAustria%3C/div%3E%60%29%5B0%5D%3B%0A%20%20%20%20%20%20%20%20%20%20%20%20popup_5fbc9a5dbd3141e3ade5b9315be3af99.setContent%28html_8471e43328634c03a2e9714f550c97c2%29%3B%0A%20%20%20%20%20%20%20%20%0A%0A%20%20%20%20%20%20%20%20circle_marker_057bba7958f84659b3fb86098c69e76f.bindPopup%28popup_5fbc9a5dbd3141e3ade5b9315be3af99%29%0A%20%20%20%20%20%20%20%20%3B%0A%0A%20%20%20%20%20%20%20%20%0A%20%20%20%20%0A%20%20%20%20%0A%20%20%20%20%20%20%20%20%20%20%20%20var%20circle_marker_6e619c52e79342718a111f96a9877bbc%20%3D%20L.circleMarker%28%0A%20%20%20%20%20%20%20%20%20%20%20%20%20%20%20%20%5B40.5%2C%2047.5%5D%2C%0A%20%20%20%20%20%20%20%20%20%20%20%20%20%20%20%20%7B%22bubblingMouseEvents%22%3A%20true%2C%20%22color%22%3A%20%22%233388ff%22%2C%20%22dashArray%22%3A%20null%2C%20%22dashOffset%22%3A%20null%2C%20%22fill%22%3A%20true%2C%20%22fillColor%22%3A%20%22black%22%2C%20%22fillOpacity%22%3A%200.2%2C%20%22fillRule%22%3A%20%22evenodd%22%2C%20%22lineCap%22%3A%20%22round%22%2C%20%22lineJoin%22%3A%20%22round%22%2C%20%22opacity%22%3A%201.0%2C%20%22radius%22%3A%200.9440866021203946%2C%20%22stroke%22%3A%20true%2C%20%22weight%22%3A%203%7D%0A%20%20%20%20%20%20%20%20%20%20%20%20%29.addTo%28map_adb6d74cb18349f3821b952856c762ca%29%3B%0A%20%20%20%20%20%20%20%20%0A%20%20%20%20%0A%20%20%20%20%20%20%20%20var%20popup_f1a2b721324647939e3cb6dbef9caaea%20%3D%20L.popup%28%7B%22maxWidth%22%3A%20%22100%25%22%7D%29%3B%0A%0A%20%20%20%20%20%20%20%20%0A%20%20%20%20%20%20%20%20%20%20%20%20var%20html_a76c346951a04c2096033b780ef87c3d%20%3D%20%24%28%60%3Cdiv%20id%3D%22html_a76c346951a04c2096033b780ef87c3d%22%20style%3D%22width%3A%20100.0%25%3B%20height%3A%20100.0%25%3B%22%3EAzerbaijan%3C/div%3E%60%29%5B0%5D%3B%0A%20%20%20%20%20%20%20%20%20%20%20%20popup_f1a2b721324647939e3cb6dbef9caaea.setContent%28html_a76c346951a04c2096033b780ef87c3d%29%3B%0A%20%20%20%20%20%20%20%20%0A%0A%20%20%20%20%20%20%20%20circle_marker_6e619c52e79342718a111f96a9877bbc.bindPopup%28popup_f1a2b721324647939e3cb6dbef9caaea%29%0A%20%20%20%20%20%20%20%20%3B%0A%0A%20%20%20%20%20%20%20%20%0A%20%20%20%20%0A%20%20%20%20%0A%20%20%20%20%20%20%20%20%20%20%20%20var%20circle_marker_2c45de65c5c34ff189cb3a058466dc64%20%3D%20L.circleMarker%28%0A%20%20%20%20%20%20%20%20%20%20%20%20%20%20%20%20%5B-3.5%2C%2030.0%5D%2C%0A%20%20%20%20%20%20%20%20%20%20%20%20%20%20%20%20%7B%22bubblingMouseEvents%22%3A%20true%2C%20%22color%22%3A%20%22%233388ff%22%2C%20%22dashArray%22%3A%20null%2C%20%22dashOffset%22%3A%20null%2C%20%22fill%22%3A%20true%2C%20%22fillColor%22%3A%20%22blue%22%2C%20%22fillOpacity%22%3A%200.2%2C%20%22fillRule%22%3A%20%22evenodd%22%2C%20%22lineCap%22%3A%20%22round%22%2C%20%22lineJoin%22%3A%20%22round%22%2C%20%22opacity%22%3A%201.0%2C%20%22radius%22%3A%2014.985583745574617%2C%20%22stroke%22%3A%20true%2C%20%22weight%22%3A%203%7D%0A%20%20%20%20%20%20%20%20%20%20%20%20%29.addTo%28map_adb6d74cb18349f3821b952856c762ca%29%3B%0A%20%20%20%20%20%20%20%20%0A%20%20%20%20%0A%20%20%20%20%20%20%20%20var%20popup_5082c81b95c548bda487de1bc5e15639%20%3D%20L.popup%28%7B%22maxWidth%22%3A%20%22100%25%22%7D%29%3B%0A%0A%20%20%20%20%20%20%20%20%0A%20%20%20%20%20%20%20%20%20%20%20%20var%20html_59d49774c29c45498b6560031ad8c197%20%3D%20%24%28%60%3Cdiv%20id%3D%22html_59d49774c29c45498b6560031ad8c197%22%20style%3D%22width%3A%20100.0%25%3B%20height%3A%20100.0%25%3B%22%3EBurundi%3C/div%3E%60%29%5B0%5D%3B%0A%20%20%20%20%20%20%20%20%20%20%20%20popup_5082c81b95c548bda487de1bc5e15639.setContent%28html_59d49774c29c45498b6560031ad8c197%29%3B%0A%20%20%20%20%20%20%20%20%0A%0A%20%20%20%20%20%20%20%20circle_marker_2c45de65c5c34ff189cb3a058466dc64.bindPopup%28popup_5082c81b95c548bda487de1bc5e15639%29%0A%20%20%20%20%20%20%20%20%3B%0A%0A%20%20%20%20%20%20%20%20%0A%20%20%20%20%0A%20%20%20%20%0A%20%20%20%20%20%20%20%20%20%20%20%20var%20circle_marker_6c13fc540c284ac8a4b51f6410ff93da%20%3D%20L.circleMarker%28%0A%20%20%20%20%20%20%20%20%20%20%20%20%20%20%20%20%5B50.75%2C%204.5%5D%2C%0A%20%20%20%20%20%20%20%20%20%20%20%20%20%20%20%20%7B%22bubblingMouseEvents%22%3A%20true%2C%20%22color%22%3A%20%22%233388ff%22%2C%20%22dashArray%22%3A%20null%2C%20%22dashOffset%22%3A%20null%2C%20%22fill%22%3A%20true%2C%20%22fillColor%22%3A%20%22black%22%2C%20%22fillOpacity%22%3A%200.2%2C%20%22fillRule%22%3A%20%22evenodd%22%2C%20%22lineCap%22%3A%20%22round%22%2C%20%22lineJoin%22%3A%20%22round%22%2C%20%22opacity%22%3A%201.0%2C%20%22radius%22%3A%201.3194559831588262%2C%20%22stroke%22%3A%20true%2C%20%22weight%22%3A%203%7D%0A%20%20%20%20%20%20%20%20%20%20%20%20%29.addTo%28map_adb6d74cb18349f3821b952856c762ca%29%3B%0A%20%20%20%20%20%20%20%20%0A%20%20%20%20%0A%20%20%20%20%20%20%20%20var%20popup_66dd6230d95e448f98098504d0b043bc%20%3D%20L.popup%28%7B%22maxWidth%22%3A%20%22100%25%22%7D%29%3B%0A%0A%20%20%20%20%20%20%20%20%0A%20%20%20%20%20%20%20%20%20%20%20%20var%20html_1f4a6828f1a445b59848dd5bb74d7a5a%20%3D%20%24%28%60%3Cdiv%20id%3D%22html_1f4a6828f1a445b59848dd5bb74d7a5a%22%20style%3D%22width%3A%20100.0%25%3B%20height%3A%20100.0%25%3B%22%3EBelgium%3C/div%3E%60%29%5B0%5D%3B%0A%20%20%20%20%20%20%20%20%20%20%20%20popup_66dd6230d95e448f98098504d0b043bc.setContent%28html_1f4a6828f1a445b59848dd5bb74d7a5a%29%3B%0A%20%20%20%20%20%20%20%20%0A%0A%20%20%20%20%20%20%20%20circle_marker_6c13fc540c284ac8a4b51f6410ff93da.bindPopup%28popup_66dd6230d95e448f98098504d0b043bc%29%0A%20%20%20%20%20%20%20%20%3B%0A%0A%20%20%20%20%20%20%20%20%0A%20%20%20%20%0A%20%20%20%20%0A%20%20%20%20%20%20%20%20%20%20%20%20var%20circle_marker_c30697edc8f549178e5020819ba9ea82%20%3D%20L.circleMarker%28%0A%20%20%20%20%20%20%20%20%20%20%20%20%20%20%20%20%5B9.5%2C%202.25%5D%2C%0A%20%20%20%20%20%20%20%20%20%20%20%20%20%20%20%20%7B%22bubblingMouseEvents%22%3A%20true%2C%20%22color%22%3A%20%22%233388ff%22%2C%20%22dashArray%22%3A%20null%2C%20%22dashOffset%22%3A%20null%2C%20%22fill%22%3A%20true%2C%20%22fillColor%22%3A%20%22blue%22%2C%20%22fillOpacity%22%3A%200.2%2C%20%22fillRule%22%3A%20%22evenodd%22%2C%20%22lineCap%22%3A%20%22round%22%2C%20%22lineJoin%22%3A%20%22round%22%2C%20%22opacity%22%3A%201.0%2C%20%22radius%22%3A%2012.293294869483931%2C%20%22stroke%22%3A%20true%2C%20%22weight%22%3A%203%7D%0A%20%20%20%20%20%20%20%20%20%20%20%20%29.addTo%28map_adb6d74cb18349f3821b952856c762ca%29%3B%0A%20%20%20%20%20%20%20%20%0A%20%20%20%20%0A%20%20%20%20%20%20%20%20var%20popup_da3ade75ae5e48e3b97f98c9f7261562%20%3D%20L.popup%28%7B%22maxWidth%22%3A%20%22100%25%22%7D%29%3B%0A%0A%20%20%20%20%20%20%20%20%0A%20%20%20%20%20%20%20%20%20%20%20%20var%20html_282c5272370747fba1066e23357edd15%20%3D%20%24%28%60%3Cdiv%20id%3D%22html_282c5272370747fba1066e23357edd15%22%20style%3D%22width%3A%20100.0%25%3B%20height%3A%20100.0%25%3B%22%3EBenin%3C/div%3E%60%29%5B0%5D%3B%0A%20%20%20%20%20%20%20%20%20%20%20%20popup_da3ade75ae5e48e3b97f98c9f7261562.setContent%28html_282c5272370747fba1066e23357edd15%29%3B%0A%20%20%20%20%20%20%20%20%0A%0A%20%20%20%20%20%20%20%20circle_marker_c30697edc8f549178e5020819ba9ea82.bindPopup%28popup_da3ade75ae5e48e3b97f98c9f7261562%29%0A%20%20%20%20%20%20%20%20%3B%0A%0A%20%20%20%20%20%20%20%20%0A%20%20%20%20%0A%20%20%20%20%0A%20%20%20%20%20%20%20%20%20%20%20%20var%20circle_marker_da05e4f326634858ae7d6cff7acb76e9%20%3D%20L.circleMarker%28%0A%20%20%20%20%20%20%20%20%20%20%20%20%20%20%20%20%5B12.5%2C%20-1.66667%5D%2C%0A%20%20%20%20%20%20%20%20%20%20%20%20%20%20%20%20%7B%22bubblingMouseEvents%22%3A%20true%2C%20%22color%22%3A%20%22%233388ff%22%2C%20%22dashArray%22%3A%20null%2C%20%22dashOffset%22%3A%20null%2C%20%22fill%22%3A%20true%2C%20%22fillColor%22%3A%20%22blue%22%2C%20%22fillOpacity%22%3A%200.2%2C%20%22fillRule%22%3A%20%22evenodd%22%2C%20%22lineCap%22%3A%20%22round%22%2C%20%22lineJoin%22%3A%20%22round%22%2C%20%22opacity%22%3A%201.0%2C%20%22radius%22%3A%2014.860883218047224%2C%20%22stroke%22%3A%20true%2C%20%22weight%22%3A%203%7D%0A%20%20%20%20%20%20%20%20%20%20%20%20%29.addTo%28map_adb6d74cb18349f3821b952856c762ca%29%3B%0A%20%20%20%20%20%20%20%20%0A%20%20%20%20%0A%20%20%20%20%20%20%20%20var%20popup_028d49463a74406ea1f1c88198ca2dde%20%3D%20L.popup%28%7B%22maxWidth%22%3A%20%22100%25%22%7D%29%3B%0A%0A%20%20%20%20%20%20%20%20%0A%20%20%20%20%20%20%20%20%20%20%20%20var%20html_0b2bd9d7caff4be39439ca773e671cb9%20%3D%20%24%28%60%3Cdiv%20id%3D%22html_0b2bd9d7caff4be39439ca773e671cb9%22%20style%3D%22width%3A%20100.0%25%3B%20height%3A%20100.0%25%3B%22%3EBurkina%20Faso%3C/div%3E%60%29%5B0%5D%3B%0A%20%20%20%20%20%20%20%20%20%20%20%20popup_028d49463a74406ea1f1c88198ca2dde.setContent%28html_0b2bd9d7caff4be39439ca773e671cb9%29%3B%0A%20%20%20%20%20%20%20%20%0A%0A%20%20%20%20%20%20%20%20circle_marker_da05e4f326634858ae7d6cff7acb76e9.bindPopup%28popup_028d49463a74406ea1f1c88198ca2dde%29%0A%20%20%20%20%20%20%20%20%3B%0A%0A%20%20%20%20%20%20%20%20%0A%20%20%20%20%0A%20%20%20%20%0A%20%20%20%20%20%20%20%20%20%20%20%20var%20circle_marker_8b44e9058fa845309c393bb599a0071a%20%3D%20L.circleMarker%28%0A%20%20%20%20%20%20%20%20%20%20%20%20%20%20%20%20%5B24.0%2C%2090.0%5D%2C%0A%20%20%20%20%20%20%20%20%20%20%20%20%20%20%20%20%7B%22bubblingMouseEvents%22%3A%20true%2C%20%22color%22%3A%20%22%233388ff%22%2C%20%22dashArray%22%3A%20null%2C%20%22dashOffset%22%3A%20null%2C%20%22fill%22%3A%20true%2C%20%22fillColor%22%3A%20%22red%22%2C%20%22fillOpacity%22%3A%200.2%2C%20%22fillRule%22%3A%20%22evenodd%22%2C%20%22lineCap%22%3A%20%22round%22%2C%20%22lineJoin%22%3A%20%22round%22%2C%20%22opacity%22%3A%201.0%2C%20%22radius%22%3A%2045.07390171903687%2C%20%22stroke%22%3A%20true%2C%20%22weight%22%3A%203%7D%0A%20%20%20%20%20%20%20%20%20%20%20%20%29.addTo%28map_adb6d74cb18349f3821b952856c762ca%29%3B%0A%20%20%20%20%20%20%20%20%0A%20%20%20%20%0A%20%20%20%20%20%20%20%20var%20popup_009119bee6cd45bc8840705bb9924c83%20%3D%20L.popup%28%7B%22maxWidth%22%3A%20%22100%25%22%7D%29%3B%0A%0A%20%20%20%20%20%20%20%20%0A%20%20%20%20%20%20%20%20%20%20%20%20var%20html_cb652a3129ff4b55a587653c9113f67e%20%3D%20%24%28%60%3Cdiv%20id%3D%22html_cb652a3129ff4b55a587653c9113f67e%22%20style%3D%22width%3A%20100.0%25%3B%20height%3A%20100.0%25%3B%22%3EBangladesh%3C/div%3E%60%29%5B0%5D%3B%0A%20%20%20%20%20%20%20%20%20%20%20%20popup_009119bee6cd45bc8840705bb9924c83.setContent%28html_cb652a3129ff4b55a587653c9113f67e%29%3B%0A%20%20%20%20%20%20%20%20%0A%0A%20%20%20%20%20%20%20%20circle_marker_8b44e9058fa845309c393bb599a0071a.bindPopup%28popup_009119bee6cd45bc8840705bb9924c83%29%0A%20%20%20%20%20%20%20%20%3B%0A%0A%20%20%20%20%20%20%20%20%0A%20%20%20%20%0A%20%20%20%20%0A%20%20%20%20%20%20%20%20%20%20%20%20var%20circle_marker_698fc8d6f4864425ad95871cf6646515%20%3D%20L.circleMarker%28%0A%20%20%20%20%20%20%20%20%20%20%20%20%20%20%20%20%5B42.66667%2C%2025.25%5D%2C%0A%20%20%20%20%20%20%20%20%20%20%20%20%20%20%20%20%7B%22bubblingMouseEvents%22%3A%20true%2C%20%22color%22%3A%20%22%233388ff%22%2C%20%22dashArray%22%3A%20null%2C%20%22dashOffset%22%3A%20null%2C%20%22fill%22%3A%20true%2C%20%22fillColor%22%3A%20%22black%22%2C%20%22fillOpacity%22%3A%200.2%2C%20%22fillRule%22%3A%20%22evenodd%22%2C%20%22lineCap%22%3A%20%22round%22%2C%20%22lineJoin%22%3A%20%22round%22%2C%20%22opacity%22%3A%201.0%2C%20%22radius%22%3A%202.119093372019701%2C%20%22stroke%22%3A%20true%2C%20%22weight%22%3A%203%7D%0A%20%20%20%20%20%20%20%20%20%20%20%20%29.addTo%28map_adb6d74cb18349f3821b952856c762ca%29%3B%0A%20%20%20%20%20%20%20%20%0A%20%20%20%20%0A%20%20%20%20%20%20%20%20var%20popup_8c8a8e0a9e6f44f8a72859f30b7b67e8%20%3D%20L.popup%28%7B%22maxWidth%22%3A%20%22100%25%22%7D%29%3B%0A%0A%20%20%20%20%20%20%20%20%0A%20%20%20%20%20%20%20%20%20%20%20%20var%20html_6af18d9cde35483491350c91d417d109%20%3D%20%24%28%60%3Cdiv%20id%3D%22html_6af18d9cde35483491350c91d417d109%22%20style%3D%22width%3A%20100.0%25%3B%20height%3A%20100.0%25%3B%22%3EBulgaria%3C/div%3E%60%29%5B0%5D%3B%0A%20%20%20%20%20%20%20%20%20%20%20%20popup_8c8a8e0a9e6f44f8a72859f30b7b67e8.setContent%28html_6af18d9cde35483491350c91d417d109%29%3B%0A%20%20%20%20%20%20%20%20%0A%0A%20%20%20%20%20%20%20%20circle_marker_698fc8d6f4864425ad95871cf6646515.bindPopup%28popup_8c8a8e0a9e6f44f8a72859f30b7b67e8%29%0A%20%20%20%20%20%20%20%20%3B%0A%0A%20%20%20%20%20%20%20%20%0A%20%20%20%20%0A%20%20%20%20%0A%20%20%20%20%20%20%20%20%20%20%20%20var%20circle_marker_75b2750ecd5d4b5db27f119b57532b54%20%3D%20L.circleMarker%28%0A%20%20%20%20%20%20%20%20%20%20%20%20%20%20%20%20%5B44.25%2C%2017.83333%5D%2C%0A%20%20%20%20%20%20%20%20%20%20%20%20%20%20%20%20%7B%22bubblingMouseEvents%22%3A%20true%2C%20%22color%22%3A%20%22%233388ff%22%2C%20%22dashArray%22%3A%20null%2C%20%22dashOffset%22%3A%20null%2C%20%22fill%22%3A%20true%2C%20%22fillColor%22%3A%20%22black%22%2C%20%22fillOpacity%22%3A%200.2%2C%20%22fillRule%22%3A%20%22evenodd%22%2C%20%22lineCap%22%3A%20%22round%22%2C%20%22lineJoin%22%3A%20%22round%22%2C%20%22opacity%22%3A%201.0%2C%20%22radius%22%3A%200.217194671049816%2C%20%22stroke%22%3A%20true%2C%20%22weight%22%3A%203%7D%0A%20%20%20%20%20%20%20%20%20%20%20%20%29.addTo%28map_adb6d74cb18349f3821b952856c762ca%29%3B%0A%20%20%20%20%20%20%20%20%0A%20%20%20%20%0A%20%20%20%20%20%20%20%20var%20popup_1a8f8a9b65b84d149c5b7b83141dc1e0%20%3D%20L.popup%28%7B%22maxWidth%22%3A%20%22100%25%22%7D%29%3B%0A%0A%20%20%20%20%20%20%20%20%0A%20%20%20%20%20%20%20%20%20%20%20%20var%20html_5ef9755c5ed64428b78f7f1be4575083%20%3D%20%24%28%60%3Cdiv%20id%3D%22html_5ef9755c5ed64428b78f7f1be4575083%22%20style%3D%22width%3A%20100.0%25%3B%20height%3A%20100.0%25%3B%22%3EBosnia%20and%20Herzegovina%3C/div%3E%60%29%5B0%5D%3B%0A%20%20%20%20%20%20%20%20%20%20%20%20popup_1a8f8a9b65b84d149c5b7b83141dc1e0.setContent%28html_5ef9755c5ed64428b78f7f1be4575083%29%3B%0A%20%20%20%20%20%20%20%20%0A%0A%20%20%20%20%20%20%20%20circle_marker_75b2750ecd5d4b5db27f119b57532b54.bindPopup%28popup_1a8f8a9b65b84d149c5b7b83141dc1e0%29%0A%20%20%20%20%20%20%20%20%3B%0A%0A%20%20%20%20%20%20%20%20%0A%20%20%20%20%0A%20%20%20%20%0A%20%20%20%20%20%20%20%20%20%20%20%20var%20circle_marker_f658670f15684cdf83ac8e61e944db16%20%3D%20L.circleMarker%28%0A%20%20%20%20%20%20%20%20%20%20%20%20%20%20%20%20%5B53.0%2C%2028.0%5D%2C%0A%20%20%20%20%20%20%20%20%20%20%20%20%20%20%20%20%7B%22bubblingMouseEvents%22%3A%20true%2C%20%22color%22%3A%20%22%233388ff%22%2C%20%22dashArray%22%3A%20null%2C%20%22dashOffset%22%3A%20null%2C%20%22fill%22%3A%20true%2C%20%22fillColor%22%3A%20%22black%22%2C%20%22fillOpacity%22%3A%200.2%2C%20%22fillRule%22%3A%20%22evenodd%22%2C%20%22lineCap%22%3A%20%22round%22%2C%20%22lineJoin%22%3A%20%22round%22%2C%20%22opacity%22%3A%201.0%2C%20%22stroke%22%3A%20true%2C%20%22weight%22%3A%203%7D%0A%20%20%20%20%20%20%20%20%20%20%20%20%29.addTo%28map_adb6d74cb18349f3821b952856c762ca%29%3B%0A%20%20%20%20%20%20%20%20%0A%20%20%20%20%0A%20%20%20%20%20%20%20%20var%20popup_cc082e4190ad46ceb02a218b386397e2%20%3D%20L.popup%28%7B%22maxWidth%22%3A%20%22100%25%22%7D%29%3B%0A%0A%20%20%20%20%20%20%20%20%0A%20%20%20%20%20%20%20%20%20%20%20%20var%20html_9e76470a927b433a8c3ac013c1a47314%20%3D%20%24%28%60%3Cdiv%20id%3D%22html_9e76470a927b433a8c3ac013c1a47314%22%20style%3D%22width%3A%20100.0%25%3B%20height%3A%20100.0%25%3B%22%3EBelarus%3C/div%3E%60%29%5B0%5D%3B%0A%20%20%20%20%20%20%20%20%20%20%20%20popup_cc082e4190ad46ceb02a218b386397e2.setContent%28html_9e76470a927b433a8c3ac013c1a47314%29%3B%0A%20%20%20%20%20%20%20%20%0A%0A%20%20%20%20%20%20%20%20circle_marker_f658670f15684cdf83ac8e61e944db16.bindPopup%28popup_cc082e4190ad46ceb02a218b386397e2%29%0A%20%20%20%20%20%20%20%20%3B%0A%0A%20%20%20%20%20%20%20%20%0A%20%20%20%20%0A%20%20%20%20%0A%20%20%20%20%20%20%20%20%20%20%20%20var%20circle_marker_cf9c52ba1e1f4fa68bcac1dbaeb94389%20%3D%20L.circleMarker%28%0A%20%20%20%20%20%20%20%20%20%20%20%20%20%20%20%20%5B17.49952%2C%20-88.19756%5D%2C%0A%20%20%20%20%20%20%20%20%20%20%20%20%20%20%20%20%7B%22bubblingMouseEvents%22%3A%20true%2C%20%22color%22%3A%20%22%233388ff%22%2C%20%22dashArray%22%3A%20null%2C%20%22dashOffset%22%3A%20null%2C%20%22fill%22%3A%20true%2C%20%22fillColor%22%3A%20%22green%22%2C%20%22fillOpacity%22%3A%200.2%2C%20%22fillRule%22%3A%20%22evenodd%22%2C%20%22lineCap%22%3A%20%22round%22%2C%20%22lineJoin%22%3A%20%22round%22%2C%20%22opacity%22%3A%201.0%2C%20%22radius%22%3A%201.1195005649268066%2C%20%22stroke%22%3A%20true%2C%20%22weight%22%3A%203%7D%0A%20%20%20%20%20%20%20%20%20%20%20%20%29.addTo%28map_adb6d74cb18349f3821b952856c762ca%29%3B%0A%20%20%20%20%20%20%20%20%0A%20%20%20%20%0A%20%20%20%20%20%20%20%20var%20popup_4a3a3694b6354e7db6d4ed86722289bd%20%3D%20L.popup%28%7B%22maxWidth%22%3A%20%22100%25%22%7D%29%3B%0A%0A%20%20%20%20%20%20%20%20%0A%20%20%20%20%20%20%20%20%20%20%20%20var%20html_ce161872f9934c22a96a65d148e4510b%20%3D%20%24%28%60%3Cdiv%20id%3D%22html_ce161872f9934c22a96a65d148e4510b%22%20style%3D%22width%3A%20100.0%25%3B%20height%3A%20100.0%25%3B%22%3EBelize%3C/div%3E%60%29%5B0%5D%3B%0A%20%20%20%20%20%20%20%20%20%20%20%20popup_4a3a3694b6354e7db6d4ed86722289bd.setContent%28html_ce161872f9934c22a96a65d148e4510b%29%3B%0A%20%20%20%20%20%20%20%20%0A%0A%20%20%20%20%20%20%20%20circle_marker_cf9c52ba1e1f4fa68bcac1dbaeb94389.bindPopup%28popup_4a3a3694b6354e7db6d4ed86722289bd%29%0A%20%20%20%20%20%20%20%20%3B%0A%0A%20%20%20%20%20%20%20%20%0A%20%20%20%20%0A%20%20%20%20%0A%20%20%20%20%20%20%20%20%20%20%20%20var%20circle_marker_b06318e9e6074ec9b155084e3f382dea%20%3D%20L.circleMarker%28%0A%20%20%20%20%20%20%20%20%20%20%20%20%20%20%20%20%5B-17.0%2C%20-65.0%5D%2C%0A%20%20%20%20%20%20%20%20%20%20%20%20%20%20%20%20%7B%22bubblingMouseEvents%22%3A%20true%2C%20%22color%22%3A%20%22%233388ff%22%2C%20%22dashArray%22%3A%20null%2C%20%22dashOffset%22%3A%20null%2C%20%22fill%22%3A%20true%2C%20%22fillColor%22%3A%20%22green%22%2C%20%22fillOpacity%22%3A%200.2%2C%20%22fillRule%22%3A%20%22evenodd%22%2C%20%22lineCap%22%3A%20%22round%22%2C%20%22lineJoin%22%3A%20%22round%22%2C%20%22opacity%22%3A%201.0%2C%20%22radius%22%3A%205.0521846256177705%2C%20%22stroke%22%3A%20true%2C%20%22weight%22%3A%203%7D%0A%20%20%20%20%20%20%20%20%20%20%20%20%29.addTo%28map_adb6d74cb18349f3821b952856c762ca%29%3B%0A%20%20%20%20%20%20%20%20%0A%20%20%20%20%0A%20%20%20%20%20%20%20%20var%20popup_9e95972d51ec48eca4103831a8a8bd49%20%3D%20L.popup%28%7B%22maxWidth%22%3A%20%22100%25%22%7D%29%3B%0A%0A%20%20%20%20%20%20%20%20%0A%20%20%20%20%20%20%20%20%20%20%20%20var%20html_c0dd8b6a95b74dda941f7c6804d5c1b8%20%3D%20%24%28%60%3Cdiv%20id%3D%22html_c0dd8b6a95b74dda941f7c6804d5c1b8%22%20style%3D%22width%3A%20100.0%25%3B%20height%3A%20100.0%25%3B%22%3EBolivia%3C/div%3E%60%29%5B0%5D%3B%0A%20%20%20%20%20%20%20%20%20%20%20%20popup_9e95972d51ec48eca4103831a8a8bd49.setContent%28html_c0dd8b6a95b74dda941f7c6804d5c1b8%29%3B%0A%20%20%20%20%20%20%20%20%0A%0A%20%20%20%20%20%20%20%20circle_marker_b06318e9e6074ec9b155084e3f382dea.bindPopup%28popup_9e95972d51ec48eca4103831a8a8bd49%29%0A%20%20%20%20%20%20%20%20%3B%0A%0A%20%20%20%20%20%20%20%20%0A%20%20%20%20%0A%20%20%20%20%0A%20%20%20%20%20%20%20%20%20%20%20%20var%20circle_marker_92ffb3bf3df441bd8a9575cae17990c2%20%3D%20L.circleMarker%28%0A%20%20%20%20%20%20%20%20%20%20%20%20%20%20%20%20%5B-10.0%2C%20-55.0%5D%2C%0A%20%20%20%20%20%20%20%20%20%20%20%20%20%20%20%20%7B%22bubblingMouseEvents%22%3A%20true%2C%20%22color%22%3A%20%22%233388ff%22%2C%20%22dashArray%22%3A%20null%2C%20%22dashOffset%22%3A%20null%2C%20%22fill%22%3A%20true%2C%20%22fillColor%22%3A%20%22green%22%2C%20%22fillOpacity%22%3A%200.2%2C%20%22fillRule%22%3A%20%22evenodd%22%2C%20%22lineCap%22%3A%20%22round%22%2C%20%22lineJoin%22%3A%20%22round%22%2C%20%22opacity%22%3A%201.0%2C%20%22radius%22%3A%2015.284499774553087%2C%20%22stroke%22%3A%20true%2C%20%22weight%22%3A%203%7D%0A%20%20%20%20%20%20%20%20%20%20%20%20%29.addTo%28map_adb6d74cb18349f3821b952856c762ca%29%3B%0A%20%20%20%20%20%20%20%20%0A%20%20%20%20%0A%20%20%20%20%20%20%20%20var%20popup_aeb8d4c24907420a84e821fc990cd10d%20%3D%20L.popup%28%7B%22maxWidth%22%3A%20%22100%25%22%7D%29%3B%0A%0A%20%20%20%20%20%20%20%20%0A%20%20%20%20%20%20%20%20%20%20%20%20var%20html_82a617026cf34a31a47ff14e2feabf5e%20%3D%20%24%28%60%3Cdiv%20id%3D%22html_82a617026cf34a31a47ff14e2feabf5e%22%20style%3D%22width%3A%20100.0%25%3B%20height%3A%20100.0%25%3B%22%3EBrazil%3C/div%3E%60%29%5B0%5D%3B%0A%20%20%20%20%20%20%20%20%20%20%20%20popup_aeb8d4c24907420a84e821fc990cd10d.setContent%28html_82a617026cf34a31a47ff14e2feabf5e%29%3B%0A%20%20%20%20%20%20%20%20%0A%0A%20%20%20%20%20%20%20%20circle_marker_92ffb3bf3df441bd8a9575cae17990c2.bindPopup%28popup_aeb8d4c24907420a84e821fc990cd10d%29%0A%20%20%20%20%20%20%20%20%3B%0A%0A%20%20%20%20%20%20%20%20%0A%20%20%20%20%0A%20%20%20%20%0A%20%20%20%20%20%20%20%20%20%20%20%20var%20circle_marker_c7aad2cbbf2044e4886b22c4b61efccb%20%3D%20L.circleMarker%28%0A%20%20%20%20%20%20%20%20%20%20%20%20%20%20%20%20%5B27.5%2C%2090.5%5D%2C%0A%20%20%20%20%20%20%20%20%20%20%20%20%20%20%20%20%7B%22bubblingMouseEvents%22%3A%20true%2C%20%22color%22%3A%20%22%233388ff%22%2C%20%22dashArray%22%3A%20null%2C%20%22dashOffset%22%3A%20null%2C%20%22fill%22%3A%20true%2C%20%22fillColor%22%3A%20%22red%22%2C%20%22fillOpacity%22%3A%200.2%2C%20%22fillRule%22%3A%20%22evenodd%22%2C%20%22lineCap%22%3A%20%22round%22%2C%20%22lineJoin%22%3A%20%22round%22%2C%20%22opacity%22%3A%201.0%2C%20%22radius%22%3A%200.7206403952796807%2C%20%22stroke%22%3A%20true%2C%20%22weight%22%3A%203%7D%0A%20%20%20%20%20%20%20%20%20%20%20%20%29.addTo%28map_adb6d74cb18349f3821b952856c762ca%29%3B%0A%20%20%20%20%20%20%20%20%0A%20%20%20%20%0A%20%20%20%20%20%20%20%20var%20popup_6bd493980d6f4a4db1af44f30dbaf53d%20%3D%20L.popup%28%7B%22maxWidth%22%3A%20%22100%25%22%7D%29%3B%0A%0A%20%20%20%20%20%20%20%20%0A%20%20%20%20%20%20%20%20%20%20%20%20var%20html_32e23bdbbbbe4e03a8f654087f7468cd%20%3D%20%24%28%60%3Cdiv%20id%3D%22html_32e23bdbbbbe4e03a8f654087f7468cd%22%20style%3D%22width%3A%20100.0%25%3B%20height%3A%20100.0%25%3B%22%3EBhutan%3C/div%3E%60%29%5B0%5D%3B%0A%20%20%20%20%20%20%20%20%20%20%20%20popup_6bd493980d6f4a4db1af44f30dbaf53d.setContent%28html_32e23bdbbbbe4e03a8f654087f7468cd%29%3B%0A%20%20%20%20%20%20%20%20%0A%0A%20%20%20%20%20%20%20%20circle_marker_c7aad2cbbf2044e4886b22c4b61efccb.bindPopup%28popup_6bd493980d6f4a4db1af44f30dbaf53d%29%0A%20%20%20%20%20%20%20%20%3B%0A%0A%20%20%20%20%20%20%20%20%0A%20%20%20%20%0A%20%20%20%20%0A%20%20%20%20%20%20%20%20%20%20%20%20var%20circle_marker_b6a4b982b8774bf78ec727afa9be2017%20%3D%20L.circleMarker%28%0A%20%20%20%20%20%20%20%20%20%20%20%20%20%20%20%20%5B-22.0%2C%2024.0%5D%2C%0A%20%20%20%20%20%20%20%20%20%20%20%20%20%20%20%20%7B%22bubblingMouseEvents%22%3A%20true%2C%20%22color%22%3A%20%22%233388ff%22%2C%20%22dashArray%22%3A%20null%2C%20%22dashOffset%22%3A%20null%2C%20%22fill%22%3A%20true%2C%20%22fillColor%22%3A%20%22blue%22%2C%20%22fillOpacity%22%3A%200.2%2C%20%22fillRule%22%3A%20%22evenodd%22%2C%20%22lineCap%22%3A%20%22round%22%2C%20%22lineJoin%22%3A%20%22round%22%2C%20%22opacity%22%3A%201.0%2C%20%22radius%22%3A%202.9123934088869396%2C%20%22stroke%22%3A%20true%2C%20%22weight%22%3A%203%7D%0A%20%20%20%20%20%20%20%20%20%20%20%20%29.addTo%28map_adb6d74cb18349f3821b952856c762ca%29%3B%0A%20%20%20%20%20%20%20%20%0A%20%20%20%20%0A%20%20%20%20%20%20%20%20var%20popup_4954cb5c41f84a99a9e561b2af7bac0c%20%3D%20L.popup%28%7B%22maxWidth%22%3A%20%22100%25%22%7D%29%3B%0A%0A%20%20%20%20%20%20%20%20%0A%20%20%20%20%20%20%20%20%20%20%20%20var%20html_f0c25053d25045fb8d17bdbbee106913%20%3D%20%24%28%60%3Cdiv%20id%3D%22html_f0c25053d25045fb8d17bdbbee106913%22%20style%3D%22width%3A%20100.0%25%3B%20height%3A%20100.0%25%3B%22%3EBotswana%3C/div%3E%60%29%5B0%5D%3B%0A%20%20%20%20%20%20%20%20%20%20%20%20popup_4954cb5c41f84a99a9e561b2af7bac0c.setContent%28html_f0c25053d25045fb8d17bdbbee106913%29%3B%0A%20%20%20%20%20%20%20%20%0A%0A%20%20%20%20%20%20%20%20circle_marker_b6a4b982b8774bf78ec727afa9be2017.bindPopup%28popup_4954cb5c41f84a99a9e561b2af7bac0c%29%0A%20%20%20%20%20%20%20%20%3B%0A%0A%20%20%20%20%20%20%20%20%0A%20%20%20%20%0A%20%20%20%20%0A%20%20%20%20%20%20%20%20%20%20%20%20var%20circle_marker_243b0d97af194616bd97a6b6c23e7a82%20%3D%20L.circleMarker%28%0A%20%20%20%20%20%20%20%20%20%20%20%20%20%20%20%20%5B7.0%2C%2021.0%5D%2C%0A%20%20%20%20%20%20%20%20%20%20%20%20%20%20%20%20%7B%22bubblingMouseEvents%22%3A%20true%2C%20%22color%22%3A%20%22%233388ff%22%2C%20%22dashArray%22%3A%20null%2C%20%22dashOffset%22%3A%20null%2C%20%22fill%22%3A%20true%2C%20%22fillColor%22%3A%20%22blue%22%2C%20%22fillOpacity%22%3A%200.2%2C%20%22fillRule%22%3A%20%22evenodd%22%2C%20%22lineCap%22%3A%20%22round%22%2C%20%22lineJoin%22%3A%20%22round%22%2C%20%22opacity%22%3A%201.0%2C%20%22radius%22%3A%209.366573447847983%2C%20%22stroke%22%3A%20true%2C%20%22weight%22%3A%203%7D%0A%20%20%20%20%20%20%20%20%20%20%20%20%29.addTo%28map_adb6d74cb18349f3821b952856c762ca%29%3B%0A%20%20%20%20%20%20%20%20%0A%20%20%20%20%0A%20%20%20%20%20%20%20%20var%20popup_85ce0d7dba11485ba99d26b6a1c68b3f%20%3D%20L.popup%28%7B%22maxWidth%22%3A%20%22100%25%22%7D%29%3B%0A%0A%20%20%20%20%20%20%20%20%0A%20%20%20%20%20%20%20%20%20%20%20%20var%20html_efe77f670c6841b3af12cabfe99d4f1e%20%3D%20%24%28%60%3Cdiv%20id%3D%22html_efe77f670c6841b3af12cabfe99d4f1e%22%20style%3D%22width%3A%20100.0%25%3B%20height%3A%20100.0%25%3B%22%3ECentral%20African%20Republic%3C/div%3E%60%29%5B0%5D%3B%0A%20%20%20%20%20%20%20%20%20%20%20%20popup_85ce0d7dba11485ba99d26b6a1c68b3f.setContent%28html_efe77f670c6841b3af12cabfe99d4f1e%29%3B%0A%20%20%20%20%20%20%20%20%0A%0A%20%20%20%20%20%20%20%20circle_marker_243b0d97af194616bd97a6b6c23e7a82.bindPopup%28popup_85ce0d7dba11485ba99d26b6a1c68b3f%29%0A%20%20%20%20%20%20%20%20%3B%0A%0A%20%20%20%20%20%20%20%20%0A%20%20%20%20%0A%20%20%20%20%0A%20%20%20%20%20%20%20%20%20%20%20%20var%20circle_marker_5bedd728b6eb4c74b0ef1c5c65fcdab6%20%3D%20L.circleMarker%28%0A%20%20%20%20%20%20%20%20%20%20%20%20%20%20%20%20%5B60.10867%2C%20-113.64258%5D%2C%0A%20%20%20%20%20%20%20%20%20%20%20%20%20%20%20%20%7B%22bubblingMouseEvents%22%3A%20true%2C%20%22color%22%3A%20%22%233388ff%22%2C%20%22dashArray%22%3A%20null%2C%20%22dashOffset%22%3A%20null%2C%20%22fill%22%3A%20true%2C%20%22fillColor%22%3A%20%22green%22%2C%20%22fillOpacity%22%3A%200.2%2C%20%22fillRule%22%3A%20%22evenodd%22%2C%20%22lineCap%22%3A%20%22round%22%2C%20%22lineJoin%22%3A%20%22round%22%2C%20%22opacity%22%3A%201.0%2C%20%22radius%22%3A%201.9224051187434574%2C%20%22stroke%22%3A%20true%2C%20%22weight%22%3A%203%7D%0A%20%20%20%20%20%20%20%20%20%20%20%20%29.addTo%28map_adb6d74cb18349f3821b952856c762ca%29%3B%0A%20%20%20%20%20%20%20%20%0A%20%20%20%20%0A%20%20%20%20%20%20%20%20var%20popup_f20dac4ca50e455c869f4aa675029e72%20%3D%20L.popup%28%7B%22maxWidth%22%3A%20%22100%25%22%7D%29%3B%0A%0A%20%20%20%20%20%20%20%20%0A%20%20%20%20%20%20%20%20%20%20%20%20var%20html_492a732f1a2e41598661d7de1f1d2f10%20%3D%20%24%28%60%3Cdiv%20id%3D%22html_492a732f1a2e41598661d7de1f1d2f10%22%20style%3D%22width%3A%20100.0%25%3B%20height%3A%20100.0%25%3B%22%3ECanada%3C/div%3E%60%29%5B0%5D%3B%0A%20%20%20%20%20%20%20%20%20%20%20%20popup_f20dac4ca50e455c869f4aa675029e72.setContent%28html_492a732f1a2e41598661d7de1f1d2f10%29%3B%0A%20%20%20%20%20%20%20%20%0A%0A%20%20%20%20%20%20%20%20circle_marker_5bedd728b6eb4c74b0ef1c5c65fcdab6.bindPopup%28popup_f20dac4ca50e455c869f4aa675029e72%29%0A%20%20%20%20%20%20%20%20%3B%0A%0A%20%20%20%20%20%20%20%20%0A%20%20%20%20%0A%20%20%20%20%0A%20%20%20%20%20%20%20%20%20%20%20%20var%20circle_marker_1af320bf6bf74b2faf34e42009d0b4b1%20%3D%20L.circleMarker%28%0A%20%20%20%20%20%20%20%20%20%20%20%20%20%20%20%20%5B47.00016%2C%208.01427%5D%2C%0A%20%20%20%20%20%20%20%20%20%20%20%20%20%20%20%20%7B%22bubblingMouseEvents%22%3A%20true%2C%20%22color%22%3A%20%22%233388ff%22%2C%20%22dashArray%22%3A%20null%2C%20%22dashOffset%22%3A%20null%2C%20%22fill%22%3A%20true%2C%20%22fillColor%22%3A%20%22black%22%2C%20%22fillOpacity%22%3A%200.2%2C%20%22fillRule%22%3A%20%22evenodd%22%2C%20%22lineCap%22%3A%20%22round%22%2C%20%22lineJoin%22%3A%20%22round%22%2C%20%22opacity%22%3A%201.0%2C%20%22radius%22%3A%201.2904780751862297%2C%20%22stroke%22%3A%20true%2C%20%22weight%22%3A%203%7D%0A%20%20%20%20%20%20%20%20%20%20%20%20%29.addTo%28map_adb6d74cb18349f3821b952856c762ca%29%3B%0A%20%20%20%20%20%20%20%20%0A%20%20%20%20%0A%20%20%20%20%20%20%20%20var%20popup_f45a45e9c17c4f31b5e90693f5e34e9b%20%3D%20L.popup%28%7B%22maxWidth%22%3A%20%22100%25%22%7D%29%3B%0A%0A%20%20%20%20%20%20%20%20%0A%20%20%20%20%20%20%20%20%20%20%20%20var%20html_3ec569471b2746279541baaf1a73b21e%20%3D%20%24%28%60%3Cdiv%20id%3D%22html_3ec569471b2746279541baaf1a73b21e%22%20style%3D%22width%3A%20100.0%25%3B%20height%3A%20100.0%25%3B%22%3ESwitzerland%3C/div%3E%60%29%5B0%5D%3B%0A%20%20%20%20%20%20%20%20%20%20%20%20popup_f45a45e9c17c4f31b5e90693f5e34e9b.setContent%28html_3ec569471b2746279541baaf1a73b21e%29%3B%0A%20%20%20%20%20%20%20%20%0A%0A%20%20%20%20%20%20%20%20circle_marker_1af320bf6bf74b2faf34e42009d0b4b1.bindPopup%28popup_f45a45e9c17c4f31b5e90693f5e34e9b%29%0A%20%20%20%20%20%20%20%20%3B%0A%0A%20%20%20%20%20%20%20%20%0A%20%20%20%20%0A%20%20%20%20%0A%20%20%20%20%20%20%20%20%20%20%20%20var%20circle_marker_9d556962e72a4e9aa91fd873b6972035%20%3D%20L.circleMarker%28%0A%20%20%20%20%20%20%20%20%20%20%20%20%20%20%20%20%5B-33.45694%2C%20-70.64827%5D%2C%0A%20%20%20%20%20%20%20%20%20%20%20%20%20%20%20%20%7B%22bubblingMouseEvents%22%3A%20true%2C%20%22color%22%3A%20%22%233388ff%22%2C%20%22dashArray%22%3A%20null%2C%20%22dashOffset%22%3A%20null%2C%20%22fill%22%3A%20true%2C%20%22fillColor%22%3A%20%22green%22%2C%20%22fillOpacity%22%3A%200.2%2C%20%22fillRule%22%3A%20%22evenodd%22%2C%20%22lineCap%22%3A%20%22round%22%2C%20%22lineJoin%22%3A%20%22round%22%2C%20%22opacity%22%3A%201.0%2C%20%22radius%22%3A%202.123175164028212%2C%20%22stroke%22%3A%20true%2C%20%22weight%22%3A%203%7D%0A%20%20%20%20%20%20%20%20%20%20%20%20%29.addTo%28map_adb6d74cb18349f3821b952856c762ca%29%3B%0A%20%20%20%20%20%20%20%20%0A%20%20%20%20%0A%20%20%20%20%20%20%20%20var%20popup_0f460793dbd140bca90272db4ee33fea%20%3D%20L.popup%28%7B%22maxWidth%22%3A%20%22100%25%22%7D%29%3B%0A%0A%20%20%20%20%20%20%20%20%0A%20%20%20%20%20%20%20%20%20%20%20%20var%20html_61b46badd2534785b40a78f2ea7e02f3%20%3D%20%24%28%60%3Cdiv%20id%3D%22html_61b46badd2534785b40a78f2ea7e02f3%22%20style%3D%22width%3A%20100.0%25%3B%20height%3A%20100.0%25%3B%22%3EChile%3C/div%3E%60%29%5B0%5D%3B%0A%20%20%20%20%20%20%20%20%20%20%20%20popup_0f460793dbd140bca90272db4ee33fea.setContent%28html_61b46badd2534785b40a78f2ea7e02f3%29%3B%0A%20%20%20%20%20%20%20%20%0A%0A%20%20%20%20%20%20%20%20circle_marker_9d556962e72a4e9aa91fd873b6972035.bindPopup%28popup_0f460793dbd140bca90272db4ee33fea%29%0A%20%20%20%20%20%20%20%20%3B%0A%0A%20%20%20%20%20%20%20%20%0A%20%20%20%20%0A%20%20%20%20%0A%20%20%20%20%20%20%20%20%20%20%20%20var%20circle_marker_8fee42b701034ee6bddb71322b7da399%20%3D%20L.circleMarker%28%0A%20%20%20%20%20%20%20%20%20%20%20%20%20%20%20%20%5B35.0%2C%20105.0%5D%2C%0A%20%20%20%20%20%20%20%20%20%20%20%20%20%20%20%20%7B%22bubblingMouseEvents%22%3A%20true%2C%20%22color%22%3A%20%22%233388ff%22%2C%20%22dashArray%22%3A%20null%2C%20%22dashOffset%22%3A%20null%2C%20%22fill%22%3A%20true%2C%20%22fillColor%22%3A%20%22red%22%2C%20%22fillOpacity%22%3A%200.2%2C%20%22fillRule%22%3A%20%22evenodd%22%2C%20%22lineCap%22%3A%20%22round%22%2C%20%22lineJoin%22%3A%20%22round%22%2C%20%22opacity%22%3A%201.0%2C%20%22radius%22%3A%2052.225656891999506%2C%20%22stroke%22%3A%20true%2C%20%22weight%22%3A%203%7D%0A%20%20%20%20%20%20%20%20%20%20%20%20%29.addTo%28map_adb6d74cb18349f3821b952856c762ca%29%3B%0A%20%20%20%20%20%20%20%20%0A%20%20%20%20%0A%20%20%20%20%20%20%20%20var%20popup_d167aa2e55f94ab191003930f8e1e86b%20%3D%20L.popup%28%7B%22maxWidth%22%3A%20%22100%25%22%7D%29%3B%0A%0A%20%20%20%20%20%20%20%20%0A%20%20%20%20%20%20%20%20%20%20%20%20var%20html_bad426f93a00410f980a824de6e57a20%20%3D%20%24%28%60%3Cdiv%20id%3D%22html_bad426f93a00410f980a824de6e57a20%22%20style%3D%22width%3A%20100.0%25%3B%20height%3A%20100.0%25%3B%22%3EChina%3C/div%3E%60%29%5B0%5D%3B%0A%20%20%20%20%20%20%20%20%20%20%20%20popup_d167aa2e55f94ab191003930f8e1e86b.setContent%28html_bad426f93a00410f980a824de6e57a20%29%3B%0A%20%20%20%20%20%20%20%20%0A%0A%20%20%20%20%20%20%20%20circle_marker_8fee42b701034ee6bddb71322b7da399.bindPopup%28popup_d167aa2e55f94ab191003930f8e1e86b%29%0A%20%20%20%20%20%20%20%20%3B%0A%0A%20%20%20%20%20%20%20%20%0A%20%20%20%20%0A%20%20%20%20%0A%20%20%20%20%20%20%20%20%20%20%20%20var%20circle_marker_51ab8f9eef8943cfbbde0dcddce7fb02%20%3D%20L.circleMarker%28%0A%20%20%20%20%20%20%20%20%20%20%20%20%20%20%20%20%5B8.0%2C%20-5.5%5D%2C%0A%20%20%20%20%20%20%20%20%20%20%20%20%20%20%20%20%7B%22bubblingMouseEvents%22%3A%20true%2C%20%22color%22%3A%20%22%233388ff%22%2C%20%22dashArray%22%3A%20null%2C%20%22dashOffset%22%3A%20null%2C%20%22fill%22%3A%20true%2C%20%22fillColor%22%3A%20%22blue%22%2C%20%22fillOpacity%22%3A%200.2%2C%20%22fillRule%22%3A%20%22evenodd%22%2C%20%22lineCap%22%3A%20%22round%22%2C%20%22lineJoin%22%3A%20%22round%22%2C%20%22opacity%22%3A%201.0%2C%20%22radius%22%3A%2015.133268463096499%2C%20%22stroke%22%3A%20true%2C%20%22weight%22%3A%203%7D%0A%20%20%20%20%20%20%20%20%20%20%20%20%29.addTo%28map_adb6d74cb18349f3821b952856c762ca%29%3B%0A%20%20%20%20%20%20%20%20%0A%20%20%20%20%0A%20%20%20%20%20%20%20%20var%20popup_5e2e30a220944779aa6d73485cc226e3%20%3D%20L.popup%28%7B%22maxWidth%22%3A%20%22100%25%22%7D%29%3B%0A%0A%20%20%20%20%20%20%20%20%0A%20%20%20%20%20%20%20%20%20%20%20%20var%20html_eccc0bf223ab41bf90ca226334a92a33%20%3D%20%24%28%60%3Cdiv%20id%3D%22html_eccc0bf223ab41bf90ca226334a92a33%22%20style%3D%22width%3A%20100.0%25%3B%20height%3A%20100.0%25%3B%22%3ECote%20d%27Ivoire%3C/div%3E%60%29%5B0%5D%3B%0A%20%20%20%20%20%20%20%20%20%20%20%20popup_5e2e30a220944779aa6d73485cc226e3.setContent%28html_eccc0bf223ab41bf90ca226334a92a33%29%3B%0A%20%20%20%20%20%20%20%20%0A%0A%20%20%20%20%20%20%20%20circle_marker_51ab8f9eef8943cfbbde0dcddce7fb02.bindPopup%28popup_5e2e30a220944779aa6d73485cc226e3%29%0A%20%20%20%20%20%20%20%20%3B%0A%0A%20%20%20%20%20%20%20%20%0A%20%20%20%20%0A%20%20%20%20%0A%20%20%20%20%20%20%20%20%20%20%20%20var%20circle_marker_46ddfb2272d249fb994235840df6a258%20%3D%20L.circleMarker%28%0A%20%20%20%20%20%20%20%20%20%20%20%20%20%20%20%20%5B6.0%2C%2012.5%5D%2C%0A%20%20%20%20%20%20%20%20%20%20%20%20%20%20%20%20%7B%22bubblingMouseEvents%22%3A%20true%2C%20%22color%22%3A%20%22%233388ff%22%2C%20%22dashArray%22%3A%20null%2C%20%22dashOffset%22%3A%20null%2C%20%22fill%22%3A%20true%2C%20%22fillColor%22%3A%20%22blue%22%2C%20%22fillOpacity%22%3A%200.2%2C%20%22fillRule%22%3A%20%22evenodd%22%2C%20%22lineCap%22%3A%20%22round%22%2C%20%22lineJoin%22%3A%20%22round%22%2C%20%22opacity%22%3A%201.0%2C%20%22radius%22%3A%2013.37047776795466%2C%20%22stroke%22%3A%20true%2C%20%22weight%22%3A%203%7D%0A%20%20%20%20%20%20%20%20%20%20%20%20%29.addTo%28map_adb6d74cb18349f3821b952856c762ca%29%3B%0A%20%20%20%20%20%20%20%20%0A%20%20%20%20%0A%20%20%20%20%20%20%20%20var%20popup_3c76d8e7eaa04715958a09e802c4571f%20%3D%20L.popup%28%7B%22maxWidth%22%3A%20%22100%25%22%7D%29%3B%0A%0A%20%20%20%20%20%20%20%20%0A%20%20%20%20%20%20%20%20%20%20%20%20var%20html_438d98aa25ba41fb929c92d280c80203%20%3D%20%24%28%60%3Cdiv%20id%3D%22html_438d98aa25ba41fb929c92d280c80203%22%20style%3D%22width%3A%20100.0%25%3B%20height%3A%20100.0%25%3B%22%3ECameroon%3C/div%3E%60%29%5B0%5D%3B%0A%20%20%20%20%20%20%20%20%20%20%20%20popup_3c76d8e7eaa04715958a09e802c4571f.setContent%28html_438d98aa25ba41fb929c92d280c80203%29%3B%0A%20%20%20%20%20%20%20%20%0A%0A%20%20%20%20%20%20%20%20circle_marker_46ddfb2272d249fb994235840df6a258.bindPopup%28popup_3c76d8e7eaa04715958a09e802c4571f%29%0A%20%20%20%20%20%20%20%20%3B%0A%0A%20%20%20%20%20%20%20%20%0A%20%20%20%20%0A%20%20%20%20%0A%20%20%20%20%20%20%20%20%20%20%20%20var%20circle_marker_960aa1ad9f354dd59aa66e22237bc35a%20%3D%20L.circleMarker%28%0A%20%20%20%20%20%20%20%20%20%20%20%20%20%20%20%20%5B-2.5%2C%2023.5%5D%2C%0A%20%20%20%20%20%20%20%20%20%20%20%20%20%20%20%20%7B%22bubblingMouseEvents%22%3A%20true%2C%20%22color%22%3A%20%22%233388ff%22%2C%20%22dashArray%22%3A%20null%2C%20%22dashOffset%22%3A%20null%2C%20%22fill%22%3A%20true%2C%20%22fillColor%22%3A%20%22blue%22%2C%20%22fillOpacity%22%3A%200.2%2C%20%22fillRule%22%3A%20%22evenodd%22%2C%20%22lineCap%22%3A%20%22round%22%2C%20%22lineJoin%22%3A%20%22round%22%2C%20%22opacity%22%3A%201.0%2C%20%22radius%22%3A%2042.45893492268982%2C%20%22stroke%22%3A%20true%2C%20%22weight%22%3A%203%7D%0A%20%20%20%20%20%20%20%20%20%20%20%20%29.addTo%28map_adb6d74cb18349f3821b952856c762ca%29%3B%0A%20%20%20%20%20%20%20%20%0A%20%20%20%20%0A%20%20%20%20%20%20%20%20var%20popup_22eadcf42b924abf82b40d2d4f6d6519%20%3D%20L.popup%28%7B%22maxWidth%22%3A%20%22100%25%22%7D%29%3B%0A%0A%20%20%20%20%20%20%20%20%0A%20%20%20%20%20%20%20%20%20%20%20%20var%20html_026d018f21554b67a5fb9c8e66ac3a23%20%3D%20%24%28%60%3Cdiv%20id%3D%22html_026d018f21554b67a5fb9c8e66ac3a23%22%20style%3D%22width%3A%20100.0%25%3B%20height%3A%20100.0%25%3B%22%3ECongo%2C%20Dem.%20Rep.%3C/div%3E%60%29%5B0%5D%3B%0A%20%20%20%20%20%20%20%20%20%20%20%20popup_22eadcf42b924abf82b40d2d4f6d6519.setContent%28html_026d018f21554b67a5fb9c8e66ac3a23%29%3B%0A%20%20%20%20%20%20%20%20%0A%0A%20%20%20%20%20%20%20%20circle_marker_960aa1ad9f354dd59aa66e22237bc35a.bindPopup%28popup_22eadcf42b924abf82b40d2d4f6d6519%29%0A%20%20%20%20%20%20%20%20%3B%0A%0A%20%20%20%20%20%20%20%20%0A%20%20%20%20%0A%20%20%20%20%0A%20%20%20%20%20%20%20%20%20%20%20%20var%20circle_marker_5fd4c1a070eb409e8c2efb9fbd27f41b%20%3D%20L.circleMarker%28%0A%20%20%20%20%20%20%20%20%20%20%20%20%20%20%20%20%5B-1.0%2C%2015.5%5D%2C%0A%20%20%20%20%20%20%20%20%20%20%20%20%20%20%20%20%7B%22bubblingMouseEvents%22%3A%20true%2C%20%22color%22%3A%20%22%233388ff%22%2C%20%22dashArray%22%3A%20null%2C%20%22dashOffset%22%3A%20null%2C%20%22fill%22%3A%20true%2C%20%22fillColor%22%3A%20%22blue%22%2C%20%22fillOpacity%22%3A%200.2%2C%20%22fillRule%22%3A%20%22evenodd%22%2C%20%22lineCap%22%3A%20%22round%22%2C%20%22lineJoin%22%3A%20%22round%22%2C%20%22opacity%22%3A%201.0%2C%20%22radius%22%3A%206.681874714978711%2C%20%22stroke%22%3A%20true%2C%20%22weight%22%3A%203%7D%0A%20%20%20%20%20%20%20%20%20%20%20%20%29.addTo%28map_adb6d74cb18349f3821b952856c762ca%29%3B%0A%20%20%20%20%20%20%20%20%0A%20%20%20%20%0A%20%20%20%20%20%20%20%20var%20popup_91c77df7fb744166b84323285dc174f7%20%3D%20L.popup%28%7B%22maxWidth%22%3A%20%22100%25%22%7D%29%3B%0A%0A%20%20%20%20%20%20%20%20%0A%20%20%20%20%20%20%20%20%20%20%20%20var%20html_cb5681c6dd6240179772a1b1de90ae74%20%3D%20%24%28%60%3Cdiv%20id%3D%22html_cb5681c6dd6240179772a1b1de90ae74%22%20style%3D%22width%3A%20100.0%25%3B%20height%3A%20100.0%25%3B%22%3ECongo%2C%20Rep.%3C/div%3E%60%29%5B0%5D%3B%0A%20%20%20%20%20%20%20%20%20%20%20%20popup_91c77df7fb744166b84323285dc174f7.setContent%28html_cb5681c6dd6240179772a1b1de90ae74%29%3B%0A%20%20%20%20%20%20%20%20%0A%0A%20%20%20%20%20%20%20%20circle_marker_5fd4c1a070eb409e8c2efb9fbd27f41b.bindPopup%28popup_91c77df7fb744166b84323285dc174f7%29%0A%20%20%20%20%20%20%20%20%3B%0A%0A%20%20%20%20%20%20%20%20%0A%20%20%20%20%0A%20%20%20%20%0A%20%20%20%20%20%20%20%20%20%20%20%20var%20circle_marker_6d0918d08bdc4191bbda88e4bc10f6aa%20%3D%20L.circleMarker%28%0A%20%20%20%20%20%20%20%20%20%20%20%20%20%20%20%20%5B4.0%2C%20-73.25%5D%2C%0A%20%20%20%20%20%20%20%20%20%20%20%20%20%20%20%20%7B%22bubblingMouseEvents%22%3A%20true%2C%20%22color%22%3A%20%22%233388ff%22%2C%20%22dashArray%22%3A%20null%2C%20%22dashOffset%22%3A%20null%2C%20%22fill%22%3A%20true%2C%20%22fillColor%22%3A%20%22green%22%2C%20%22fillOpacity%22%3A%200.2%2C%20%22fillRule%22%3A%20%22evenodd%22%2C%20%22lineCap%22%3A%20%22round%22%2C%20%22lineJoin%22%3A%20%22round%22%2C%20%22opacity%22%3A%201.0%2C%20%22radius%22%3A%209.002383384413296%2C%20%22stroke%22%3A%20true%2C%20%22weight%22%3A%203%7D%0A%20%20%20%20%20%20%20%20%20%20%20%20%29.addTo%28map_adb6d74cb18349f3821b952856c762ca%29%3B%0A%20%20%20%20%20%20%20%20%0A%20%20%20%20%0A%20%20%20%20%20%20%20%20var%20popup_62cec65441cd4cd9a91c5134d9338d22%20%3D%20L.popup%28%7B%22maxWidth%22%3A%20%22100%25%22%7D%29%3B%0A%0A%20%20%20%20%20%20%20%20%0A%20%20%20%20%20%20%20%20%20%20%20%20var%20html_2d8103e2952c406483449cbe18a48114%20%3D%20%24%28%60%3Cdiv%20id%3D%22html_2d8103e2952c406483449cbe18a48114%22%20style%3D%22width%3A%20100.0%25%3B%20height%3A%20100.0%25%3B%22%3EColombia%3C/div%3E%60%29%5B0%5D%3B%0A%20%20%20%20%20%20%20%20%20%20%20%20popup_62cec65441cd4cd9a91c5134d9338d22.setContent%28html_2d8103e2952c406483449cbe18a48114%29%3B%0A%20%20%20%20%20%20%20%20%0A%0A%20%20%20%20%20%20%20%20circle_marker_6d0918d08bdc4191bbda88e4bc10f6aa.bindPopup%28popup_62cec65441cd4cd9a91c5134d9338d22%29%0A%20%20%20%20%20%20%20%20%3B%0A%0A%20%20%20%20%20%20%20%20%0A%20%20%20%20%0A%20%20%20%20%0A%20%20%20%20%20%20%20%20%20%20%20%20var%20circle_marker_81a8cd1f43f54c558730e5f2ba897668%20%3D%20L.circleMarker%28%0A%20%20%20%20%20%20%20%20%20%20%20%20%20%20%20%20%5B-12.23333%2C%2044.44553%5D%2C%0A%20%20%20%20%20%20%20%20%20%20%20%20%20%20%20%20%7B%22bubblingMouseEvents%22%3A%20true%2C%20%22color%22%3A%20%22%233388ff%22%2C%20%22dashArray%22%3A%20null%2C%20%22dashOffset%22%3A%20null%2C%20%22fill%22%3A%20true%2C%20%22fillColor%22%3A%20%22blue%22%2C%20%22fillOpacity%22%3A%200.2%2C%20%22fillRule%22%3A%20%22evenodd%22%2C%20%22lineCap%22%3A%20%22round%22%2C%20%22lineJoin%22%3A%20%22round%22%2C%20%22opacity%22%3A%201.0%2C%20%22radius%22%3A%203.1816440984856076%2C%20%22stroke%22%3A%20true%2C%20%22weight%22%3A%203%7D%0A%20%20%20%20%20%20%20%20%20%20%20%20%29.addTo%28map_adb6d74cb18349f3821b952856c762ca%29%3B%0A%20%20%20%20%20%20%20%20%0A%20%20%20%20%0A%20%20%20%20%20%20%20%20var%20popup_9601da1520d14ab2b712c7e862bdddf1%20%3D%20L.popup%28%7B%22maxWidth%22%3A%20%22100%25%22%7D%29%3B%0A%0A%20%20%20%20%20%20%20%20%0A%20%20%20%20%20%20%20%20%20%20%20%20var%20html_4e932253ffb34b959fb34bc852b04b55%20%3D%20%24%28%60%3Cdiv%20id%3D%22html_4e932253ffb34b959fb34bc852b04b55%22%20style%3D%22width%3A%20100.0%25%3B%20height%3A%20100.0%25%3B%22%3EComoros%3C/div%3E%60%29%5B0%5D%3B%0A%20%20%20%20%20%20%20%20%20%20%20%20popup_9601da1520d14ab2b712c7e862bdddf1.setContent%28html_4e932253ffb34b959fb34bc852b04b55%29%3B%0A%20%20%20%20%20%20%20%20%0A%0A%20%20%20%20%20%20%20%20circle_marker_81a8cd1f43f54c558730e5f2ba897668.bindPopup%28popup_9601da1520d14ab2b712c7e862bdddf1%29%0A%20%20%20%20%20%20%20%20%3B%0A%0A%20%20%20%20%20%20%20%20%0A%20%20%20%20%0A%20%20%20%20%0A%20%20%20%20%20%20%20%20%20%20%20%20var%20circle_marker_24abebb556264c59b921062e2e0b4e63%20%3D%20L.circleMarker%28%0A%20%20%20%20%20%20%20%20%20%20%20%20%20%20%20%20%5B16.0%2C%20-24.0%5D%2C%0A%20%20%20%20%20%20%20%20%20%20%20%20%20%20%20%20%7B%22bubblingMouseEvents%22%3A%20true%2C%20%22color%22%3A%20%22%233388ff%22%2C%20%22dashArray%22%3A%20null%2C%20%22dashOffset%22%3A%20null%2C%20%22fill%22%3A%20true%2C%20%22fillColor%22%3A%20%22blue%22%2C%20%22fillOpacity%22%3A%200.2%2C%20%22fillRule%22%3A%20%22evenodd%22%2C%20%22lineCap%22%3A%20%22round%22%2C%20%22lineJoin%22%3A%20%22round%22%2C%20%22opacity%22%3A%201.0%2C%20%22radius%22%3A%201.4667952657766725%2C%20%22stroke%22%3A%20true%2C%20%22weight%22%3A%203%7D%0A%20%20%20%20%20%20%20%20%20%20%20%20%29.addTo%28map_adb6d74cb18349f3821b952856c762ca%29%3B%0A%20%20%20%20%20%20%20%20%0A%20%20%20%20%0A%20%20%20%20%20%20%20%20var%20popup_4f073b71ba07475898644b841ec66b18%20%3D%20L.popup%28%7B%22maxWidth%22%3A%20%22100%25%22%7D%29%3B%0A%0A%20%20%20%20%20%20%20%20%0A%20%20%20%20%20%20%20%20%20%20%20%20var%20html_dfd60bf6f86e456bab59e8cd91f8f824%20%3D%20%24%28%60%3Cdiv%20id%3D%22html_dfd60bf6f86e456bab59e8cd91f8f824%22%20style%3D%22width%3A%20100.0%25%3B%20height%3A%20100.0%25%3B%22%3ECape%20Verde%3C/div%3E%60%29%5B0%5D%3B%0A%20%20%20%20%20%20%20%20%20%20%20%20popup_4f073b71ba07475898644b841ec66b18.setContent%28html_dfd60bf6f86e456bab59e8cd91f8f824%29%3B%0A%20%20%20%20%20%20%20%20%0A%0A%20%20%20%20%20%20%20%20circle_marker_24abebb556264c59b921062e2e0b4e63.bindPopup%28popup_4f073b71ba07475898644b841ec66b18%29%0A%20%20%20%20%20%20%20%20%3B%0A%0A%20%20%20%20%20%20%20%20%0A%20%20%20%20%0A%20%20%20%20%0A%20%20%20%20%20%20%20%20%20%20%20%20var%20circle_marker_c6ee80ba05804d158776919ed22fc873%20%3D%20L.circleMarker%28%0A%20%20%20%20%20%20%20%20%20%20%20%20%20%20%20%20%5B10.0%2C%20-84.0%5D%2C%0A%20%20%20%20%20%20%20%20%20%20%20%20%20%20%20%20%7B%22bubblingMouseEvents%22%3A%20true%2C%20%22color%22%3A%20%22%233388ff%22%2C%20%22dashArray%22%3A%20null%2C%20%22dashOffset%22%3A%20null%2C%20%22fill%22%3A%20true%2C%20%22fillColor%22%3A%20%22green%22%2C%20%22fillOpacity%22%3A%200.2%2C%20%22fillRule%22%3A%20%22evenodd%22%2C%20%22lineCap%22%3A%20%22round%22%2C%20%22lineJoin%22%3A%20%22round%22%2C%20%22opacity%22%3A%201.0%2C%20%22radius%22%3A%201.402496325012203%2C%20%22stroke%22%3A%20true%2C%20%22weight%22%3A%203%7D%0A%20%20%20%20%20%20%20%20%20%20%20%20%29.addTo%28map_adb6d74cb18349f3821b952856c762ca%29%3B%0A%20%20%20%20%20%20%20%20%0A%20%20%20%20%0A%20%20%20%20%20%20%20%20var%20popup_e4226496e964458892de0ef38a7ea279%20%3D%20L.popup%28%7B%22maxWidth%22%3A%20%22100%25%22%7D%29%3B%0A%0A%20%20%20%20%20%20%20%20%0A%20%20%20%20%20%20%20%20%20%20%20%20var%20html_e0980330811b4a128e49253bc0a28958%20%3D%20%24%28%60%3Cdiv%20id%3D%22html_e0980330811b4a128e49253bc0a28958%22%20style%3D%22width%3A%20100.0%25%3B%20height%3A%20100.0%25%3B%22%3ECosta%20Rica%3C/div%3E%60%29%5B0%5D%3B%0A%20%20%20%20%20%20%20%20%20%20%20%20popup_e4226496e964458892de0ef38a7ea279.setContent%28html_e0980330811b4a128e49253bc0a28958%29%3B%0A%20%20%20%20%20%20%20%20%0A%0A%20%20%20%20%20%20%20%20circle_marker_c6ee80ba05804d158776919ed22fc873.bindPopup%28popup_e4226496e964458892de0ef38a7ea279%29%0A%20%20%20%20%20%20%20%20%3B%0A%0A%20%20%20%20%20%20%20%20%0A%20%20%20%20%0A%20%20%20%20%0A%20%20%20%20%20%20%20%20%20%20%20%20var%20circle_marker_d784e50b46c14bf18a6f296c86b256ba%20%3D%20L.circleMarker%28%0A%20%20%20%20%20%20%20%20%20%20%20%20%20%20%20%20%5B49.75%2C%2015.0%5D%2C%0A%20%20%20%20%20%20%20%20%20%20%20%20%20%20%20%20%7B%22bubblingMouseEvents%22%3A%20true%2C%20%22color%22%3A%20%22%233388ff%22%2C%20%22dashArray%22%3A%20null%2C%20%22dashOffset%22%3A%20null%2C%20%22fill%22%3A%20true%2C%20%22fillColor%22%3A%20%22black%22%2C%20%22fillOpacity%22%3A%200.2%2C%20%22fillRule%22%3A%20%22evenodd%22%2C%20%22lineCap%22%3A%20%22round%22%2C%20%22lineJoin%22%3A%20%22round%22%2C%20%22opacity%22%3A%201.0%2C%20%22radius%22%3A%200.31720301862166483%2C%20%22stroke%22%3A%20true%2C%20%22weight%22%3A%203%7D%0A%20%20%20%20%20%20%20%20%20%20%20%20%29.addTo%28map_adb6d74cb18349f3821b952856c762ca%29%3B%0A%20%20%20%20%20%20%20%20%0A%20%20%20%20%0A%20%20%20%20%20%20%20%20var%20popup_16da1ac186594f88a533d66638564d64%20%3D%20L.popup%28%7B%22maxWidth%22%3A%20%22100%25%22%7D%29%3B%0A%0A%20%20%20%20%20%20%20%20%0A%20%20%20%20%20%20%20%20%20%20%20%20var%20html_44dfb85968f54a4faadcd36bc25b11aa%20%3D%20%24%28%60%3Cdiv%20id%3D%22html_44dfb85968f54a4faadcd36bc25b11aa%22%20style%3D%22width%3A%20100.0%25%3B%20height%3A%20100.0%25%3B%22%3ECzech%20Republic%3C/div%3E%60%29%5B0%5D%3B%0A%20%20%20%20%20%20%20%20%20%20%20%20popup_16da1ac186594f88a533d66638564d64.setContent%28html_44dfb85968f54a4faadcd36bc25b11aa%29%3B%0A%20%20%20%20%20%20%20%20%0A%0A%20%20%20%20%20%20%20%20circle_marker_d784e50b46c14bf18a6f296c86b256ba.bindPopup%28popup_16da1ac186594f88a533d66638564d64%29%0A%20%20%20%20%20%20%20%20%3B%0A%0A%20%20%20%20%20%20%20%20%0A%20%20%20%20%0A%20%20%20%20%0A%20%20%20%20%20%20%20%20%20%20%20%20var%20circle_marker_286c0d92b8af41319265aff5057914d0%20%3D%20L.circleMarker%28%0A%20%20%20%20%20%20%20%20%20%20%20%20%20%20%20%20%5B51.5%2C%2010.5%5D%2C%0A%20%20%20%20%20%20%20%20%20%20%20%20%20%20%20%20%7B%22bubblingMouseEvents%22%3A%20true%2C%20%22color%22%3A%20%22%233388ff%22%2C%20%22dashArray%22%3A%20null%2C%20%22dashOffset%22%3A%20null%2C%20%22fill%22%3A%20true%2C%20%22fillColor%22%3A%20%22black%22%2C%20%22fillOpacity%22%3A%200.2%2C%20%22fillRule%22%3A%20%22evenodd%22%2C%20%22lineCap%22%3A%20%22round%22%2C%20%22lineJoin%22%3A%20%22round%22%2C%20%22opacity%22%3A%201.0%2C%20%22radius%22%3A%202.957623648166546%2C%20%22stroke%22%3A%20true%2C%20%22weight%22%3A%203%7D%0A%20%20%20%20%20%20%20%20%20%20%20%20%29.addTo%28map_adb6d74cb18349f3821b952856c762ca%29%3B%0A%20%20%20%20%20%20%20%20%0A%20%20%20%20%0A%20%20%20%20%20%20%20%20var%20popup_afd5bf96030e45d887792dd037f6bc1a%20%3D%20L.popup%28%7B%22maxWidth%22%3A%20%22100%25%22%7D%29%3B%0A%0A%20%20%20%20%20%20%20%20%0A%20%20%20%20%20%20%20%20%20%20%20%20var%20html_b468c4ebe1384817857da3ddd7a9f95a%20%3D%20%24%28%60%3Cdiv%20id%3D%22html_b468c4ebe1384817857da3ddd7a9f95a%22%20style%3D%22width%3A%20100.0%25%3B%20height%3A%20100.0%25%3B%22%3EGermany%3C/div%3E%60%29%5B0%5D%3B%0A%20%20%20%20%20%20%20%20%20%20%20%20popup_afd5bf96030e45d887792dd037f6bc1a.setContent%28html_b468c4ebe1384817857da3ddd7a9f95a%29%3B%0A%20%20%20%20%20%20%20%20%0A%0A%20%20%20%20%20%20%20%20circle_marker_286c0d92b8af41319265aff5057914d0.bindPopup%28popup_afd5bf96030e45d887792dd037f6bc1a%29%0A%20%20%20%20%20%20%20%20%3B%0A%0A%20%20%20%20%20%20%20%20%0A%20%20%20%20%0A%20%20%20%20%0A%20%20%20%20%20%20%20%20%20%20%20%20var%20circle_marker_dce4e94528224387ab5e8c69149b25a8%20%3D%20L.circleMarker%28%0A%20%20%20%20%20%20%20%20%20%20%20%20%20%20%20%20%5B11.58901%2C%2043.14503%5D%2C%0A%20%20%20%20%20%20%20%20%20%20%20%20%20%20%20%20%7B%22bubblingMouseEvents%22%3A%20true%2C%20%22color%22%3A%20%22%233388ff%22%2C%20%22dashArray%22%3A%20null%2C%20%22dashOffset%22%3A%20null%2C%20%22fill%22%3A%20true%2C%20%22fillColor%22%3A%20%22blue%22%2C%20%22fillOpacity%22%3A%200.2%2C%20%22fillRule%22%3A%20%22evenodd%22%2C%20%22lineCap%22%3A%20%22round%22%2C%20%22lineJoin%22%3A%20%22round%22%2C%20%22opacity%22%3A%201.0%2C%20%22radius%22%3A%202.244091994176071%2C%20%22stroke%22%3A%20true%2C%20%22weight%22%3A%203%7D%0A%20%20%20%20%20%20%20%20%20%20%20%20%29.addTo%28map_adb6d74cb18349f3821b952856c762ca%29%3B%0A%20%20%20%20%20%20%20%20%0A%20%20%20%20%0A%20%20%20%20%20%20%20%20var%20popup_4e6c30cd17f34f779be1cbbf0f713073%20%3D%20L.popup%28%7B%22maxWidth%22%3A%20%22100%25%22%7D%29%3B%0A%0A%20%20%20%20%20%20%20%20%0A%20%20%20%20%20%20%20%20%20%20%20%20var%20html_5073c2375bbb47b1a8232f80f5e84a9c%20%3D%20%24%28%60%3Cdiv%20id%3D%22html_5073c2375bbb47b1a8232f80f5e84a9c%22%20style%3D%22width%3A%20100.0%25%3B%20height%3A%20100.0%25%3B%22%3EDjibouti%3C/div%3E%60%29%5B0%5D%3B%0A%20%20%20%20%20%20%20%20%20%20%20%20popup_4e6c30cd17f34f779be1cbbf0f713073.setContent%28html_5073c2375bbb47b1a8232f80f5e84a9c%29%3B%0A%20%20%20%20%20%20%20%20%0A%0A%20%20%20%20%20%20%20%20circle_marker_dce4e94528224387ab5e8c69149b25a8.bindPopup%28popup_4e6c30cd17f34f779be1cbbf0f713073%29%0A%20%20%20%20%20%20%20%20%3B%0A%0A%20%20%20%20%20%20%20%20%0A%20%20%20%20%0A%20%20%20%20%0A%20%20%20%20%20%20%20%20%20%20%20%20var%20circle_marker_95664140dd204cc4a134fd02d86cacb2%20%3D%20L.circleMarker%28%0A%20%20%20%20%20%20%20%20%20%20%20%20%20%20%20%20%5B56.0%2C%2010.0%5D%2C%0A%20%20%20%20%20%20%20%20%20%20%20%20%20%20%20%20%7B%22bubblingMouseEvents%22%3A%20true%2C%20%22color%22%3A%20%22%233388ff%22%2C%20%22dashArray%22%3A%20null%2C%20%22dashOffset%22%3A%20null%2C%20%22fill%22%3A%20true%2C%20%22fillColor%22%3A%20%22black%22%2C%20%22fillOpacity%22%3A%200.2%2C%20%22fillRule%22%3A%20%22evenodd%22%2C%20%22lineCap%22%3A%20%22round%22%2C%20%22lineJoin%22%3A%20%22round%22%2C%20%22opacity%22%3A%201.0%2C%20%22radius%22%3A%201.0884180738164053%2C%20%22stroke%22%3A%20true%2C%20%22weight%22%3A%203%7D%0A%20%20%20%20%20%20%20%20%20%20%20%20%29.addTo%28map_adb6d74cb18349f3821b952856c762ca%29%3B%0A%20%20%20%20%20%20%20%20%0A%20%20%20%20%0A%20%20%20%20%20%20%20%20var%20popup_89661099976e4750acc442b76d455b8e%20%3D%20L.popup%28%7B%22maxWidth%22%3A%20%22100%25%22%7D%29%3B%0A%0A%20%20%20%20%20%20%20%20%0A%20%20%20%20%20%20%20%20%20%20%20%20var%20html_552c06360e3946a6b0f380f72d13fcc6%20%3D%20%24%28%60%3Cdiv%20id%3D%22html_552c06360e3946a6b0f380f72d13fcc6%22%20style%3D%22width%3A%20100.0%25%3B%20height%3A%20100.0%25%3B%22%3EDenmark%3C/div%3E%60%29%5B0%5D%3B%0A%20%20%20%20%20%20%20%20%20%20%20%20popup_89661099976e4750acc442b76d455b8e.setContent%28html_552c06360e3946a6b0f380f72d13fcc6%29%3B%0A%20%20%20%20%20%20%20%20%0A%0A%20%20%20%20%20%20%20%20circle_marker_95664140dd204cc4a134fd02d86cacb2.bindPopup%28popup_89661099976e4750acc442b76d455b8e%29%0A%20%20%20%20%20%20%20%20%3B%0A%0A%20%20%20%20%20%20%20%20%0A%20%20%20%20%0A%20%20%20%20%0A%20%20%20%20%20%20%20%20%20%20%20%20var%20circle_marker_4dfbef8c6c8d4cdf8e2332b8cc2d926b%20%3D%20L.circleMarker%28%0A%20%20%20%20%20%20%20%20%20%20%20%20%20%20%20%20%5B19.0%2C%20-70.66667%5D%2C%0A%20%20%20%20%20%20%20%20%20%20%20%20%20%20%20%20%7B%22bubblingMouseEvents%22%3A%20true%2C%20%22color%22%3A%20%22%233388ff%22%2C%20%22dashArray%22%3A%20null%2C%20%22dashOffset%22%3A%20null%2C%20%22fill%22%3A%20true%2C%20%22fillColor%22%3A%20%22green%22%2C%20%22fillOpacity%22%3A%200.2%2C%20%22fillRule%22%3A%20%22evenodd%22%2C%20%22lineCap%22%3A%20%22round%22%2C%20%22lineJoin%22%3A%20%22round%22%2C%20%22opacity%22%3A%201.0%2C%20%22radius%22%3A%202.6350734064183507%2C%20%22stroke%22%3A%20true%2C%20%22weight%22%3A%203%7D%0A%20%20%20%20%20%20%20%20%20%20%20%20%29.addTo%28map_adb6d74cb18349f3821b952856c762ca%29%3B%0A%20%20%20%20%20%20%20%20%0A%20%20%20%20%0A%20%20%20%20%20%20%20%20var%20popup_e745d715a8fe4d028971ddd1cdf301d1%20%3D%20L.popup%28%7B%22maxWidth%22%3A%20%22100%25%22%7D%29%3B%0A%0A%20%20%20%20%20%20%20%20%0A%20%20%20%20%20%20%20%20%20%20%20%20var%20html_f84d412359284cfd9c30629a95f45611%20%3D%20%24%28%60%3Cdiv%20id%3D%22html_f84d412359284cfd9c30629a95f45611%22%20style%3D%22width%3A%20100.0%25%3B%20height%3A%20100.0%25%3B%22%3EDominican%20Republic%3C/div%3E%60%29%5B0%5D%3B%0A%20%20%20%20%20%20%20%20%20%20%20%20popup_e745d715a8fe4d028971ddd1cdf301d1.setContent%28html_f84d412359284cfd9c30629a95f45611%29%3B%0A%20%20%20%20%20%20%20%20%0A%0A%20%20%20%20%20%20%20%20circle_marker_4dfbef8c6c8d4cdf8e2332b8cc2d926b.bindPopup%28popup_e745d715a8fe4d028971ddd1cdf301d1%29%0A%20%20%20%20%20%20%20%20%3B%0A%0A%20%20%20%20%20%20%20%20%0A%20%20%20%20%0A%20%20%20%20%0A%20%20%20%20%20%20%20%20%20%20%20%20var%20circle_marker_7c9e9950f8bf4f95a4c183e526cc71dc%20%3D%20L.circleMarker%28%0A%20%20%20%20%20%20%20%20%20%20%20%20%20%20%20%20%5B28.0%2C%203.0%5D%2C%0A%20%20%20%20%20%20%20%20%20%20%20%20%20%20%20%20%7B%22bubblingMouseEvents%22%3A%20true%2C%20%22color%22%3A%20%22%233388ff%22%2C%20%22dashArray%22%3A%20null%2C%20%22dashOffset%22%3A%20null%2C%20%22fill%22%3A%20true%2C%20%22fillColor%22%3A%20%22blue%22%2C%20%22fillOpacity%22%3A%200.2%2C%20%22fillRule%22%3A%20%22evenodd%22%2C%20%22lineCap%22%3A%20%22round%22%2C%20%22lineJoin%22%3A%20%22round%22%2C%20%22opacity%22%3A%201.0%2C%20%22radius%22%3A%208.547725420605834%2C%20%22stroke%22%3A%20true%2C%20%22weight%22%3A%203%7D%0A%20%20%20%20%20%20%20%20%20%20%20%20%29.addTo%28map_adb6d74cb18349f3821b952856c762ca%29%3B%0A%20%20%20%20%20%20%20%20%0A%20%20%20%20%0A%20%20%20%20%20%20%20%20var%20popup_6ba370a6e3664c44abe2157ebf671237%20%3D%20L.popup%28%7B%22maxWidth%22%3A%20%22100%25%22%7D%29%3B%0A%0A%20%20%20%20%20%20%20%20%0A%20%20%20%20%20%20%20%20%20%20%20%20var%20html_19da54e9dd71456ea1b024fa67057261%20%3D%20%24%28%60%3Cdiv%20id%3D%22html_19da54e9dd71456ea1b024fa67057261%22%20style%3D%22width%3A%20100.0%25%3B%20height%3A%20100.0%25%3B%22%3EAlgeria%3C/div%3E%60%29%5B0%5D%3B%0A%20%20%20%20%20%20%20%20%20%20%20%20popup_6ba370a6e3664c44abe2157ebf671237.setContent%28html_19da54e9dd71456ea1b024fa67057261%29%3B%0A%20%20%20%20%20%20%20%20%0A%0A%20%20%20%20%20%20%20%20circle_marker_7c9e9950f8bf4f95a4c183e526cc71dc.bindPopup%28popup_6ba370a6e3664c44abe2157ebf671237%29%0A%20%20%20%20%20%20%20%20%3B%0A%0A%20%20%20%20%20%20%20%20%0A%20%20%20%20%0A%20%20%20%20%0A%20%20%20%20%20%20%20%20%20%20%20%20var%20circle_marker_247ee521bbaa47e39e813638b4c2ae75%20%3D%20L.circleMarker%28%0A%20%20%20%20%20%20%20%20%20%20%20%20%20%20%20%20%5B-1.25%2C%20-78.25%5D%2C%0A%20%20%20%20%20%20%20%20%20%20%20%20%20%20%20%20%7B%22bubblingMouseEvents%22%3A%20true%2C%20%22color%22%3A%20%22%233388ff%22%2C%20%22dashArray%22%3A%20null%2C%20%22dashOffset%22%3A%20null%2C%20%22fill%22%3A%20true%2C%20%22fillColor%22%3A%20%22green%22%2C%20%22fillOpacity%22%3A%200.2%2C%20%22fillRule%22%3A%20%22evenodd%22%2C%20%22lineCap%22%3A%20%22round%22%2C%20%22lineJoin%22%3A%20%22round%22%2C%20%22opacity%22%3A%201.0%2C%20%22radius%22%3A%204.34440267014846%2C%20%22stroke%22%3A%20true%2C%20%22weight%22%3A%203%7D%0A%20%20%20%20%20%20%20%20%20%20%20%20%29.addTo%28map_adb6d74cb18349f3821b952856c762ca%29%3B%0A%20%20%20%20%20%20%20%20%0A%20%20%20%20%0A%20%20%20%20%20%20%20%20var%20popup_e2e6ba9bb8474b659a058dd37350eac3%20%3D%20L.popup%28%7B%22maxWidth%22%3A%20%22100%25%22%7D%29%3B%0A%0A%20%20%20%20%20%20%20%20%0A%20%20%20%20%20%20%20%20%20%20%20%20var%20html_1fb63a455a6b4fee83238adc7e0b36b5%20%3D%20%24%28%60%3Cdiv%20id%3D%22html_1fb63a455a6b4fee83238adc7e0b36b5%22%20style%3D%22width%3A%20100.0%25%3B%20height%3A%20100.0%25%3B%22%3EEcuador%3C/div%3E%60%29%5B0%5D%3B%0A%20%20%20%20%20%20%20%20%20%20%20%20popup_e2e6ba9bb8474b659a058dd37350eac3.setContent%28html_1fb63a455a6b4fee83238adc7e0b36b5%29%3B%0A%20%20%20%20%20%20%20%20%0A%0A%20%20%20%20%20%20%20%20circle_marker_247ee521bbaa47e39e813638b4c2ae75.bindPopup%28popup_e2e6ba9bb8474b659a058dd37350eac3%29%0A%20%20%20%20%20%20%20%20%3B%0A%0A%20%20%20%20%20%20%20%20%0A%20%20%20%20%0A%20%20%20%20%0A%20%20%20%20%20%20%20%20%20%20%20%20var%20circle_marker_f0401869d1614be38b7dc7e489b954b2%20%3D%20L.circleMarker%28%0A%20%20%20%20%20%20%20%20%20%20%20%20%20%20%20%20%5B27.0%2C%2030.0%5D%2C%0A%20%20%20%20%20%20%20%20%20%20%20%20%20%20%20%20%7B%22bubblingMouseEvents%22%3A%20true%2C%20%22color%22%3A%20%22%233388ff%22%2C%20%22dashArray%22%3A%20null%2C%20%22dashOffset%22%3A%20null%2C%20%22fill%22%3A%20true%2C%20%22fillColor%22%3A%20%22blue%22%2C%20%22fillOpacity%22%3A%200.2%2C%20%22fillRule%22%3A%20%22evenodd%22%2C%20%22lineCap%22%3A%20%22round%22%2C%20%22lineJoin%22%3A%20%22round%22%2C%20%22opacity%22%3A%201.0%2C%20%22radius%22%3A%206.652627784125568%2C%20%22stroke%22%3A%20true%2C%20%22weight%22%3A%203%7D%0A%20%20%20%20%20%20%20%20%20%20%20%20%29.addTo%28map_adb6d74cb18349f3821b952856c762ca%29%3B%0A%20%20%20%20%20%20%20%20%0A%20%20%20%20%0A%20%20%20%20%20%20%20%20var%20popup_26b429ac638640edbe088c18c3b6e804%20%3D%20L.popup%28%7B%22maxWidth%22%3A%20%22100%25%22%7D%29%3B%0A%0A%20%20%20%20%20%20%20%20%0A%20%20%20%20%20%20%20%20%20%20%20%20var%20html_7b8bdc7eeee049c283c06568b5b19c12%20%3D%20%24%28%60%3Cdiv%20id%3D%22html_7b8bdc7eeee049c283c06568b5b19c12%22%20style%3D%22width%3A%20100.0%25%3B%20height%3A%20100.0%25%3B%22%3EEgypt%3C/div%3E%60%29%5B0%5D%3B%0A%20%20%20%20%20%20%20%20%20%20%20%20popup_26b429ac638640edbe088c18c3b6e804.setContent%28html_7b8bdc7eeee049c283c06568b5b19c12%29%3B%0A%20%20%20%20%20%20%20%20%0A%0A%20%20%20%20%20%20%20%20circle_marker_f0401869d1614be38b7dc7e489b954b2.bindPopup%28popup_26b429ac638640edbe088c18c3b6e804%29%0A%20%20%20%20%20%20%20%20%3B%0A%0A%20%20%20%20%20%20%20%20%0A%20%20%20%20%0A%20%20%20%20%0A%20%20%20%20%20%20%20%20%20%20%20%20var%20circle_marker_4936bf9f3bcb4e4181fd9475d2866306%20%3D%20L.circleMarker%28%0A%20%20%20%20%20%20%20%20%20%20%20%20%20%20%20%20%5B40.0%2C%20-4.0%5D%2C%0A%20%20%20%20%20%20%20%20%20%20%20%20%20%20%20%20%7B%22bubblingMouseEvents%22%3A%20true%2C%20%22color%22%3A%20%22%233388ff%22%2C%20%22dashArray%22%3A%20null%2C%20%22dashOffset%22%3A%20null%2C%20%22fill%22%3A%20true%2C%20%22fillColor%22%3A%20%22black%22%2C%20%22fillOpacity%22%3A%200.2%2C%20%22fillRule%22%3A%20%22evenodd%22%2C%20%22lineCap%22%3A%20%22round%22%2C%20%22lineJoin%22%3A%20%22round%22%2C%20%22opacity%22%3A%201.0%2C%20%22radius%22%3A%205.912389201233562%2C%20%22stroke%22%3A%20true%2C%20%22weight%22%3A%203%7D%0A%20%20%20%20%20%20%20%20%20%20%20%20%29.addTo%28map_adb6d74cb18349f3821b952856c762ca%29%3B%0A%20%20%20%20%20%20%20%20%0A%20%20%20%20%0A%20%20%20%20%20%20%20%20var%20popup_8808185e2c854f128531ade46e3538ce%20%3D%20L.popup%28%7B%22maxWidth%22%3A%20%22100%25%22%7D%29%3B%0A%0A%20%20%20%20%20%20%20%20%0A%20%20%20%20%20%20%20%20%20%20%20%20var%20html_7f8ab0f7968e443aa7adf24e9a8c8d5f%20%3D%20%24%28%60%3Cdiv%20id%3D%22html_7f8ab0f7968e443aa7adf24e9a8c8d5f%22%20style%3D%22width%3A%20100.0%25%3B%20height%3A%20100.0%25%3B%22%3ESpain%3C/div%3E%60%29%5B0%5D%3B%0A%20%20%20%20%20%20%20%20%20%20%20%20popup_8808185e2c854f128531ade46e3538ce.setContent%28html_7f8ab0f7968e443aa7adf24e9a8c8d5f%29%3B%0A%20%20%20%20%20%20%20%20%0A%0A%20%20%20%20%20%20%20%20circle_marker_4936bf9f3bcb4e4181fd9475d2866306.bindPopup%28popup_8808185e2c854f128531ade46e3538ce%29%0A%20%20%20%20%20%20%20%20%3B%0A%0A%20%20%20%20%20%20%20%20%0A%20%20%20%20%0A%20%20%20%20%0A%20%20%20%20%20%20%20%20%20%20%20%20var%20circle_marker_35cc1bee5a48481faadbe1e201c69bdf%20%3D%20L.circleMarker%28%0A%20%20%20%20%20%20%20%20%20%20%20%20%20%20%20%20%5B59.0%2C%2026.0%5D%2C%0A%20%20%20%20%20%20%20%20%20%20%20%20%20%20%20%20%7B%22bubblingMouseEvents%22%3A%20true%2C%20%22color%22%3A%20%22%233388ff%22%2C%20%22dashArray%22%3A%20null%2C%20%22dashOffset%22%3A%20null%2C%20%22fill%22%3A%20true%2C%20%22fillColor%22%3A%20%22black%22%2C%20%22fillOpacity%22%3A%200.2%2C%20%22fillRule%22%3A%20%22evenodd%22%2C%20%22lineCap%22%3A%20%22round%22%2C%20%22lineJoin%22%3A%20%22round%22%2C%20%22opacity%22%3A%201.0%2C%20%22radius%22%3A%200.6446344362605358%2C%20%22stroke%22%3A%20true%2C%20%22weight%22%3A%203%7D%0A%20%20%20%20%20%20%20%20%20%20%20%20%29.addTo%28map_adb6d74cb18349f3821b952856c762ca%29%3B%0A%20%20%20%20%20%20%20%20%0A%20%20%20%20%0A%20%20%20%20%20%20%20%20var%20popup_e57937e2475b4f399f6caa83793bb383%20%3D%20L.popup%28%7B%22maxWidth%22%3A%20%22100%25%22%7D%29%3B%0A%0A%20%20%20%20%20%20%20%20%0A%20%20%20%20%20%20%20%20%20%20%20%20var%20html_c171edfbdcc04addb5aac68e27061da6%20%3D%20%24%28%60%3Cdiv%20id%3D%22html_c171edfbdcc04addb5aac68e27061da6%22%20style%3D%22width%3A%20100.0%25%3B%20height%3A%20100.0%25%3B%22%3EEstonia%3C/div%3E%60%29%5B0%5D%3B%0A%20%20%20%20%20%20%20%20%20%20%20%20popup_e57937e2475b4f399f6caa83793bb383.setContent%28html_c171edfbdcc04addb5aac68e27061da6%29%3B%0A%20%20%20%20%20%20%20%20%0A%0A%20%20%20%20%20%20%20%20circle_marker_35cc1bee5a48481faadbe1e201c69bdf.bindPopup%28popup_e57937e2475b4f399f6caa83793bb383%29%0A%20%20%20%20%20%20%20%20%3B%0A%0A%20%20%20%20%20%20%20%20%0A%20%20%20%20%0A%20%20%20%20%0A%20%20%20%20%20%20%20%20%20%20%20%20var%20circle_marker_4dfb412a99384fa1b4973f01a122d132%20%3D%20L.circleMarker%28%0A%20%20%20%20%20%20%20%20%20%20%20%20%20%20%20%20%5B9.0%2C%2039.5%5D%2C%0A%20%20%20%20%20%20%20%20%20%20%20%20%20%20%20%20%7B%22bubblingMouseEvents%22%3A%20true%2C%20%22color%22%3A%20%22%233388ff%22%2C%20%22dashArray%22%3A%20null%2C%20%22dashOffset%22%3A%20null%2C%20%22fill%22%3A%20true%2C%20%22fillColor%22%3A%20%22blue%22%2C%20%22fillOpacity%22%3A%200.2%2C%20%22fillRule%22%3A%20%22evenodd%22%2C%20%22lineCap%22%3A%20%22round%22%2C%20%22lineJoin%22%3A%20%22round%22%2C%20%22opacity%22%3A%201.0%2C%20%22radius%22%3A%2032.036203795508186%2C%20%22stroke%22%3A%20true%2C%20%22weight%22%3A%203%7D%0A%20%20%20%20%20%20%20%20%20%20%20%20%29.addTo%28map_adb6d74cb18349f3821b952856c762ca%29%3B%0A%20%20%20%20%20%20%20%20%0A%20%20%20%20%0A%20%20%20%20%20%20%20%20var%20popup_cc3229be725a47a69c63d73e3a917631%20%3D%20L.popup%28%7B%22maxWidth%22%3A%20%22100%25%22%7D%29%3B%0A%0A%20%20%20%20%20%20%20%20%0A%20%20%20%20%20%20%20%20%20%20%20%20var%20html_136caa8d799d43e38ae2011223b40415%20%3D%20%24%28%60%3Cdiv%20id%3D%22html_136caa8d799d43e38ae2011223b40415%22%20style%3D%22width%3A%20100.0%25%3B%20height%3A%20100.0%25%3B%22%3EEthiopia%3C/div%3E%60%29%5B0%5D%3B%0A%20%20%20%20%20%20%20%20%20%20%20%20popup_cc3229be725a47a69c63d73e3a917631.setContent%28html_136caa8d799d43e38ae2011223b40415%29%3B%0A%20%20%20%20%20%20%20%20%0A%0A%20%20%20%20%20%20%20%20circle_marker_4dfb412a99384fa1b4973f01a122d132.bindPopup%28popup_cc3229be725a47a69c63d73e3a917631%29%0A%20%20%20%20%20%20%20%20%3B%0A%0A%20%20%20%20%20%20%20%20%0A%20%20%20%20%0A%20%20%20%20%0A%20%20%20%20%20%20%20%20%20%20%20%20var%20circle_marker_81bdf0567b264b5a8ed330fefd8dc4db%20%3D%20L.circleMarker%28%0A%20%20%20%20%20%20%20%20%20%20%20%20%20%20%20%20%5B64.0%2C%2026.0%5D%2C%0A%20%20%20%20%20%20%20%20%20%20%20%20%20%20%20%20%7B%22bubblingMouseEvents%22%3A%20true%2C%20%22color%22%3A%20%22%233388ff%22%2C%20%22dashArray%22%3A%20null%2C%20%22dashOffset%22%3A%20null%2C%20%22fill%22%3A%20true%2C%20%22fillColor%22%3A%20%22black%22%2C%20%22fillOpacity%22%3A%200.2%2C%20%22fillRule%22%3A%20%22evenodd%22%2C%20%22lineCap%22%3A%20%22round%22%2C%20%22lineJoin%22%3A%20%22round%22%2C%20%22opacity%22%3A%201.0%2C%20%22stroke%22%3A%20true%2C%20%22weight%22%3A%203%7D%0A%20%20%20%20%20%20%20%20%20%20%20%20%29.addTo%28map_adb6d74cb18349f3821b952856c762ca%29%3B%0A%20%20%20%20%20%20%20%20%0A%20%20%20%20%0A%20%20%20%20%20%20%20%20var%20popup_fc8f75baf2dc4f0abae9223293ea39b7%20%3D%20L.popup%28%7B%22maxWidth%22%3A%20%22100%25%22%7D%29%3B%0A%0A%20%20%20%20%20%20%20%20%0A%20%20%20%20%20%20%20%20%20%20%20%20var%20html_8546283a04fe49ac9ade3577f78ae868%20%3D%20%24%28%60%3Cdiv%20id%3D%22html_8546283a04fe49ac9ade3577f78ae868%22%20style%3D%22width%3A%20100.0%25%3B%20height%3A%20100.0%25%3B%22%3EFinland%3C/div%3E%60%29%5B0%5D%3B%0A%20%20%20%20%20%20%20%20%20%20%20%20popup_fc8f75baf2dc4f0abae9223293ea39b7.setContent%28html_8546283a04fe49ac9ade3577f78ae868%29%3B%0A%20%20%20%20%20%20%20%20%0A%0A%20%20%20%20%20%20%20%20circle_marker_81bdf0567b264b5a8ed330fefd8dc4db.bindPopup%28popup_fc8f75baf2dc4f0abae9223293ea39b7%29%0A%20%20%20%20%20%20%20%20%3B%0A%0A%20%20%20%20%20%20%20%20%0A%20%20%20%20%0A%20%20%20%20%0A%20%20%20%20%20%20%20%20%20%20%20%20var%20circle_marker_62375e3c20ff46009a1f7fe6f1d56953%20%3D%20L.circleMarker%28%0A%20%20%20%20%20%20%20%20%20%20%20%20%20%20%20%20%5B-18.0%2C%20178.0%5D%2C%0A%20%20%20%20%20%20%20%20%20%20%20%20%20%20%20%20%7B%22bubblingMouseEvents%22%3A%20true%2C%20%22color%22%3A%20%22%233388ff%22%2C%20%22dashArray%22%3A%20null%2C%20%22dashOffset%22%3A%20null%2C%20%22fill%22%3A%20true%2C%20%22fillColor%22%3A%20%22red%22%2C%20%22fillOpacity%22%3A%200.2%2C%20%22fillRule%22%3A%20%22evenodd%22%2C%20%22lineCap%22%3A%20%22round%22%2C%20%22lineJoin%22%3A%20%22round%22%2C%20%22opacity%22%3A%201.0%2C%20%22radius%22%3A%201.2685737233520922%2C%20%22stroke%22%3A%20true%2C%20%22weight%22%3A%203%7D%0A%20%20%20%20%20%20%20%20%20%20%20%20%29.addTo%28map_adb6d74cb18349f3821b952856c762ca%29%3B%0A%20%20%20%20%20%20%20%20%0A%20%20%20%20%0A%20%20%20%20%20%20%20%20var%20popup_937c2562ad284836aa026663234c5b62%20%3D%20L.popup%28%7B%22maxWidth%22%3A%20%22100%25%22%7D%29%3B%0A%0A%20%20%20%20%20%20%20%20%0A%20%20%20%20%20%20%20%20%20%20%20%20var%20html_66684d1233ad41f99c2edeb0182d4b2f%20%3D%20%24%28%60%3Cdiv%20id%3D%22html_66684d1233ad41f99c2edeb0182d4b2f%22%20style%3D%22width%3A%20100.0%25%3B%20height%3A%20100.0%25%3B%22%3EFiji%3C/div%3E%60%29%5B0%5D%3B%0A%20%20%20%20%20%20%20%20%20%20%20%20popup_937c2562ad284836aa026663234c5b62.setContent%28html_66684d1233ad41f99c2edeb0182d4b2f%29%3B%0A%20%20%20%20%20%20%20%20%0A%0A%20%20%20%20%20%20%20%20circle_marker_62375e3c20ff46009a1f7fe6f1d56953.bindPopup%28popup_937c2562ad284836aa026663234c5b62%29%0A%20%20%20%20%20%20%20%20%3B%0A%0A%20%20%20%20%20%20%20%20%0A%20%20%20%20%0A%20%20%20%20%0A%20%20%20%20%20%20%20%20%20%20%20%20var%20circle_marker_6165bdea9657400b84eb8005b189d063%20%3D%20L.circleMarker%28%0A%20%20%20%20%20%20%20%20%20%20%20%20%20%20%20%20%5B46.0%2C%202.0%5D%2C%0A%20%20%20%20%20%20%20%20%20%20%20%20%20%20%20%20%7B%22bubblingMouseEvents%22%3A%20true%2C%20%22color%22%3A%20%22%233388ff%22%2C%20%22dashArray%22%3A%20null%2C%20%22dashOffset%22%3A%20null%2C%20%22fill%22%3A%20true%2C%20%22fillColor%22%3A%20%22black%22%2C%20%22fillOpacity%22%3A%200.2%2C%20%22fillRule%22%3A%20%22evenodd%22%2C%20%22lineCap%22%3A%20%22round%22%2C%20%22lineJoin%22%3A%20%22round%22%2C%20%22opacity%22%3A%201.0%2C%20%22radius%22%3A%202.57001824901904%2C%20%22stroke%22%3A%20true%2C%20%22weight%22%3A%203%7D%0A%20%20%20%20%20%20%20%20%20%20%20%20%29.addTo%28map_adb6d74cb18349f3821b952856c762ca%29%3B%0A%20%20%20%20%20%20%20%20%0A%20%20%20%20%0A%20%20%20%20%20%20%20%20var%20popup_ab2f21899ca24d25b563a16c8099765b%20%3D%20L.popup%28%7B%22maxWidth%22%3A%20%22100%25%22%7D%29%3B%0A%0A%20%20%20%20%20%20%20%20%0A%20%20%20%20%20%20%20%20%20%20%20%20var%20html_fcac050a019b4360b7340c7f50aa26e1%20%3D%20%24%28%60%3Cdiv%20id%3D%22html_fcac050a019b4360b7340c7f50aa26e1%22%20style%3D%22width%3A%20100.0%25%3B%20height%3A%20100.0%25%3B%22%3EFrance%3C/div%3E%60%29%5B0%5D%3B%0A%20%20%20%20%20%20%20%20%20%20%20%20popup_ab2f21899ca24d25b563a16c8099765b.setContent%28html_fcac050a019b4360b7340c7f50aa26e1%29%3B%0A%20%20%20%20%20%20%20%20%0A%0A%20%20%20%20%20%20%20%20circle_marker_6165bdea9657400b84eb8005b189d063.bindPopup%28popup_ab2f21899ca24d25b563a16c8099765b%29%0A%20%20%20%20%20%20%20%20%3B%0A%0A%20%20%20%20%20%20%20%20%0A%20%20%20%20%0A%20%20%20%20%0A%20%20%20%20%20%20%20%20%20%20%20%20var%20circle_marker_767568542d4e4dbea386eb86b8d7d928%20%3D%20L.circleMarker%28%0A%20%20%20%20%20%20%20%20%20%20%20%20%20%20%20%20%5B6.924%2C%20158.162%5D%2C%0A%20%20%20%20%20%20%20%20%20%20%20%20%20%20%20%20%7B%22bubblingMouseEvents%22%3A%20true%2C%20%22color%22%3A%20%22%233388ff%22%2C%20%22dashArray%22%3A%20null%2C%20%22dashOffset%22%3A%20null%2C%20%22fill%22%3A%20true%2C%20%22fillColor%22%3A%20%22red%22%2C%20%22fillOpacity%22%3A%200.2%2C%20%22fillRule%22%3A%20%22evenodd%22%2C%20%22lineCap%22%3A%20%22round%22%2C%20%22lineJoin%22%3A%20%22round%22%2C%20%22opacity%22%3A%201.0%2C%20%22radius%22%3A%201.0101672302782327%2C%20%22stroke%22%3A%20true%2C%20%22weight%22%3A%203%7D%0A%20%20%20%20%20%20%20%20%20%20%20%20%29.addTo%28map_adb6d74cb18349f3821b952856c762ca%29%3B%0A%20%20%20%20%20%20%20%20%0A%20%20%20%20%0A%20%20%20%20%20%20%20%20var%20popup_ccb9fa40696e4849bc25ed209be8fca4%20%3D%20L.popup%28%7B%22maxWidth%22%3A%20%22100%25%22%7D%29%3B%0A%0A%20%20%20%20%20%20%20%20%0A%20%20%20%20%20%20%20%20%20%20%20%20var%20html_35baf119705f45d78a28076d55c26e92%20%3D%20%24%28%60%3Cdiv%20id%3D%22html_35baf119705f45d78a28076d55c26e92%22%20style%3D%22width%3A%20100.0%25%3B%20height%3A%20100.0%25%3B%22%3EMicronesia%2C%20Fed.%20Sts.%3C/div%3E%60%29%5B0%5D%3B%0A%20%20%20%20%20%20%20%20%20%20%20%20popup_ccb9fa40696e4849bc25ed209be8fca4.setContent%28html_35baf119705f45d78a28076d55c26e92%29%3B%0A%20%20%20%20%20%20%20%20%0A%0A%20%20%20%20%20%20%20%20circle_marker_767568542d4e4dbea386eb86b8d7d928.bindPopup%28popup_ccb9fa40696e4849bc25ed209be8fca4%29%0A%20%20%20%20%20%20%20%20%3B%0A%0A%20%20%20%20%20%20%20%20%0A%20%20%20%20%0A%20%20%20%20%0A%20%20%20%20%20%20%20%20%20%20%20%20var%20circle_marker_a6e05bfe7fd94aca940b1fbba4175129%20%3D%20L.circleMarker%28%0A%20%20%20%20%20%20%20%20%20%20%20%20%20%20%20%20%5B-1.0%2C%2011.75%5D%2C%0A%20%20%20%20%20%20%20%20%20%20%20%20%20%20%20%20%7B%22bubblingMouseEvents%22%3A%20true%2C%20%22color%22%3A%20%22%233388ff%22%2C%20%22dashArray%22%3A%20null%2C%20%22dashOffset%22%3A%20null%2C%20%22fill%22%3A%20true%2C%20%22fillColor%22%3A%20%22blue%22%2C%20%22fillOpacity%22%3A%200.2%2C%20%22fillRule%22%3A%20%22evenodd%22%2C%20%22lineCap%22%3A%20%22round%22%2C%20%22lineJoin%22%3A%20%22round%22%2C%20%22opacity%22%3A%201.0%2C%20%22radius%22%3A%201.7743739978493467%2C%20%22stroke%22%3A%20true%2C%20%22weight%22%3A%203%7D%0A%20%20%20%20%20%20%20%20%20%20%20%20%29.addTo%28map_adb6d74cb18349f3821b952856c762ca%29%3B%0A%20%20%20%20%20%20%20%20%0A%20%20%20%20%0A%20%20%20%20%20%20%20%20var%20popup_eb52bbd56e6a4b79b1d84436a845a676%20%3D%20L.popup%28%7B%22maxWidth%22%3A%20%22100%25%22%7D%29%3B%0A%0A%20%20%20%20%20%20%20%20%0A%20%20%20%20%20%20%20%20%20%20%20%20var%20html_23ef898979894042bc5ffa9a890df337%20%3D%20%24%28%60%3Cdiv%20id%3D%22html_23ef898979894042bc5ffa9a890df337%22%20style%3D%22width%3A%20100.0%25%3B%20height%3A%20100.0%25%3B%22%3EGabon%3C/div%3E%60%29%5B0%5D%3B%0A%20%20%20%20%20%20%20%20%20%20%20%20popup_eb52bbd56e6a4b79b1d84436a845a676.setContent%28html_23ef898979894042bc5ffa9a890df337%29%3B%0A%20%20%20%20%20%20%20%20%0A%0A%20%20%20%20%20%20%20%20circle_marker_a6e05bfe7fd94aca940b1fbba4175129.bindPopup%28popup_eb52bbd56e6a4b79b1d84436a845a676%29%0A%20%20%20%20%20%20%20%20%3B%0A%0A%20%20%20%20%20%20%20%20%0A%20%20%20%20%0A%20%20%20%20%0A%20%20%20%20%20%20%20%20%20%20%20%20var%20circle_marker_711b75077a264bc5a63c69796b6940b1%20%3D%20L.circleMarker%28%0A%20%20%20%20%20%20%20%20%20%20%20%20%20%20%20%20%5B54.75844%2C%20-2.69531%5D%2C%0A%20%20%20%20%20%20%20%20%20%20%20%20%20%20%20%20%7B%22bubblingMouseEvents%22%3A%20true%2C%20%22color%22%3A%20%22%233388ff%22%2C%20%22dashArray%22%3A%20null%2C%20%22dashOffset%22%3A%20null%2C%20%22fill%22%3A%20true%2C%20%22fillColor%22%3A%20%22black%22%2C%20%22fillOpacity%22%3A%200.2%2C%20%22fillRule%22%3A%20%22evenodd%22%2C%20%22lineCap%22%3A%20%22round%22%2C%20%22lineJoin%22%3A%20%22round%22%2C%20%22opacity%22%3A%201.0%2C%20%22radius%22%3A%204.516844160364442%2C%20%22stroke%22%3A%20true%2C%20%22weight%22%3A%203%7D%0A%20%20%20%20%20%20%20%20%20%20%20%20%29.addTo%28map_adb6d74cb18349f3821b952856c762ca%29%3B%0A%20%20%20%20%20%20%20%20%0A%20%20%20%20%0A%20%20%20%20%20%20%20%20var%20popup_1969495e1010438c86ff4b022465037f%20%3D%20L.popup%28%7B%22maxWidth%22%3A%20%22100%25%22%7D%29%3B%0A%0A%20%20%20%20%20%20%20%20%0A%20%20%20%20%20%20%20%20%20%20%20%20var%20html_b1986c78501149368937ddf1d294d5fd%20%3D%20%24%28%60%3Cdiv%20id%3D%22html_b1986c78501149368937ddf1d294d5fd%22%20style%3D%22width%3A%20100.0%25%3B%20height%3A%20100.0%25%3B%22%3EUnited%20Kingdom%3C/div%3E%60%29%5B0%5D%3B%0A%20%20%20%20%20%20%20%20%20%20%20%20popup_1969495e1010438c86ff4b022465037f.setContent%28html_b1986c78501149368937ddf1d294d5fd%29%3B%0A%20%20%20%20%20%20%20%20%0A%0A%20%20%20%20%20%20%20%20circle_marker_711b75077a264bc5a63c69796b6940b1.bindPopup%28popup_1969495e1010438c86ff4b022465037f%29%0A%20%20%20%20%20%20%20%20%3B%0A%0A%20%20%20%20%20%20%20%20%0A%20%20%20%20%0A%20%20%20%20%0A%20%20%20%20%20%20%20%20%20%20%20%20var%20circle_marker_0ccf9b059862462096d2a2b3c7c4a083%20%3D%20L.circleMarker%28%0A%20%20%20%20%20%20%20%20%20%20%20%20%20%20%20%20%5B41.99998%2C%2043.4999%5D%2C%0A%20%20%20%20%20%20%20%20%20%20%20%20%20%20%20%20%7B%22bubblingMouseEvents%22%3A%20true%2C%20%22color%22%3A%20%22%233388ff%22%2C%20%22dashArray%22%3A%20null%2C%20%22dashOffset%22%3A%20null%2C%20%22fill%22%3A%20true%2C%20%22fillColor%22%3A%20%22black%22%2C%20%22fillOpacity%22%3A%200.2%2C%20%22fillRule%22%3A%20%22evenodd%22%2C%20%22lineCap%22%3A%20%22round%22%2C%20%22lineJoin%22%3A%20%22round%22%2C%20%22opacity%22%3A%201.0%2C%20%22radius%22%3A%204.2953024311538215%2C%20%22stroke%22%3A%20true%2C%20%22weight%22%3A%203%7D%0A%20%20%20%20%20%20%20%20%20%20%20%20%29.addTo%28map_adb6d74cb18349f3821b952856c762ca%29%3B%0A%20%20%20%20%20%20%20%20%0A%20%20%20%20%0A%20%20%20%20%20%20%20%20var%20popup_aa4ac0e70f6c4c28bd77b6063a737f08%20%3D%20L.popup%28%7B%22maxWidth%22%3A%20%22100%25%22%7D%29%3B%0A%0A%20%20%20%20%20%20%20%20%0A%20%20%20%20%20%20%20%20%20%20%20%20var%20html_12578b20bdbd4a1496044de74458f6a3%20%3D%20%24%28%60%3Cdiv%20id%3D%22html_12578b20bdbd4a1496044de74458f6a3%22%20style%3D%22width%3A%20100.0%25%3B%20height%3A%20100.0%25%3B%22%3EGeorgia%3C/div%3E%60%29%5B0%5D%3B%0A%20%20%20%20%20%20%20%20%20%20%20%20popup_aa4ac0e70f6c4c28bd77b6063a737f08.setContent%28html_12578b20bdbd4a1496044de74458f6a3%29%3B%0A%20%20%20%20%20%20%20%20%0A%0A%20%20%20%20%20%20%20%20circle_marker_0ccf9b059862462096d2a2b3c7c4a083.bindPopup%28popup_aa4ac0e70f6c4c28bd77b6063a737f08%29%0A%20%20%20%20%20%20%20%20%3B%0A%0A%20%20%20%20%20%20%20%20%0A%20%20%20%20%0A%20%20%20%20%0A%20%20%20%20%20%20%20%20%20%20%20%20var%20circle_marker_f1f20164e4ea4d97b8a000150337651c%20%3D%20L.circleMarker%28%0A%20%20%20%20%20%20%20%20%20%20%20%20%20%20%20%20%5B8.1%2C%20-1.2%5D%2C%0A%20%20%20%20%20%20%20%20%20%20%20%20%20%20%20%20%7B%22bubblingMouseEvents%22%3A%20true%2C%20%22color%22%3A%20%22%233388ff%22%2C%20%22dashArray%22%3A%20null%2C%20%22dashOffset%22%3A%20null%2C%20%22fill%22%3A%20true%2C%20%22fillColor%22%3A%20%22blue%22%2C%20%22fillOpacity%22%3A%200.2%2C%20%22fillRule%22%3A%20%22evenodd%22%2C%20%22lineCap%22%3A%20%22round%22%2C%20%22lineJoin%22%3A%20%22round%22%2C%20%22opacity%22%3A%201.0%2C%20%22radius%22%3A%2015.016869987417403%2C%20%22stroke%22%3A%20true%2C%20%22weight%22%3A%203%7D%0A%20%20%20%20%20%20%20%20%20%20%20%20%29.addTo%28map_adb6d74cb18349f3821b952856c762ca%29%3B%0A%20%20%20%20%20%20%20%20%0A%20%20%20%20%0A%20%20%20%20%20%20%20%20var%20popup_de395ff756d94a4a832464cdf84cb8db%20%3D%20L.popup%28%7B%22maxWidth%22%3A%20%22100%25%22%7D%29%3B%0A%0A%20%20%20%20%20%20%20%20%0A%20%20%20%20%20%20%20%20%20%20%20%20var%20html_df288fe5de984702952480bd68d04cc9%20%3D%20%24%28%60%3Cdiv%20id%3D%22html_df288fe5de984702952480bd68d04cc9%22%20style%3D%22width%3A%20100.0%25%3B%20height%3A%20100.0%25%3B%22%3EGhana%3C/div%3E%60%29%5B0%5D%3B%0A%20%20%20%20%20%20%20%20%20%20%20%20popup_de395ff756d94a4a832464cdf84cb8db.setContent%28html_df288fe5de984702952480bd68d04cc9%29%3B%0A%20%20%20%20%20%20%20%20%0A%0A%20%20%20%20%20%20%20%20circle_marker_f1f20164e4ea4d97b8a000150337651c.bindPopup%28popup_de395ff756d94a4a832464cdf84cb8db%29%0A%20%20%20%20%20%20%20%20%3B%0A%0A%20%20%20%20%20%20%20%20%0A%20%20%20%20%0A%20%20%20%20%0A%20%20%20%20%20%20%20%20%20%20%20%20var%20circle_marker_968950a8a354481fa3bba6d451c89dbc%20%3D%20L.circleMarker%28%0A%20%20%20%20%20%20%20%20%20%20%20%20%20%20%20%20%5B10.83333%2C%20-10.66667%5D%2C%0A%20%20%20%20%20%20%20%20%20%20%20%20%20%20%20%20%7B%22bubblingMouseEvents%22%3A%20true%2C%20%22color%22%3A%20%22%233388ff%22%2C%20%22dashArray%22%3A%20null%2C%20%22dashOffset%22%3A%20null%2C%20%22fill%22%3A%20true%2C%20%22fillColor%22%3A%20%22blue%22%2C%20%22fillOpacity%22%3A%200.2%2C%20%22fillRule%22%3A%20%22evenodd%22%2C%20%22lineCap%22%3A%20%22round%22%2C%20%22lineJoin%22%3A%20%22round%22%2C%20%22opacity%22%3A%201.0%2C%20%22radius%22%3A%2011.514913134644747%2C%20%22stroke%22%3A%20true%2C%20%22weight%22%3A%203%7D%0A%20%20%20%20%20%20%20%20%20%20%20%20%29.addTo%28map_adb6d74cb18349f3821b952856c762ca%29%3B%0A%20%20%20%20%20%20%20%20%0A%20%20%20%20%0A%20%20%20%20%20%20%20%20var%20popup_299b46dd320b418b80cbdc16d7917fb9%20%3D%20L.popup%28%7B%22maxWidth%22%3A%20%22100%25%22%7D%29%3B%0A%0A%20%20%20%20%20%20%20%20%0A%20%20%20%20%20%20%20%20%20%20%20%20var%20html_2fecbe098ab04e658fd860887bc321ce%20%3D%20%24%28%60%3Cdiv%20id%3D%22html_2fecbe098ab04e658fd860887bc321ce%22%20style%3D%22width%3A%20100.0%25%3B%20height%3A%20100.0%25%3B%22%3EGuinea%3C/div%3E%60%29%5B0%5D%3B%0A%20%20%20%20%20%20%20%20%20%20%20%20popup_299b46dd320b418b80cbdc16d7917fb9.setContent%28html_2fecbe098ab04e658fd860887bc321ce%29%3B%0A%20%20%20%20%20%20%20%20%0A%0A%20%20%20%20%20%20%20%20circle_marker_968950a8a354481fa3bba6d451c89dbc.bindPopup%28popup_299b46dd320b418b80cbdc16d7917fb9%29%0A%20%20%20%20%20%20%20%20%3B%0A%0A%20%20%20%20%20%20%20%20%0A%20%20%20%20%0A%20%20%20%20%0A%20%20%20%20%20%20%20%20%20%20%20%20var%20circle_marker_bcdc895542d6480d85c6a121a356c3a8%20%3D%20L.circleMarker%28%0A%20%20%20%20%20%20%20%20%20%20%20%20%20%20%20%20%5B13.5%2C%20-15.5%5D%2C%0A%20%20%20%20%20%20%20%20%20%20%20%20%20%20%20%20%7B%22bubblingMouseEvents%22%3A%20true%2C%20%22color%22%3A%20%22%233388ff%22%2C%20%22dashArray%22%3A%20null%2C%20%22dashOffset%22%3A%20null%2C%20%22fill%22%3A%20true%2C%20%22fillColor%22%3A%20%22blue%22%2C%20%22fillOpacity%22%3A%200.2%2C%20%22fillRule%22%3A%20%22evenodd%22%2C%20%22lineCap%22%3A%20%22round%22%2C%20%22lineJoin%22%3A%20%22round%22%2C%20%22opacity%22%3A%201.0%2C%20%22radius%22%3A%204.381298115773378%2C%20%22stroke%22%3A%20true%2C%20%22weight%22%3A%203%7D%0A%20%20%20%20%20%20%20%20%20%20%20%20%29.addTo%28map_adb6d74cb18349f3821b952856c762ca%29%3B%0A%20%20%20%20%20%20%20%20%0A%20%20%20%20%0A%20%20%20%20%20%20%20%20var%20popup_18de78de37ec4ec19266eeae10a5aac0%20%3D%20L.popup%28%7B%22maxWidth%22%3A%20%22100%25%22%7D%29%3B%0A%0A%20%20%20%20%20%20%20%20%0A%20%20%20%20%20%20%20%20%20%20%20%20var%20html_70a197c6927a4e079e7019dcd0407202%20%3D%20%24%28%60%3Cdiv%20id%3D%22html_70a197c6927a4e079e7019dcd0407202%22%20style%3D%22width%3A%20100.0%25%3B%20height%3A%20100.0%25%3B%22%3EGambia%3C/div%3E%60%29%5B0%5D%3B%0A%20%20%20%20%20%20%20%20%20%20%20%20popup_18de78de37ec4ec19266eeae10a5aac0.setContent%28html_70a197c6927a4e079e7019dcd0407202%29%3B%0A%20%20%20%20%20%20%20%20%0A%0A%20%20%20%20%20%20%20%20circle_marker_bcdc895542d6480d85c6a121a356c3a8.bindPopup%28popup_18de78de37ec4ec19266eeae10a5aac0%29%0A%20%20%20%20%20%20%20%20%3B%0A%0A%20%20%20%20%20%20%20%20%0A%20%20%20%20%0A%20%20%20%20%0A%20%20%20%20%20%20%20%20%20%20%20%20var%20circle_marker_c498e327929941cd90db4e3b15d30a7b%20%3D%20L.circleMarker%28%0A%20%20%20%20%20%20%20%20%20%20%20%20%20%20%20%20%5B12.0%2C%20-15.0%5D%2C%0A%20%20%20%20%20%20%20%20%20%20%20%20%20%20%20%20%7B%22bubblingMouseEvents%22%3A%20true%2C%20%22color%22%3A%20%22%233388ff%22%2C%20%22dashArray%22%3A%20null%2C%20%22dashOffset%22%3A%20null%2C%20%22fill%22%3A%20true%2C%20%22fillColor%22%3A%20%22blue%22%2C%20%22fillOpacity%22%3A%200.2%2C%20%22fillRule%22%3A%20%22evenodd%22%2C%20%22lineCap%22%3A%20%22round%22%2C%20%22lineJoin%22%3A%20%22round%22%2C%20%22opacity%22%3A%201.0%2C%20%22radius%22%3A%204.868250000644995%2C%20%22stroke%22%3A%20true%2C%20%22weight%22%3A%203%7D%0A%20%20%20%20%20%20%20%20%20%20%20%20%29.addTo%28map_adb6d74cb18349f3821b952856c762ca%29%3B%0A%20%20%20%20%20%20%20%20%0A%20%20%20%20%0A%20%20%20%20%20%20%20%20var%20popup_a3e6285a217a4541b9362c22c4410761%20%3D%20L.popup%28%7B%22maxWidth%22%3A%20%22100%25%22%7D%29%3B%0A%0A%20%20%20%20%20%20%20%20%0A%20%20%20%20%20%20%20%20%20%20%20%20var%20html_049cd36a82de4e83bb95218661818687%20%3D%20%24%28%60%3Cdiv%20id%3D%22html_049cd36a82de4e83bb95218661818687%22%20style%3D%22width%3A%20100.0%25%3B%20height%3A%20100.0%25%3B%22%3EGuinea-Bissau%3C/div%3E%60%29%5B0%5D%3B%0A%20%20%20%20%20%20%20%20%20%20%20%20popup_a3e6285a217a4541b9362c22c4410761.setContent%28html_049cd36a82de4e83bb95218661818687%29%3B%0A%20%20%20%20%20%20%20%20%0A%0A%20%20%20%20%20%20%20%20circle_marker_c498e327929941cd90db4e3b15d30a7b.bindPopup%28popup_a3e6285a217a4541b9362c22c4410761%29%0A%20%20%20%20%20%20%20%20%3B%0A%0A%20%20%20%20%20%20%20%20%0A%20%20%20%20%0A%20%20%20%20%0A%20%20%20%20%20%20%20%20%20%20%20%20var%20circle_marker_374bc0b18d33402da6f8fd9c7a26015f%20%3D%20L.circleMarker%28%0A%20%20%20%20%20%20%20%20%20%20%20%20%20%20%20%20%5B39.0%2C%2022.0%5D%2C%0A%20%20%20%20%20%20%20%20%20%20%20%20%20%20%20%20%7B%22bubblingMouseEvents%22%3A%20true%2C%20%22color%22%3A%20%22%233388ff%22%2C%20%22dashArray%22%3A%20null%2C%20%22dashOffset%22%3A%20null%2C%20%22fill%22%3A%20true%2C%20%22fillColor%22%3A%20%22black%22%2C%20%22fillOpacity%22%3A%200.2%2C%20%22fillRule%22%3A%20%22evenodd%22%2C%20%22lineCap%22%3A%20%22round%22%2C%20%22lineJoin%22%3A%20%22round%22%2C%20%22opacity%22%3A%201.0%2C%20%22radius%22%3A%202.178977304449507%2C%20%22stroke%22%3A%20true%2C%20%22weight%22%3A%203%7D%0A%20%20%20%20%20%20%20%20%20%20%20%20%29.addTo%28map_adb6d74cb18349f3821b952856c762ca%29%3B%0A%20%20%20%20%20%20%20%20%0A%20%20%20%20%0A%20%20%20%20%20%20%20%20var%20popup_d40a81c9552842429b2a3a7a8966acd7%20%3D%20L.popup%28%7B%22maxWidth%22%3A%20%22100%25%22%7D%29%3B%0A%0A%20%20%20%20%20%20%20%20%0A%20%20%20%20%20%20%20%20%20%20%20%20var%20html_b6fd660bc9374746b0820f3b4a2d04cb%20%3D%20%24%28%60%3Cdiv%20id%3D%22html_b6fd660bc9374746b0820f3b4a2d04cb%22%20style%3D%22width%3A%20100.0%25%3B%20height%3A%20100.0%25%3B%22%3EGreece%3C/div%3E%60%29%5B0%5D%3B%0A%20%20%20%20%20%20%20%20%20%20%20%20popup_d40a81c9552842429b2a3a7a8966acd7.setContent%28html_b6fd660bc9374746b0820f3b4a2d04cb%29%3B%0A%20%20%20%20%20%20%20%20%0A%0A%20%20%20%20%20%20%20%20circle_marker_374bc0b18d33402da6f8fd9c7a26015f.bindPopup%28popup_d40a81c9552842429b2a3a7a8966acd7%29%0A%20%20%20%20%20%20%20%20%3B%0A%0A%20%20%20%20%20%20%20%20%0A%20%20%20%20%0A%20%20%20%20%0A%20%20%20%20%20%20%20%20%20%20%20%20var%20circle_marker_e656ab60da554b77bc4ab96353966cdc%20%3D%20L.circleMarker%28%0A%20%20%20%20%20%20%20%20%20%20%20%20%20%20%20%20%5B14.64072%2C%20-90.51327%5D%2C%0A%20%20%20%20%20%20%20%20%20%20%20%20%20%20%20%20%7B%22bubblingMouseEvents%22%3A%20true%2C%20%22color%22%3A%20%22%233388ff%22%2C%20%22dashArray%22%3A%20null%2C%20%22dashOffset%22%3A%20null%2C%20%22fill%22%3A%20true%2C%20%22fillColor%22%3A%20%22green%22%2C%20%22fillOpacity%22%3A%200.2%2C%20%22fillRule%22%3A%20%22evenodd%22%2C%20%22lineCap%22%3A%20%22round%22%2C%20%22lineJoin%22%3A%20%22round%22%2C%20%22opacity%22%3A%201.0%2C%20%22radius%22%3A%207.987553755377376%2C%20%22stroke%22%3A%20true%2C%20%22weight%22%3A%203%7D%0A%20%20%20%20%20%20%20%20%20%20%20%20%29.addTo%28map_adb6d74cb18349f3821b952856c762ca%29%3B%0A%20%20%20%20%20%20%20%20%0A%20%20%20%20%0A%20%20%20%20%20%20%20%20var%20popup_edb49a93586049b88f70c8c8e080d244%20%3D%20L.popup%28%7B%22maxWidth%22%3A%20%22100%25%22%7D%29%3B%0A%0A%20%20%20%20%20%20%20%20%0A%20%20%20%20%20%20%20%20%20%20%20%20var%20html_f51ba67df2154bc6a63f62963b7a75be%20%3D%20%24%28%60%3Cdiv%20id%3D%22html_f51ba67df2154bc6a63f62963b7a75be%22%20style%3D%22width%3A%20100.0%25%3B%20height%3A%20100.0%25%3B%22%3EGuatemala%3C/div%3E%60%29%5B0%5D%3B%0A%20%20%20%20%20%20%20%20%20%20%20%20popup_edb49a93586049b88f70c8c8e080d244.setContent%28html_f51ba67df2154bc6a63f62963b7a75be%29%3B%0A%20%20%20%20%20%20%20%20%0A%0A%20%20%20%20%20%20%20%20circle_marker_e656ab60da554b77bc4ab96353966cdc.bindPopup%28popup_edb49a93586049b88f70c8c8e080d244%29%0A%20%20%20%20%20%20%20%20%3B%0A%0A%20%20%20%20%20%20%20%20%0A%20%20%20%20%0A%20%20%20%20%0A%20%20%20%20%20%20%20%20%20%20%20%20var%20circle_marker_e88861265cdc4bacab3eeebce54a2848%20%3D%20L.circleMarker%28%0A%20%20%20%20%20%20%20%20%20%20%20%20%20%20%20%20%5B5.0%2C%20-59.0%5D%2C%0A%20%20%20%20%20%20%20%20%20%20%20%20%20%20%20%20%7B%22bubblingMouseEvents%22%3A%20true%2C%20%22color%22%3A%20%22%233388ff%22%2C%20%22dashArray%22%3A%20null%2C%20%22dashOffset%22%3A%20null%2C%20%22fill%22%3A%20true%2C%20%22fillColor%22%3A%20%22green%22%2C%20%22fillOpacity%22%3A%200.2%2C%20%22fillRule%22%3A%20%22evenodd%22%2C%20%22lineCap%22%3A%20%22round%22%2C%20%22lineJoin%22%3A%20%22round%22%2C%20%22opacity%22%3A%201.0%2C%20%22radius%22%3A%201.4406180819073164%2C%20%22stroke%22%3A%20true%2C%20%22weight%22%3A%203%7D%0A%20%20%20%20%20%20%20%20%20%20%20%20%29.addTo%28map_adb6d74cb18349f3821b952856c762ca%29%3B%0A%20%20%20%20%20%20%20%20%0A%20%20%20%20%0A%20%20%20%20%20%20%20%20var%20popup_b5f42de5bbd5452593b64f60c8395763%20%3D%20L.popup%28%7B%22maxWidth%22%3A%20%22100%25%22%7D%29%3B%0A%0A%20%20%20%20%20%20%20%20%0A%20%20%20%20%20%20%20%20%20%20%20%20var%20html_0504094a5c0a4d969e42449dac0e06c8%20%3D%20%24%28%60%3Cdiv%20id%3D%22html_0504094a5c0a4d969e42449dac0e06c8%22%20style%3D%22width%3A%20100.0%25%3B%20height%3A%20100.0%25%3B%22%3EGuyana%3C/div%3E%60%29%5B0%5D%3B%0A%20%20%20%20%20%20%20%20%20%20%20%20popup_b5f42de5bbd5452593b64f60c8395763.setContent%28html_0504094a5c0a4d969e42449dac0e06c8%29%3B%0A%20%20%20%20%20%20%20%20%0A%0A%20%20%20%20%20%20%20%20circle_marker_e88861265cdc4bacab3eeebce54a2848.bindPopup%28popup_b5f42de5bbd5452593b64f60c8395763%29%0A%20%20%20%20%20%20%20%20%3B%0A%0A%20%20%20%20%20%20%20%20%0A%20%20%20%20%0A%20%20%20%20%0A%20%20%20%20%20%20%20%20%20%20%20%20var%20circle_marker_70d7524d2d654fe8abd6fcce1b546904%20%3D%20L.circleMarker%28%0A%20%20%20%20%20%20%20%20%20%20%20%20%20%20%20%20%5B15.0%2C%20-86.5%5D%2C%0A%20%20%20%20%20%20%20%20%20%20%20%20%20%20%20%20%7B%22bubblingMouseEvents%22%3A%20true%2C%20%22color%22%3A%20%22%233388ff%22%2C%20%22dashArray%22%3A%20null%2C%20%22dashOffset%22%3A%20null%2C%20%22fill%22%3A%20true%2C%20%22fillColor%22%3A%20%22green%22%2C%20%22fillOpacity%22%3A%200.2%2C%20%22fillRule%22%3A%20%22evenodd%22%2C%20%22lineCap%22%3A%20%22round%22%2C%20%22lineJoin%22%3A%20%22round%22%2C%20%22opacity%22%3A%201.0%2C%20%22radius%22%3A%206.605402401670616%2C%20%22stroke%22%3A%20true%2C%20%22weight%22%3A%203%7D%0A%20%20%20%20%20%20%20%20%20%20%20%20%29.addTo%28map_adb6d74cb18349f3821b952856c762ca%29%3B%0A%20%20%20%20%20%20%20%20%0A%20%20%20%20%0A%20%20%20%20%20%20%20%20var%20popup_1287415e3edd4d039f7fc479d3239057%20%3D%20L.popup%28%7B%22maxWidth%22%3A%20%22100%25%22%7D%29%3B%0A%0A%20%20%20%20%20%20%20%20%0A%20%20%20%20%20%20%20%20%20%20%20%20var%20html_9871386ffd8042c082d36107a21b0dbd%20%3D%20%24%28%60%3Cdiv%20id%3D%22html_9871386ffd8042c082d36107a21b0dbd%22%20style%3D%22width%3A%20100.0%25%3B%20height%3A%20100.0%25%3B%22%3EHonduras%3C/div%3E%60%29%5B0%5D%3B%0A%20%20%20%20%20%20%20%20%20%20%20%20popup_1287415e3edd4d039f7fc479d3239057.setContent%28html_9871386ffd8042c082d36107a21b0dbd%29%3B%0A%20%20%20%20%20%20%20%20%0A%0A%20%20%20%20%20%20%20%20circle_marker_70d7524d2d654fe8abd6fcce1b546904.bindPopup%28popup_1287415e3edd4d039f7fc479d3239057%29%0A%20%20%20%20%20%20%20%20%3B%0A%0A%20%20%20%20%20%20%20%20%0A%20%20%20%20%0A%20%20%20%20%0A%20%20%20%20%20%20%20%20%20%20%20%20var%20circle_marker_d6fba880c5d740a7a44f16abe33916e3%20%3D%20L.circleMarker%28%0A%20%20%20%20%20%20%20%20%20%20%20%20%20%20%20%20%5B45.16667%2C%2015.5%5D%2C%0A%20%20%20%20%20%20%20%20%20%20%20%20%20%20%20%20%7B%22bubblingMouseEvents%22%3A%20true%2C%20%22color%22%3A%20%22%233388ff%22%2C%20%22dashArray%22%3A%20null%2C%20%22dashOffset%22%3A%20null%2C%20%22fill%22%3A%20true%2C%20%22fillColor%22%3A%20%22black%22%2C%20%22fillOpacity%22%3A%200.2%2C%20%22fillRule%22%3A%20%22evenodd%22%2C%20%22lineCap%22%3A%20%22round%22%2C%20%22lineJoin%22%3A%20%22round%22%2C%20%22opacity%22%3A%201.0%2C%20%22stroke%22%3A%20true%2C%20%22weight%22%3A%203%7D%0A%20%20%20%20%20%20%20%20%20%20%20%20%29.addTo%28map_adb6d74cb18349f3821b952856c762ca%29%3B%0A%20%20%20%20%20%20%20%20%0A%20%20%20%20%0A%20%20%20%20%20%20%20%20var%20popup_6059eec02c46412e8278c8c627d4d7b0%20%3D%20L.popup%28%7B%22maxWidth%22%3A%20%22100%25%22%7D%29%3B%0A%0A%20%20%20%20%20%20%20%20%0A%20%20%20%20%20%20%20%20%20%20%20%20var%20html_bd6ae732cd49445d9b314304463dbf73%20%3D%20%24%28%60%3Cdiv%20id%3D%22html_bd6ae732cd49445d9b314304463dbf73%22%20style%3D%22width%3A%20100.0%25%3B%20height%3A%20100.0%25%3B%22%3ECroatia%3C/div%3E%60%29%5B0%5D%3B%0A%20%20%20%20%20%20%20%20%20%20%20%20popup_6059eec02c46412e8278c8c627d4d7b0.setContent%28html_bd6ae732cd49445d9b314304463dbf73%29%3B%0A%20%20%20%20%20%20%20%20%0A%0A%20%20%20%20%20%20%20%20circle_marker_d6fba880c5d740a7a44f16abe33916e3.bindPopup%28popup_6059eec02c46412e8278c8c627d4d7b0%29%0A%20%20%20%20%20%20%20%20%3B%0A%0A%20%20%20%20%20%20%20%20%0A%20%20%20%20%0A%20%20%20%20%0A%20%20%20%20%20%20%20%20%20%20%20%20var%20circle_marker_4319c4634c4142779cf11c70ca999618%20%3D%20L.circleMarker%28%0A%20%20%20%20%20%20%20%20%20%20%20%20%20%20%20%20%5B19.0%2C%20-72.41667%5D%2C%0A%20%20%20%20%20%20%20%20%20%20%20%20%20%20%20%20%7B%22bubblingMouseEvents%22%3A%20true%2C%20%22color%22%3A%20%22%233388ff%22%2C%20%22dashArray%22%3A%20null%2C%20%22dashOffset%22%3A%20null%2C%20%22fill%22%3A%20true%2C%20%22fillColor%22%3A%20%22green%22%2C%20%22fillOpacity%22%3A%200.2%2C%20%22fillRule%22%3A%20%22evenodd%22%2C%20%22lineCap%22%3A%20%22round%22%2C%20%22lineJoin%22%3A%20%22round%22%2C%20%22opacity%22%3A%201.0%2C%20%22radius%22%3A%2013.979752671774591%2C%20%22stroke%22%3A%20true%2C%20%22weight%22%3A%203%7D%0A%20%20%20%20%20%20%20%20%20%20%20%20%29.addTo%28map_adb6d74cb18349f3821b952856c762ca%29%3B%0A%20%20%20%20%20%20%20%20%0A%20%20%20%20%0A%20%20%20%20%20%20%20%20var%20popup_825c3d5e9662401abb0e714375d43189%20%3D%20L.popup%28%7B%22maxWidth%22%3A%20%22100%25%22%7D%29%3B%0A%0A%20%20%20%20%20%20%20%20%0A%20%20%20%20%20%20%20%20%20%20%20%20var%20html_c6f8cac7ad9640b29c8e8d952fdf32cc%20%3D%20%24%28%60%3Cdiv%20id%3D%22html_c6f8cac7ad9640b29c8e8d952fdf32cc%22%20style%3D%22width%3A%20100.0%25%3B%20height%3A%20100.0%25%3B%22%3EHaiti%3C/div%3E%60%29%5B0%5D%3B%0A%20%20%20%20%20%20%20%20%20%20%20%20popup_825c3d5e9662401abb0e714375d43189.setContent%28html_c6f8cac7ad9640b29c8e8d952fdf32cc%29%3B%0A%20%20%20%20%20%20%20%20%0A%0A%20%20%20%20%20%20%20%20circle_marker_4319c4634c4142779cf11c70ca999618.bindPopup%28popup_825c3d5e9662401abb0e714375d43189%29%0A%20%20%20%20%20%20%20%20%3B%0A%0A%20%20%20%20%20%20%20%20%0A%20%20%20%20%0A%20%20%20%20%0A%20%20%20%20%20%20%20%20%20%20%20%20var%20circle_marker_200fe7d00b8b4017aa8588b94f34f72d%20%3D%20L.circleMarker%28%0A%20%20%20%20%20%20%20%20%20%20%20%20%20%20%20%20%5B47.0%2C%2020.0%5D%2C%0A%20%20%20%20%20%20%20%20%20%20%20%20%20%20%20%20%7B%22bubblingMouseEvents%22%3A%20true%2C%20%22color%22%3A%20%22%233388ff%22%2C%20%22dashArray%22%3A%20null%2C%20%22dashOffset%22%3A%20null%2C%20%22fill%22%3A%20true%2C%20%22fillColor%22%3A%20%22black%22%2C%20%22fillOpacity%22%3A%200.2%2C%20%22fillRule%22%3A%20%22evenodd%22%2C%20%22lineCap%22%3A%20%22round%22%2C%20%22lineJoin%22%3A%20%22round%22%2C%20%22opacity%22%3A%201.0%2C%20%22radius%22%3A%200.39750349369739346%2C%20%22stroke%22%3A%20true%2C%20%22weight%22%3A%203%7D%0A%20%20%20%20%20%20%20%20%20%20%20%20%29.addTo%28map_adb6d74cb18349f3821b952856c762ca%29%3B%0A%20%20%20%20%20%20%20%20%0A%20%20%20%20%0A%20%20%20%20%20%20%20%20var%20popup_8d1603fc23c246959ea50ed4a7301b3a%20%3D%20L.popup%28%7B%22maxWidth%22%3A%20%22100%25%22%7D%29%3B%0A%0A%20%20%20%20%20%20%20%20%0A%20%20%20%20%20%20%20%20%20%20%20%20var%20html_4f8a4c2a24de488e968b744ab3a4f62f%20%3D%20%24%28%60%3Cdiv%20id%3D%22html_4f8a4c2a24de488e968b744ab3a4f62f%22%20style%3D%22width%3A%20100.0%25%3B%20height%3A%20100.0%25%3B%22%3EHungary%3C/div%3E%60%29%5B0%5D%3B%0A%20%20%20%20%20%20%20%20%20%20%20%20popup_8d1603fc23c246959ea50ed4a7301b3a.setContent%28html_4f8a4c2a24de488e968b744ab3a4f62f%29%3B%0A%20%20%20%20%20%20%20%20%0A%0A%20%20%20%20%20%20%20%20circle_marker_200fe7d00b8b4017aa8588b94f34f72d.bindPopup%28popup_8d1603fc23c246959ea50ed4a7301b3a%29%0A%20%20%20%20%20%20%20%20%3B%0A%0A%20%20%20%20%20%20%20%20%0A%20%20%20%20%0A%20%20%20%20%0A%20%20%20%20%20%20%20%20%20%20%20%20var%20circle_marker_be6ce577fcee4c0ab0621822210fb0a7%20%3D%20L.circleMarker%28%0A%20%20%20%20%20%20%20%20%20%20%20%20%20%20%20%20%5B-5.0%2C%20120.0%5D%2C%0A%20%20%20%20%20%20%20%20%20%20%20%20%20%20%20%20%7B%22bubblingMouseEvents%22%3A%20true%2C%20%22color%22%3A%20%22%233388ff%22%2C%20%22dashArray%22%3A%20null%2C%20%22dashOffset%22%3A%20null%2C%20%22fill%22%3A%20true%2C%20%22fillColor%22%3A%20%22red%22%2C%20%22fillOpacity%22%3A%200.2%2C%20%22fillRule%22%3A%20%22evenodd%22%2C%20%22lineCap%22%3A%20%22round%22%2C%20%22lineJoin%22%3A%20%22round%22%2C%20%22opacity%22%3A%201.0%2C%20%22radius%22%3A%2035.313556272281424%2C%20%22stroke%22%3A%20true%2C%20%22weight%22%3A%203%7D%0A%20%20%20%20%20%20%20%20%20%20%20%20%29.addTo%28map_adb6d74cb18349f3821b952856c762ca%29%3B%0A%20%20%20%20%20%20%20%20%0A%20%20%20%20%0A%20%20%20%20%20%20%20%20var%20popup_1ea94f33297a457c9f058bc997adbe2b%20%3D%20L.popup%28%7B%22maxWidth%22%3A%20%22100%25%22%7D%29%3B%0A%0A%20%20%20%20%20%20%20%20%0A%20%20%20%20%20%20%20%20%20%20%20%20var%20html_7368c070c84945f084782c5f75ddff40%20%3D%20%24%28%60%3Cdiv%20id%3D%22html_7368c070c84945f084782c5f75ddff40%22%20style%3D%22width%3A%20100.0%25%3B%20height%3A%20100.0%25%3B%22%3EIndonesia%3C/div%3E%60%29%5B0%5D%3B%0A%20%20%20%20%20%20%20%20%20%20%20%20popup_1ea94f33297a457c9f058bc997adbe2b.setContent%28html_7368c070c84945f084782c5f75ddff40%29%3B%0A%20%20%20%20%20%20%20%20%0A%0A%20%20%20%20%20%20%20%20circle_marker_be6ce577fcee4c0ab0621822210fb0a7.bindPopup%28popup_1ea94f33297a457c9f058bc997adbe2b%29%0A%20%20%20%20%20%20%20%20%3B%0A%0A%20%20%20%20%20%20%20%20%0A%20%20%20%20%0A%20%20%20%20%0A%20%20%20%20%20%20%20%20%20%20%20%20var%20circle_marker_7ef8a7b004a041a3aa41d10978ed04b0%20%3D%20L.circleMarker%28%0A%20%20%20%20%20%20%20%20%20%20%20%20%20%20%20%20%5B22.0%2C%2079.0%5D%2C%0A%20%20%20%20%20%20%20%20%20%20%20%20%20%20%20%20%7B%22bubblingMouseEvents%22%3A%20true%2C%20%22color%22%3A%20%22%233388ff%22%2C%20%22dashArray%22%3A%20null%2C%20%22dashOffset%22%3A%20null%2C%20%22fill%22%3A%20true%2C%20%22fillColor%22%3A%20%22red%22%2C%20%22fillOpacity%22%3A%200.2%2C%20%22fillRule%22%3A%20%22evenodd%22%2C%20%22lineCap%22%3A%20%22round%22%2C%20%22lineJoin%22%3A%20%22round%22%2C%20%22opacity%22%3A%201.0%2C%20%22radius%22%3A%2096.35271911284168%2C%20%22stroke%22%3A%20true%2C%20%22weight%22%3A%203%7D%0A%20%20%20%20%20%20%20%20%20%20%20%20%29.addTo%28map_adb6d74cb18349f3821b952856c762ca%29%3B%0A%20%20%20%20%20%20%20%20%0A%20%20%20%20%0A%20%20%20%20%20%20%20%20var%20popup_4110c7b78f8a4b039ea887a89fd03f94%20%3D%20L.popup%28%7B%22maxWidth%22%3A%20%22100%25%22%7D%29%3B%0A%0A%20%20%20%20%20%20%20%20%0A%20%20%20%20%20%20%20%20%20%20%20%20var%20html_28e95db322ab486f8595df277d68bfce%20%3D%20%24%28%60%3Cdiv%20id%3D%22html_28e95db322ab486f8595df277d68bfce%22%20style%3D%22width%3A%20100.0%25%3B%20height%3A%20100.0%25%3B%22%3EIndia%3C/div%3E%60%29%5B0%5D%3B%0A%20%20%20%20%20%20%20%20%20%20%20%20popup_4110c7b78f8a4b039ea887a89fd03f94.setContent%28html_28e95db322ab486f8595df277d68bfce%29%3B%0A%20%20%20%20%20%20%20%20%0A%0A%20%20%20%20%20%20%20%20circle_marker_7ef8a7b004a041a3aa41d10978ed04b0.bindPopup%28popup_4110c7b78f8a4b039ea887a89fd03f94%29%0A%20%20%20%20%20%20%20%20%3B%0A%0A%20%20%20%20%20%20%20%20%0A%20%20%20%20%0A%20%20%20%20%0A%20%20%20%20%20%20%20%20%20%20%20%20var%20circle_marker_39adcd41790844af8e0e2b3b1ddadb98%20%3D%20L.circleMarker%28%0A%20%20%20%20%20%20%20%20%20%20%20%20%20%20%20%20%5B53.0%2C%20-8.0%5D%2C%0A%20%20%20%20%20%20%20%20%20%20%20%20%20%20%20%20%7B%22bubblingMouseEvents%22%3A%20true%2C%20%22color%22%3A%20%22%233388ff%22%2C%20%22dashArray%22%3A%20null%2C%20%22dashOffset%22%3A%20null%2C%20%22fill%22%3A%20true%2C%20%22fillColor%22%3A%20%22black%22%2C%20%22fillOpacity%22%3A%200.2%2C%20%22fillRule%22%3A%20%22evenodd%22%2C%20%22lineCap%22%3A%20%22round%22%2C%20%22lineJoin%22%3A%20%22round%22%2C%20%22opacity%22%3A%201.0%2C%20%22radius%22%3A%200.7224270824013612%2C%20%22stroke%22%3A%20true%2C%20%22weight%22%3A%203%7D%0A%20%20%20%20%20%20%20%20%20%20%20%20%29.addTo%28map_adb6d74cb18349f3821b952856c762ca%29%3B%0A%20%20%20%20%20%20%20%20%0A%20%20%20%20%0A%20%20%20%20%20%20%20%20var%20popup_f0433f7844dd47a7b5bb784052ef928e%20%3D%20L.popup%28%7B%22maxWidth%22%3A%20%22100%25%22%7D%29%3B%0A%0A%20%20%20%20%20%20%20%20%0A%20%20%20%20%20%20%20%20%20%20%20%20var%20html_842ab9558a664866b3aba7828367d907%20%3D%20%24%28%60%3Cdiv%20id%3D%22html_842ab9558a664866b3aba7828367d907%22%20style%3D%22width%3A%20100.0%25%3B%20height%3A%20100.0%25%3B%22%3EIreland%3C/div%3E%60%29%5B0%5D%3B%0A%20%20%20%20%20%20%20%20%20%20%20%20popup_f0433f7844dd47a7b5bb784052ef928e.setContent%28html_842ab9558a664866b3aba7828367d907%29%3B%0A%20%20%20%20%20%20%20%20%0A%0A%20%20%20%20%20%20%20%20circle_marker_39adcd41790844af8e0e2b3b1ddadb98.bindPopup%28popup_f0433f7844dd47a7b5bb784052ef928e%29%0A%20%20%20%20%20%20%20%20%3B%0A%0A%20%20%20%20%20%20%20%20%0A%20%20%20%20%0A%20%20%20%20%0A%20%20%20%20%20%20%20%20%20%20%20%20var%20circle_marker_1034050e03b04c7dac30a7b79f6575f7%20%3D%20L.circleMarker%28%0A%20%20%20%20%20%20%20%20%20%20%20%20%20%20%20%20%5B32.0%2C%2053.0%5D%2C%0A%20%20%20%20%20%20%20%20%20%20%20%20%20%20%20%20%7B%22bubblingMouseEvents%22%3A%20true%2C%20%22color%22%3A%20%22%233388ff%22%2C%20%22dashArray%22%3A%20null%2C%20%22dashOffset%22%3A%20null%2C%20%22fill%22%3A%20true%2C%20%22fillColor%22%3A%20%22red%22%2C%20%22fillOpacity%22%3A%200.2%2C%20%22fillRule%22%3A%20%22evenodd%22%2C%20%22lineCap%22%3A%20%22round%22%2C%20%22lineJoin%22%3A%20%22round%22%2C%20%22opacity%22%3A%201.0%2C%20%22radius%22%3A%205.834814195302852%2C%20%22stroke%22%3A%20true%2C%20%22weight%22%3A%203%7D%0A%20%20%20%20%20%20%20%20%20%20%20%20%29.addTo%28map_adb6d74cb18349f3821b952856c762ca%29%3B%0A%20%20%20%20%20%20%20%20%0A%20%20%20%20%0A%20%20%20%20%20%20%20%20var%20popup_f24d8c941304437d8d46252f584d2e64%20%3D%20L.popup%28%7B%22maxWidth%22%3A%20%22100%25%22%7D%29%3B%0A%0A%20%20%20%20%20%20%20%20%0A%20%20%20%20%20%20%20%20%20%20%20%20var%20html_f34a529020ff4e3da91a0df9bcae8da9%20%3D%20%24%28%60%3Cdiv%20id%3D%22html_f34a529020ff4e3da91a0df9bcae8da9%22%20style%3D%22width%3A%20100.0%25%3B%20height%3A%20100.0%25%3B%22%3EIran%3C/div%3E%60%29%5B0%5D%3B%0A%20%20%20%20%20%20%20%20%20%20%20%20popup_f24d8c941304437d8d46252f584d2e64.setContent%28html_f34a529020ff4e3da91a0df9bcae8da9%29%3B%0A%20%20%20%20%20%20%20%20%0A%0A%20%20%20%20%20%20%20%20circle_marker_1034050e03b04c7dac30a7b79f6575f7.bindPopup%28popup_f24d8c941304437d8d46252f584d2e64%29%0A%20%20%20%20%20%20%20%20%3B%0A%0A%20%20%20%20%20%20%20%20%0A%20%20%20%20%0A%20%20%20%20%0A%20%20%20%20%20%20%20%20%20%20%20%20var%20circle_marker_ef2497de360a40708a4a70215c315446%20%3D%20L.circleMarker%28%0A%20%20%20%20%20%20%20%20%20%20%20%20%20%20%20%20%5B33.0%2C%2044.0%5D%2C%0A%20%20%20%20%20%20%20%20%20%20%20%20%20%20%20%20%7B%22bubblingMouseEvents%22%3A%20true%2C%20%22color%22%3A%20%22%233388ff%22%2C%20%22dashArray%22%3A%20null%2C%20%22dashOffset%22%3A%20null%2C%20%22fill%22%3A%20true%2C%20%22fillColor%22%3A%20%22red%22%2C%20%22fillOpacity%22%3A%200.2%2C%20%22fillRule%22%3A%20%22evenodd%22%2C%20%22lineCap%22%3A%20%22round%22%2C%20%22lineJoin%22%3A%20%22round%22%2C%20%22opacity%22%3A%201.0%2C%20%22radius%22%3A%206.084127448138132%2C%20%22stroke%22%3A%20true%2C%20%22weight%22%3A%203%7D%0A%20%20%20%20%20%20%20%20%20%20%20%20%29.addTo%28map_adb6d74cb18349f3821b952856c762ca%29%3B%0A%20%20%20%20%20%20%20%20%0A%20%20%20%20%0A%20%20%20%20%20%20%20%20var%20popup_ea11714ca17b4417af8efaa811fda2fe%20%3D%20L.popup%28%7B%22maxWidth%22%3A%20%22100%25%22%7D%29%3B%0A%0A%20%20%20%20%20%20%20%20%0A%20%20%20%20%20%20%20%20%20%20%20%20var%20html_02b7ea4fc1ef46a0bc837484c454d9f5%20%3D%20%24%28%60%3Cdiv%20id%3D%22html_02b7ea4fc1ef46a0bc837484c454d9f5%22%20style%3D%22width%3A%20100.0%25%3B%20height%3A%20100.0%25%3B%22%3EIraq%3C/div%3E%60%29%5B0%5D%3B%0A%20%20%20%20%20%20%20%20%20%20%20%20popup_ea11714ca17b4417af8efaa811fda2fe.setContent%28html_02b7ea4fc1ef46a0bc837484c454d9f5%29%3B%0A%20%20%20%20%20%20%20%20%0A%0A%20%20%20%20%20%20%20%20circle_marker_ef2497de360a40708a4a70215c315446.bindPopup%28popup_ea11714ca17b4417af8efaa811fda2fe%29%0A%20%20%20%20%20%20%20%20%3B%0A%0A%20%20%20%20%20%20%20%20%0A%20%20%20%20%0A%20%20%20%20%0A%20%20%20%20%20%20%20%20%20%20%20%20var%20circle_marker_18869a0aeb994349a9279156c9e52167%20%3D%20L.circleMarker%28%0A%20%20%20%20%20%20%20%20%20%20%20%20%20%20%20%20%5B31.5%2C%2034.75%5D%2C%0A%20%20%20%20%20%20%20%20%20%20%20%20%20%20%20%20%7B%22bubblingMouseEvents%22%3A%20true%2C%20%22color%22%3A%20%22%233388ff%22%2C%20%22dashArray%22%3A%20null%2C%20%22dashOffset%22%3A%20null%2C%20%22fill%22%3A%20true%2C%20%22fillColor%22%3A%20%22red%22%2C%20%22fillOpacity%22%3A%200.2%2C%20%22fillRule%22%3A%20%22evenodd%22%2C%20%22lineCap%22%3A%20%22round%22%2C%20%22lineJoin%22%3A%20%22round%22%2C%20%22opacity%22%3A%201.0%2C%20%22radius%22%3A%200.9549814945354589%2C%20%22stroke%22%3A%20true%2C%20%22weight%22%3A%203%7D%0A%20%20%20%20%20%20%20%20%20%20%20%20%29.addTo%28map_adb6d74cb18349f3821b952856c762ca%29%3B%0A%20%20%20%20%20%20%20%20%0A%20%20%20%20%0A%20%20%20%20%20%20%20%20var%20popup_f3252259ff7c475880921897335cf984%20%3D%20L.popup%28%7B%22maxWidth%22%3A%20%22100%25%22%7D%29%3B%0A%0A%20%20%20%20%20%20%20%20%0A%20%20%20%20%20%20%20%20%20%20%20%20var%20html_424f06d6f5ec4870a6eea5ed1ebecb65%20%3D%20%24%28%60%3Cdiv%20id%3D%22html_424f06d6f5ec4870a6eea5ed1ebecb65%22%20style%3D%22width%3A%20100.0%25%3B%20height%3A%20100.0%25%3B%22%3EIsrael%3C/div%3E%60%29%5B0%5D%3B%0A%20%20%20%20%20%20%20%20%20%20%20%20popup_f3252259ff7c475880921897335cf984.setContent%28html_424f06d6f5ec4870a6eea5ed1ebecb65%29%3B%0A%20%20%20%20%20%20%20%20%0A%0A%20%20%20%20%20%20%20%20circle_marker_18869a0aeb994349a9279156c9e52167.bindPopup%28popup_f3252259ff7c475880921897335cf984%29%0A%20%20%20%20%20%20%20%20%3B%0A%0A%20%20%20%20%20%20%20%20%0A%20%20%20%20%0A%20%20%20%20%0A%20%20%20%20%20%20%20%20%20%20%20%20var%20circle_marker_67879972bb564a80a26a0bb62885e8a4%20%3D%20L.circleMarker%28%0A%20%20%20%20%20%20%20%20%20%20%20%20%20%20%20%20%5B42.83333%2C%2012.83333%5D%2C%0A%20%20%20%20%20%20%20%20%20%20%20%20%20%20%20%20%7B%22bubblingMouseEvents%22%3A%20true%2C%20%22color%22%3A%20%22%233388ff%22%2C%20%22dashArray%22%3A%20null%2C%20%22dashOffset%22%3A%20null%2C%20%22fill%22%3A%20true%2C%20%22fillColor%22%3A%20%22black%22%2C%20%22fillOpacity%22%3A%200.2%2C%20%22fillRule%22%3A%20%22evenodd%22%2C%20%22lineCap%22%3A%20%22round%22%2C%20%22lineJoin%22%3A%20%22round%22%2C%20%22opacity%22%3A%201.0%2C%20%22radius%22%3A%205.049074400874107%2C%20%22stroke%22%3A%20true%2C%20%22weight%22%3A%203%7D%0A%20%20%20%20%20%20%20%20%20%20%20%20%29.addTo%28map_adb6d74cb18349f3821b952856c762ca%29%3B%0A%20%20%20%20%20%20%20%20%0A%20%20%20%20%0A%20%20%20%20%20%20%20%20var%20popup_9bc065150684419abba24a3ed3f5d8c3%20%3D%20L.popup%28%7B%22maxWidth%22%3A%20%22100%25%22%7D%29%3B%0A%0A%20%20%20%20%20%20%20%20%0A%20%20%20%20%20%20%20%20%20%20%20%20var%20html_b2d152cb608a48fc8142e7bb4ec18368%20%3D%20%24%28%60%3Cdiv%20id%3D%22html_b2d152cb608a48fc8142e7bb4ec18368%22%20style%3D%22width%3A%20100.0%25%3B%20height%3A%20100.0%25%3B%22%3EItaly%3C/div%3E%60%29%5B0%5D%3B%0A%20%20%20%20%20%20%20%20%20%20%20%20popup_9bc065150684419abba24a3ed3f5d8c3.setContent%28html_b2d152cb608a48fc8142e7bb4ec18368%29%3B%0A%20%20%20%20%20%20%20%20%0A%0A%20%20%20%20%20%20%20%20circle_marker_67879972bb564a80a26a0bb62885e8a4.bindPopup%28popup_9bc065150684419abba24a3ed3f5d8c3%29%0A%20%20%20%20%20%20%20%20%3B%0A%0A%20%20%20%20%20%20%20%20%0A%20%20%20%20%0A%20%20%20%20%0A%20%20%20%20%20%20%20%20%20%20%20%20var%20circle_marker_7deaaaf43eb54d4caef7b3ce9db650bf%20%3D%20L.circleMarker%28%0A%20%20%20%20%20%20%20%20%20%20%20%20%20%20%20%20%5B18.16667%2C%20-77.25%5D%2C%0A%20%20%20%20%20%20%20%20%20%20%20%20%20%20%20%20%7B%22bubblingMouseEvents%22%3A%20true%2C%20%22color%22%3A%20%22%233388ff%22%2C%20%22dashArray%22%3A%20null%2C%20%22dashOffset%22%3A%20null%2C%20%22fill%22%3A%20true%2C%20%22fillColor%22%3A%20%22green%22%2C%20%22fillOpacity%22%3A%200.2%2C%20%22fillRule%22%3A%20%22evenodd%22%2C%20%22lineCap%22%3A%20%22round%22%2C%20%22lineJoin%22%3A%20%22round%22%2C%20%22opacity%22%3A%201.0%2C%20%22radius%22%3A%200.4633573332008104%2C%20%22stroke%22%3A%20true%2C%20%22weight%22%3A%203%7D%0A%20%20%20%20%20%20%20%20%20%20%20%20%29.addTo%28map_adb6d74cb18349f3821b952856c762ca%29%3B%0A%20%20%20%20%20%20%20%20%0A%20%20%20%20%0A%20%20%20%20%20%20%20%20var%20popup_a77d41ad5f1945a6ae2343c94e533f31%20%3D%20L.popup%28%7B%22maxWidth%22%3A%20%22100%25%22%7D%29%3B%0A%0A%20%20%20%20%20%20%20%20%0A%20%20%20%20%20%20%20%20%20%20%20%20var%20html_534dd23846624d0386e0dbb5152650da%20%3D%20%24%28%60%3Cdiv%20id%3D%22html_534dd23846624d0386e0dbb5152650da%22%20style%3D%22width%3A%20100.0%25%3B%20height%3A%20100.0%25%3B%22%3EJamaica%3C/div%3E%60%29%5B0%5D%3B%0A%20%20%20%20%20%20%20%20%20%20%20%20popup_a77d41ad5f1945a6ae2343c94e533f31.setContent%28html_534dd23846624d0386e0dbb5152650da%29%3B%0A%20%20%20%20%20%20%20%20%0A%0A%20%20%20%20%20%20%20%20circle_marker_7deaaaf43eb54d4caef7b3ce9db650bf.bindPopup%28popup_a77d41ad5f1945a6ae2343c94e533f31%29%0A%20%20%20%20%20%20%20%20%3B%0A%0A%20%20%20%20%20%20%20%20%0A%20%20%20%20%0A%20%20%20%20%0A%20%20%20%20%20%20%20%20%20%20%20%20var%20circle_marker_70c226410982457d8f07fd2ab1670495%20%3D%20L.circleMarker%28%0A%20%20%20%20%20%20%20%20%20%20%20%20%20%20%20%20%5B31.0%2C%2036.0%5D%2C%0A%20%20%20%20%20%20%20%20%20%20%20%20%20%20%20%20%7B%22bubblingMouseEvents%22%3A%20true%2C%20%22color%22%3A%20%22%233388ff%22%2C%20%22dashArray%22%3A%20null%2C%20%22dashOffset%22%3A%20null%2C%20%22fill%22%3A%20true%2C%20%22fillColor%22%3A%20%22red%22%2C%20%22fillOpacity%22%3A%200.2%2C%20%22fillRule%22%3A%20%22evenodd%22%2C%20%22lineCap%22%3A%20%22round%22%2C%20%22lineJoin%22%3A%20%22round%22%2C%20%22opacity%22%3A%201.0%2C%20%22radius%22%3A%200.4300072242232263%2C%20%22stroke%22%3A%20true%2C%20%22weight%22%3A%203%7D%0A%20%20%20%20%20%20%20%20%20%20%20%20%29.addTo%28map_adb6d74cb18349f3821b952856c762ca%29%3B%0A%20%20%20%20%20%20%20%20%0A%20%20%20%20%0A%20%20%20%20%20%20%20%20var%20popup_17d6fccc7e7b4c49bfa7a21c7259766a%20%3D%20L.popup%28%7B%22maxWidth%22%3A%20%22100%25%22%7D%29%3B%0A%0A%20%20%20%20%20%20%20%20%0A%20%20%20%20%20%20%20%20%20%20%20%20var%20html_b104e95905224b978c6f6a951550af0f%20%3D%20%24%28%60%3Cdiv%20id%3D%22html_b104e95905224b978c6f6a951550af0f%22%20style%3D%22width%3A%20100.0%25%3B%20height%3A%20100.0%25%3B%22%3EJordan%3C/div%3E%60%29%5B0%5D%3B%0A%20%20%20%20%20%20%20%20%20%20%20%20popup_17d6fccc7e7b4c49bfa7a21c7259766a.setContent%28html_b104e95905224b978c6f6a951550af0f%29%3B%0A%20%20%20%20%20%20%20%20%0A%0A%20%20%20%20%20%20%20%20circle_marker_70c226410982457d8f07fd2ab1670495.bindPopup%28popup_17d6fccc7e7b4c49bfa7a21c7259766a%29%0A%20%20%20%20%20%20%20%20%3B%0A%0A%20%20%20%20%20%20%20%20%0A%20%20%20%20%0A%20%20%20%20%0A%20%20%20%20%20%20%20%20%20%20%20%20var%20circle_marker_b300e9dfd1404f40904393ee4f6fdbe1%20%3D%20L.circleMarker%28%0A%20%20%20%20%20%20%20%20%20%20%20%20%20%20%20%20%5B35.68536%2C%20139.75309%5D%2C%0A%20%20%20%20%20%20%20%20%20%20%20%20%20%20%20%20%7B%22bubblingMouseEvents%22%3A%20true%2C%20%22color%22%3A%20%22%233388ff%22%2C%20%22dashArray%22%3A%20null%2C%20%22dashOffset%22%3A%20null%2C%20%22fill%22%3A%20true%2C%20%22fillColor%22%3A%20%22red%22%2C%20%22fillOpacity%22%3A%200.2%2C%20%22fillRule%22%3A%20%22evenodd%22%2C%20%22lineCap%22%3A%20%22round%22%2C%20%22lineJoin%22%3A%20%22round%22%2C%20%22opacity%22%3A%201.0%2C%20%22radius%22%3A%203.784269826192565%2C%20%22stroke%22%3A%20true%2C%20%22weight%22%3A%203%7D%0A%20%20%20%20%20%20%20%20%20%20%20%20%29.addTo%28map_adb6d74cb18349f3821b952856c762ca%29%3B%0A%20%20%20%20%20%20%20%20%0A%20%20%20%20%0A%20%20%20%20%20%20%20%20var%20popup_f0343cfea2af42feaa51792d4842f9bd%20%3D%20L.popup%28%7B%22maxWidth%22%3A%20%22100%25%22%7D%29%3B%0A%0A%20%20%20%20%20%20%20%20%0A%20%20%20%20%20%20%20%20%20%20%20%20var%20html_628028d47b894eb9964173a33a1cefa4%20%3D%20%24%28%60%3Cdiv%20id%3D%22html_628028d47b894eb9964173a33a1cefa4%22%20style%3D%22width%3A%20100.0%25%3B%20height%3A%20100.0%25%3B%22%3EJapan%3C/div%3E%60%29%5B0%5D%3B%0A%20%20%20%20%20%20%20%20%20%20%20%20popup_f0343cfea2af42feaa51792d4842f9bd.setContent%28html_628028d47b894eb9964173a33a1cefa4%29%3B%0A%20%20%20%20%20%20%20%20%0A%0A%20%20%20%20%20%20%20%20circle_marker_b300e9dfd1404f40904393ee4f6fdbe1.bindPopup%28popup_f0343cfea2af42feaa51792d4842f9bd%29%0A%20%20%20%20%20%20%20%20%3B%0A%0A%20%20%20%20%20%20%20%20%0A%20%20%20%20%0A%20%20%20%20%0A%20%20%20%20%20%20%20%20%20%20%20%20var%20circle_marker_fe47bf0798ac43bd9622c76cca8559bf%20%3D%20L.circleMarker%28%0A%20%20%20%20%20%20%20%20%20%20%20%20%20%20%20%20%5B48.0%2C%2068.0%5D%2C%0A%20%20%20%20%20%20%20%20%20%20%20%20%20%20%20%20%7B%22bubblingMouseEvents%22%3A%20true%2C%20%22color%22%3A%20%22%233388ff%22%2C%20%22dashArray%22%3A%20null%2C%20%22dashOffset%22%3A%20null%2C%20%22fill%22%3A%20true%2C%20%22fillColor%22%3A%20%22red%22%2C%20%22fillOpacity%22%3A%200.2%2C%20%22fillRule%22%3A%20%22evenodd%22%2C%20%22lineCap%22%3A%20%22round%22%2C%20%22lineJoin%22%3A%20%22round%22%2C%20%22opacity%22%3A%201.0%2C%20%22radius%22%3A%200.5571211448310092%2C%20%22stroke%22%3A%20true%2C%20%22weight%22%3A%203%7D%0A%20%20%20%20%20%20%20%20%20%20%20%20%29.addTo%28map_adb6d74cb18349f3821b952856c762ca%29%3B%0A%20%20%20%20%20%20%20%20%0A%20%20%20%20%0A%20%20%20%20%20%20%20%20var%20popup_65fc9d96206843c998a29fa94f48c51f%20%3D%20L.popup%28%7B%22maxWidth%22%3A%20%22100%25%22%7D%29%3B%0A%0A%20%20%20%20%20%20%20%20%0A%20%20%20%20%20%20%20%20%20%20%20%20var%20html_9e9e442d95304c6487410cbc9903f29d%20%3D%20%24%28%60%3Cdiv%20id%3D%22html_9e9e442d95304c6487410cbc9903f29d%22%20style%3D%22width%3A%20100.0%25%3B%20height%3A%20100.0%25%3B%22%3EKazakhstan%3C/div%3E%60%29%5B0%5D%3B%0A%20%20%20%20%20%20%20%20%20%20%20%20popup_65fc9d96206843c998a29fa94f48c51f.setContent%28html_9e9e442d95304c6487410cbc9903f29d%29%3B%0A%20%20%20%20%20%20%20%20%0A%0A%20%20%20%20%20%20%20%20circle_marker_fe47bf0798ac43bd9622c76cca8559bf.bindPopup%28popup_65fc9d96206843c998a29fa94f48c51f%29%0A%20%20%20%20%20%20%20%20%3B%0A%0A%20%20%20%20%20%20%20%20%0A%20%20%20%20%0A%20%20%20%20%0A%20%20%20%20%20%20%20%20%20%20%20%20var%20circle_marker_cbba302afa6c4499bd1937b29fb5a867%20%3D%20L.circleMarker%28%0A%20%20%20%20%20%20%20%20%20%20%20%20%20%20%20%20%5B1.0%2C%2038.0%5D%2C%0A%20%20%20%20%20%20%20%20%20%20%20%20%20%20%20%20%7B%22bubblingMouseEvents%22%3A%20true%2C%20%22color%22%3A%20%22%233388ff%22%2C%20%22dashArray%22%3A%20null%2C%20%22dashOffset%22%3A%20null%2C%20%22fill%22%3A%20true%2C%20%22fillColor%22%3A%20%22blue%22%2C%20%22fillOpacity%22%3A%200.2%2C%20%22fillRule%22%3A%20%22evenodd%22%2C%20%22lineCap%22%3A%20%22round%22%2C%20%22lineJoin%22%3A%20%22round%22%2C%20%22opacity%22%3A%201.0%2C%20%22radius%22%3A%2024.088125640567295%2C%20%22stroke%22%3A%20true%2C%20%22weight%22%3A%203%7D%0A%20%20%20%20%20%20%20%20%20%20%20%20%29.addTo%28map_adb6d74cb18349f3821b952856c762ca%29%3B%0A%20%20%20%20%20%20%20%20%0A%20%20%20%20%0A%20%20%20%20%20%20%20%20var%20popup_66c9b875f37e4394b1fab0229a64a207%20%3D%20L.popup%28%7B%22maxWidth%22%3A%20%22100%25%22%7D%29%3B%0A%0A%20%20%20%20%20%20%20%20%0A%20%20%20%20%20%20%20%20%20%20%20%20var%20html_d6fea04c3c76446b9f8756630c92c23a%20%3D%20%24%28%60%3Cdiv%20id%3D%22html_d6fea04c3c76446b9f8756630c92c23a%22%20style%3D%22width%3A%20100.0%25%3B%20height%3A%20100.0%25%3B%22%3EKenya%3C/div%3E%60%29%5B0%5D%3B%0A%20%20%20%20%20%20%20%20%20%20%20%20popup_66c9b875f37e4394b1fab0229a64a207.setContent%28html_d6fea04c3c76446b9f8756630c92c23a%29%3B%0A%20%20%20%20%20%20%20%20%0A%0A%20%20%20%20%20%20%20%20circle_marker_cbba302afa6c4499bd1937b29fb5a867.bindPopup%28popup_66c9b875f37e4394b1fab0229a64a207%29%0A%20%20%20%20%20%20%20%20%3B%0A%0A%20%20%20%20%20%20%20%20%0A%20%20%20%20%0A%20%20%20%20%0A%20%20%20%20%20%20%20%20%20%20%20%20var%20circle_marker_530ef7780b7041f0bc2ad2adaab28ff1%20%3D%20L.circleMarker%28%0A%20%20%20%20%20%20%20%20%20%20%20%20%20%20%20%20%5B41.5%2C%2075.0%5D%2C%0A%20%20%20%20%20%20%20%20%20%20%20%20%20%20%20%20%7B%22bubblingMouseEvents%22%3A%20true%2C%20%22color%22%3A%20%22%233388ff%22%2C%20%22dashArray%22%3A%20null%2C%20%22dashOffset%22%3A%20null%2C%20%22fill%22%3A%20true%2C%20%22fillColor%22%3A%20%22red%22%2C%20%22fillOpacity%22%3A%200.2%2C%20%22fillRule%22%3A%20%22evenodd%22%2C%20%22lineCap%22%3A%20%22round%22%2C%20%22lineJoin%22%3A%20%22round%22%2C%20%22opacity%22%3A%201.0%2C%20%22radius%22%3A%202.9697977196085015%2C%20%22stroke%22%3A%20true%2C%20%22weight%22%3A%203%7D%0A%20%20%20%20%20%20%20%20%20%20%20%20%29.addTo%28map_adb6d74cb18349f3821b952856c762ca%29%3B%0A%20%20%20%20%20%20%20%20%0A%20%20%20%20%0A%20%20%20%20%20%20%20%20var%20popup_6dadf412a85a4e2d8ffe6ad4b8d8665c%20%3D%20L.popup%28%7B%22maxWidth%22%3A%20%22100%25%22%7D%29%3B%0A%0A%20%20%20%20%20%20%20%20%0A%20%20%20%20%20%20%20%20%20%20%20%20var%20html_866d3a83d42542e09a4672b265422b6c%20%3D%20%24%28%60%3Cdiv%20id%3D%22html_866d3a83d42542e09a4672b265422b6c%22%20style%3D%22width%3A%20100.0%25%3B%20height%3A%20100.0%25%3B%22%3EKyrgyz%20Republic%3C/div%3E%60%29%5B0%5D%3B%0A%20%20%20%20%20%20%20%20%20%20%20%20popup_6dadf412a85a4e2d8ffe6ad4b8d8665c.setContent%28html_866d3a83d42542e09a4672b265422b6c%29%3B%0A%20%20%20%20%20%20%20%20%0A%0A%20%20%20%20%20%20%20%20circle_marker_530ef7780b7041f0bc2ad2adaab28ff1.bindPopup%28popup_6dadf412a85a4e2d8ffe6ad4b8d8665c%29%0A%20%20%20%20%20%20%20%20%3B%0A%0A%20%20%20%20%20%20%20%20%0A%20%20%20%20%0A%20%20%20%20%0A%20%20%20%20%20%20%20%20%20%20%20%20var%20circle_marker_d4024053e39d4048b38a023ae30cd787%20%3D%20L.circleMarker%28%0A%20%20%20%20%20%20%20%20%20%20%20%20%20%20%20%20%5B13.0%2C%20105.0%5D%2C%0A%20%20%20%20%20%20%20%20%20%20%20%20%20%20%20%20%7B%22bubblingMouseEvents%22%3A%20true%2C%20%22color%22%3A%20%22%233388ff%22%2C%20%22dashArray%22%3A%20null%2C%20%22dashOffset%22%3A%20null%2C%20%22fill%22%3A%20true%2C%20%22fillColor%22%3A%20%22red%22%2C%20%22fillOpacity%22%3A%200.2%2C%20%22fillRule%22%3A%20%22evenodd%22%2C%20%22lineCap%22%3A%20%22round%22%2C%20%22lineJoin%22%3A%20%22round%22%2C%20%22opacity%22%3A%201.0%2C%20%22radius%22%3A%206.766458594858778%2C%20%22stroke%22%3A%20true%2C%20%22weight%22%3A%203%7D%0A%20%20%20%20%20%20%20%20%20%20%20%20%29.addTo%28map_adb6d74cb18349f3821b952856c762ca%29%3B%0A%20%20%20%20%20%20%20%20%0A%20%20%20%20%0A%20%20%20%20%20%20%20%20var%20popup_5115d83bbb02472898eb40fe8141d801%20%3D%20L.popup%28%7B%22maxWidth%22%3A%20%22100%25%22%7D%29%3B%0A%0A%20%20%20%20%20%20%20%20%0A%20%20%20%20%20%20%20%20%20%20%20%20var%20html_7ae4dc1487bc4a24b4cff2c6e03f4453%20%3D%20%24%28%60%3Cdiv%20id%3D%22html_7ae4dc1487bc4a24b4cff2c6e03f4453%22%20style%3D%22width%3A%20100.0%25%3B%20height%3A%20100.0%25%3B%22%3ECambodia%3C/div%3E%60%29%5B0%5D%3B%0A%20%20%20%20%20%20%20%20%20%20%20%20popup_5115d83bbb02472898eb40fe8141d801.setContent%28html_7ae4dc1487bc4a24b4cff2c6e03f4453%29%3B%0A%20%20%20%20%20%20%20%20%0A%0A%20%20%20%20%20%20%20%20circle_marker_d4024053e39d4048b38a023ae30cd787.bindPopup%28popup_5115d83bbb02472898eb40fe8141d801%29%0A%20%20%20%20%20%20%20%20%3B%0A%0A%20%20%20%20%20%20%20%20%0A%20%20%20%20%0A%20%20%20%20%0A%20%20%20%20%20%20%20%20%20%20%20%20var%20circle_marker_46c751ae9d25470497da3b657cdb5f32%20%3D%20L.circleMarker%28%0A%20%20%20%20%20%20%20%20%20%20%20%20%20%20%20%20%5B18.0%2C%20105.0%5D%2C%0A%20%20%20%20%20%20%20%20%20%20%20%20%20%20%20%20%7B%22bubblingMouseEvents%22%3A%20true%2C%20%22color%22%3A%20%22%233388ff%22%2C%20%22dashArray%22%3A%20null%2C%20%22dashOffset%22%3A%20null%2C%20%22fill%22%3A%20true%2C%20%22fillColor%22%3A%20%22red%22%2C%20%22fillOpacity%22%3A%200.2%2C%20%22fillRule%22%3A%20%22evenodd%22%2C%20%22lineCap%22%3A%20%22round%22%2C%20%22lineJoin%22%3A%20%22round%22%2C%20%22opacity%22%3A%201.0%2C%20%22radius%22%3A%207.758371982276796%2C%20%22stroke%22%3A%20true%2C%20%22weight%22%3A%203%7D%0A%20%20%20%20%20%20%20%20%20%20%20%20%29.addTo%28map_adb6d74cb18349f3821b952856c762ca%29%3B%0A%20%20%20%20%20%20%20%20%0A%20%20%20%20%0A%20%20%20%20%20%20%20%20var%20popup_367732f878f04ac08ec654d1c1f6d97a%20%3D%20L.popup%28%7B%22maxWidth%22%3A%20%22100%25%22%7D%29%3B%0A%0A%20%20%20%20%20%20%20%20%0A%20%20%20%20%20%20%20%20%20%20%20%20var%20html_71564c753cf4491a948dd879a3b1757e%20%3D%20%24%28%60%3Cdiv%20id%3D%22html_71564c753cf4491a948dd879a3b1757e%22%20style%3D%22width%3A%20100.0%25%3B%20height%3A%20100.0%25%3B%22%3ELao%3C/div%3E%60%29%5B0%5D%3B%0A%20%20%20%20%20%20%20%20%20%20%20%20popup_367732f878f04ac08ec654d1c1f6d97a.setContent%28html_71564c753cf4491a948dd879a3b1757e%29%3B%0A%20%20%20%20%20%20%20%20%0A%0A%20%20%20%20%20%20%20%20circle_marker_46c751ae9d25470497da3b657cdb5f32.bindPopup%28popup_367732f878f04ac08ec654d1c1f6d97a%29%0A%20%20%20%20%20%20%20%20%3B%0A%0A%20%20%20%20%20%20%20%20%0A%20%20%20%20%0A%20%20%20%20%0A%20%20%20%20%20%20%20%20%20%20%20%20var%20circle_marker_c4256a3c7dec47dd8161904aa53c0d0b%20%3D%20L.circleMarker%28%0A%20%20%20%20%20%20%20%20%20%20%20%20%20%20%20%20%5B6.5%2C%20-9.5%5D%2C%0A%20%20%20%20%20%20%20%20%20%20%20%20%20%20%20%20%7B%22bubblingMouseEvents%22%3A%20true%2C%20%22color%22%3A%20%22%233388ff%22%2C%20%22dashArray%22%3A%20null%2C%20%22dashOffset%22%3A%20null%2C%20%22fill%22%3A%20true%2C%20%22fillColor%22%3A%20%22blue%22%2C%20%22fillOpacity%22%3A%200.2%2C%20%22fillRule%22%3A%20%22evenodd%22%2C%20%22lineCap%22%3A%20%22round%22%2C%20%22lineJoin%22%3A%20%22round%22%2C%20%22opacity%22%3A%201.0%2C%20%22radius%22%3A%2010.185772240421114%2C%20%22stroke%22%3A%20true%2C%20%22weight%22%3A%203%7D%0A%20%20%20%20%20%20%20%20%20%20%20%20%29.addTo%28map_adb6d74cb18349f3821b952856c762ca%29%3B%0A%20%20%20%20%20%20%20%20%0A%20%20%20%20%0A%20%20%20%20%20%20%20%20var%20popup_17fd415ca1244ec29d999094ddc8846e%20%3D%20L.popup%28%7B%22maxWidth%22%3A%20%22100%25%22%7D%29%3B%0A%0A%20%20%20%20%20%20%20%20%0A%20%20%20%20%20%20%20%20%20%20%20%20var%20html_70ef2b7c2ea74567b99eafc03926fbb6%20%3D%20%24%28%60%3Cdiv%20id%3D%22html_70ef2b7c2ea74567b99eafc03926fbb6%22%20style%3D%22width%3A%20100.0%25%3B%20height%3A%20100.0%25%3B%22%3ELiberia%3C/div%3E%60%29%5B0%5D%3B%0A%20%20%20%20%20%20%20%20%20%20%20%20popup_17fd415ca1244ec29d999094ddc8846e.setContent%28html_70ef2b7c2ea74567b99eafc03926fbb6%29%3B%0A%20%20%20%20%20%20%20%20%0A%0A%20%20%20%20%20%20%20%20circle_marker_c4256a3c7dec47dd8161904aa53c0d0b.bindPopup%28popup_17fd415ca1244ec29d999094ddc8846e%29%0A%20%20%20%20%20%20%20%20%3B%0A%0A%20%20%20%20%20%20%20%20%0A%20%20%20%20%0A%20%20%20%20%0A%20%20%20%20%20%20%20%20%20%20%20%20var%20circle_marker_51a5e22a07224cc1b81672e226522f01%20%3D%20L.circleMarker%28%0A%20%20%20%20%20%20%20%20%20%20%20%20%20%20%20%20%5B13.88333%2C%20-60.96667%5D%2C%0A%20%20%20%20%20%20%20%20%20%20%20%20%20%20%20%20%7B%22bubblingMouseEvents%22%3A%20true%2C%20%22color%22%3A%20%22%233388ff%22%2C%20%22dashArray%22%3A%20null%2C%20%22dashOffset%22%3A%20null%2C%20%22fill%22%3A%20true%2C%20%22fillColor%22%3A%20%22green%22%2C%20%22fillOpacity%22%3A%200.2%2C%20%22fillRule%22%3A%20%22evenodd%22%2C%20%22lineCap%22%3A%20%22round%22%2C%20%22lineJoin%22%3A%20%22round%22%2C%20%22opacity%22%3A%201.0%2C%20%22radius%22%3A%201.0777350206264305%2C%20%22stroke%22%3A%20true%2C%20%22weight%22%3A%203%7D%0A%20%20%20%20%20%20%20%20%20%20%20%20%29.addTo%28map_adb6d74cb18349f3821b952856c762ca%29%3B%0A%20%20%20%20%20%20%20%20%0A%20%20%20%20%0A%20%20%20%20%20%20%20%20var%20popup_0b19af9c8dbe47ca91386b3c24c8d9aa%20%3D%20L.popup%28%7B%22maxWidth%22%3A%20%22100%25%22%7D%29%3B%0A%0A%20%20%20%20%20%20%20%20%0A%20%20%20%20%20%20%20%20%20%20%20%20var%20html_b792d7dd56854eee989ee73504ba1a90%20%3D%20%24%28%60%3Cdiv%20id%3D%22html_b792d7dd56854eee989ee73504ba1a90%22%20style%3D%22width%3A%20100.0%25%3B%20height%3A%20100.0%25%3B%22%3ESt.%20Lucia%3C/div%3E%60%29%5B0%5D%3B%0A%20%20%20%20%20%20%20%20%20%20%20%20popup_0b19af9c8dbe47ca91386b3c24c8d9aa.setContent%28html_b792d7dd56854eee989ee73504ba1a90%29%3B%0A%20%20%20%20%20%20%20%20%0A%0A%20%20%20%20%20%20%20%20circle_marker_51a5e22a07224cc1b81672e226522f01.bindPopup%28popup_0b19af9c8dbe47ca91386b3c24c8d9aa%29%0A%20%20%20%20%20%20%20%20%3B%0A%0A%20%20%20%20%20%20%20%20%0A%20%20%20%20%0A%20%20%20%20%0A%20%20%20%20%20%20%20%20%20%20%20%20var%20circle_marker_e2e4a1b5962f402aa21c5ead987cf916%20%3D%20L.circleMarker%28%0A%20%20%20%20%20%20%20%20%20%20%20%20%20%20%20%20%5B7.75%2C%2080.75%5D%2C%0A%20%20%20%20%20%20%20%20%20%20%20%20%20%20%20%20%7B%22bubblingMouseEvents%22%3A%20true%2C%20%22color%22%3A%20%22%233388ff%22%2C%20%22dashArray%22%3A%20null%2C%20%22dashOffset%22%3A%20null%2C%20%22fill%22%3A%20true%2C%20%22fillColor%22%3A%20%22red%22%2C%20%22fillOpacity%22%3A%200.2%2C%20%22fillRule%22%3A%20%22evenodd%22%2C%20%22lineCap%22%3A%20%22round%22%2C%20%22lineJoin%22%3A%20%22round%22%2C%20%22opacity%22%3A%201.0%2C%20%22radius%22%3A%205.148541404016821%2C%20%22stroke%22%3A%20true%2C%20%22weight%22%3A%203%7D%0A%20%20%20%20%20%20%20%20%20%20%20%20%29.addTo%28map_adb6d74cb18349f3821b952856c762ca%29%3B%0A%20%20%20%20%20%20%20%20%0A%20%20%20%20%0A%20%20%20%20%20%20%20%20var%20popup_0baa6f6eb38a43ac9a3f67ad5e145dfe%20%3D%20L.popup%28%7B%22maxWidth%22%3A%20%22100%25%22%7D%29%3B%0A%0A%20%20%20%20%20%20%20%20%0A%20%20%20%20%20%20%20%20%20%20%20%20var%20html_f5481ab415714ff892f04c1f4dee3f8b%20%3D%20%24%28%60%3Cdiv%20id%3D%22html_f5481ab415714ff892f04c1f4dee3f8b%22%20style%3D%22width%3A%20100.0%25%3B%20height%3A%20100.0%25%3B%22%3ESri%20Lanka%3C/div%3E%60%29%5B0%5D%3B%0A%20%20%20%20%20%20%20%20%20%20%20%20popup_0baa6f6eb38a43ac9a3f67ad5e145dfe.setContent%28html_f5481ab415714ff892f04c1f4dee3f8b%29%3B%0A%20%20%20%20%20%20%20%20%0A%0A%20%20%20%20%20%20%20%20circle_marker_e2e4a1b5962f402aa21c5ead987cf916.bindPopup%28popup_0baa6f6eb38a43ac9a3f67ad5e145dfe%29%0A%20%20%20%20%20%20%20%20%3B%0A%0A%20%20%20%20%20%20%20%20%0A%20%20%20%20%0A%20%20%20%20%0A%20%20%20%20%20%20%20%20%20%20%20%20var%20circle_marker_d89b598598f040f2b63ae0d68ab7d718%20%3D%20L.circleMarker%28%0A%20%20%20%20%20%20%20%20%20%20%20%20%20%20%20%20%5B-29.5%2C%2028.25%5D%2C%0A%20%20%20%20%20%20%20%20%20%20%20%20%20%20%20%20%7B%22bubblingMouseEvents%22%3A%20true%2C%20%22color%22%3A%20%22%233388ff%22%2C%20%22dashArray%22%3A%20null%2C%20%22dashOffset%22%3A%20null%2C%20%22fill%22%3A%20true%2C%20%22fillColor%22%3A%20%22blue%22%2C%20%22fillOpacity%22%3A%200.2%2C%20%22fillRule%22%3A%20%22evenodd%22%2C%20%22lineCap%22%3A%20%22round%22%2C%20%22lineJoin%22%3A%20%22round%22%2C%20%22opacity%22%3A%201.0%2C%20%22radius%22%3A%205.97591567065859%2C%20%22stroke%22%3A%20true%2C%20%22weight%22%3A%203%7D%0A%20%20%20%20%20%20%20%20%20%20%20%20%29.addTo%28map_adb6d74cb18349f3821b952856c762ca%29%3B%0A%20%20%20%20%20%20%20%20%0A%20%20%20%20%0A%20%20%20%20%20%20%20%20var%20popup_8bba6399ddcc4b618f30f85d74f91a2f%20%3D%20L.popup%28%7B%22maxWidth%22%3A%20%22100%25%22%7D%29%3B%0A%0A%20%20%20%20%20%20%20%20%0A%20%20%20%20%20%20%20%20%20%20%20%20var%20html_bc28b0685155400eaa2ae57131ec7c11%20%3D%20%24%28%60%3Cdiv%20id%3D%22html_bc28b0685155400eaa2ae57131ec7c11%22%20style%3D%22width%3A%20100.0%25%3B%20height%3A%20100.0%25%3B%22%3ELesotho%3C/div%3E%60%29%5B0%5D%3B%0A%20%20%20%20%20%20%20%20%20%20%20%20popup_8bba6399ddcc4b618f30f85d74f91a2f.setContent%28html_bc28b0685155400eaa2ae57131ec7c11%29%3B%0A%20%20%20%20%20%20%20%20%0A%0A%20%20%20%20%20%20%20%20circle_marker_d89b598598f040f2b63ae0d68ab7d718.bindPopup%28popup_8bba6399ddcc4b618f30f85d74f91a2f%29%0A%20%20%20%20%20%20%20%20%3B%0A%0A%20%20%20%20%20%20%20%20%0A%20%20%20%20%0A%20%20%20%20%0A%20%20%20%20%20%20%20%20%20%20%20%20var%20circle_marker_30f03c278c6145baa30f4fd32064a521%20%3D%20L.circleMarker%28%0A%20%20%20%20%20%20%20%20%20%20%20%20%20%20%20%20%5B55.41667%2C%2024.0%5D%2C%0A%20%20%20%20%20%20%20%20%20%20%20%20%20%20%20%20%7B%22bubblingMouseEvents%22%3A%20true%2C%20%22color%22%3A%20%22%233388ff%22%2C%20%22dashArray%22%3A%20null%2C%20%22dashOffset%22%3A%20null%2C%20%22fill%22%3A%20true%2C%20%22fillColor%22%3A%20%22black%22%2C%20%22fillOpacity%22%3A%200.2%2C%20%22fillRule%22%3A%20%22evenodd%22%2C%20%22lineCap%22%3A%20%22round%22%2C%20%22lineJoin%22%3A%20%22round%22%2C%20%22opacity%22%3A%201.0%2C%20%22radius%22%3A%200.9084678711420302%2C%20%22stroke%22%3A%20true%2C%20%22weight%22%3A%203%7D%0A%20%20%20%20%20%20%20%20%20%20%20%20%29.addTo%28map_adb6d74cb18349f3821b952856c762ca%29%3B%0A%20%20%20%20%20%20%20%20%0A%20%20%20%20%0A%20%20%20%20%20%20%20%20var%20popup_8fd8f95d43094feeb2a95329ccded805%20%3D%20L.popup%28%7B%22maxWidth%22%3A%20%22100%25%22%7D%29%3B%0A%0A%20%20%20%20%20%20%20%20%0A%20%20%20%20%20%20%20%20%20%20%20%20var%20html_b75a89996d3740ebb300410500209de6%20%3D%20%24%28%60%3Cdiv%20id%3D%22html_b75a89996d3740ebb300410500209de6%22%20style%3D%22width%3A%20100.0%25%3B%20height%3A%20100.0%25%3B%22%3ELithuania%3C/div%3E%60%29%5B0%5D%3B%0A%20%20%20%20%20%20%20%20%20%20%20%20popup_8fd8f95d43094feeb2a95329ccded805.setContent%28html_b75a89996d3740ebb300410500209de6%29%3B%0A%20%20%20%20%20%20%20%20%0A%0A%20%20%20%20%20%20%20%20circle_marker_30f03c278c6145baa30f4fd32064a521.bindPopup%28popup_8fd8f95d43094feeb2a95329ccded805%29%0A%20%20%20%20%20%20%20%20%3B%0A%0A%20%20%20%20%20%20%20%20%0A%20%20%20%20%0A%20%20%20%20%0A%20%20%20%20%20%20%20%20%20%20%20%20var%20circle_marker_2ed4ee5141ef4f5f9a955d8d8a958c88%20%3D%20L.circleMarker%28%0A%20%20%20%20%20%20%20%20%20%20%20%20%20%20%20%20%5B57.0%2C%2025.0%5D%2C%0A%20%20%20%20%20%20%20%20%20%20%20%20%20%20%20%20%7B%22bubblingMouseEvents%22%3A%20true%2C%20%22color%22%3A%20%22%233388ff%22%2C%20%22dashArray%22%3A%20null%2C%20%22dashOffset%22%3A%20null%2C%20%22fill%22%3A%20true%2C%20%22fillColor%22%3A%20%22black%22%2C%20%22fillOpacity%22%3A%200.2%2C%20%22fillRule%22%3A%20%22evenodd%22%2C%20%22lineCap%22%3A%20%22round%22%2C%20%22lineJoin%22%3A%20%22round%22%2C%20%22opacity%22%3A%201.0%2C%20%22radius%22%3A%200.8495129039372447%2C%20%22stroke%22%3A%20true%2C%20%22weight%22%3A%203%7D%0A%20%20%20%20%20%20%20%20%20%20%20%20%29.addTo%28map_adb6d74cb18349f3821b952856c762ca%29%3B%0A%20%20%20%20%20%20%20%20%0A%20%20%20%20%0A%20%20%20%20%20%20%20%20var%20popup_c4519e65efbc409e9d5fc0a56fdc8fbd%20%3D%20L.popup%28%7B%22maxWidth%22%3A%20%22100%25%22%7D%29%3B%0A%0A%20%20%20%20%20%20%20%20%0A%20%20%20%20%20%20%20%20%20%20%20%20var%20html_ca1a43e4e132473abd44ae6d990c7cbb%20%3D%20%24%28%60%3Cdiv%20id%3D%22html_ca1a43e4e132473abd44ae6d990c7cbb%22%20style%3D%22width%3A%20100.0%25%3B%20height%3A%20100.0%25%3B%22%3ELatvia%3C/div%3E%60%29%5B0%5D%3B%0A%20%20%20%20%20%20%20%20%20%20%20%20popup_c4519e65efbc409e9d5fc0a56fdc8fbd.setContent%28html_ca1a43e4e132473abd44ae6d990c7cbb%29%3B%0A%20%20%20%20%20%20%20%20%0A%0A%20%20%20%20%20%20%20%20circle_marker_2ed4ee5141ef4f5f9a955d8d8a958c88.bindPopup%28popup_c4519e65efbc409e9d5fc0a56fdc8fbd%29%0A%20%20%20%20%20%20%20%20%3B%0A%0A%20%20%20%20%20%20%20%20%0A%20%20%20%20%0A%20%20%20%20%0A%20%20%20%20%20%20%20%20%20%20%20%20var%20circle_marker_233e711370e34a3e90b2d5fcaf122fad%20%3D%20L.circleMarker%28%0A%20%20%20%20%20%20%20%20%20%20%20%20%20%20%20%20%5B32.0%2C%20-6.0%5D%2C%0A%20%20%20%20%20%20%20%20%20%20%20%20%20%20%20%20%7B%22bubblingMouseEvents%22%3A%20true%2C%20%22color%22%3A%20%22%233388ff%22%2C%20%22dashArray%22%3A%20null%2C%20%22dashOffset%22%3A%20null%2C%20%22fill%22%3A%20true%2C%20%22fillColor%22%3A%20%22blue%22%2C%20%22fillOpacity%22%3A%200.2%2C%20%22fillRule%22%3A%20%22evenodd%22%2C%20%22lineCap%22%3A%20%22round%22%2C%20%22lineJoin%22%3A%20%22round%22%2C%20%22opacity%22%3A%201.0%2C%20%22radius%22%3A%205.143803409376387%2C%20%22stroke%22%3A%20true%2C%20%22weight%22%3A%203%7D%0A%20%20%20%20%20%20%20%20%20%20%20%20%29.addTo%28map_adb6d74cb18349f3821b952856c762ca%29%3B%0A%20%20%20%20%20%20%20%20%0A%20%20%20%20%0A%20%20%20%20%20%20%20%20var%20popup_e7a5dfd66757405295d71e6d43701000%20%3D%20L.popup%28%7B%22maxWidth%22%3A%20%22100%25%22%7D%29%3B%0A%0A%20%20%20%20%20%20%20%20%0A%20%20%20%20%20%20%20%20%20%20%20%20var%20html_be905a3de07e42648464f2b2d3ff92b9%20%3D%20%24%28%60%3Cdiv%20id%3D%22html_be905a3de07e42648464f2b2d3ff92b9%22%20style%3D%22width%3A%20100.0%25%3B%20height%3A%20100.0%25%3B%22%3EMorocco%3C/div%3E%60%29%5B0%5D%3B%0A%20%20%20%20%20%20%20%20%20%20%20%20popup_e7a5dfd66757405295d71e6d43701000.setContent%28html_be905a3de07e42648464f2b2d3ff92b9%29%3B%0A%20%20%20%20%20%20%20%20%0A%0A%20%20%20%20%20%20%20%20circle_marker_233e711370e34a3e90b2d5fcaf122fad.bindPopup%28popup_e7a5dfd66757405295d71e6d43701000%29%0A%20%20%20%20%20%20%20%20%3B%0A%0A%20%20%20%20%20%20%20%20%0A%20%20%20%20%0A%20%20%20%20%0A%20%20%20%20%20%20%20%20%20%20%20%20var%20circle_marker_1c65c62d68d74e828b8703f9d28b1be7%20%3D%20L.circleMarker%28%0A%20%20%20%20%20%20%20%20%20%20%20%20%20%20%20%20%5B47.25%2C%2028.58333%5D%2C%0A%20%20%20%20%20%20%20%20%20%20%20%20%20%20%20%20%7B%22bubblingMouseEvents%22%3A%20true%2C%20%22color%22%3A%20%22%233388ff%22%2C%20%22dashArray%22%3A%20null%2C%20%22dashOffset%22%3A%20null%2C%20%22fill%22%3A%20true%2C%20%22fillColor%22%3A%20%22black%22%2C%20%22fillOpacity%22%3A%200.2%2C%20%22fillRule%22%3A%20%22evenodd%22%2C%20%22lineCap%22%3A%20%22round%22%2C%20%22lineJoin%22%3A%20%22round%22%2C%20%22opacity%22%3A%201.0%2C%20%22radius%22%3A%200.5469439011777409%2C%20%22stroke%22%3A%20true%2C%20%22weight%22%3A%203%7D%0A%20%20%20%20%20%20%20%20%20%20%20%20%29.addTo%28map_adb6d74cb18349f3821b952856c762ca%29%3B%0A%20%20%20%20%20%20%20%20%0A%20%20%20%20%0A%20%20%20%20%20%20%20%20var%20popup_2b25b7c083c84a7ab11c12766c76906c%20%3D%20L.popup%28%7B%22maxWidth%22%3A%20%22100%25%22%7D%29%3B%0A%0A%20%20%20%20%20%20%20%20%0A%20%20%20%20%20%20%20%20%20%20%20%20var%20html_0ba0773f4ea840acba0269d215fa48bb%20%3D%20%24%28%60%3Cdiv%20id%3D%22html_0ba0773f4ea840acba0269d215fa48bb%22%20style%3D%22width%3A%20100.0%25%3B%20height%3A%20100.0%25%3B%22%3EMoldova%3C/div%3E%60%29%5B0%5D%3B%0A%20%20%20%20%20%20%20%20%20%20%20%20popup_2b25b7c083c84a7ab11c12766c76906c.setContent%28html_0ba0773f4ea840acba0269d215fa48bb%29%3B%0A%20%20%20%20%20%20%20%20%0A%0A%20%20%20%20%20%20%20%20circle_marker_1c65c62d68d74e828b8703f9d28b1be7.bindPopup%28popup_2b25b7c083c84a7ab11c12766c76906c%29%0A%20%20%20%20%20%20%20%20%3B%0A%0A%20%20%20%20%20%20%20%20%0A%20%20%20%20%0A%20%20%20%20%0A%20%20%20%20%20%20%20%20%20%20%20%20var%20circle_marker_8a38c4dc12e04997a34d1e2b3c83262b%20%3D%20L.circleMarker%28%0A%20%20%20%20%20%20%20%20%20%20%20%20%20%20%20%20%5B-20.0%2C%2047.0%5D%2C%0A%20%20%20%20%20%20%20%20%20%20%20%20%20%20%20%20%7B%22bubblingMouseEvents%22%3A%20true%2C%20%22color%22%3A%20%22%233388ff%22%2C%20%22dashArray%22%3A%20null%2C%20%22dashOffset%22%3A%20null%2C%20%22fill%22%3A%20true%2C%20%22fillColor%22%3A%20%22blue%22%2C%20%22fillOpacity%22%3A%200.2%2C%20%22fillRule%22%3A%20%22evenodd%22%2C%20%22lineCap%22%3A%20%22round%22%2C%20%22lineJoin%22%3A%20%22round%22%2C%20%22opacity%22%3A%201.0%2C%20%22radius%22%3A%2024.295318258386423%2C%20%22stroke%22%3A%20true%2C%20%22weight%22%3A%203%7D%0A%20%20%20%20%20%20%20%20%20%20%20%20%29.addTo%28map_adb6d74cb18349f3821b952856c762ca%29%3B%0A%20%20%20%20%20%20%20%20%0A%20%20%20%20%0A%20%20%20%20%20%20%20%20var%20popup_191a705f4f404c5886e50467928d657b%20%3D%20L.popup%28%7B%22maxWidth%22%3A%20%22100%25%22%7D%29%3B%0A%0A%20%20%20%20%20%20%20%20%0A%20%20%20%20%20%20%20%20%20%20%20%20var%20html_08274b1435094d208031eb81f9aeb88b%20%3D%20%24%28%60%3Cdiv%20id%3D%22html_08274b1435094d208031eb81f9aeb88b%22%20style%3D%22width%3A%20100.0%25%3B%20height%3A%20100.0%25%3B%22%3EMadagascar%3C/div%3E%60%29%5B0%5D%3B%0A%20%20%20%20%20%20%20%20%20%20%20%20popup_191a705f4f404c5886e50467928d657b.setContent%28html_08274b1435094d208031eb81f9aeb88b%29%3B%0A%20%20%20%20%20%20%20%20%0A%0A%20%20%20%20%20%20%20%20circle_marker_8a38c4dc12e04997a34d1e2b3c83262b.bindPopup%28popup_191a705f4f404c5886e50467928d657b%29%0A%20%20%20%20%20%20%20%20%3B%0A%0A%20%20%20%20%20%20%20%20%0A%20%20%20%20%0A%20%20%20%20%0A%20%20%20%20%20%20%20%20%20%20%20%20var%20circle_marker_e167e38a3ac8448991e63f0717255a67%20%3D%20L.circleMarker%28%0A%20%20%20%20%20%20%20%20%20%20%20%20%20%20%20%20%5B3.2%2C%2073.0%5D%2C%0A%20%20%20%20%20%20%20%20%20%20%20%20%20%20%20%20%7B%22bubblingMouseEvents%22%3A%20true%2C%20%22color%22%3A%20%22%233388ff%22%2C%20%22dashArray%22%3A%20null%2C%20%22dashOffset%22%3A%20null%2C%20%22fill%22%3A%20true%2C%20%22fillColor%22%3A%20%22red%22%2C%20%22fillOpacity%22%3A%200.2%2C%20%22fillRule%22%3A%20%22evenodd%22%2C%20%22lineCap%22%3A%20%22round%22%2C%20%22lineJoin%22%3A%20%22round%22%2C%20%22opacity%22%3A%201.0%2C%20%22radius%22%3A%200.4150917264789626%2C%20%22stroke%22%3A%20true%2C%20%22weight%22%3A%203%7D%0A%20%20%20%20%20%20%20%20%20%20%20%20%29.addTo%28map_adb6d74cb18349f3821b952856c762ca%29%3B%0A%20%20%20%20%20%20%20%20%0A%20%20%20%20%0A%20%20%20%20%20%20%20%20var%20popup_1780925027a541a39165bd0497b7fa66%20%3D%20L.popup%28%7B%22maxWidth%22%3A%20%22100%25%22%7D%29%3B%0A%0A%20%20%20%20%20%20%20%20%0A%20%20%20%20%20%20%20%20%20%20%20%20var%20html_23d9b18fbb454bdfa3bf55ba55aeef93%20%3D%20%24%28%60%3Cdiv%20id%3D%22html_23d9b18fbb454bdfa3bf55ba55aeef93%22%20style%3D%22width%3A%20100.0%25%3B%20height%3A%20100.0%25%3B%22%3EMaldives%3C/div%3E%60%29%5B0%5D%3B%0A%20%20%20%20%20%20%20%20%20%20%20%20popup_1780925027a541a39165bd0497b7fa66.setContent%28html_23d9b18fbb454bdfa3bf55ba55aeef93%29%3B%0A%20%20%20%20%20%20%20%20%0A%0A%20%20%20%20%20%20%20%20circle_marker_e167e38a3ac8448991e63f0717255a67.bindPopup%28popup_1780925027a541a39165bd0497b7fa66%29%0A%20%20%20%20%20%20%20%20%3B%0A%0A%20%20%20%20%20%20%20%20%0A%20%20%20%20%0A%20%20%20%20%0A%20%20%20%20%20%20%20%20%20%20%20%20var%20circle_marker_b6acfa1c02c34d5f97b85ec9e5775a65%20%3D%20L.circleMarker%28%0A%20%20%20%20%20%20%20%20%20%20%20%20%20%20%20%20%5B19.42847%2C%20-99.12766%5D%2C%0A%20%20%20%20%20%20%20%20%20%20%20%20%20%20%20%20%7B%22bubblingMouseEvents%22%3A%20true%2C%20%22color%22%3A%20%22%233388ff%22%2C%20%22dashArray%22%3A%20null%2C%20%22dashOffset%22%3A%20null%2C%20%22fill%22%3A%20true%2C%20%22fillColor%22%3A%20%22green%22%2C%20%22fillOpacity%22%3A%200.2%2C%20%22fillRule%22%3A%20%22evenodd%22%2C%20%22lineCap%22%3A%20%22round%22%2C%20%22lineJoin%22%3A%20%22round%22%2C%20%22opacity%22%3A%201.0%2C%20%22radius%22%3A%206.116077917408222%2C%20%22stroke%22%3A%20true%2C%20%22weight%22%3A%203%7D%0A%20%20%20%20%20%20%20%20%20%20%20%20%29.addTo%28map_adb6d74cb18349f3821b952856c762ca%29%3B%0A%20%20%20%20%20%20%20%20%0A%20%20%20%20%0A%20%20%20%20%20%20%20%20var%20popup_be6a5bbe42cd4c889952001ce645b374%20%3D%20L.popup%28%7B%22maxWidth%22%3A%20%22100%25%22%7D%29%3B%0A%0A%20%20%20%20%20%20%20%20%0A%20%20%20%20%20%20%20%20%20%20%20%20var%20html_0066f5503d90449984443d82cbe5cf05%20%3D%20%24%28%60%3Cdiv%20id%3D%22html_0066f5503d90449984443d82cbe5cf05%22%20style%3D%22width%3A%20100.0%25%3B%20height%3A%20100.0%25%3B%22%3EMexico%3C/div%3E%60%29%5B0%5D%3B%0A%20%20%20%20%20%20%20%20%20%20%20%20popup_be6a5bbe42cd4c889952001ce645b374.setContent%28html_0066f5503d90449984443d82cbe5cf05%29%3B%0A%20%20%20%20%20%20%20%20%0A%0A%20%20%20%20%20%20%20%20circle_marker_b6acfa1c02c34d5f97b85ec9e5775a65.bindPopup%28popup_be6a5bbe42cd4c889952001ce645b374%29%0A%20%20%20%20%20%20%20%20%3B%0A%0A%20%20%20%20%20%20%20%20%0A%20%20%20%20%0A%20%20%20%20%0A%20%20%20%20%20%20%20%20%20%20%20%20var%20circle_marker_560a27d93c074d09811c29bf7a26677d%20%3D%20L.circleMarker%28%0A%20%20%20%20%20%20%20%20%20%20%20%20%20%20%20%20%5B41.66667%2C%2021.75%5D%2C%0A%20%20%20%20%20%20%20%20%20%20%20%20%20%20%20%20%7B%22bubblingMouseEvents%22%3A%20true%2C%20%22color%22%3A%20%22%233388ff%22%2C%20%22dashArray%22%3A%20null%2C%20%22dashOffset%22%3A%20null%2C%20%22fill%22%3A%20true%2C%20%22fillColor%22%3A%20%22black%22%2C%20%22fillOpacity%22%3A%200.2%2C%20%22fillRule%22%3A%20%22evenodd%22%2C%20%22lineCap%22%3A%20%22round%22%2C%20%22lineJoin%22%3A%20%22round%22%2C%20%22opacity%22%3A%201.0%2C%20%22radius%22%3A%200.42959989759002715%2C%20%22stroke%22%3A%20true%2C%20%22weight%22%3A%203%7D%0A%20%20%20%20%20%20%20%20%20%20%20%20%29.addTo%28map_adb6d74cb18349f3821b952856c762ca%29%3B%0A%20%20%20%20%20%20%20%20%0A%20%20%20%20%0A%20%20%20%20%20%20%20%20var%20popup_959c2158e9ad46a7bd5b52f8d7bdae87%20%3D%20L.popup%28%7B%22maxWidth%22%3A%20%22100%25%22%7D%29%3B%0A%0A%20%20%20%20%20%20%20%20%0A%20%20%20%20%20%20%20%20%20%20%20%20var%20html_8f0bb27c33f64172be27e514043e46b8%20%3D%20%24%28%60%3Cdiv%20id%3D%22html_8f0bb27c33f64172be27e514043e46b8%22%20style%3D%22width%3A%20100.0%25%3B%20height%3A%20100.0%25%3B%22%3ENorth%20Macedonia%3C/div%3E%60%29%5B0%5D%3B%0A%20%20%20%20%20%20%20%20%20%20%20%20popup_959c2158e9ad46a7bd5b52f8d7bdae87.setContent%28html_8f0bb27c33f64172be27e514043e46b8%29%3B%0A%20%20%20%20%20%20%20%20%0A%0A%20%20%20%20%20%20%20%20circle_marker_560a27d93c074d09811c29bf7a26677d.bindPopup%28popup_959c2158e9ad46a7bd5b52f8d7bdae87%29%0A%20%20%20%20%20%20%20%20%3B%0A%0A%20%20%20%20%20%20%20%20%0A%20%20%20%20%0A%20%20%20%20%0A%20%20%20%20%20%20%20%20%20%20%20%20var%20circle_marker_b62c9728b02d43038db8b5f6fc901857%20%3D%20L.circleMarker%28%0A%20%20%20%20%20%20%20%20%20%20%20%20%20%20%20%20%5B18.0%2C%20-2.0%5D%2C%0A%20%20%20%20%20%20%20%20%20%20%20%20%20%20%20%20%7B%22bubblingMouseEvents%22%3A%20true%2C%20%22color%22%3A%20%22%233388ff%22%2C%20%22dashArray%22%3A%20null%2C%20%22dashOffset%22%3A%20null%2C%20%22fill%22%3A%20true%2C%20%22fillColor%22%3A%20%22blue%22%2C%20%22fillOpacity%22%3A%200.2%2C%20%22fillRule%22%3A%20%22evenodd%22%2C%20%22lineCap%22%3A%20%22round%22%2C%20%22lineJoin%22%3A%20%22round%22%2C%20%22opacity%22%3A%201.0%2C%20%22radius%22%3A%2015.570484664876235%2C%20%22stroke%22%3A%20true%2C%20%22weight%22%3A%203%7D%0A%20%20%20%20%20%20%20%20%20%20%20%20%29.addTo%28map_adb6d74cb18349f3821b952856c762ca%29%3B%0A%20%20%20%20%20%20%20%20%0A%20%20%20%20%0A%20%20%20%20%20%20%20%20var%20popup_0bc5fe7d13464570b33568b44fb0a993%20%3D%20L.popup%28%7B%22maxWidth%22%3A%20%22100%25%22%7D%29%3B%0A%0A%20%20%20%20%20%20%20%20%0A%20%20%20%20%20%20%20%20%20%20%20%20var%20html_3ce073373a404bdb90571ac817fdf372%20%3D%20%24%28%60%3Cdiv%20id%3D%22html_3ce073373a404bdb90571ac817fdf372%22%20style%3D%22width%3A%20100.0%25%3B%20height%3A%20100.0%25%3B%22%3EMali%3C/div%3E%60%29%5B0%5D%3B%0A%20%20%20%20%20%20%20%20%20%20%20%20popup_0bc5fe7d13464570b33568b44fb0a993.setContent%28html_3ce073373a404bdb90571ac817fdf372%29%3B%0A%20%20%20%20%20%20%20%20%0A%0A%20%20%20%20%20%20%20%20circle_marker_b62c9728b02d43038db8b5f6fc901857.bindPopup%28popup_0bc5fe7d13464570b33568b44fb0a993%29%0A%20%20%20%20%20%20%20%20%3B%0A%0A%20%20%20%20%20%20%20%20%0A%20%20%20%20%0A%20%20%20%20%0A%20%20%20%20%20%20%20%20%20%20%20%20var%20circle_marker_cbb855a3b52141c2acb2c462d5feae1c%20%3D%20L.circleMarker%28%0A%20%20%20%20%20%20%20%20%20%20%20%20%20%20%20%20%5B42.75%2C%2019.25%5D%2C%0A%20%20%20%20%20%20%20%20%20%20%20%20%20%20%20%20%7B%22bubblingMouseEvents%22%3A%20true%2C%20%22color%22%3A%20%22%233388ff%22%2C%20%22dashArray%22%3A%20null%2C%20%22dashOffset%22%3A%20null%2C%20%22fill%22%3A%20true%2C%20%22fillColor%22%3A%20%22black%22%2C%20%22fillOpacity%22%3A%200.2%2C%20%22fillRule%22%3A%20%22evenodd%22%2C%20%22lineCap%22%3A%20%22round%22%2C%20%22lineJoin%22%3A%20%22round%22%2C%20%22opacity%22%3A%201.0%2C%20%22radius%22%3A%200.2042802635564556%2C%20%22stroke%22%3A%20true%2C%20%22weight%22%3A%203%7D%0A%20%20%20%20%20%20%20%20%20%20%20%20%29.addTo%28map_adb6d74cb18349f3821b952856c762ca%29%3B%0A%20%20%20%20%20%20%20%20%0A%20%20%20%20%0A%20%20%20%20%20%20%20%20var%20popup_848fd82c97f54a87a0aacc147fac5b0d%20%3D%20L.popup%28%7B%22maxWidth%22%3A%20%22100%25%22%7D%29%3B%0A%0A%20%20%20%20%20%20%20%20%0A%20%20%20%20%20%20%20%20%20%20%20%20var%20html_0184ee0b1511491890e968db4ab995a7%20%3D%20%24%28%60%3Cdiv%20id%3D%22html_0184ee0b1511491890e968db4ab995a7%22%20style%3D%22width%3A%20100.0%25%3B%20height%3A%20100.0%25%3B%22%3EMontenegro%3C/div%3E%60%29%5B0%5D%3B%0A%20%20%20%20%20%20%20%20%20%20%20%20popup_848fd82c97f54a87a0aacc147fac5b0d.setContent%28html_0184ee0b1511491890e968db4ab995a7%29%3B%0A%20%20%20%20%20%20%20%20%0A%0A%20%20%20%20%20%20%20%20circle_marker_cbb855a3b52141c2acb2c462d5feae1c.bindPopup%28popup_848fd82c97f54a87a0aacc147fac5b0d%29%0A%20%20%20%20%20%20%20%20%3B%0A%0A%20%20%20%20%20%20%20%20%0A%20%20%20%20%0A%20%20%20%20%0A%20%20%20%20%20%20%20%20%20%20%20%20var%20circle_marker_a5a1aad5e2dc429ab18eb538ecede7e0%20%3D%20L.circleMarker%28%0A%20%20%20%20%20%20%20%20%20%20%20%20%20%20%20%20%5B-18.25%2C%2035.0%5D%2C%0A%20%20%20%20%20%20%20%20%20%20%20%20%20%20%20%20%7B%22bubblingMouseEvents%22%3A%20true%2C%20%22color%22%3A%20%22%233388ff%22%2C%20%22dashArray%22%3A%20null%2C%20%22dashOffset%22%3A%20null%2C%20%22fill%22%3A%20true%2C%20%22fillColor%22%3A%20%22blue%22%2C%20%22fillOpacity%22%3A%200.2%2C%20%22fillRule%22%3A%20%22evenodd%22%2C%20%22lineCap%22%3A%20%22round%22%2C%20%22lineJoin%22%3A%20%22round%22%2C%20%22opacity%22%3A%201.0%2C%20%22radius%22%3A%2021.32458555367499%2C%20%22stroke%22%3A%20true%2C%20%22weight%22%3A%203%7D%0A%20%20%20%20%20%20%20%20%20%20%20%20%29.addTo%28map_adb6d74cb18349f3821b952856c762ca%29%3B%0A%20%20%20%20%20%20%20%20%0A%20%20%20%20%0A%20%20%20%20%20%20%20%20var%20popup_49dd3196923745cbb56ff2fe3295dafa%20%3D%20L.popup%28%7B%22maxWidth%22%3A%20%22100%25%22%7D%29%3B%0A%0A%20%20%20%20%20%20%20%20%0A%20%20%20%20%20%20%20%20%20%20%20%20var%20html_18eb27ee75f84c8d96aca7212d094955%20%3D%20%24%28%60%3Cdiv%20id%3D%22html_18eb27ee75f84c8d96aca7212d094955%22%20style%3D%22width%3A%20100.0%25%3B%20height%3A%20100.0%25%3B%22%3EMozambique%3C/div%3E%60%29%5B0%5D%3B%0A%20%20%20%20%20%20%20%20%20%20%20%20popup_49dd3196923745cbb56ff2fe3295dafa.setContent%28html_18eb27ee75f84c8d96aca7212d094955%29%3B%0A%20%20%20%20%20%20%20%20%0A%0A%20%20%20%20%20%20%20%20circle_marker_a5a1aad5e2dc429ab18eb538ecede7e0.bindPopup%28popup_49dd3196923745cbb56ff2fe3295dafa%29%0A%20%20%20%20%20%20%20%20%3B%0A%0A%20%20%20%20%20%20%20%20%0A%20%20%20%20%0A%20%20%20%20%0A%20%20%20%20%20%20%20%20%20%20%20%20var%20circle_marker_92e4617e4ea144cd83438ade1d8cefa1%20%3D%20L.circleMarker%28%0A%20%20%20%20%20%20%20%20%20%20%20%20%20%20%20%20%5B20.25%2C%20-10.5%5D%2C%0A%20%20%20%20%20%20%20%20%20%20%20%20%20%20%20%20%7B%22bubblingMouseEvents%22%3A%20true%2C%20%22color%22%3A%20%22%233388ff%22%2C%20%22dashArray%22%3A%20null%2C%20%22dashOffset%22%3A%20null%2C%20%22fill%22%3A%20true%2C%20%22fillColor%22%3A%20%22blue%22%2C%20%22fillOpacity%22%3A%200.2%2C%20%22fillRule%22%3A%20%22evenodd%22%2C%20%22lineCap%22%3A%20%22round%22%2C%20%22lineJoin%22%3A%20%22round%22%2C%20%22opacity%22%3A%201.0%2C%20%22radius%22%3A%205.104874523724298%2C%20%22stroke%22%3A%20true%2C%20%22weight%22%3A%203%7D%0A%20%20%20%20%20%20%20%20%20%20%20%20%29.addTo%28map_adb6d74cb18349f3821b952856c762ca%29%3B%0A%20%20%20%20%20%20%20%20%0A%20%20%20%20%0A%20%20%20%20%20%20%20%20var%20popup_09f942d2ca0e4683be48d48c61b668c0%20%3D%20L.popup%28%7B%22maxWidth%22%3A%20%22100%25%22%7D%29%3B%0A%0A%20%20%20%20%20%20%20%20%0A%20%20%20%20%20%20%20%20%20%20%20%20var%20html_1a2650fe57f2468383e50d3bf4f43c27%20%3D%20%24%28%60%3Cdiv%20id%3D%22html_1a2650fe57f2468383e50d3bf4f43c27%22%20style%3D%22width%3A%20100.0%25%3B%20height%3A%20100.0%25%3B%22%3EMauritania%3C/div%3E%60%29%5B0%5D%3B%0A%20%20%20%20%20%20%20%20%20%20%20%20popup_09f942d2ca0e4683be48d48c61b668c0.setContent%28html_1a2650fe57f2468383e50d3bf4f43c27%29%3B%0A%20%20%20%20%20%20%20%20%0A%0A%20%20%20%20%20%20%20%20circle_marker_92e4617e4ea144cd83438ade1d8cefa1.bindPopup%28popup_09f942d2ca0e4683be48d48c61b668c0%29%0A%20%20%20%20%20%20%20%20%3B%0A%0A%20%20%20%20%20%20%20%20%0A%20%20%20%20%0A%20%20%20%20%0A%20%20%20%20%20%20%20%20%20%20%20%20var%20circle_marker_01ada0617e4a4769824959b47ecd3a17%20%3D%20L.circleMarker%28%0A%20%20%20%20%20%20%20%20%20%20%20%20%20%20%20%20%5B-13.5%2C%2034.0%5D%2C%0A%20%20%20%20%20%20%20%20%20%20%20%20%20%20%20%20%7B%22bubblingMouseEvents%22%3A%20true%2C%20%22color%22%3A%20%22%233388ff%22%2C%20%22dashArray%22%3A%20null%2C%20%22dashOffset%22%3A%20null%2C%20%22fill%22%3A%20true%2C%20%22fillColor%22%3A%20%22blue%22%2C%20%22fillOpacity%22%3A%200.2%2C%20%22fillRule%22%3A%20%22evenodd%22%2C%20%22lineCap%22%3A%20%22round%22%2C%20%22lineJoin%22%3A%20%22round%22%2C%20%22opacity%22%3A%201.0%2C%20%22radius%22%3A%2018.27467628792681%2C%20%22stroke%22%3A%20true%2C%20%22weight%22%3A%203%7D%0A%20%20%20%20%20%20%20%20%20%20%20%20%29.addTo%28map_adb6d74cb18349f3821b952856c762ca%29%3B%0A%20%20%20%20%20%20%20%20%0A%20%20%20%20%0A%20%20%20%20%20%20%20%20var%20popup_1bad299debe04716baa358b4db050a5d%20%3D%20L.popup%28%7B%22maxWidth%22%3A%20%22100%25%22%7D%29%3B%0A%0A%20%20%20%20%20%20%20%20%0A%20%20%20%20%20%20%20%20%20%20%20%20var%20html_480782338435409a8374a023e7a41dd5%20%3D%20%24%28%60%3Cdiv%20id%3D%22html_480782338435409a8374a023e7a41dd5%22%20style%3D%22width%3A%20100.0%25%3B%20height%3A%20100.0%25%3B%22%3EMalawi%3C/div%3E%60%29%5B0%5D%3B%0A%20%20%20%20%20%20%20%20%20%20%20%20popup_1bad299debe04716baa358b4db050a5d.setContent%28html_480782338435409a8374a023e7a41dd5%29%3B%0A%20%20%20%20%20%20%20%20%0A%0A%20%20%20%20%20%20%20%20circle_marker_01ada0617e4a4769824959b47ecd3a17.bindPopup%28popup_1bad299debe04716baa358b4db050a5d%29%0A%20%20%20%20%20%20%20%20%3B%0A%0A%20%20%20%20%20%20%20%20%0A%20%20%20%20%0A%20%20%20%20%0A%20%20%20%20%20%20%20%20%20%20%20%20var%20circle_marker_72e59f106c5f441f8c45d5edcb280c3d%20%3D%20L.circleMarker%28%0A%20%20%20%20%20%20%20%20%20%20%20%20%20%20%20%20%5B2.5%2C%20112.5%5D%2C%0A%20%20%20%20%20%20%20%20%20%20%20%20%20%20%20%20%7B%22bubblingMouseEvents%22%3A%20true%2C%20%22color%22%3A%20%22%233388ff%22%2C%20%22dashArray%22%3A%20null%2C%20%22dashOffset%22%3A%20null%2C%20%22fill%22%3A%20true%2C%20%22fillColor%22%3A%20%22red%22%2C%20%22fillOpacity%22%3A%200.2%2C%20%22fillRule%22%3A%20%22evenodd%22%2C%20%22lineCap%22%3A%20%22round%22%2C%20%22lineJoin%22%3A%20%22round%22%2C%20%22opacity%22%3A%201.0%2C%20%22stroke%22%3A%20true%2C%20%22weight%22%3A%203%7D%0A%20%20%20%20%20%20%20%20%20%20%20%20%29.addTo%28map_adb6d74cb18349f3821b952856c762ca%29%3B%0A%20%20%20%20%20%20%20%20%0A%20%20%20%20%0A%20%20%20%20%20%20%20%20var%20popup_fb0c82bd7b51474ba5d080febf4b5cbc%20%3D%20L.popup%28%7B%22maxWidth%22%3A%20%22100%25%22%7D%29%3B%0A%0A%20%20%20%20%20%20%20%20%0A%20%20%20%20%20%20%20%20%20%20%20%20var%20html_1be47acbd98945ec981fa95a60cca2c5%20%3D%20%24%28%60%3Cdiv%20id%3D%22html_1be47acbd98945ec981fa95a60cca2c5%22%20style%3D%22width%3A%20100.0%25%3B%20height%3A%20100.0%25%3B%22%3EMalaysia%3C/div%3E%60%29%5B0%5D%3B%0A%20%20%20%20%20%20%20%20%20%20%20%20popup_fb0c82bd7b51474ba5d080febf4b5cbc.setContent%28html_1be47acbd98945ec981fa95a60cca2c5%29%3B%0A%20%20%20%20%20%20%20%20%0A%0A%20%20%20%20%20%20%20%20circle_marker_72e59f106c5f441f8c45d5edcb280c3d.bindPopup%28popup_fb0c82bd7b51474ba5d080febf4b5cbc%29%0A%20%20%20%20%20%20%20%20%3B%0A%0A%20%20%20%20%20%20%20%20%0A%20%20%20%20%0A%20%20%20%20%0A%20%20%20%20%20%20%20%20%20%20%20%20var%20circle_marker_d1af1a20d9a44f4eb30f0bf401ec3c76%20%3D%20L.circleMarker%28%0A%20%20%20%20%20%20%20%20%20%20%20%20%20%20%20%20%5B-22.0%2C%2017.0%5D%2C%0A%20%20%20%20%20%20%20%20%20%20%20%20%20%20%20%20%7B%22bubblingMouseEvents%22%3A%20true%2C%20%22color%22%3A%20%22%233388ff%22%2C%20%22dashArray%22%3A%20null%2C%20%22dashOffset%22%3A%20null%2C%20%22fill%22%3A%20true%2C%20%22fillColor%22%3A%20%22blue%22%2C%20%22fillOpacity%22%3A%200.2%2C%20%22fillRule%22%3A%20%22evenodd%22%2C%20%22lineCap%22%3A%20%22round%22%2C%20%22lineJoin%22%3A%20%22round%22%2C%20%22opacity%22%3A%201.0%2C%20%22radius%22%3A%203.9845687128006193%2C%20%22stroke%22%3A%20true%2C%20%22weight%22%3A%203%7D%0A%20%20%20%20%20%20%20%20%20%20%20%20%29.addTo%28map_adb6d74cb18349f3821b952856c762ca%29%3B%0A%20%20%20%20%20%20%20%20%0A%20%20%20%20%0A%20%20%20%20%20%20%20%20var%20popup_8940facc98894b6c8427c96228406e3d%20%3D%20L.popup%28%7B%22maxWidth%22%3A%20%22100%25%22%7D%29%3B%0A%0A%20%20%20%20%20%20%20%20%0A%20%20%20%20%20%20%20%20%20%20%20%20var%20html_fcd79e022cce4bafb8ce450c5a321492%20%3D%20%24%28%60%3Cdiv%20id%3D%22html_fcd79e022cce4bafb8ce450c5a321492%22%20style%3D%22width%3A%20100.0%25%3B%20height%3A%20100.0%25%3B%22%3ENamibia%3C/div%3E%60%29%5B0%5D%3B%0A%20%20%20%20%20%20%20%20%20%20%20%20popup_8940facc98894b6c8427c96228406e3d.setContent%28html_fcd79e022cce4bafb8ce450c5a321492%29%3B%0A%20%20%20%20%20%20%20%20%0A%0A%20%20%20%20%20%20%20%20circle_marker_d1af1a20d9a44f4eb30f0bf401ec3c76.bindPopup%28popup_8940facc98894b6c8427c96228406e3d%29%0A%20%20%20%20%20%20%20%20%3B%0A%0A%20%20%20%20%20%20%20%20%0A%20%20%20%20%0A%20%20%20%20%0A%20%20%20%20%20%20%20%20%20%20%20%20var%20circle_marker_af7b46061c834f2689572411bd773a3a%20%3D%20L.circleMarker%28%0A%20%20%20%20%20%20%20%20%20%20%20%20%20%20%20%20%5B18.0%2C%209.0%5D%2C%0A%20%20%20%20%20%20%20%20%20%20%20%20%20%20%20%20%7B%22bubblingMouseEvents%22%3A%20true%2C%20%22color%22%3A%20%22%233388ff%22%2C%20%22dashArray%22%3A%20null%2C%20%22dashOffset%22%3A%20null%2C%20%22fill%22%3A%20true%2C%20%22fillColor%22%3A%20%22blue%22%2C%20%22fillOpacity%22%3A%200.2%2C%20%22fillRule%22%3A%20%22evenodd%22%2C%20%22lineCap%22%3A%20%22round%22%2C%20%22lineJoin%22%3A%20%22round%22%2C%20%22opacity%22%3A%201.0%2C%20%22radius%22%3A%2014.624343601209656%2C%20%22stroke%22%3A%20true%2C%20%22weight%22%3A%203%7D%0A%20%20%20%20%20%20%20%20%20%20%20%20%29.addTo%28map_adb6d74cb18349f3821b952856c762ca%29%3B%0A%20%20%20%20%20%20%20%20%0A%20%20%20%20%0A%20%20%20%20%20%20%20%20var%20popup_092b4fa342674c679909a4850e0b013c%20%3D%20L.popup%28%7B%22maxWidth%22%3A%20%22100%25%22%7D%29%3B%0A%0A%20%20%20%20%20%20%20%20%0A%20%20%20%20%20%20%20%20%20%20%20%20var%20html_0eb8082734cf47a2a50b5c85dce1716f%20%3D%20%24%28%60%3Cdiv%20id%3D%22html_0eb8082734cf47a2a50b5c85dce1716f%22%20style%3D%22width%3A%20100.0%25%3B%20height%3A%20100.0%25%3B%22%3ENiger%3C/div%3E%60%29%5B0%5D%3B%0A%20%20%20%20%20%20%20%20%20%20%20%20popup_092b4fa342674c679909a4850e0b013c.setContent%28html_0eb8082734cf47a2a50b5c85dce1716f%29%3B%0A%20%20%20%20%20%20%20%20%0A%0A%20%20%20%20%20%20%20%20circle_marker_af7b46061c834f2689572411bd773a3a.bindPopup%28popup_092b4fa342674c679909a4850e0b013c%29%0A%20%20%20%20%20%20%20%20%3B%0A%0A%20%20%20%20%20%20%20%20%0A%20%20%20%20%0A%20%20%20%20%0A%20%20%20%20%20%20%20%20%20%20%20%20var%20circle_marker_2cd9d3d046af41998f132451dcc4821c%20%3D%20L.circleMarker%28%0A%20%20%20%20%20%20%20%20%20%20%20%20%20%20%20%20%5B10.0%2C%208.0%5D%2C%0A%20%20%20%20%20%20%20%20%20%20%20%20%20%20%20%20%7B%22bubblingMouseEvents%22%3A%20true%2C%20%22color%22%3A%20%22%233388ff%22%2C%20%22dashArray%22%3A%20null%2C%20%22dashOffset%22%3A%20null%2C%20%22fill%22%3A%20true%2C%20%22fillColor%22%3A%20%22blue%22%2C%20%22fillOpacity%22%3A%200.2%2C%20%22fillRule%22%3A%20%22evenodd%22%2C%20%22lineCap%22%3A%20%22round%22%2C%20%22lineJoin%22%3A%20%22round%22%2C%20%22opacity%22%3A%201.0%2C%20%22radius%22%3A%2055.94290002503713%2C%20%22stroke%22%3A%20true%2C%20%22weight%22%3A%203%7D%0A%20%20%20%20%20%20%20%20%20%20%20%20%29.addTo%28map_adb6d74cb18349f3821b952856c762ca%29%3B%0A%20%20%20%20%20%20%20%20%0A%20%20%20%20%0A%20%20%20%20%20%20%20%20var%20popup_cb93b44146fe4d0899679b027af3f34f%20%3D%20L.popup%28%7B%22maxWidth%22%3A%20%22100%25%22%7D%29%3B%0A%0A%20%20%20%20%20%20%20%20%0A%20%20%20%20%20%20%20%20%20%20%20%20var%20html_9af76a75fdb5421c940e8990522958ce%20%3D%20%24%28%60%3Cdiv%20id%3D%22html_9af76a75fdb5421c940e8990522958ce%22%20style%3D%22width%3A%20100.0%25%3B%20height%3A%20100.0%25%3B%22%3ENigeria%3C/div%3E%60%29%5B0%5D%3B%0A%20%20%20%20%20%20%20%20%20%20%20%20popup_cb93b44146fe4d0899679b027af3f34f.setContent%28html_9af76a75fdb5421c940e8990522958ce%29%3B%0A%20%20%20%20%20%20%20%20%0A%0A%20%20%20%20%20%20%20%20circle_marker_2cd9d3d046af41998f132451dcc4821c.bindPopup%28popup_cb93b44146fe4d0899679b027af3f34f%29%0A%20%20%20%20%20%20%20%20%3B%0A%0A%20%20%20%20%20%20%20%20%0A%20%20%20%20%0A%20%20%20%20%0A%20%20%20%20%20%20%20%20%20%20%20%20var%20circle_marker_927f33cbfd2944b7ae6a979af4962346%20%3D%20L.circleMarker%28%0A%20%20%20%20%20%20%20%20%20%20%20%20%20%20%20%20%5B13.0%2C%20-85.0%5D%2C%0A%20%20%20%20%20%20%20%20%20%20%20%20%20%20%20%20%7B%22bubblingMouseEvents%22%3A%20true%2C%20%22color%22%3A%20%22%233388ff%22%2C%20%22dashArray%22%3A%20null%2C%20%22dashOffset%22%3A%20null%2C%20%22fill%22%3A%20true%2C%20%22fillColor%22%3A%20%22green%22%2C%20%22fillOpacity%22%3A%200.2%2C%20%22fillRule%22%3A%20%22evenodd%22%2C%20%22lineCap%22%3A%20%22round%22%2C%20%22lineJoin%22%3A%20%22round%22%2C%20%22opacity%22%3A%201.0%2C%20%22radius%22%3A%203.9789367881465885%2C%20%22stroke%22%3A%20true%2C%20%22weight%22%3A%203%7D%0A%20%20%20%20%20%20%20%20%20%20%20%20%29.addTo%28map_adb6d74cb18349f3821b952856c762ca%29%3B%0A%20%20%20%20%20%20%20%20%0A%20%20%20%20%0A%20%20%20%20%20%20%20%20var%20popup_3211571261a34e29b9b58b05f6ab1dda%20%3D%20L.popup%28%7B%22maxWidth%22%3A%20%22100%25%22%7D%29%3B%0A%0A%20%20%20%20%20%20%20%20%0A%20%20%20%20%20%20%20%20%20%20%20%20var%20html_ed0dbf9e180c4d88bc6c53ba9ae80033%20%3D%20%24%28%60%3Cdiv%20id%3D%22html_ed0dbf9e180c4d88bc6c53ba9ae80033%22%20style%3D%22width%3A%20100.0%25%3B%20height%3A%20100.0%25%3B%22%3ENicaragua%3C/div%3E%60%29%5B0%5D%3B%0A%20%20%20%20%20%20%20%20%20%20%20%20popup_3211571261a34e29b9b58b05f6ab1dda.setContent%28html_ed0dbf9e180c4d88bc6c53ba9ae80033%29%3B%0A%20%20%20%20%20%20%20%20%0A%0A%20%20%20%20%20%20%20%20circle_marker_927f33cbfd2944b7ae6a979af4962346.bindPopup%28popup_3211571261a34e29b9b58b05f6ab1dda%29%0A%20%20%20%20%20%20%20%20%3B%0A%0A%20%20%20%20%20%20%20%20%0A%20%20%20%20%0A%20%20%20%20%0A%20%20%20%20%20%20%20%20%20%20%20%20var%20circle_marker_fc4420f414694dbdb02fe895396247f0%20%3D%20L.circleMarker%28%0A%20%20%20%20%20%20%20%20%20%20%20%20%20%20%20%20%5B52.25%2C%205.75%5D%2C%0A%20%20%20%20%20%20%20%20%20%20%20%20%20%20%20%20%7B%22bubblingMouseEvents%22%3A%20true%2C%20%22color%22%3A%20%22%233388ff%22%2C%20%22dashArray%22%3A%20null%2C%20%22dashOffset%22%3A%20null%2C%20%22fill%22%3A%20true%2C%20%22fillColor%22%3A%20%22black%22%2C%20%22fillOpacity%22%3A%200.2%2C%20%22fillRule%22%3A%20%22evenodd%22%2C%20%22lineCap%22%3A%20%22round%22%2C%20%22lineJoin%22%3A%20%22round%22%2C%20%22opacity%22%3A%201.0%2C%20%22radius%22%3A%201.363308998513233%2C%20%22stroke%22%3A%20true%2C%20%22weight%22%3A%203%7D%0A%20%20%20%20%20%20%20%20%20%20%20%20%29.addTo%28map_adb6d74cb18349f3821b952856c762ca%29%3B%0A%20%20%20%20%20%20%20%20%0A%20%20%20%20%0A%20%20%20%20%20%20%20%20var%20popup_067c39da5fa64e759050c5a8fabaa515%20%3D%20L.popup%28%7B%22maxWidth%22%3A%20%22100%25%22%7D%29%3B%0A%0A%20%20%20%20%20%20%20%20%0A%20%20%20%20%20%20%20%20%20%20%20%20var%20html_6d1815ad2a2144e5835a2354550230e5%20%3D%20%24%28%60%3Cdiv%20id%3D%22html_6d1815ad2a2144e5835a2354550230e5%22%20style%3D%22width%3A%20100.0%25%3B%20height%3A%20100.0%25%3B%22%3ENetherlands%3C/div%3E%60%29%5B0%5D%3B%0A%20%20%20%20%20%20%20%20%20%20%20%20popup_067c39da5fa64e759050c5a8fabaa515.setContent%28html_6d1815ad2a2144e5835a2354550230e5%29%3B%0A%20%20%20%20%20%20%20%20%0A%0A%20%20%20%20%20%20%20%20circle_marker_fc4420f414694dbdb02fe895396247f0.bindPopup%28popup_067c39da5fa64e759050c5a8fabaa515%29%0A%20%20%20%20%20%20%20%20%3B%0A%0A%20%20%20%20%20%20%20%20%0A%20%20%20%20%0A%20%20%20%20%0A%20%20%20%20%20%20%20%20%20%20%20%20var%20circle_marker_7d78c447be6e4afe982735d837033450%20%3D%20L.circleMarker%28%0A%20%20%20%20%20%20%20%20%20%20%20%20%20%20%20%20%5B62.0%2C%2010.0%5D%2C%0A%20%20%20%20%20%20%20%20%20%20%20%20%20%20%20%20%7B%22bubblingMouseEvents%22%3A%20true%2C%20%22color%22%3A%20%22%233388ff%22%2C%20%22dashArray%22%3A%20null%2C%20%22dashOffset%22%3A%20null%2C%20%22fill%22%3A%20true%2C%20%22fillColor%22%3A%20%22black%22%2C%20%22fillOpacity%22%3A%200.2%2C%20%22fillRule%22%3A%20%22evenodd%22%2C%20%22lineCap%22%3A%20%22round%22%2C%20%22lineJoin%22%3A%20%22round%22%2C%20%22opacity%22%3A%201.0%2C%20%22radius%22%3A%201.0207778467534643%2C%20%22stroke%22%3A%20true%2C%20%22weight%22%3A%203%7D%0A%20%20%20%20%20%20%20%20%20%20%20%20%29.addTo%28map_adb6d74cb18349f3821b952856c762ca%29%3B%0A%20%20%20%20%20%20%20%20%0A%20%20%20%20%0A%20%20%20%20%20%20%20%20var%20popup_61b546287f0a4dac85dcd6e6f3b7325f%20%3D%20L.popup%28%7B%22maxWidth%22%3A%20%22100%25%22%7D%29%3B%0A%0A%20%20%20%20%20%20%20%20%0A%20%20%20%20%20%20%20%20%20%20%20%20var%20html_9d53a5db5bf548bdb36a331b9a09d1d6%20%3D%20%24%28%60%3Cdiv%20id%3D%22html_9d53a5db5bf548bdb36a331b9a09d1d6%22%20style%3D%22width%3A%20100.0%25%3B%20height%3A%20100.0%25%3B%22%3ENorway%3C/div%3E%60%29%5B0%5D%3B%0A%20%20%20%20%20%20%20%20%20%20%20%20popup_61b546287f0a4dac85dcd6e6f3b7325f.setContent%28html_9d53a5db5bf548bdb36a331b9a09d1d6%29%3B%0A%20%20%20%20%20%20%20%20%0A%0A%20%20%20%20%20%20%20%20circle_marker_7d78c447be6e4afe982735d837033450.bindPopup%28popup_61b546287f0a4dac85dcd6e6f3b7325f%29%0A%20%20%20%20%20%20%20%20%3B%0A%0A%20%20%20%20%20%20%20%20%0A%20%20%20%20%0A%20%20%20%20%0A%20%20%20%20%20%20%20%20%20%20%20%20var%20circle_marker_b285c02b86864f0aa7c646a925eac131%20%3D%20L.circleMarker%28%0A%20%20%20%20%20%20%20%20%20%20%20%20%20%20%20%20%5B28.0%2C%2084.0%5D%2C%0A%20%20%20%20%20%20%20%20%20%20%20%20%20%20%20%20%7B%22bubblingMouseEvents%22%3A%20true%2C%20%22color%22%3A%20%22%233388ff%22%2C%20%22dashArray%22%3A%20null%2C%20%22dashOffset%22%3A%20null%2C%20%22fill%22%3A%20true%2C%20%22fillColor%22%3A%20%22red%22%2C%20%22fillOpacity%22%3A%200.2%2C%20%22fillRule%22%3A%20%22evenodd%22%2C%20%22lineCap%22%3A%20%22round%22%2C%20%22lineJoin%22%3A%20%22round%22%2C%20%22opacity%22%3A%201.0%2C%20%22radius%22%3A%2014.287409177153314%2C%20%22stroke%22%3A%20true%2C%20%22weight%22%3A%203%7D%0A%20%20%20%20%20%20%20%20%20%20%20%20%29.addTo%28map_adb6d74cb18349f3821b952856c762ca%29%3B%0A%20%20%20%20%20%20%20%20%0A%20%20%20%20%0A%20%20%20%20%20%20%20%20var%20popup_6ad425fa12044889948c83850d4bf379%20%3D%20L.popup%28%7B%22maxWidth%22%3A%20%22100%25%22%7D%29%3B%0A%0A%20%20%20%20%20%20%20%20%0A%20%20%20%20%20%20%20%20%20%20%20%20var%20html_4f033fba955e4e97a79dbcdaa51d45fa%20%3D%20%24%28%60%3Cdiv%20id%3D%22html_4f033fba955e4e97a79dbcdaa51d45fa%22%20style%3D%22width%3A%20100.0%25%3B%20height%3A%20100.0%25%3B%22%3ENepal%3C/div%3E%60%29%5B0%5D%3B%0A%20%20%20%20%20%20%20%20%20%20%20%20popup_6ad425fa12044889948c83850d4bf379.setContent%28html_4f033fba955e4e97a79dbcdaa51d45fa%29%3B%0A%20%20%20%20%20%20%20%20%0A%0A%20%20%20%20%20%20%20%20circle_marker_b285c02b86864f0aa7c646a925eac131.bindPopup%28popup_6ad425fa12044889948c83850d4bf379%29%0A%20%20%20%20%20%20%20%20%3B%0A%0A%20%20%20%20%20%20%20%20%0A%20%20%20%20%0A%20%20%20%20%0A%20%20%20%20%20%20%20%20%20%20%20%20var%20circle_marker_26d047940ff4409e931475618ee12e36%20%3D%20L.circleMarker%28%0A%20%20%20%20%20%20%20%20%20%20%20%20%20%20%20%20%5B30.0%2C%2070.0%5D%2C%0A%20%20%20%20%20%20%20%20%20%20%20%20%20%20%20%20%7B%22bubblingMouseEvents%22%3A%20true%2C%20%22color%22%3A%20%22%233388ff%22%2C%20%22dashArray%22%3A%20null%2C%20%22dashOffset%22%3A%20null%2C%20%22fill%22%3A%20true%2C%20%22fillColor%22%3A%20%22red%22%2C%20%22fillOpacity%22%3A%200.2%2C%20%22fillRule%22%3A%20%22evenodd%22%2C%20%22lineCap%22%3A%20%22round%22%2C%20%22lineJoin%22%3A%20%22round%22%2C%20%22opacity%22%3A%201.0%2C%20%22radius%22%3A%2026.974340020303398%2C%20%22stroke%22%3A%20true%2C%20%22weight%22%3A%203%7D%0A%20%20%20%20%20%20%20%20%20%20%20%20%29.addTo%28map_adb6d74cb18349f3821b952856c762ca%29%3B%0A%20%20%20%20%20%20%20%20%0A%20%20%20%20%0A%20%20%20%20%20%20%20%20var%20popup_239d9684742549e2bd064e7b8b4c714f%20%3D%20L.popup%28%7B%22maxWidth%22%3A%20%22100%25%22%7D%29%3B%0A%0A%20%20%20%20%20%20%20%20%0A%20%20%20%20%20%20%20%20%20%20%20%20var%20html_5aeec41fdb26409d9657430286623390%20%3D%20%24%28%60%3Cdiv%20id%3D%22html_5aeec41fdb26409d9657430286623390%22%20style%3D%22width%3A%20100.0%25%3B%20height%3A%20100.0%25%3B%22%3EPakistan%3C/div%3E%60%29%5B0%5D%3B%0A%20%20%20%20%20%20%20%20%20%20%20%20popup_239d9684742549e2bd064e7b8b4c714f.setContent%28html_5aeec41fdb26409d9657430286623390%29%3B%0A%20%20%20%20%20%20%20%20%0A%0A%20%20%20%20%20%20%20%20circle_marker_26d047940ff4409e931475618ee12e36.bindPopup%28popup_239d9684742549e2bd064e7b8b4c714f%29%0A%20%20%20%20%20%20%20%20%3B%0A%0A%20%20%20%20%20%20%20%20%0A%20%20%20%20%0A%20%20%20%20%0A%20%20%20%20%20%20%20%20%20%20%20%20var%20circle_marker_d66ca854890d4fbaae98afe2a7c80465%20%3D%20L.circleMarker%28%0A%20%20%20%20%20%20%20%20%20%20%20%20%20%20%20%20%5B8.9936%2C%20-79.51973%5D%2C%0A%20%20%20%20%20%20%20%20%20%20%20%20%20%20%20%20%7B%22bubblingMouseEvents%22%3A%20true%2C%20%22color%22%3A%20%22%233388ff%22%2C%20%22dashArray%22%3A%20null%2C%20%22dashOffset%22%3A%20null%2C%20%22fill%22%3A%20true%2C%20%22fillColor%22%3A%20%22green%22%2C%20%22fillOpacity%22%3A%200.2%2C%20%22fillRule%22%3A%20%22evenodd%22%2C%20%22lineCap%22%3A%20%22round%22%2C%20%22lineJoin%22%3A%20%22round%22%2C%20%22opacity%22%3A%201.0%2C%20%22radius%22%3A%202.15090943062721%2C%20%22stroke%22%3A%20true%2C%20%22weight%22%3A%203%7D%0A%20%20%20%20%20%20%20%20%20%20%20%20%29.addTo%28map_adb6d74cb18349f3821b952856c762ca%29%3B%0A%20%20%20%20%20%20%20%20%0A%20%20%20%20%0A%20%20%20%20%20%20%20%20var%20popup_9050e192c37148148ececde11bf97547%20%3D%20L.popup%28%7B%22maxWidth%22%3A%20%22100%25%22%7D%29%3B%0A%0A%20%20%20%20%20%20%20%20%0A%20%20%20%20%20%20%20%20%20%20%20%20var%20html_cbb067b9b36449939a1c04774cc3a2ea%20%3D%20%24%28%60%3Cdiv%20id%3D%22html_cbb067b9b36449939a1c04774cc3a2ea%22%20style%3D%22width%3A%20100.0%25%3B%20height%3A%20100.0%25%3B%22%3EPanama%3C/div%3E%60%29%5B0%5D%3B%0A%20%20%20%20%20%20%20%20%20%20%20%20popup_9050e192c37148148ececde11bf97547.setContent%28html_cbb067b9b36449939a1c04774cc3a2ea%29%3B%0A%20%20%20%20%20%20%20%20%0A%0A%20%20%20%20%20%20%20%20circle_marker_d66ca854890d4fbaae98afe2a7c80465.bindPopup%28popup_9050e192c37148148ececde11bf97547%29%0A%20%20%20%20%20%20%20%20%3B%0A%0A%20%20%20%20%20%20%20%20%0A%20%20%20%20%0A%20%20%20%20%0A%20%20%20%20%20%20%20%20%20%20%20%20var%20circle_marker_270d499295bc4c31bf808d3ee050ec9e%20%3D%20L.circleMarker%28%0A%20%20%20%20%20%20%20%20%20%20%20%20%20%20%20%20%5B-10.0%2C%20-75.25%5D%2C%0A%20%20%20%20%20%20%20%20%20%20%20%20%20%20%20%20%7B%22bubblingMouseEvents%22%3A%20true%2C%20%22color%22%3A%20%22%233388ff%22%2C%20%22dashArray%22%3A%20null%2C%20%22dashOffset%22%3A%20null%2C%20%22fill%22%3A%20true%2C%20%22fillColor%22%3A%20%22green%22%2C%20%22fillOpacity%22%3A%200.2%2C%20%22fillRule%22%3A%20%22evenodd%22%2C%20%22lineCap%22%3A%20%22round%22%2C%20%22lineJoin%22%3A%20%22round%22%2C%20%22opacity%22%3A%201.0%2C%20%22radius%22%3A%205.167496139520397%2C%20%22stroke%22%3A%20true%2C%20%22weight%22%3A%203%7D%0A%20%20%20%20%20%20%20%20%20%20%20%20%29.addTo%28map_adb6d74cb18349f3821b952856c762ca%29%3B%0A%20%20%20%20%20%20%20%20%0A%20%20%20%20%0A%20%20%20%20%20%20%20%20var%20popup_43e3bd2f731244558df4347654dba470%20%3D%20L.popup%28%7B%22maxWidth%22%3A%20%22100%25%22%7D%29%3B%0A%0A%20%20%20%20%20%20%20%20%0A%20%20%20%20%20%20%20%20%20%20%20%20var%20html_b3dc8cf72898471a899a419b576eb675%20%3D%20%24%28%60%3Cdiv%20id%3D%22html_b3dc8cf72898471a899a419b576eb675%22%20style%3D%22width%3A%20100.0%25%3B%20height%3A%20100.0%25%3B%22%3EPeru%3C/div%3E%60%29%5B0%5D%3B%0A%20%20%20%20%20%20%20%20%20%20%20%20popup_43e3bd2f731244558df4347654dba470.setContent%28html_b3dc8cf72898471a899a419b576eb675%29%3B%0A%20%20%20%20%20%20%20%20%0A%0A%20%20%20%20%20%20%20%20circle_marker_270d499295bc4c31bf808d3ee050ec9e.bindPopup%28popup_43e3bd2f731244558df4347654dba470%29%0A%20%20%20%20%20%20%20%20%3B%0A%0A%20%20%20%20%20%20%20%20%0A%20%20%20%20%0A%20%20%20%20%0A%20%20%20%20%20%20%20%20%20%20%20%20var%20circle_marker_f3894174c6ec4c88b2310a445ff899c6%20%3D%20L.circleMarker%28%0A%20%20%20%20%20%20%20%20%20%20%20%20%20%20%20%20%5B13.0%2C%20122.0%5D%2C%0A%20%20%20%20%20%20%20%20%20%20%20%20%20%20%20%20%7B%22bubblingMouseEvents%22%3A%20true%2C%20%22color%22%3A%20%22%233388ff%22%2C%20%22dashArray%22%3A%20null%2C%20%22dashOffset%22%3A%20null%2C%20%22fill%22%3A%20true%2C%20%22fillColor%22%3A%20%22red%22%2C%20%22fillOpacity%22%3A%200.2%2C%20%22fillRule%22%3A%20%22evenodd%22%2C%20%22lineCap%22%3A%20%22round%22%2C%20%22lineJoin%22%3A%20%22round%22%2C%20%22opacity%22%3A%201.0%2C%20%22radius%22%3A%2023.813948433342183%2C%20%22stroke%22%3A%20true%2C%20%22weight%22%3A%203%7D%0A%20%20%20%20%20%20%20%20%20%20%20%20%29.addTo%28map_adb6d74cb18349f3821b952856c762ca%29%3B%0A%20%20%20%20%20%20%20%20%0A%20%20%20%20%0A%20%20%20%20%20%20%20%20var%20popup_8db0d4fa6d1a4edb8680d4fb33f73576%20%3D%20L.popup%28%7B%22maxWidth%22%3A%20%22100%25%22%7D%29%3B%0A%0A%20%20%20%20%20%20%20%20%0A%20%20%20%20%20%20%20%20%20%20%20%20var%20html_2c4e970a79b647f2b225d54a21e7770b%20%3D%20%24%28%60%3Cdiv%20id%3D%22html_2c4e970a79b647f2b225d54a21e7770b%22%20style%3D%22width%3A%20100.0%25%3B%20height%3A%20100.0%25%3B%22%3EPhilippines%3C/div%3E%60%29%5B0%5D%3B%0A%20%20%20%20%20%20%20%20%20%20%20%20popup_8db0d4fa6d1a4edb8680d4fb33f73576.setContent%28html_2c4e970a79b647f2b225d54a21e7770b%29%3B%0A%20%20%20%20%20%20%20%20%0A%0A%20%20%20%20%20%20%20%20circle_marker_f3894174c6ec4c88b2310a445ff899c6.bindPopup%28popup_8db0d4fa6d1a4edb8680d4fb33f73576%29%0A%20%20%20%20%20%20%20%20%3B%0A%0A%20%20%20%20%20%20%20%20%0A%20%20%20%20%0A%20%20%20%20%0A%20%20%20%20%20%20%20%20%20%20%20%20var%20circle_marker_a848986890c343b0aeea99df70c9fcb3%20%3D%20L.circleMarker%28%0A%20%20%20%20%20%20%20%20%20%20%20%20%20%20%20%20%5B-6.0%2C%20147.0%5D%2C%0A%20%20%20%20%20%20%20%20%20%20%20%20%20%20%20%20%7B%22bubblingMouseEvents%22%3A%20true%2C%20%22color%22%3A%20%22%233388ff%22%2C%20%22dashArray%22%3A%20null%2C%20%22dashOffset%22%3A%20null%2C%20%22fill%22%3A%20true%2C%20%22fillColor%22%3A%20%22red%22%2C%20%22fillOpacity%22%3A%200.2%2C%20%22fillRule%22%3A%20%22evenodd%22%2C%20%22lineCap%22%3A%20%22round%22%2C%20%22lineJoin%22%3A%20%22round%22%2C%20%22opacity%22%3A%201.0%2C%20%22radius%22%3A%209.125985821420215%2C%20%22stroke%22%3A%20true%2C%20%22weight%22%3A%203%7D%0A%20%20%20%20%20%20%20%20%20%20%20%20%29.addTo%28map_adb6d74cb18349f3821b952856c762ca%29%3B%0A%20%20%20%20%20%20%20%20%0A%20%20%20%20%0A%20%20%20%20%20%20%20%20var%20popup_3b77e85cbb6846089b597f80253faf51%20%3D%20L.popup%28%7B%22maxWidth%22%3A%20%22100%25%22%7D%29%3B%0A%0A%20%20%20%20%20%20%20%20%0A%20%20%20%20%20%20%20%20%20%20%20%20var%20html_a9a00f08954348289b9c57683ee5761b%20%3D%20%24%28%60%3Cdiv%20id%3D%22html_a9a00f08954348289b9c57683ee5761b%22%20style%3D%22width%3A%20100.0%25%3B%20height%3A%20100.0%25%3B%22%3EPapua%20New%20Guinea%3C/div%3E%60%29%5B0%5D%3B%0A%20%20%20%20%20%20%20%20%20%20%20%20popup_3b77e85cbb6846089b597f80253faf51.setContent%28html_a9a00f08954348289b9c57683ee5761b%29%3B%0A%20%20%20%20%20%20%20%20%0A%0A%20%20%20%20%20%20%20%20circle_marker_a848986890c343b0aeea99df70c9fcb3.bindPopup%28popup_3b77e85cbb6846089b597f80253faf51%29%0A%20%20%20%20%20%20%20%20%3B%0A%0A%20%20%20%20%20%20%20%20%0A%20%20%20%20%0A%20%20%20%20%0A%20%20%20%20%20%20%20%20%20%20%20%20var%20circle_marker_4429f71931b14af39033413fc045b46a%20%3D%20L.circleMarker%28%0A%20%20%20%20%20%20%20%20%20%20%20%20%20%20%20%20%5B52.0%2C%2020.0%5D%2C%0A%20%20%20%20%20%20%20%20%20%20%20%20%20%20%20%20%7B%22bubblingMouseEvents%22%3A%20true%2C%20%22color%22%3A%20%22%233388ff%22%2C%20%22dashArray%22%3A%20null%2C%20%22dashOffset%22%3A%20null%2C%20%22fill%22%3A%20true%2C%20%22fillColor%22%3A%20%22black%22%2C%20%22fillOpacity%22%3A%200.2%2C%20%22fillRule%22%3A%20%22evenodd%22%2C%20%22lineCap%22%3A%20%22round%22%2C%20%22lineJoin%22%3A%20%22round%22%2C%20%22opacity%22%3A%201.0%2C%20%22stroke%22%3A%20true%2C%20%22weight%22%3A%203%7D%0A%20%20%20%20%20%20%20%20%20%20%20%20%29.addTo%28map_adb6d74cb18349f3821b952856c762ca%29%3B%0A%20%20%20%20%20%20%20%20%0A%20%20%20%20%0A%20%20%20%20%20%20%20%20var%20popup_316e63c67c8c4d2eb9d758ee411c617b%20%3D%20L.popup%28%7B%22maxWidth%22%3A%20%22100%25%22%7D%29%3B%0A%0A%20%20%20%20%20%20%20%20%0A%20%20%20%20%20%20%20%20%20%20%20%20var%20html_e5a48a3534e146dca2a70c485489e553%20%3D%20%24%28%60%3Cdiv%20id%3D%22html_e5a48a3534e146dca2a70c485489e553%22%20style%3D%22width%3A%20100.0%25%3B%20height%3A%20100.0%25%3B%22%3EPoland%3C/div%3E%60%29%5B0%5D%3B%0A%20%20%20%20%20%20%20%20%20%20%20%20popup_316e63c67c8c4d2eb9d758ee411c617b.setContent%28html_e5a48a3534e146dca2a70c485489e553%29%3B%0A%20%20%20%20%20%20%20%20%0A%0A%20%20%20%20%20%20%20%20circle_marker_4429f71931b14af39033413fc045b46a.bindPopup%28popup_316e63c67c8c4d2eb9d758ee411c617b%29%0A%20%20%20%20%20%20%20%20%3B%0A%0A%20%20%20%20%20%20%20%20%0A%20%20%20%20%0A%20%20%20%20%0A%20%20%20%20%20%20%20%20%20%20%20%20var%20circle_marker_472bee92d7714e0b83e94d31871a6732%20%3D%20L.circleMarker%28%0A%20%20%20%20%20%20%20%20%20%20%20%20%20%20%20%20%5B-23.33333%2C%20-58.0%5D%2C%0A%20%20%20%20%20%20%20%20%20%20%20%20%20%20%20%20%7B%22bubblingMouseEvents%22%3A%20true%2C%20%22color%22%3A%20%22%233388ff%22%2C%20%22dashArray%22%3A%20null%2C%20%22dashOffset%22%3A%20null%2C%20%22fill%22%3A%20true%2C%20%22fillColor%22%3A%20%22green%22%2C%20%22fillOpacity%22%3A%200.2%2C%20%22fillRule%22%3A%20%22evenodd%22%2C%20%22lineCap%22%3A%20%22round%22%2C%20%22lineJoin%22%3A%20%22round%22%2C%20%22opacity%22%3A%201.0%2C%20%22radius%22%3A%202.454808263447154%2C%20%22stroke%22%3A%20true%2C%20%22weight%22%3A%203%7D%0A%20%20%20%20%20%20%20%20%20%20%20%20%29.addTo%28map_adb6d74cb18349f3821b952856c762ca%29%3B%0A%20%20%20%20%20%20%20%20%0A%20%20%20%20%0A%20%20%20%20%20%20%20%20var%20popup_f59fd51cdb674bd2ad703ce0ddb4fd41%20%3D%20L.popup%28%7B%22maxWidth%22%3A%20%22100%25%22%7D%29%3B%0A%0A%20%20%20%20%20%20%20%20%0A%20%20%20%20%20%20%20%20%20%20%20%20var%20html_ddf37a54089f4766b27f08433c3a0066%20%3D%20%24%28%60%3Cdiv%20id%3D%22html_ddf37a54089f4766b27f08433c3a0066%22%20style%3D%22width%3A%20100.0%25%3B%20height%3A%20100.0%25%3B%22%3EParaguay%3C/div%3E%60%29%5B0%5D%3B%0A%20%20%20%20%20%20%20%20%20%20%20%20popup_f59fd51cdb674bd2ad703ce0ddb4fd41.setContent%28html_ddf37a54089f4766b27f08433c3a0066%29%3B%0A%20%20%20%20%20%20%20%20%0A%0A%20%20%20%20%20%20%20%20circle_marker_472bee92d7714e0b83e94d31871a6732.bindPopup%28popup_f59fd51cdb674bd2ad703ce0ddb4fd41%29%0A%20%20%20%20%20%20%20%20%3B%0A%0A%20%20%20%20%20%20%20%20%0A%20%20%20%20%0A%20%20%20%20%0A%20%20%20%20%20%20%20%20%20%20%20%20var%20circle_marker_8166a2f78b4c4325982aeae3ee3704e4%20%3D%20L.circleMarker%28%0A%20%20%20%20%20%20%20%20%20%20%20%20%20%20%20%20%5B31.92157%2C%2035.20329%5D%2C%0A%20%20%20%20%20%20%20%20%20%20%20%20%20%20%20%20%7B%22bubblingMouseEvents%22%3A%20true%2C%20%22color%22%3A%20%22%233388ff%22%2C%20%22dashArray%22%3A%20null%2C%20%22dashOffset%22%3A%20null%2C%20%22fill%22%3A%20true%2C%20%22fillColor%22%3A%20%22red%22%2C%20%22fillOpacity%22%3A%200.2%2C%20%22fillRule%22%3A%20%22evenodd%22%2C%20%22lineCap%22%3A%20%22round%22%2C%20%22lineJoin%22%3A%20%22round%22%2C%20%22opacity%22%3A%201.0%2C%20%22radius%22%3A%200.3213900403973964%2C%20%22stroke%22%3A%20true%2C%20%22weight%22%3A%203%7D%0A%20%20%20%20%20%20%20%20%20%20%20%20%29.addTo%28map_adb6d74cb18349f3821b952856c762ca%29%3B%0A%20%20%20%20%20%20%20%20%0A%20%20%20%20%0A%20%20%20%20%20%20%20%20var%20popup_3f3b0821645e405f81db8fdc83992d2e%20%3D%20L.popup%28%7B%22maxWidth%22%3A%20%22100%25%22%7D%29%3B%0A%0A%20%20%20%20%20%20%20%20%0A%20%20%20%20%20%20%20%20%20%20%20%20var%20html_339426f3c50048419f13f3e3e5df42ab%20%3D%20%24%28%60%3Cdiv%20id%3D%22html_339426f3c50048419f13f3e3e5df42ab%22%20style%3D%22width%3A%20100.0%25%3B%20height%3A%20100.0%25%3B%22%3EPalestine%3C/div%3E%60%29%5B0%5D%3B%0A%20%20%20%20%20%20%20%20%20%20%20%20popup_3f3b0821645e405f81db8fdc83992d2e.setContent%28html_339426f3c50048419f13f3e3e5df42ab%29%3B%0A%20%20%20%20%20%20%20%20%0A%0A%20%20%20%20%20%20%20%20circle_marker_8166a2f78b4c4325982aeae3ee3704e4.bindPopup%28popup_3f3b0821645e405f81db8fdc83992d2e%29%0A%20%20%20%20%20%20%20%20%3B%0A%0A%20%20%20%20%20%20%20%20%0A%20%20%20%20%0A%20%20%20%20%0A%20%20%20%20%20%20%20%20%20%20%20%20var%20circle_marker_fba380dd861d4ec9b8d6292badd09ce0%20%3D%20L.circleMarker%28%0A%20%20%20%20%20%20%20%20%20%20%20%20%20%20%20%20%5B46.0%2C%2025.0%5D%2C%0A%20%20%20%20%20%20%20%20%20%20%20%20%20%20%20%20%7B%22bubblingMouseEvents%22%3A%20true%2C%20%22color%22%3A%20%22%233388ff%22%2C%20%22dashArray%22%3A%20null%2C%20%22dashOffset%22%3A%20null%2C%20%22fill%22%3A%20true%2C%20%22fillColor%22%3A%20%22black%22%2C%20%22fillOpacity%22%3A%200.2%2C%20%22fillRule%22%3A%20%22evenodd%22%2C%20%22lineCap%22%3A%20%22round%22%2C%20%22lineJoin%22%3A%20%22round%22%2C%20%22opacity%22%3A%201.0%2C%20%22stroke%22%3A%20true%2C%20%22weight%22%3A%203%7D%0A%20%20%20%20%20%20%20%20%20%20%20%20%29.addTo%28map_adb6d74cb18349f3821b952856c762ca%29%3B%0A%20%20%20%20%20%20%20%20%0A%20%20%20%20%0A%20%20%20%20%20%20%20%20var%20popup_42f8418fbf0f4340bb071feeddb3513e%20%3D%20L.popup%28%7B%22maxWidth%22%3A%20%22100%25%22%7D%29%3B%0A%0A%20%20%20%20%20%20%20%20%0A%20%20%20%20%20%20%20%20%20%20%20%20var%20html_13b3905db0ab4e09821647823bcb61a8%20%3D%20%24%28%60%3Cdiv%20id%3D%22html_13b3905db0ab4e09821647823bcb61a8%22%20style%3D%22width%3A%20100.0%25%3B%20height%3A%20100.0%25%3B%22%3ERomania%3C/div%3E%60%29%5B0%5D%3B%0A%20%20%20%20%20%20%20%20%20%20%20%20popup_42f8418fbf0f4340bb071feeddb3513e.setContent%28html_13b3905db0ab4e09821647823bcb61a8%29%3B%0A%20%20%20%20%20%20%20%20%0A%0A%20%20%20%20%20%20%20%20circle_marker_fba380dd861d4ec9b8d6292badd09ce0.bindPopup%28popup_42f8418fbf0f4340bb071feeddb3513e%29%0A%20%20%20%20%20%20%20%20%3B%0A%0A%20%20%20%20%20%20%20%20%0A%20%20%20%20%0A%20%20%20%20%0A%20%20%20%20%20%20%20%20%20%20%20%20var%20circle_marker_2df061c8913d4a2aa12a9936bbdc5f93%20%3D%20L.circleMarker%28%0A%20%20%20%20%20%20%20%20%20%20%20%20%20%20%20%20%5B60.0%2C%20100.0%5D%2C%0A%20%20%20%20%20%20%20%20%20%20%20%20%20%20%20%20%7B%22bubblingMouseEvents%22%3A%20true%2C%20%22color%22%3A%20%22%233388ff%22%2C%20%22dashArray%22%3A%20null%2C%20%22dashOffset%22%3A%20null%2C%20%22fill%22%3A%20true%2C%20%22fillColor%22%3A%20%22black%22%2C%20%22fillOpacity%22%3A%200.2%2C%20%22fillRule%22%3A%20%22evenodd%22%2C%20%22lineCap%22%3A%20%22round%22%2C%20%22lineJoin%22%3A%20%22round%22%2C%20%22opacity%22%3A%201.0%2C%20%22radius%22%3A%201.1705268361253016%2C%20%22stroke%22%3A%20true%2C%20%22weight%22%3A%203%7D%0A%20%20%20%20%20%20%20%20%20%20%20%20%29.addTo%28map_adb6d74cb18349f3821b952856c762ca%29%3B%0A%20%20%20%20%20%20%20%20%0A%20%20%20%20%0A%20%20%20%20%20%20%20%20var%20popup_288673dc84b04f3389caf8d00f9365f6%20%3D%20L.popup%28%7B%22maxWidth%22%3A%20%22100%25%22%7D%29%3B%0A%0A%20%20%20%20%20%20%20%20%0A%20%20%20%20%20%20%20%20%20%20%20%20var%20html_c7c15a94d948415ba648bd35382e14a5%20%3D%20%24%28%60%3Cdiv%20id%3D%22html_c7c15a94d948415ba648bd35382e14a5%22%20style%3D%22width%3A%20100.0%25%3B%20height%3A%20100.0%25%3B%22%3ERussia%3C/div%3E%60%29%5B0%5D%3B%0A%20%20%20%20%20%20%20%20%20%20%20%20popup_288673dc84b04f3389caf8d00f9365f6.setContent%28html_c7c15a94d948415ba648bd35382e14a5%29%3B%0A%20%20%20%20%20%20%20%20%0A%0A%20%20%20%20%20%20%20%20circle_marker_2df061c8913d4a2aa12a9936bbdc5f93.bindPopup%28popup_288673dc84b04f3389caf8d00f9365f6%29%0A%20%20%20%20%20%20%20%20%3B%0A%0A%20%20%20%20%20%20%20%20%0A%20%20%20%20%0A%20%20%20%20%0A%20%20%20%20%20%20%20%20%20%20%20%20var%20circle_marker_d348c2e0556a44acb299cf01d7b0c07f%20%3D%20L.circleMarker%28%0A%20%20%20%20%20%20%20%20%20%20%20%20%20%20%20%20%5B-2.0%2C%2030.0%5D%2C%0A%20%20%20%20%20%20%20%20%20%20%20%20%20%20%20%20%7B%22bubblingMouseEvents%22%3A%20true%2C%20%22color%22%3A%20%22%233388ff%22%2C%20%22dashArray%22%3A%20null%2C%20%22dashOffset%22%3A%20null%2C%20%22fill%22%3A%20true%2C%20%22fillColor%22%3A%20%22blue%22%2C%20%22fillOpacity%22%3A%200.2%2C%20%22fillRule%22%3A%20%22evenodd%22%2C%20%22lineCap%22%3A%20%22round%22%2C%20%22lineJoin%22%3A%20%22round%22%2C%20%22opacity%22%3A%201.0%2C%20%22radius%22%3A%2014.191124420279852%2C%20%22stroke%22%3A%20true%2C%20%22weight%22%3A%203%7D%0A%20%20%20%20%20%20%20%20%20%20%20%20%29.addTo%28map_adb6d74cb18349f3821b952856c762ca%29%3B%0A%20%20%20%20%20%20%20%20%0A%20%20%20%20%0A%20%20%20%20%20%20%20%20var%20popup_376d40ff7cc143b19132ddd1faccd4a5%20%3D%20L.popup%28%7B%22maxWidth%22%3A%20%22100%25%22%7D%29%3B%0A%0A%20%20%20%20%20%20%20%20%0A%20%20%20%20%20%20%20%20%20%20%20%20var%20html_27bc93abb05f48baaae2bc2535ee0aa9%20%3D%20%24%28%60%3Cdiv%20id%3D%22html_27bc93abb05f48baaae2bc2535ee0aa9%22%20style%3D%22width%3A%20100.0%25%3B%20height%3A%20100.0%25%3B%22%3ERwanda%3C/div%3E%60%29%5B0%5D%3B%0A%20%20%20%20%20%20%20%20%20%20%20%20popup_376d40ff7cc143b19132ddd1faccd4a5.setContent%28html_27bc93abb05f48baaae2bc2535ee0aa9%29%3B%0A%20%20%20%20%20%20%20%20%0A%0A%20%20%20%20%20%20%20%20circle_marker_d348c2e0556a44acb299cf01d7b0c07f.bindPopup%28popup_376d40ff7cc143b19132ddd1faccd4a5%29%0A%20%20%20%20%20%20%20%20%3B%0A%0A%20%20%20%20%20%20%20%20%0A%20%20%20%20%0A%20%20%20%20%0A%20%20%20%20%20%20%20%20%20%20%20%20var%20circle_marker_e99a8d689c3949a4806d5a2cd93601b5%20%3D%20L.circleMarker%28%0A%20%20%20%20%20%20%20%20%20%20%20%20%20%20%20%20%5B16.0%2C%2030.0%5D%2C%0A%20%20%20%20%20%20%20%20%20%20%20%20%20%20%20%20%7B%22bubblingMouseEvents%22%3A%20true%2C%20%22color%22%3A%20%22%233388ff%22%2C%20%22dashArray%22%3A%20null%2C%20%22dashOffset%22%3A%20null%2C%20%22fill%22%3A%20true%2C%20%22fillColor%22%3A%20%22blue%22%2C%20%22fillOpacity%22%3A%200.2%2C%20%22fillRule%22%3A%20%22evenodd%22%2C%20%22lineCap%22%3A%20%22round%22%2C%20%22lineJoin%22%3A%20%22round%22%2C%20%22opacity%22%3A%201.0%2C%20%22radius%22%3A%2014.75537843817308%2C%20%22stroke%22%3A%20true%2C%20%22weight%22%3A%203%7D%0A%20%20%20%20%20%20%20%20%20%20%20%20%29.addTo%28map_adb6d74cb18349f3821b952856c762ca%29%3B%0A%20%20%20%20%20%20%20%20%0A%20%20%20%20%0A%20%20%20%20%20%20%20%20var%20popup_73cfa789108145109aff3dff388b8261%20%3D%20L.popup%28%7B%22maxWidth%22%3A%20%22100%25%22%7D%29%3B%0A%0A%20%20%20%20%20%20%20%20%0A%20%20%20%20%20%20%20%20%20%20%20%20var%20html_c19656c74b694bf39c8adf109ddcb4bf%20%3D%20%24%28%60%3Cdiv%20id%3D%22html_c19656c74b694bf39c8adf109ddcb4bf%22%20style%3D%22width%3A%20100.0%25%3B%20height%3A%20100.0%25%3B%22%3ESudan%3C/div%3E%60%29%5B0%5D%3B%0A%20%20%20%20%20%20%20%20%20%20%20%20popup_73cfa789108145109aff3dff388b8261.setContent%28html_c19656c74b694bf39c8adf109ddcb4bf%29%3B%0A%20%20%20%20%20%20%20%20%0A%0A%20%20%20%20%20%20%20%20circle_marker_e99a8d689c3949a4806d5a2cd93601b5.bindPopup%28popup_73cfa789108145109aff3dff388b8261%29%0A%20%20%20%20%20%20%20%20%3B%0A%0A%20%20%20%20%20%20%20%20%0A%20%20%20%20%0A%20%20%20%20%0A%20%20%20%20%20%20%20%20%20%20%20%20var%20circle_marker_ea67625fedff49c2891d8d65d72c0cf1%20%3D%20L.circleMarker%28%0A%20%20%20%20%20%20%20%20%20%20%20%20%20%20%20%20%5B14.5%2C%20-14.25%5D%2C%0A%20%20%20%20%20%20%20%20%20%20%20%20%20%20%20%20%7B%22bubblingMouseEvents%22%3A%20true%2C%20%22color%22%3A%20%22%233388ff%22%2C%20%22dashArray%22%3A%20null%2C%20%22dashOffset%22%3A%20null%2C%20%22fill%22%3A%20true%2C%20%22fillColor%22%3A%20%22blue%22%2C%20%22fillOpacity%22%3A%200.2%2C%20%22fillRule%22%3A%20%22evenodd%22%2C%20%22lineCap%22%3A%20%22round%22%2C%20%22lineJoin%22%3A%20%22round%22%2C%20%22opacity%22%3A%201.0%2C%20%22radius%22%3A%2011.723984438242729%2C%20%22stroke%22%3A%20true%2C%20%22weight%22%3A%203%7D%0A%20%20%20%20%20%20%20%20%20%20%20%20%29.addTo%28map_adb6d74cb18349f3821b952856c762ca%29%3B%0A%20%20%20%20%20%20%20%20%0A%20%20%20%20%0A%20%20%20%20%20%20%20%20var%20popup_371e0d93ef864017935a61d562ecc94d%20%3D%20L.popup%28%7B%22maxWidth%22%3A%20%22100%25%22%7D%29%3B%0A%0A%20%20%20%20%20%20%20%20%0A%20%20%20%20%20%20%20%20%20%20%20%20var%20html_06d6106bfbb64ef4a58def591f855088%20%3D%20%24%28%60%3Cdiv%20id%3D%22html_06d6106bfbb64ef4a58def591f855088%22%20style%3D%22width%3A%20100.0%25%3B%20height%3A%20100.0%25%3B%22%3ESenegal%3C/div%3E%60%29%5B0%5D%3B%0A%20%20%20%20%20%20%20%20%20%20%20%20popup_371e0d93ef864017935a61d562ecc94d.setContent%28html_06d6106bfbb64ef4a58def591f855088%29%3B%0A%20%20%20%20%20%20%20%20%0A%0A%20%20%20%20%20%20%20%20circle_marker_ea67625fedff49c2891d8d65d72c0cf1.bindPopup%28popup_371e0d93ef864017935a61d562ecc94d%29%0A%20%20%20%20%20%20%20%20%3B%0A%0A%20%20%20%20%20%20%20%20%0A%20%20%20%20%0A%20%20%20%20%0A%20%20%20%20%20%20%20%20%20%20%20%20var%20circle_marker_acf384dadce440c7bc5558d57e07a074%20%3D%20L.circleMarker%28%0A%20%20%20%20%20%20%20%20%20%20%20%20%20%20%20%20%5B8.5%2C%20-11.5%5D%2C%0A%20%20%20%20%20%20%20%20%20%20%20%20%20%20%20%20%7B%22bubblingMouseEvents%22%3A%20true%2C%20%22color%22%3A%20%22%233388ff%22%2C%20%22dashArray%22%3A%20null%2C%20%22dashOffset%22%3A%20null%2C%20%22fill%22%3A%20true%2C%20%22fillColor%22%3A%20%22blue%22%2C%20%22fillOpacity%22%3A%200.2%2C%20%22fillRule%22%3A%20%22evenodd%22%2C%20%22lineCap%22%3A%20%22round%22%2C%20%22lineJoin%22%3A%20%22round%22%2C%20%22opacity%22%3A%201.0%2C%20%22radius%22%3A%2010.75395518279574%2C%20%22stroke%22%3A%20true%2C%20%22weight%22%3A%203%7D%0A%20%20%20%20%20%20%20%20%20%20%20%20%29.addTo%28map_adb6d74cb18349f3821b952856c762ca%29%3B%0A%20%20%20%20%20%20%20%20%0A%20%20%20%20%0A%20%20%20%20%20%20%20%20var%20popup_70d52a0fe33343a28108e647cfb28192%20%3D%20L.popup%28%7B%22maxWidth%22%3A%20%22100%25%22%7D%29%3B%0A%0A%20%20%20%20%20%20%20%20%0A%20%20%20%20%20%20%20%20%20%20%20%20var%20html_a5289d0ed9694e1d87c4173ac4b2116a%20%3D%20%24%28%60%3Cdiv%20id%3D%22html_a5289d0ed9694e1d87c4173ac4b2116a%22%20style%3D%22width%3A%20100.0%25%3B%20height%3A%20100.0%25%3B%22%3ESierra%20Leone%3C/div%3E%60%29%5B0%5D%3B%0A%20%20%20%20%20%20%20%20%20%20%20%20popup_70d52a0fe33343a28108e647cfb28192.setContent%28html_a5289d0ed9694e1d87c4173ac4b2116a%29%3B%0A%20%20%20%20%20%20%20%20%0A%0A%20%20%20%20%20%20%20%20circle_marker_acf384dadce440c7bc5558d57e07a074.bindPopup%28popup_70d52a0fe33343a28108e647cfb28192%29%0A%20%20%20%20%20%20%20%20%3B%0A%0A%20%20%20%20%20%20%20%20%0A%20%20%20%20%0A%20%20%20%20%0A%20%20%20%20%20%20%20%20%20%20%20%20var%20circle_marker_051f5c03ebdc439786e49943f2093e67%20%3D%20L.circleMarker%28%0A%20%20%20%20%20%20%20%20%20%20%20%20%20%20%20%20%5B13.83333%2C%20-88.91667%5D%2C%0A%20%20%20%20%20%20%20%20%20%20%20%20%20%20%20%20%7B%22bubblingMouseEvents%22%3A%20true%2C%20%22color%22%3A%20%22%233388ff%22%2C%20%22dashArray%22%3A%20null%2C%20%22dashOffset%22%3A%20null%2C%20%22fill%22%3A%20true%2C%20%22fillColor%22%3A%20%22green%22%2C%20%22fillOpacity%22%3A%200.2%2C%20%22fillRule%22%3A%20%22evenodd%22%2C%20%22lineCap%22%3A%20%22round%22%2C%20%22lineJoin%22%3A%20%22round%22%2C%20%22opacity%22%3A%201.0%2C%20%22radius%22%3A%202.231596251861578%2C%20%22stroke%22%3A%20true%2C%20%22weight%22%3A%203%7D%0A%20%20%20%20%20%20%20%20%20%20%20%20%29.addTo%28map_adb6d74cb18349f3821b952856c762ca%29%3B%0A%20%20%20%20%20%20%20%20%0A%20%20%20%20%0A%20%20%20%20%20%20%20%20var%20popup_64e7c4d314bf4c18a9f71784737af39b%20%3D%20L.popup%28%7B%22maxWidth%22%3A%20%22100%25%22%7D%29%3B%0A%0A%20%20%20%20%20%20%20%20%0A%20%20%20%20%20%20%20%20%20%20%20%20var%20html_891da6d80a2c48b3a0c438b0f4573778%20%3D%20%24%28%60%3Cdiv%20id%3D%22html_891da6d80a2c48b3a0c438b0f4573778%22%20style%3D%22width%3A%20100.0%25%3B%20height%3A%20100.0%25%3B%22%3EEl%20Salvador%3C/div%3E%60%29%5B0%5D%3B%0A%20%20%20%20%20%20%20%20%20%20%20%20popup_64e7c4d314bf4c18a9f71784737af39b.setContent%28html_891da6d80a2c48b3a0c438b0f4573778%29%3B%0A%20%20%20%20%20%20%20%20%0A%0A%20%20%20%20%20%20%20%20circle_marker_051f5c03ebdc439786e49943f2093e67.bindPopup%28popup_64e7c4d314bf4c18a9f71784737af39b%29%0A%20%20%20%20%20%20%20%20%3B%0A%0A%20%20%20%20%20%20%20%20%0A%20%20%20%20%0A%20%20%20%20%0A%20%20%20%20%20%20%20%20%20%20%20%20var%20circle_marker_21203eedb9a24574ac39fef27cf07380%20%3D%20L.circleMarker%28%0A%20%20%20%20%20%20%20%20%20%20%20%20%20%20%20%20%5B44.81892%2C%2020.45998%5D%2C%0A%20%20%20%20%20%20%20%20%20%20%20%20%20%20%20%20%7B%22bubblingMouseEvents%22%3A%20true%2C%20%22color%22%3A%20%22%233388ff%22%2C%20%22dashArray%22%3A%20null%2C%20%22dashOffset%22%3A%20null%2C%20%22fill%22%3A%20true%2C%20%22fillColor%22%3A%20%22black%22%2C%20%22fillOpacity%22%3A%200.2%2C%20%22fillRule%22%3A%20%22evenodd%22%2C%20%22lineCap%22%3A%20%22round%22%2C%20%22lineJoin%22%3A%20%22round%22%2C%20%22opacity%22%3A%201.0%2C%20%22radius%22%3A%200.37830163207185913%2C%20%22stroke%22%3A%20true%2C%20%22weight%22%3A%203%7D%0A%20%20%20%20%20%20%20%20%20%20%20%20%29.addTo%28map_adb6d74cb18349f3821b952856c762ca%29%3B%0A%20%20%20%20%20%20%20%20%0A%20%20%20%20%0A%20%20%20%20%20%20%20%20var%20popup_1905a315adde4f8fa03500221faa5130%20%3D%20L.popup%28%7B%22maxWidth%22%3A%20%22100%25%22%7D%29%3B%0A%0A%20%20%20%20%20%20%20%20%0A%20%20%20%20%20%20%20%20%20%20%20%20var%20html_de8e5d59b78b460b9d510fbeae001fef%20%3D%20%24%28%60%3Cdiv%20id%3D%22html_de8e5d59b78b460b9d510fbeae001fef%22%20style%3D%22width%3A%20100.0%25%3B%20height%3A%20100.0%25%3B%22%3ESerbia%3C/div%3E%60%29%5B0%5D%3B%0A%20%20%20%20%20%20%20%20%20%20%20%20popup_1905a315adde4f8fa03500221faa5130.setContent%28html_de8e5d59b78b460b9d510fbeae001fef%29%3B%0A%20%20%20%20%20%20%20%20%0A%0A%20%20%20%20%20%20%20%20circle_marker_21203eedb9a24574ac39fef27cf07380.bindPopup%28popup_1905a315adde4f8fa03500221faa5130%29%0A%20%20%20%20%20%20%20%20%3B%0A%0A%20%20%20%20%20%20%20%20%0A%20%20%20%20%0A%20%20%20%20%0A%20%20%20%20%20%20%20%20%20%20%20%20var%20circle_marker_9f719f99036d4d0db84e24431878e77e%20%3D%20L.circleMarker%28%0A%20%20%20%20%20%20%20%20%20%20%20%20%20%20%20%20%5B1.0%2C%207.0%5D%2C%0A%20%20%20%20%20%20%20%20%20%20%20%20%20%20%20%20%7B%22bubblingMouseEvents%22%3A%20true%2C%20%22color%22%3A%20%22%233388ff%22%2C%20%22dashArray%22%3A%20null%2C%20%22dashOffset%22%3A%20null%2C%20%22fill%22%3A%20true%2C%20%22fillColor%22%3A%20%22blue%22%2C%20%22fillOpacity%22%3A%200.2%2C%20%22fillRule%22%3A%20%22evenodd%22%2C%20%22lineCap%22%3A%20%22round%22%2C%20%22lineJoin%22%3A%20%22round%22%2C%20%22opacity%22%3A%201.0%2C%20%22radius%22%3A%201.5808990803845295%2C%20%22stroke%22%3A%20true%2C%20%22weight%22%3A%203%7D%0A%20%20%20%20%20%20%20%20%20%20%20%20%29.addTo%28map_adb6d74cb18349f3821b952856c762ca%29%3B%0A%20%20%20%20%20%20%20%20%0A%20%20%20%20%0A%20%20%20%20%20%20%20%20var%20popup_7543e498c771416c8231ed3e1256ba24%20%3D%20L.popup%28%7B%22maxWidth%22%3A%20%22100%25%22%7D%29%3B%0A%0A%20%20%20%20%20%20%20%20%0A%20%20%20%20%20%20%20%20%20%20%20%20var%20html_4062f38fe6a34b54b525a0cc96c2b7ef%20%3D%20%24%28%60%3Cdiv%20id%3D%22html_4062f38fe6a34b54b525a0cc96c2b7ef%22%20style%3D%22width%3A%20100.0%25%3B%20height%3A%20100.0%25%3B%22%3ESao%20Tome%20and%20Principe%3C/div%3E%60%29%5B0%5D%3B%0A%20%20%20%20%20%20%20%20%20%20%20%20popup_7543e498c771416c8231ed3e1256ba24.setContent%28html_4062f38fe6a34b54b525a0cc96c2b7ef%29%3B%0A%20%20%20%20%20%20%20%20%0A%0A%20%20%20%20%20%20%20%20circle_marker_9f719f99036d4d0db84e24431878e77e.bindPopup%28popup_7543e498c771416c8231ed3e1256ba24%29%0A%20%20%20%20%20%20%20%20%3B%0A%0A%20%20%20%20%20%20%20%20%0A%20%20%20%20%0A%20%20%20%20%0A%20%20%20%20%20%20%20%20%20%20%20%20var%20circle_marker_fca08338168b4e84aab8d6bbf60243b3%20%3D%20L.circleMarker%28%0A%20%20%20%20%20%20%20%20%20%20%20%20%20%20%20%20%5B4.0%2C%20-56.0%5D%2C%0A%20%20%20%20%20%20%20%20%20%20%20%20%20%20%20%20%7B%22bubblingMouseEvents%22%3A%20true%2C%20%22color%22%3A%20%22%233388ff%22%2C%20%22dashArray%22%3A%20null%2C%20%22dashOffset%22%3A%20null%2C%20%22fill%22%3A%20true%2C%20%22fillColor%22%3A%20%22green%22%2C%20%22fillOpacity%22%3A%200.2%2C%20%22fillRule%22%3A%20%22evenodd%22%2C%20%22lineCap%22%3A%20%22round%22%2C%20%22lineJoin%22%3A%20%22round%22%2C%20%22opacity%22%3A%201.0%2C%20%22radius%22%3A%201.6178179347920572%2C%20%22stroke%22%3A%20true%2C%20%22weight%22%3A%203%7D%0A%20%20%20%20%20%20%20%20%20%20%20%20%29.addTo%28map_adb6d74cb18349f3821b952856c762ca%29%3B%0A%20%20%20%20%20%20%20%20%0A%20%20%20%20%0A%20%20%20%20%20%20%20%20var%20popup_20a31106a1754f9a9fa3cfb940c8a1fa%20%3D%20L.popup%28%7B%22maxWidth%22%3A%20%22100%25%22%7D%29%3B%0A%0A%20%20%20%20%20%20%20%20%0A%20%20%20%20%20%20%20%20%20%20%20%20var%20html_213048e63756470fbafb1d488cec6fa5%20%3D%20%24%28%60%3Cdiv%20id%3D%22html_213048e63756470fbafb1d488cec6fa5%22%20style%3D%22width%3A%20100.0%25%3B%20height%3A%20100.0%25%3B%22%3ESuriname%3C/div%3E%60%29%5B0%5D%3B%0A%20%20%20%20%20%20%20%20%20%20%20%20popup_20a31106a1754f9a9fa3cfb940c8a1fa.setContent%28html_213048e63756470fbafb1d488cec6fa5%29%3B%0A%20%20%20%20%20%20%20%20%0A%0A%20%20%20%20%20%20%20%20circle_marker_fca08338168b4e84aab8d6bbf60243b3.bindPopup%28popup_20a31106a1754f9a9fa3cfb940c8a1fa%29%0A%20%20%20%20%20%20%20%20%3B%0A%0A%20%20%20%20%20%20%20%20%0A%20%20%20%20%0A%20%20%20%20%0A%20%20%20%20%20%20%20%20%20%20%20%20var%20circle_marker_98126a4aa8264e4f8eda2e48aa07b11a%20%3D%20L.circleMarker%28%0A%20%20%20%20%20%20%20%20%20%20%20%20%20%20%20%20%5B48.66667%2C%2019.5%5D%2C%0A%20%20%20%20%20%20%20%20%20%20%20%20%20%20%20%20%7B%22bubblingMouseEvents%22%3A%20true%2C%20%22color%22%3A%20%22%233388ff%22%2C%20%22dashArray%22%3A%20null%2C%20%22dashOffset%22%3A%20null%2C%20%22fill%22%3A%20true%2C%20%22fillColor%22%3A%20%22black%22%2C%20%22fillOpacity%22%3A%200.2%2C%20%22fillRule%22%3A%20%22evenodd%22%2C%20%22lineCap%22%3A%20%22round%22%2C%20%22lineJoin%22%3A%20%22round%22%2C%20%22opacity%22%3A%201.0%2C%20%22radius%22%3A%200.7183841719231987%2C%20%22stroke%22%3A%20true%2C%20%22weight%22%3A%203%7D%0A%20%20%20%20%20%20%20%20%20%20%20%20%29.addTo%28map_adb6d74cb18349f3821b952856c762ca%29%3B%0A%20%20%20%20%20%20%20%20%0A%20%20%20%20%0A%20%20%20%20%20%20%20%20var%20popup_18037aa9c4a94bb0b7eafc95b671df54%20%3D%20L.popup%28%7B%22maxWidth%22%3A%20%22100%25%22%7D%29%3B%0A%0A%20%20%20%20%20%20%20%20%0A%20%20%20%20%20%20%20%20%20%20%20%20var%20html_34dbecacd6964b06878d076a51e2bd24%20%3D%20%24%28%60%3Cdiv%20id%3D%22html_34dbecacd6964b06878d076a51e2bd24%22%20style%3D%22width%3A%20100.0%25%3B%20height%3A%20100.0%25%3B%22%3ESlovak%20Republic%3C/div%3E%60%29%5B0%5D%3B%0A%20%20%20%20%20%20%20%20%20%20%20%20popup_18037aa9c4a94bb0b7eafc95b671df54.setContent%28html_34dbecacd6964b06878d076a51e2bd24%29%3B%0A%20%20%20%20%20%20%20%20%0A%0A%20%20%20%20%20%20%20%20circle_marker_98126a4aa8264e4f8eda2e48aa07b11a.bindPopup%28popup_18037aa9c4a94bb0b7eafc95b671df54%29%0A%20%20%20%20%20%20%20%20%3B%0A%0A%20%20%20%20%20%20%20%20%0A%20%20%20%20%0A%20%20%20%20%0A%20%20%20%20%20%20%20%20%20%20%20%20var%20circle_marker_7217e21cd793423295c594a742b26be3%20%3D%20L.circleMarker%28%0A%20%20%20%20%20%20%20%20%20%20%20%20%20%20%20%20%5B46.08333%2C%2015.0%5D%2C%0A%20%20%20%20%20%20%20%20%20%20%20%20%20%20%20%20%7B%22bubblingMouseEvents%22%3A%20true%2C%20%22color%22%3A%20%22%233388ff%22%2C%20%22dashArray%22%3A%20null%2C%20%22dashOffset%22%3A%20null%2C%20%22fill%22%3A%20true%2C%20%22fillColor%22%3A%20%22black%22%2C%20%22fillOpacity%22%3A%200.2%2C%20%22fillRule%22%3A%20%22evenodd%22%2C%20%22lineCap%22%3A%20%22round%22%2C%20%22lineJoin%22%3A%20%22round%22%2C%20%22opacity%22%3A%201.0%2C%20%22stroke%22%3A%20true%2C%20%22weight%22%3A%203%7D%0A%20%20%20%20%20%20%20%20%20%20%20%20%29.addTo%28map_adb6d74cb18349f3821b952856c762ca%29%3B%0A%20%20%20%20%20%20%20%20%0A%20%20%20%20%0A%20%20%20%20%20%20%20%20var%20popup_189dfd62974f4a61a81c59262c6e4682%20%3D%20L.popup%28%7B%22maxWidth%22%3A%20%22100%25%22%7D%29%3B%0A%0A%20%20%20%20%20%20%20%20%0A%20%20%20%20%20%20%20%20%20%20%20%20var%20html_2c93dc1402144cca9044e38f8590ebe5%20%3D%20%24%28%60%3Cdiv%20id%3D%22html_2c93dc1402144cca9044e38f8590ebe5%22%20style%3D%22width%3A%20100.0%25%3B%20height%3A%20100.0%25%3B%22%3ESlovenia%3C/div%3E%60%29%5B0%5D%3B%0A%20%20%20%20%20%20%20%20%20%20%20%20popup_189dfd62974f4a61a81c59262c6e4682.setContent%28html_2c93dc1402144cca9044e38f8590ebe5%29%3B%0A%20%20%20%20%20%20%20%20%0A%0A%20%20%20%20%20%20%20%20circle_marker_7217e21cd793423295c594a742b26be3.bindPopup%28popup_189dfd62974f4a61a81c59262c6e4682%29%0A%20%20%20%20%20%20%20%20%3B%0A%0A%20%20%20%20%20%20%20%20%0A%20%20%20%20%0A%20%20%20%20%0A%20%20%20%20%20%20%20%20%20%20%20%20var%20circle_marker_d8ad87ae21d5468d8cc9262087331a6a%20%3D%20L.circleMarker%28%0A%20%20%20%20%20%20%20%20%20%20%20%20%20%20%20%20%5B62.0%2C%2015.0%5D%2C%0A%20%20%20%20%20%20%20%20%20%20%20%20%20%20%20%20%7B%22bubblingMouseEvents%22%3A%20true%2C%20%22color%22%3A%20%22%233388ff%22%2C%20%22dashArray%22%3A%20null%2C%20%22dashOffset%22%3A%20null%2C%20%22fill%22%3A%20true%2C%20%22fillColor%22%3A%20%22black%22%2C%20%22fillOpacity%22%3A%200.2%2C%20%22fillRule%22%3A%20%22evenodd%22%2C%20%22lineCap%22%3A%20%22round%22%2C%20%22lineJoin%22%3A%20%22round%22%2C%20%22opacity%22%3A%201.0%2C%20%22radius%22%3A%201.0228182985905399%2C%20%22stroke%22%3A%20true%2C%20%22weight%22%3A%203%7D%0A%20%20%20%20%20%20%20%20%20%20%20%20%29.addTo%28map_adb6d74cb18349f3821b952856c762ca%29%3B%0A%20%20%20%20%20%20%20%20%0A%20%20%20%20%0A%20%20%20%20%20%20%20%20var%20popup_03a4ac65057d4f75b3ce7c1b2b06a54d%20%3D%20L.popup%28%7B%22maxWidth%22%3A%20%22100%25%22%7D%29%3B%0A%0A%20%20%20%20%20%20%20%20%0A%20%20%20%20%20%20%20%20%20%20%20%20var%20html_b9f14113c0e345798021bee758953827%20%3D%20%24%28%60%3Cdiv%20id%3D%22html_b9f14113c0e345798021bee758953827%22%20style%3D%22width%3A%20100.0%25%3B%20height%3A%20100.0%25%3B%22%3ESweden%3C/div%3E%60%29%5B0%5D%3B%0A%20%20%20%20%20%20%20%20%20%20%20%20popup_03a4ac65057d4f75b3ce7c1b2b06a54d.setContent%28html_b9f14113c0e345798021bee758953827%29%3B%0A%20%20%20%20%20%20%20%20%0A%0A%20%20%20%20%20%20%20%20circle_marker_d8ad87ae21d5468d8cc9262087331a6a.bindPopup%28popup_03a4ac65057d4f75b3ce7c1b2b06a54d%29%0A%20%20%20%20%20%20%20%20%3B%0A%0A%20%20%20%20%20%20%20%20%0A%20%20%20%20%0A%20%20%20%20%0A%20%20%20%20%20%20%20%20%20%20%20%20var%20circle_marker_82172f83fdd74e38860edd61010e87bb%20%3D%20L.circleMarker%28%0A%20%20%20%20%20%20%20%20%20%20%20%20%20%20%20%20%5B-26.5%2C%2031.5%5D%2C%0A%20%20%20%20%20%20%20%20%20%20%20%20%20%20%20%20%7B%22bubblingMouseEvents%22%3A%20true%2C%20%22color%22%3A%20%22%233388ff%22%2C%20%22dashArray%22%3A%20null%2C%20%22dashOffset%22%3A%20null%2C%20%22fill%22%3A%20true%2C%20%22fillColor%22%3A%20%22blue%22%2C%20%22fillOpacity%22%3A%200.2%2C%20%22fillRule%22%3A%20%22evenodd%22%2C%20%22lineCap%22%3A%20%22round%22%2C%20%22lineJoin%22%3A%20%22round%22%2C%20%22opacity%22%3A%201.0%2C%20%22radius%22%3A%203.6497571987716015%2C%20%22stroke%22%3A%20true%2C%20%22weight%22%3A%203%7D%0A%20%20%20%20%20%20%20%20%20%20%20%20%29.addTo%28map_adb6d74cb18349f3821b952856c762ca%29%3B%0A%20%20%20%20%20%20%20%20%0A%20%20%20%20%0A%20%20%20%20%20%20%20%20var%20popup_f1a8cc1158a5403b9aa0041126a683c6%20%3D%20L.popup%28%7B%22maxWidth%22%3A%20%22100%25%22%7D%29%3B%0A%0A%20%20%20%20%20%20%20%20%0A%20%20%20%20%20%20%20%20%20%20%20%20var%20html_5be41f7fdb1049ae9eaf5dad6fc1e62d%20%3D%20%24%28%60%3Cdiv%20id%3D%22html_5be41f7fdb1049ae9eaf5dad6fc1e62d%22%20style%3D%22width%3A%20100.0%25%3B%20height%3A%20100.0%25%3B%22%3ESwaziland%3C/div%3E%60%29%5B0%5D%3B%0A%20%20%20%20%20%20%20%20%20%20%20%20popup_f1a8cc1158a5403b9aa0041126a683c6.setContent%28html_5be41f7fdb1049ae9eaf5dad6fc1e62d%29%3B%0A%20%20%20%20%20%20%20%20%0A%0A%20%20%20%20%20%20%20%20circle_marker_82172f83fdd74e38860edd61010e87bb.bindPopup%28popup_f1a8cc1158a5403b9aa0041126a683c6%29%0A%20%20%20%20%20%20%20%20%3B%0A%0A%20%20%20%20%20%20%20%20%0A%20%20%20%20%0A%20%20%20%20%0A%20%20%20%20%20%20%20%20%20%20%20%20var%20circle_marker_e3cce2c8a25a4d1a95f867d3996b2a23%20%3D%20L.circleMarker%28%0A%20%20%20%20%20%20%20%20%20%20%20%20%20%20%20%20%5B-4.58333%2C%2055.66667%5D%2C%0A%20%20%20%20%20%20%20%20%20%20%20%20%20%20%20%20%7B%22bubblingMouseEvents%22%3A%20true%2C%20%22color%22%3A%20%22%233388ff%22%2C%20%22dashArray%22%3A%20null%2C%20%22dashOffset%22%3A%20null%2C%20%22fill%22%3A%20true%2C%20%22fillColor%22%3A%20%22blue%22%2C%20%22fillOpacity%22%3A%200.2%2C%20%22fillRule%22%3A%20%22evenodd%22%2C%20%22lineCap%22%3A%20%22round%22%2C%20%22lineJoin%22%3A%20%22round%22%2C%20%22opacity%22%3A%201.0%2C%20%22radius%22%3A%200.08519075891779829%2C%20%22stroke%22%3A%20true%2C%20%22weight%22%3A%203%7D%0A%20%20%20%20%20%20%20%20%20%20%20%20%29.addTo%28map_adb6d74cb18349f3821b952856c762ca%29%3B%0A%20%20%20%20%20%20%20%20%0A%20%20%20%20%0A%20%20%20%20%20%20%20%20var%20popup_e6631e2244c945a5b3236216fae48cee%20%3D%20L.popup%28%7B%22maxWidth%22%3A%20%22100%25%22%7D%29%3B%0A%0A%20%20%20%20%20%20%20%20%0A%20%20%20%20%20%20%20%20%20%20%20%20var%20html_37d055604f82440bb1ea72a8621be67c%20%3D%20%24%28%60%3Cdiv%20id%3D%22html_37d055604f82440bb1ea72a8621be67c%22%20style%3D%22width%3A%20100.0%25%3B%20height%3A%20100.0%25%3B%22%3ESeychelles%3C/div%3E%60%29%5B0%5D%3B%0A%20%20%20%20%20%20%20%20%20%20%20%20popup_e6631e2244c945a5b3236216fae48cee.setContent%28html_37d055604f82440bb1ea72a8621be67c%29%3B%0A%20%20%20%20%20%20%20%20%0A%0A%20%20%20%20%20%20%20%20circle_marker_e3cce2c8a25a4d1a95f867d3996b2a23.bindPopup%28popup_e6631e2244c945a5b3236216fae48cee%29%0A%20%20%20%20%20%20%20%20%3B%0A%0A%20%20%20%20%20%20%20%20%0A%20%20%20%20%0A%20%20%20%20%0A%20%20%20%20%20%20%20%20%20%20%20%20var%20circle_marker_7ac24a9aae9a42028072376e3e365066%20%3D%20L.circleMarker%28%0A%20%20%20%20%20%20%20%20%20%20%20%20%20%20%20%20%5B35.0%2C%2038.0%5D%2C%0A%20%20%20%20%20%20%20%20%20%20%20%20%20%20%20%20%7B%22bubblingMouseEvents%22%3A%20true%2C%20%22color%22%3A%20%22%233388ff%22%2C%20%22dashArray%22%3A%20null%2C%20%22dashOffset%22%3A%20null%2C%20%22fill%22%3A%20true%2C%20%22fillColor%22%3A%20%22red%22%2C%20%22fillOpacity%22%3A%200.2%2C%20%22fillRule%22%3A%20%22evenodd%22%2C%20%22lineCap%22%3A%20%22round%22%2C%20%22lineJoin%22%3A%20%22round%22%2C%20%22opacity%22%3A%201.0%2C%20%22radius%22%3A%203.4099601627152856%2C%20%22stroke%22%3A%20true%2C%20%22weight%22%3A%203%7D%0A%20%20%20%20%20%20%20%20%20%20%20%20%29.addTo%28map_adb6d74cb18349f3821b952856c762ca%29%3B%0A%20%20%20%20%20%20%20%20%0A%20%20%20%20%0A%20%20%20%20%20%20%20%20var%20popup_a3c0f6af1f2f47fd86e4da171ef342b3%20%3D%20L.popup%28%7B%22maxWidth%22%3A%20%22100%25%22%7D%29%3B%0A%0A%20%20%20%20%20%20%20%20%0A%20%20%20%20%20%20%20%20%20%20%20%20var%20html_4ed2b1d619fd4a2297377039f8b0eb1b%20%3D%20%24%28%60%3Cdiv%20id%3D%22html_4ed2b1d619fd4a2297377039f8b0eb1b%22%20style%3D%22width%3A%20100.0%25%3B%20height%3A%20100.0%25%3B%22%3ESyria%3C/div%3E%60%29%5B0%5D%3B%0A%20%20%20%20%20%20%20%20%20%20%20%20popup_a3c0f6af1f2f47fd86e4da171ef342b3.setContent%28html_4ed2b1d619fd4a2297377039f8b0eb1b%29%3B%0A%20%20%20%20%20%20%20%20%0A%0A%20%20%20%20%20%20%20%20circle_marker_7ac24a9aae9a42028072376e3e365066.bindPopup%28popup_a3c0f6af1f2f47fd86e4da171ef342b3%29%0A%20%20%20%20%20%20%20%20%3B%0A%0A%20%20%20%20%20%20%20%20%0A%20%20%20%20%0A%20%20%20%20%0A%20%20%20%20%20%20%20%20%20%20%20%20var%20circle_marker_b3ce9218647948f5b8a11f058d2d1654%20%3D%20L.circleMarker%28%0A%20%20%20%20%20%20%20%20%20%20%20%20%20%20%20%20%5B15.0%2C%2019.0%5D%2C%0A%20%20%20%20%20%20%20%20%20%20%20%20%20%20%20%20%7B%22bubblingMouseEvents%22%3A%20true%2C%20%22color%22%3A%20%22%233388ff%22%2C%20%22dashArray%22%3A%20null%2C%20%22dashOffset%22%3A%20null%2C%20%22fill%22%3A%20true%2C%20%22fillColor%22%3A%20%22blue%22%2C%20%22fillOpacity%22%3A%200.2%2C%20%22fillRule%22%3A%20%22evenodd%22%2C%20%22lineCap%22%3A%20%22round%22%2C%20%22lineJoin%22%3A%20%22round%22%2C%20%22opacity%22%3A%201.0%2C%20%22radius%22%3A%2011.78726800446764%2C%20%22stroke%22%3A%20true%2C%20%22weight%22%3A%203%7D%0A%20%20%20%20%20%20%20%20%20%20%20%20%29.addTo%28map_adb6d74cb18349f3821b952856c762ca%29%3B%0A%20%20%20%20%20%20%20%20%0A%20%20%20%20%0A%20%20%20%20%20%20%20%20var%20popup_6137b0f2101444329b9bdbbf15e43da8%20%3D%20L.popup%28%7B%22maxWidth%22%3A%20%22100%25%22%7D%29%3B%0A%0A%20%20%20%20%20%20%20%20%0A%20%20%20%20%20%20%20%20%20%20%20%20var%20html_c55d5af43e1d4c13b78bea8d6e94305a%20%3D%20%24%28%60%3Cdiv%20id%3D%22html_c55d5af43e1d4c13b78bea8d6e94305a%22%20style%3D%22width%3A%20100.0%25%3B%20height%3A%20100.0%25%3B%22%3EChad%3C/div%3E%60%29%5B0%5D%3B%0A%20%20%20%20%20%20%20%20%20%20%20%20popup_6137b0f2101444329b9bdbbf15e43da8.setContent%28html_c55d5af43e1d4c13b78bea8d6e94305a%29%3B%0A%20%20%20%20%20%20%20%20%0A%0A%20%20%20%20%20%20%20%20circle_marker_b3ce9218647948f5b8a11f058d2d1654.bindPopup%28popup_6137b0f2101444329b9bdbbf15e43da8%29%0A%20%20%20%20%20%20%20%20%3B%0A%0A%20%20%20%20%20%20%20%20%0A%20%20%20%20%0A%20%20%20%20%0A%20%20%20%20%20%20%20%20%20%20%20%20var%20circle_marker_d6ec3f6e75fa4d97a668dcbda7129bf6%20%3D%20L.circleMarker%28%0A%20%20%20%20%20%20%20%20%20%20%20%20%20%20%20%20%5B8.66667%2C%201.08333%5D%2C%0A%20%20%20%20%20%20%20%20%20%20%20%20%20%20%20%20%7B%22bubblingMouseEvents%22%3A%20true%2C%20%22color%22%3A%20%22%233388ff%22%2C%20%22dashArray%22%3A%20null%2C%20%22dashOffset%22%3A%20null%2C%20%22fill%22%3A%20true%2C%20%22fillColor%22%3A%20%22blue%22%2C%20%22fillOpacity%22%3A%200.2%2C%20%22fillRule%22%3A%20%22evenodd%22%2C%20%22lineCap%22%3A%20%22round%22%2C%20%22lineJoin%22%3A%20%22round%22%2C%20%22opacity%22%3A%201.0%2C%20%22radius%22%3A%2010.35531519401904%2C%20%22stroke%22%3A%20true%2C%20%22weight%22%3A%203%7D%0A%20%20%20%20%20%20%20%20%20%20%20%20%29.addTo%28map_adb6d74cb18349f3821b952856c762ca%29%3B%0A%20%20%20%20%20%20%20%20%0A%20%20%20%20%0A%20%20%20%20%20%20%20%20var%20popup_c242d364f21a4bf79eac56bdf16e8f42%20%3D%20L.popup%28%7B%22maxWidth%22%3A%20%22100%25%22%7D%29%3B%0A%0A%20%20%20%20%20%20%20%20%0A%20%20%20%20%20%20%20%20%20%20%20%20var%20html_adde2fad066a4dcdb840dbfe145c13a7%20%3D%20%24%28%60%3Cdiv%20id%3D%22html_adde2fad066a4dcdb840dbfe145c13a7%22%20style%3D%22width%3A%20100.0%25%3B%20height%3A%20100.0%25%3B%22%3ETogo%3C/div%3E%60%29%5B0%5D%3B%0A%20%20%20%20%20%20%20%20%20%20%20%20popup_c242d364f21a4bf79eac56bdf16e8f42.setContent%28html_adde2fad066a4dcdb840dbfe145c13a7%29%3B%0A%20%20%20%20%20%20%20%20%0A%0A%20%20%20%20%20%20%20%20circle_marker_d6ec3f6e75fa4d97a668dcbda7129bf6.bindPopup%28popup_c242d364f21a4bf79eac56bdf16e8f42%29%0A%20%20%20%20%20%20%20%20%3B%0A%0A%20%20%20%20%20%20%20%20%0A%20%20%20%20%0A%20%20%20%20%0A%20%20%20%20%20%20%20%20%20%20%20%20var%20circle_marker_d8361cea4638429a927bd3dc2d4aac9f%20%3D%20L.circleMarker%28%0A%20%20%20%20%20%20%20%20%20%20%20%20%20%20%20%20%5B15.5%2C%20101.0%5D%2C%0A%20%20%20%20%20%20%20%20%20%20%20%20%20%20%20%20%7B%22bubblingMouseEvents%22%3A%20true%2C%20%22color%22%3A%20%22%233388ff%22%2C%20%22dashArray%22%3A%20null%2C%20%22dashOffset%22%3A%20null%2C%20%22fill%22%3A%20true%2C%20%22fillColor%22%3A%20%22red%22%2C%20%22fillOpacity%22%3A%200.2%2C%20%22fillRule%22%3A%20%22evenodd%22%2C%20%22lineCap%22%3A%20%22round%22%2C%20%22lineJoin%22%3A%20%22round%22%2C%20%22opacity%22%3A%201.0%2C%20%22radius%22%3A%202.574986229895502%2C%20%22stroke%22%3A%20true%2C%20%22weight%22%3A%203%7D%0A%20%20%20%20%20%20%20%20%20%20%20%20%29.addTo%28map_adb6d74cb18349f3821b952856c762ca%29%3B%0A%20%20%20%20%20%20%20%20%0A%20%20%20%20%0A%20%20%20%20%20%20%20%20var%20popup_2a145bcfd9f4431585d6bedb24d4d862%20%3D%20L.popup%28%7B%22maxWidth%22%3A%20%22100%25%22%7D%29%3B%0A%0A%20%20%20%20%20%20%20%20%0A%20%20%20%20%20%20%20%20%20%20%20%20var%20html_a8e34a4375c648a6bb39afda830780cb%20%3D%20%24%28%60%3Cdiv%20id%3D%22html_a8e34a4375c648a6bb39afda830780cb%22%20style%3D%22width%3A%20100.0%25%3B%20height%3A%20100.0%25%3B%22%3EThailand%3C/div%3E%60%29%5B0%5D%3B%0A%20%20%20%20%20%20%20%20%20%20%20%20popup_2a145bcfd9f4431585d6bedb24d4d862.setContent%28html_a8e34a4375c648a6bb39afda830780cb%29%3B%0A%20%20%20%20%20%20%20%20%0A%0A%20%20%20%20%20%20%20%20circle_marker_d8361cea4638429a927bd3dc2d4aac9f.bindPopup%28popup_2a145bcfd9f4431585d6bedb24d4d862%29%0A%20%20%20%20%20%20%20%20%3B%0A%0A%20%20%20%20%20%20%20%20%0A%20%20%20%20%0A%20%20%20%20%0A%20%20%20%20%20%20%20%20%20%20%20%20var%20circle_marker_7d93df7af40e4b77a7d2e5d65efc6276%20%3D%20L.circleMarker%28%0A%20%20%20%20%20%20%20%20%20%20%20%20%20%20%20%20%5B39.0%2C%2071.0%5D%2C%0A%20%20%20%20%20%20%20%20%20%20%20%20%20%20%20%20%7B%22bubblingMouseEvents%22%3A%20true%2C%20%22color%22%3A%20%22%233388ff%22%2C%20%22dashArray%22%3A%20null%2C%20%22dashOffset%22%3A%20null%2C%20%22fill%22%3A%20true%2C%20%22fillColor%22%3A%20%22red%22%2C%20%22fillOpacity%22%3A%200.2%2C%20%22fillRule%22%3A%20%22evenodd%22%2C%20%22lineCap%22%3A%20%22round%22%2C%20%22lineJoin%22%3A%20%22round%22%2C%20%22opacity%22%3A%201.0%2C%20%22radius%22%3A%203.937311718658916%2C%20%22stroke%22%3A%20true%2C%20%22weight%22%3A%203%7D%0A%20%20%20%20%20%20%20%20%20%20%20%20%29.addTo%28map_adb6d74cb18349f3821b952856c762ca%29%3B%0A%20%20%20%20%20%20%20%20%0A%20%20%20%20%0A%20%20%20%20%20%20%20%20var%20popup_a182a4d16a7c4820820c19f5756bb7b6%20%3D%20L.popup%28%7B%22maxWidth%22%3A%20%22100%25%22%7D%29%3B%0A%0A%20%20%20%20%20%20%20%20%0A%20%20%20%20%20%20%20%20%20%20%20%20var%20html_cb18af1592b844b59f314d8333396790%20%3D%20%24%28%60%3Cdiv%20id%3D%22html_cb18af1592b844b59f314d8333396790%22%20style%3D%22width%3A%20100.0%25%3B%20height%3A%20100.0%25%3B%22%3ETajikistan%3C/div%3E%60%29%5B0%5D%3B%0A%20%20%20%20%20%20%20%20%20%20%20%20popup_a182a4d16a7c4820820c19f5756bb7b6.setContent%28html_cb18af1592b844b59f314d8333396790%29%3B%0A%20%20%20%20%20%20%20%20%0A%0A%20%20%20%20%20%20%20%20circle_marker_7d93df7af40e4b77a7d2e5d65efc6276.bindPopup%28popup_a182a4d16a7c4820820c19f5756bb7b6%29%0A%20%20%20%20%20%20%20%20%3B%0A%0A%20%20%20%20%20%20%20%20%0A%20%20%20%20%0A%20%20%20%20%0A%20%20%20%20%20%20%20%20%20%20%20%20var%20circle_marker_d755eed7f2dd47cb9df3b0b977e89bae%20%3D%20L.circleMarker%28%0A%20%20%20%20%20%20%20%20%20%20%20%20%20%20%20%20%5B39.75%2C%2059.66667%5D%2C%0A%20%20%20%20%20%20%20%20%20%20%20%20%20%20%20%20%7B%22bubblingMouseEvents%22%3A%20true%2C%20%22color%22%3A%20%22%233388ff%22%2C%20%22dashArray%22%3A%20null%2C%20%22dashOffset%22%3A%20null%2C%20%22fill%22%3A%20true%2C%20%22fillColor%22%3A%20%22red%22%2C%20%22fillOpacity%22%3A%200.2%2C%20%22fillRule%22%3A%20%22evenodd%22%2C%20%22lineCap%22%3A%20%22round%22%2C%20%22lineJoin%22%3A%20%22round%22%2C%20%22opacity%22%3A%201.0%2C%20%22radius%22%3A%206.339658544041773%2C%20%22stroke%22%3A%20true%2C%20%22weight%22%3A%203%7D%0A%20%20%20%20%20%20%20%20%20%20%20%20%29.addTo%28map_adb6d74cb18349f3821b952856c762ca%29%3B%0A%20%20%20%20%20%20%20%20%0A%20%20%20%20%0A%20%20%20%20%20%20%20%20var%20popup_471782d325254e65a01939d6c92eadaa%20%3D%20L.popup%28%7B%22maxWidth%22%3A%20%22100%25%22%7D%29%3B%0A%0A%20%20%20%20%20%20%20%20%0A%20%20%20%20%20%20%20%20%20%20%20%20var%20html_4cbee4140b5d43a4ae2e2c3ed8d375c9%20%3D%20%24%28%60%3Cdiv%20id%3D%22html_4cbee4140b5d43a4ae2e2c3ed8d375c9%22%20style%3D%22width%3A%20100.0%25%3B%20height%3A%20100.0%25%3B%22%3ETurkmenistan%3C/div%3E%60%29%5B0%5D%3B%0A%20%20%20%20%20%20%20%20%20%20%20%20popup_471782d325254e65a01939d6c92eadaa.setContent%28html_4cbee4140b5d43a4ae2e2c3ed8d375c9%29%3B%0A%20%20%20%20%20%20%20%20%0A%0A%20%20%20%20%20%20%20%20circle_marker_d755eed7f2dd47cb9df3b0b977e89bae.bindPopup%28popup_471782d325254e65a01939d6c92eadaa%29%0A%20%20%20%20%20%20%20%20%3B%0A%0A%20%20%20%20%20%20%20%20%0A%20%20%20%20%0A%20%20%20%20%0A%20%20%20%20%20%20%20%20%20%20%20%20var%20circle_marker_cf47ab3df01940e0b3099e559c950aa5%20%3D%20L.circleMarker%28%0A%20%20%20%20%20%20%20%20%20%20%20%20%20%20%20%20%5B-8.83333%2C%20125.75%5D%2C%0A%20%20%20%20%20%20%20%20%20%20%20%20%20%20%20%20%7B%22bubblingMouseEvents%22%3A%20true%2C%20%22color%22%3A%20%22%233388ff%22%2C%20%22dashArray%22%3A%20null%2C%20%22dashOffset%22%3A%20null%2C%20%22fill%22%3A%20true%2C%20%22fillColor%22%3A%20%22red%22%2C%20%22fillOpacity%22%3A%200.2%2C%20%22fillRule%22%3A%20%22evenodd%22%2C%20%22lineCap%22%3A%20%22round%22%2C%20%22lineJoin%22%3A%20%22round%22%2C%20%22opacity%22%3A%201.0%2C%20%22radius%22%3A%203.4838832413106937%2C%20%22stroke%22%3A%20true%2C%20%22weight%22%3A%203%7D%0A%20%20%20%20%20%20%20%20%20%20%20%20%29.addTo%28map_adb6d74cb18349f3821b952856c762ca%29%3B%0A%20%20%20%20%20%20%20%20%0A%20%20%20%20%0A%20%20%20%20%20%20%20%20var%20popup_e5e8ba95e6f949f39cb0f4b2133f4c04%20%3D%20L.popup%28%7B%22maxWidth%22%3A%20%22100%25%22%7D%29%3B%0A%0A%20%20%20%20%20%20%20%20%0A%20%20%20%20%20%20%20%20%20%20%20%20var%20html_43ef5c9643ae42c2b7e233a4a1fb429a%20%3D%20%24%28%60%3Cdiv%20id%3D%22html_43ef5c9643ae42c2b7e233a4a1fb429a%22%20style%3D%22width%3A%20100.0%25%3B%20height%3A%20100.0%25%3B%22%3ETimor-Leste%3C/div%3E%60%29%5B0%5D%3B%0A%20%20%20%20%20%20%20%20%20%20%20%20popup_e5e8ba95e6f949f39cb0f4b2133f4c04.setContent%28html_43ef5c9643ae42c2b7e233a4a1fb429a%29%3B%0A%20%20%20%20%20%20%20%20%0A%0A%20%20%20%20%20%20%20%20circle_marker_cf47ab3df01940e0b3099e559c950aa5.bindPopup%28popup_e5e8ba95e6f949f39cb0f4b2133f4c04%29%0A%20%20%20%20%20%20%20%20%3B%0A%0A%20%20%20%20%20%20%20%20%0A%20%20%20%20%0A%20%20%20%20%0A%20%20%20%20%20%20%20%20%20%20%20%20var%20circle_marker_82af72512bdf46cfa62836642842ab17%20%3D%20L.circleMarker%28%0A%20%20%20%20%20%20%20%20%20%20%20%20%20%20%20%20%5B11.0%2C%20-61.0%5D%2C%0A%20%20%20%20%20%20%20%20%20%20%20%20%20%20%20%20%7B%22bubblingMouseEvents%22%3A%20true%2C%20%22color%22%3A%20%22%233388ff%22%2C%20%22dashArray%22%3A%20null%2C%20%22dashOffset%22%3A%20null%2C%20%22fill%22%3A%20true%2C%20%22fillColor%22%3A%20%22green%22%2C%20%22fillOpacity%22%3A%200.2%2C%20%22fillRule%22%3A%20%22evenodd%22%2C%20%22lineCap%22%3A%20%22round%22%2C%20%22lineJoin%22%3A%20%22round%22%2C%20%22opacity%22%3A%201.0%2C%20%22radius%22%3A%201.3261575894870345%2C%20%22stroke%22%3A%20true%2C%20%22weight%22%3A%203%7D%0A%20%20%20%20%20%20%20%20%20%20%20%20%29.addTo%28map_adb6d74cb18349f3821b952856c762ca%29%3B%0A%20%20%20%20%20%20%20%20%0A%20%20%20%20%0A%20%20%20%20%20%20%20%20var%20popup_d8ac20f1848b4c1d9241040fa75992d6%20%3D%20L.popup%28%7B%22maxWidth%22%3A%20%22100%25%22%7D%29%3B%0A%0A%20%20%20%20%20%20%20%20%0A%20%20%20%20%20%20%20%20%20%20%20%20var%20html_6388121500a64d3395eb0cd7aac76b11%20%3D%20%24%28%60%3Cdiv%20id%3D%22html_6388121500a64d3395eb0cd7aac76b11%22%20style%3D%22width%3A%20100.0%25%3B%20height%3A%20100.0%25%3B%22%3ETrinidad%20and%20Tobago%3C/div%3E%60%29%5B0%5D%3B%0A%20%20%20%20%20%20%20%20%20%20%20%20popup_d8ac20f1848b4c1d9241040fa75992d6.setContent%28html_6388121500a64d3395eb0cd7aac76b11%29%3B%0A%20%20%20%20%20%20%20%20%0A%0A%20%20%20%20%20%20%20%20circle_marker_82af72512bdf46cfa62836642842ab17.bindPopup%28popup_d8ac20f1848b4c1d9241040fa75992d6%29%0A%20%20%20%20%20%20%20%20%3B%0A%0A%20%20%20%20%20%20%20%20%0A%20%20%20%20%0A%20%20%20%20%0A%20%20%20%20%20%20%20%20%20%20%20%20var%20circle_marker_e2e6923f876b46cfaee64fcf9205d245%20%3D%20L.circleMarker%28%0A%20%20%20%20%20%20%20%20%20%20%20%20%20%20%20%20%5B34.0%2C%209.0%5D%2C%0A%20%20%20%20%20%20%20%20%20%20%20%20%20%20%20%20%7B%22bubblingMouseEvents%22%3A%20true%2C%20%22color%22%3A%20%22%233388ff%22%2C%20%22dashArray%22%3A%20null%2C%20%22dashOffset%22%3A%20null%2C%20%22fill%22%3A%20true%2C%20%22fillColor%22%3A%20%22blue%22%2C%20%22fillOpacity%22%3A%200.2%2C%20%22fillRule%22%3A%20%22evenodd%22%2C%20%22lineCap%22%3A%20%22round%22%2C%20%22lineJoin%22%3A%20%22round%22%2C%20%22opacity%22%3A%201.0%2C%20%22radius%22%3A%201.5827604478426454%2C%20%22stroke%22%3A%20true%2C%20%22weight%22%3A%203%7D%0A%20%20%20%20%20%20%20%20%20%20%20%20%29.addTo%28map_adb6d74cb18349f3821b952856c762ca%29%3B%0A%20%20%20%20%20%20%20%20%0A%20%20%20%20%0A%20%20%20%20%20%20%20%20var%20popup_b535a3d355534fea97df2470f2b568e4%20%3D%20L.popup%28%7B%22maxWidth%22%3A%20%22100%25%22%7D%29%3B%0A%0A%20%20%20%20%20%20%20%20%0A%20%20%20%20%20%20%20%20%20%20%20%20var%20html_9a3a8540c3be4ef094a58db5a226d1a8%20%3D%20%24%28%60%3Cdiv%20id%3D%22html_9a3a8540c3be4ef094a58db5a226d1a8%22%20style%3D%22width%3A%20100.0%25%3B%20height%3A%20100.0%25%3B%22%3ETunisia%3C/div%3E%60%29%5B0%5D%3B%0A%20%20%20%20%20%20%20%20%20%20%20%20popup_b535a3d355534fea97df2470f2b568e4.setContent%28html_9a3a8540c3be4ef094a58db5a226d1a8%29%3B%0A%20%20%20%20%20%20%20%20%0A%0A%20%20%20%20%20%20%20%20circle_marker_e2e6923f876b46cfaee64fcf9205d245.bindPopup%28popup_b535a3d355534fea97df2470f2b568e4%29%0A%20%20%20%20%20%20%20%20%3B%0A%0A%20%20%20%20%20%20%20%20%0A%20%20%20%20%0A%20%20%20%20%0A%20%20%20%20%20%20%20%20%20%20%20%20var%20circle_marker_f062ab79285e40cdbdc630ac8ec4a499%20%3D%20L.circleMarker%28%0A%20%20%20%20%20%20%20%20%20%20%20%20%20%20%20%20%5B39.0%2C%2035.0%5D%2C%0A%20%20%20%20%20%20%20%20%20%20%20%20%20%20%20%20%7B%22bubblingMouseEvents%22%3A%20true%2C%20%22color%22%3A%20%22%233388ff%22%2C%20%22dashArray%22%3A%20null%2C%20%22dashOffset%22%3A%20null%2C%20%22fill%22%3A%20true%2C%20%22fillColor%22%3A%20%22black%22%2C%20%22fillOpacity%22%3A%200.2%2C%20%22fillRule%22%3A%20%22evenodd%22%2C%20%22lineCap%22%3A%20%22round%22%2C%20%22lineJoin%22%3A%20%22round%22%2C%20%22opacity%22%3A%201.0%2C%20%22radius%22%3A%201.3571310413650737%2C%20%22stroke%22%3A%20true%2C%20%22weight%22%3A%203%7D%0A%20%20%20%20%20%20%20%20%20%20%20%20%29.addTo%28map_adb6d74cb18349f3821b952856c762ca%29%3B%0A%20%20%20%20%20%20%20%20%0A%20%20%20%20%0A%20%20%20%20%20%20%20%20var%20popup_a9affa8966f34cecad021f57b73131b7%20%3D%20L.popup%28%7B%22maxWidth%22%3A%20%22100%25%22%7D%29%3B%0A%0A%20%20%20%20%20%20%20%20%0A%20%20%20%20%20%20%20%20%20%20%20%20var%20html_9309b56d39134db5bda0d1098c8a2c14%20%3D%20%24%28%60%3Cdiv%20id%3D%22html_9309b56d39134db5bda0d1098c8a2c14%22%20style%3D%22width%3A%20100.0%25%3B%20height%3A%20100.0%25%3B%22%3ETurkey%3C/div%3E%60%29%5B0%5D%3B%0A%20%20%20%20%20%20%20%20%20%20%20%20popup_a9affa8966f34cecad021f57b73131b7.setContent%28html_9309b56d39134db5bda0d1098c8a2c14%29%3B%0A%20%20%20%20%20%20%20%20%0A%0A%20%20%20%20%20%20%20%20circle_marker_f062ab79285e40cdbdc630ac8ec4a499.bindPopup%28popup_a9affa8966f34cecad021f57b73131b7%29%0A%20%20%20%20%20%20%20%20%3B%0A%0A%20%20%20%20%20%20%20%20%0A%20%20%20%20%0A%20%20%20%20%0A%20%20%20%20%20%20%20%20%20%20%20%20var%20circle_marker_d0c8881c5b0e4aa9bcf338060a3bd44f%20%3D%20L.circleMarker%28%0A%20%20%20%20%20%20%20%20%20%20%20%20%20%20%20%20%5B-6.0%2C%2035.0%5D%2C%0A%20%20%20%20%20%20%20%20%20%20%20%20%20%20%20%20%7B%22bubblingMouseEvents%22%3A%20true%2C%20%22color%22%3A%20%22%233388ff%22%2C%20%22dashArray%22%3A%20null%2C%20%22dashOffset%22%3A%20null%2C%20%22fill%22%3A%20true%2C%20%22fillColor%22%3A%20%22blue%22%2C%20%22fillOpacity%22%3A%200.2%2C%20%22fillRule%22%3A%20%22evenodd%22%2C%20%22lineCap%22%3A%20%22round%22%2C%20%22lineJoin%22%3A%20%22round%22%2C%20%22opacity%22%3A%201.0%2C%20%22radius%22%3A%2024.774201262059734%2C%20%22stroke%22%3A%20true%2C%20%22weight%22%3A%203%7D%0A%20%20%20%20%20%20%20%20%20%20%20%20%29.addTo%28map_adb6d74cb18349f3821b952856c762ca%29%3B%0A%20%20%20%20%20%20%20%20%0A%20%20%20%20%0A%20%20%20%20%20%20%20%20var%20popup_9c3a2a5bf3e343c18fd1564777551929%20%3D%20L.popup%28%7B%22maxWidth%22%3A%20%22100%25%22%7D%29%3B%0A%0A%20%20%20%20%20%20%20%20%0A%20%20%20%20%20%20%20%20%20%20%20%20var%20html_fe59d64d137f44438964caa7ce25c327%20%3D%20%24%28%60%3Cdiv%20id%3D%22html_fe59d64d137f44438964caa7ce25c327%22%20style%3D%22width%3A%20100.0%25%3B%20height%3A%20100.0%25%3B%22%3ETanzania%3C/div%3E%60%29%5B0%5D%3B%0A%20%20%20%20%20%20%20%20%20%20%20%20popup_9c3a2a5bf3e343c18fd1564777551929.setContent%28html_fe59d64d137f44438964caa7ce25c327%29%3B%0A%20%20%20%20%20%20%20%20%0A%0A%20%20%20%20%20%20%20%20circle_marker_d0c8881c5b0e4aa9bcf338060a3bd44f.bindPopup%28popup_9c3a2a5bf3e343c18fd1564777551929%29%0A%20%20%20%20%20%20%20%20%3B%0A%0A%20%20%20%20%20%20%20%20%0A%20%20%20%20%0A%20%20%20%20%0A%20%20%20%20%20%20%20%20%20%20%20%20var%20circle_marker_acaa6fc3aca74027aba3f111ec73dabf%20%3D%20L.circleMarker%28%0A%20%20%20%20%20%20%20%20%20%20%20%20%20%20%20%20%5B1.25%2C%2032.5%5D%2C%0A%20%20%20%20%20%20%20%20%20%20%20%20%20%20%20%20%7B%22bubblingMouseEvents%22%3A%20true%2C%20%22color%22%3A%20%22%233388ff%22%2C%20%22dashArray%22%3A%20null%2C%20%22dashOffset%22%3A%20null%2C%20%22fill%22%3A%20true%2C%20%22fillColor%22%3A%20%22blue%22%2C%20%22fillOpacity%22%3A%200.2%2C%20%22fillRule%22%3A%20%22evenodd%22%2C%20%22lineCap%22%3A%20%22round%22%2C%20%22lineJoin%22%3A%20%22round%22%2C%20%22opacity%22%3A%201.0%2C%20%22radius%22%3A%2019.74773153351201%2C%20%22stroke%22%3A%20true%2C%20%22weight%22%3A%203%7D%0A%20%20%20%20%20%20%20%20%20%20%20%20%29.addTo%28map_adb6d74cb18349f3821b952856c762ca%29%3B%0A%20%20%20%20%20%20%20%20%0A%20%20%20%20%0A%20%20%20%20%20%20%20%20var%20popup_a5a8da8373934c8b90fb63b44a8929a3%20%3D%20L.popup%28%7B%22maxWidth%22%3A%20%22100%25%22%7D%29%3B%0A%0A%20%20%20%20%20%20%20%20%0A%20%20%20%20%20%20%20%20%20%20%20%20var%20html_0599854001e8414d8debfe7624db1169%20%3D%20%24%28%60%3Cdiv%20id%3D%22html_0599854001e8414d8debfe7624db1169%22%20style%3D%22width%3A%20100.0%25%3B%20height%3A%20100.0%25%3B%22%3EUganda%3C/div%3E%60%29%5B0%5D%3B%0A%20%20%20%20%20%20%20%20%20%20%20%20popup_a5a8da8373934c8b90fb63b44a8929a3.setContent%28html_0599854001e8414d8debfe7624db1169%29%3B%0A%20%20%20%20%20%20%20%20%0A%0A%20%20%20%20%20%20%20%20circle_marker_acaa6fc3aca74027aba3f111ec73dabf.bindPopup%28popup_a5a8da8373934c8b90fb63b44a8929a3%29%0A%20%20%20%20%20%20%20%20%3B%0A%0A%20%20%20%20%20%20%20%20%0A%20%20%20%20%0A%20%20%20%20%0A%20%20%20%20%20%20%20%20%20%20%20%20var%20circle_marker_1b69bbb61cef4f1bae396b0182ba982e%20%3D%20L.circleMarker%28%0A%20%20%20%20%20%20%20%20%20%20%20%20%20%20%20%20%5B49.0%2C%2032.0%5D%2C%0A%20%20%20%20%20%20%20%20%20%20%20%20%20%20%20%20%7B%22bubblingMouseEvents%22%3A%20true%2C%20%22color%22%3A%20%22%233388ff%22%2C%20%22dashArray%22%3A%20null%2C%20%22dashOffset%22%3A%20null%2C%20%22fill%22%3A%20true%2C%20%22fillColor%22%3A%20%22black%22%2C%20%22fillOpacity%22%3A%200.2%2C%20%22fillRule%22%3A%20%22evenodd%22%2C%20%22lineCap%22%3A%20%22round%22%2C%20%22lineJoin%22%3A%20%22round%22%2C%20%22opacity%22%3A%201.0%2C%20%22stroke%22%3A%20true%2C%20%22weight%22%3A%203%7D%0A%20%20%20%20%20%20%20%20%20%20%20%20%29.addTo%28map_adb6d74cb18349f3821b952856c762ca%29%3B%0A%20%20%20%20%20%20%20%20%0A%20%20%20%20%0A%20%20%20%20%20%20%20%20var%20popup_ef1332c81e5a47889db12b8898af3e5a%20%3D%20L.popup%28%7B%22maxWidth%22%3A%20%22100%25%22%7D%29%3B%0A%0A%20%20%20%20%20%20%20%20%0A%20%20%20%20%20%20%20%20%20%20%20%20var%20html_5b06c32a34274ed8b389d59dbcc12f5e%20%3D%20%24%28%60%3Cdiv%20id%3D%22html_5b06c32a34274ed8b389d59dbcc12f5e%22%20style%3D%22width%3A%20100.0%25%3B%20height%3A%20100.0%25%3B%22%3EUkraine%3C/div%3E%60%29%5B0%5D%3B%0A%20%20%20%20%20%20%20%20%20%20%20%20popup_ef1332c81e5a47889db12b8898af3e5a.setContent%28html_5b06c32a34274ed8b389d59dbcc12f5e%29%3B%0A%20%20%20%20%20%20%20%20%0A%0A%20%20%20%20%20%20%20%20circle_marker_1b69bbb61cef4f1bae396b0182ba982e.bindPopup%28popup_ef1332c81e5a47889db12b8898af3e5a%29%0A%20%20%20%20%20%20%20%20%3B%0A%0A%20%20%20%20%20%20%20%20%0A%20%20%20%20%0A%20%20%20%20%0A%20%20%20%20%20%20%20%20%20%20%20%20var%20circle_marker_b22cc0290d5849f2be782e87ce95230b%20%3D%20L.circleMarker%28%0A%20%20%20%20%20%20%20%20%20%20%20%20%20%20%20%20%5B-33.0%2C%20-56.0%5D%2C%0A%20%20%20%20%20%20%20%20%20%20%20%20%20%20%20%20%7B%22bubblingMouseEvents%22%3A%20true%2C%20%22color%22%3A%20%22%233388ff%22%2C%20%22dashArray%22%3A%20null%2C%20%22dashOffset%22%3A%20null%2C%20%22fill%22%3A%20true%2C%20%22fillColor%22%3A%20%22green%22%2C%20%22fillOpacity%22%3A%200.2%2C%20%22fillRule%22%3A%20%22evenodd%22%2C%20%22lineCap%22%3A%20%22round%22%2C%20%22lineJoin%22%3A%20%22round%22%2C%20%22opacity%22%3A%201.0%2C%20%22radius%22%3A%200.5757498723159213%2C%20%22stroke%22%3A%20true%2C%20%22weight%22%3A%203%7D%0A%20%20%20%20%20%20%20%20%20%20%20%20%29.addTo%28map_adb6d74cb18349f3821b952856c762ca%29%3B%0A%20%20%20%20%20%20%20%20%0A%20%20%20%20%0A%20%20%20%20%20%20%20%20var%20popup_86000f1a4d9f4632b184349597009691%20%3D%20L.popup%28%7B%22maxWidth%22%3A%20%22100%25%22%7D%29%3B%0A%0A%20%20%20%20%20%20%20%20%0A%20%20%20%20%20%20%20%20%20%20%20%20var%20html_cdaad9c1d0184bb589c5f835630799ac%20%3D%20%24%28%60%3Cdiv%20id%3D%22html_cdaad9c1d0184bb589c5f835630799ac%22%20style%3D%22width%3A%20100.0%25%3B%20height%3A%20100.0%25%3B%22%3EUruguay%3C/div%3E%60%29%5B0%5D%3B%0A%20%20%20%20%20%20%20%20%20%20%20%20popup_86000f1a4d9f4632b184349597009691.setContent%28html_cdaad9c1d0184bb589c5f835630799ac%29%3B%0A%20%20%20%20%20%20%20%20%0A%0A%20%20%20%20%20%20%20%20circle_marker_b22cc0290d5849f2be782e87ce95230b.bindPopup%28popup_86000f1a4d9f4632b184349597009691%29%0A%20%20%20%20%20%20%20%20%3B%0A%0A%20%20%20%20%20%20%20%20%0A%20%20%20%20%0A%20%20%20%20%0A%20%20%20%20%20%20%20%20%20%20%20%20var%20circle_marker_98e8dcfe3560418197af90282a6f3435%20%3D%20L.circleMarker%28%0A%20%20%20%20%20%20%20%20%20%20%20%20%20%20%20%20%5B39.76%2C%20-98.5%5D%2C%0A%20%20%20%20%20%20%20%20%20%20%20%20%20%20%20%20%7B%22bubblingMouseEvents%22%3A%20true%2C%20%22color%22%3A%20%22%233388ff%22%2C%20%22dashArray%22%3A%20null%2C%20%22dashOffset%22%3A%20null%2C%20%22fill%22%3A%20true%2C%20%22fillColor%22%3A%20%22green%22%2C%20%22fillOpacity%22%3A%200.2%2C%20%22fillRule%22%3A%20%22evenodd%22%2C%20%22lineCap%22%3A%20%22round%22%2C%20%22lineJoin%22%3A%20%22round%22%2C%20%22opacity%22%3A%201.0%2C%20%22radius%22%3A%2012.816534715641207%2C%20%22stroke%22%3A%20true%2C%20%22weight%22%3A%203%7D%0A%20%20%20%20%20%20%20%20%20%20%20%20%29.addTo%28map_adb6d74cb18349f3821b952856c762ca%29%3B%0A%20%20%20%20%20%20%20%20%0A%20%20%20%20%0A%20%20%20%20%20%20%20%20var%20popup_2774f4a079dc49e083997cb433bb128e%20%3D%20L.popup%28%7B%22maxWidth%22%3A%20%22100%25%22%7D%29%3B%0A%0A%20%20%20%20%20%20%20%20%0A%20%20%20%20%20%20%20%20%20%20%20%20var%20html_2e856791a141439f9ef80c0f517a427a%20%3D%20%24%28%60%3Cdiv%20id%3D%22html_2e856791a141439f9ef80c0f517a427a%22%20style%3D%22width%3A%20100.0%25%3B%20height%3A%20100.0%25%3B%22%3EUnited%20States%3C/div%3E%60%29%5B0%5D%3B%0A%20%20%20%20%20%20%20%20%20%20%20%20popup_2774f4a079dc49e083997cb433bb128e.setContent%28html_2e856791a141439f9ef80c0f517a427a%29%3B%0A%20%20%20%20%20%20%20%20%0A%0A%20%20%20%20%20%20%20%20circle_marker_98e8dcfe3560418197af90282a6f3435.bindPopup%28popup_2774f4a079dc49e083997cb433bb128e%29%0A%20%20%20%20%20%20%20%20%3B%0A%0A%20%20%20%20%20%20%20%20%0A%20%20%20%20%0A%20%20%20%20%0A%20%20%20%20%20%20%20%20%20%20%20%20var%20circle_marker_200c8b5428c8414abeb3959d4d8077ef%20%3D%20L.circleMarker%28%0A%20%20%20%20%20%20%20%20%20%20%20%20%20%20%20%20%5B8.0%2C%20-66.0%5D%2C%0A%20%20%20%20%20%20%20%20%20%20%20%20%20%20%20%20%7B%22bubblingMouseEvents%22%3A%20true%2C%20%22color%22%3A%20%22%233388ff%22%2C%20%22dashArray%22%3A%20null%2C%20%22dashOffset%22%3A%20null%2C%20%22fill%22%3A%20true%2C%20%22fillColor%22%3A%20%22green%22%2C%20%22fillOpacity%22%3A%200.2%2C%20%22fillRule%22%3A%20%22evenodd%22%2C%20%22lineCap%22%3A%20%22round%22%2C%20%22lineJoin%22%3A%20%22round%22%2C%20%22opacity%22%3A%201.0%2C%20%22radius%22%3A%207.747224893287904%2C%20%22stroke%22%3A%20true%2C%20%22weight%22%3A%203%7D%0A%20%20%20%20%20%20%20%20%20%20%20%20%29.addTo%28map_adb6d74cb18349f3821b952856c762ca%29%3B%0A%20%20%20%20%20%20%20%20%0A%20%20%20%20%0A%20%20%20%20%20%20%20%20var%20popup_df9ccdf09583432686acecf4380d6b69%20%3D%20L.popup%28%7B%22maxWidth%22%3A%20%22100%25%22%7D%29%3B%0A%0A%20%20%20%20%20%20%20%20%0A%20%20%20%20%20%20%20%20%20%20%20%20var%20html_9a107ad7cb4e4c70b98b24200168af19%20%3D%20%24%28%60%3Cdiv%20id%3D%22html_9a107ad7cb4e4c70b98b24200168af19%22%20style%3D%22width%3A%20100.0%25%3B%20height%3A%20100.0%25%3B%22%3EVenezuela%3C/div%3E%60%29%5B0%5D%3B%0A%20%20%20%20%20%20%20%20%20%20%20%20popup_df9ccdf09583432686acecf4380d6b69.setContent%28html_9a107ad7cb4e4c70b98b24200168af19%29%3B%0A%20%20%20%20%20%20%20%20%0A%0A%20%20%20%20%20%20%20%20circle_marker_200c8b5428c8414abeb3959d4d8077ef.bindPopup%28popup_df9ccdf09583432686acecf4380d6b69%29%0A%20%20%20%20%20%20%20%20%3B%0A%0A%20%20%20%20%20%20%20%20%0A%20%20%20%20%0A%20%20%20%20%0A%20%20%20%20%20%20%20%20%20%20%20%20var%20circle_marker_ce900f43888c4bdd8353d596620d947d%20%3D%20L.circleMarker%28%0A%20%20%20%20%20%20%20%20%20%20%20%20%20%20%20%20%5B16.16667%2C%20107.83333%5D%2C%0A%20%20%20%20%20%20%20%20%20%20%20%20%20%20%20%20%7B%22bubblingMouseEvents%22%3A%20true%2C%20%22color%22%3A%20%22%233388ff%22%2C%20%22dashArray%22%3A%20null%2C%20%22dashOffset%22%3A%20null%2C%20%22fill%22%3A%20true%2C%20%22fillColor%22%3A%20%22red%22%2C%20%22fillOpacity%22%3A%200.2%2C%20%22fillRule%22%3A%20%22evenodd%22%2C%20%22lineCap%22%3A%20%22round%22%2C%20%22lineJoin%22%3A%20%22round%22%2C%20%22opacity%22%3A%201.0%2C%20%22radius%22%3A%208.265735545694868%2C%20%22stroke%22%3A%20true%2C%20%22weight%22%3A%203%7D%0A%20%20%20%20%20%20%20%20%20%20%20%20%29.addTo%28map_adb6d74cb18349f3821b952856c762ca%29%3B%0A%20%20%20%20%20%20%20%20%0A%20%20%20%20%0A%20%20%20%20%20%20%20%20var%20popup_5e5025fd4d754b419d31dbde4231704b%20%3D%20L.popup%28%7B%22maxWidth%22%3A%20%22100%25%22%7D%29%3B%0A%0A%20%20%20%20%20%20%20%20%0A%20%20%20%20%20%20%20%20%20%20%20%20var%20html_c10c1e4d002d4800889ae388386bb1a9%20%3D%20%24%28%60%3Cdiv%20id%3D%22html_c10c1e4d002d4800889ae388386bb1a9%22%20style%3D%22width%3A%20100.0%25%3B%20height%3A%20100.0%25%3B%22%3EVietnam%3C/div%3E%60%29%5B0%5D%3B%0A%20%20%20%20%20%20%20%20%20%20%20%20popup_5e5025fd4d754b419d31dbde4231704b.setContent%28html_c10c1e4d002d4800889ae388386bb1a9%29%3B%0A%20%20%20%20%20%20%20%20%0A%0A%20%20%20%20%20%20%20%20circle_marker_ce900f43888c4bdd8353d596620d947d.bindPopup%28popup_5e5025fd4d754b419d31dbde4231704b%29%0A%20%20%20%20%20%20%20%20%3B%0A%0A%20%20%20%20%20%20%20%20%0A%20%20%20%20%0A%20%20%20%20%0A%20%20%20%20%20%20%20%20%20%20%20%20var%20circle_marker_90b107ef7e4b48d5a742d569c0182ec2%20%3D%20L.circleMarker%28%0A%20%20%20%20%20%20%20%20%20%20%20%20%20%20%20%20%5B15.5%2C%2047.5%5D%2C%0A%20%20%20%20%20%20%20%20%20%20%20%20%20%20%20%20%7B%22bubblingMouseEvents%22%3A%20true%2C%20%22color%22%3A%20%22%233388ff%22%2C%20%22dashArray%22%3A%20null%2C%20%22dashOffset%22%3A%20null%2C%20%22fill%22%3A%20true%2C%20%22fillColor%22%3A%20%22red%22%2C%20%22fillOpacity%22%3A%200.2%2C%20%22fillRule%22%3A%20%22evenodd%22%2C%20%22lineCap%22%3A%20%22round%22%2C%20%22lineJoin%22%3A%20%22round%22%2C%20%22opacity%22%3A%201.0%2C%20%22radius%22%3A%208.490153480403475%2C%20%22stroke%22%3A%20true%2C%20%22weight%22%3A%203%7D%0A%20%20%20%20%20%20%20%20%20%20%20%20%29.addTo%28map_adb6d74cb18349f3821b952856c762ca%29%3B%0A%20%20%20%20%20%20%20%20%0A%20%20%20%20%0A%20%20%20%20%20%20%20%20var%20popup_37f4767f61a945e98347492ecd7fdbec%20%3D%20L.popup%28%7B%22maxWidth%22%3A%20%22100%25%22%7D%29%3B%0A%0A%20%20%20%20%20%20%20%20%0A%20%20%20%20%20%20%20%20%20%20%20%20var%20html_e79bfe47d53c4abb904e5ed882553d8f%20%3D%20%24%28%60%3Cdiv%20id%3D%22html_e79bfe47d53c4abb904e5ed882553d8f%22%20style%3D%22width%3A%20100.0%25%3B%20height%3A%20100.0%25%3B%22%3EYemen%3C/div%3E%60%29%5B0%5D%3B%0A%20%20%20%20%20%20%20%20%20%20%20%20popup_37f4767f61a945e98347492ecd7fdbec.setContent%28html_e79bfe47d53c4abb904e5ed882553d8f%29%3B%0A%20%20%20%20%20%20%20%20%0A%0A%20%20%20%20%20%20%20%20circle_marker_90b107ef7e4b48d5a742d569c0182ec2.bindPopup%28popup_37f4767f61a945e98347492ecd7fdbec%29%0A%20%20%20%20%20%20%20%20%3B%0A%0A%20%20%20%20%20%20%20%20%0A%20%20%20%20%0A%20%20%20%20%0A%20%20%20%20%20%20%20%20%20%20%20%20var%20circle_marker_c8ca895d42974d3e84107e864878ca2f%20%3D%20L.circleMarker%28%0A%20%20%20%20%20%20%20%20%20%20%20%20%20%20%20%20%5B-29.0%2C%2024.0%5D%2C%0A%20%20%20%20%20%20%20%20%20%20%20%20%20%20%20%20%7B%22bubblingMouseEvents%22%3A%20true%2C%20%22color%22%3A%20%22%233388ff%22%2C%20%22dashArray%22%3A%20null%2C%20%22dashOffset%22%3A%20null%2C%20%22fill%22%3A%20true%2C%20%22fillColor%22%3A%20%22blue%22%2C%20%22fillOpacity%22%3A%200.2%2C%20%22fillRule%22%3A%20%22evenodd%22%2C%20%22lineCap%22%3A%20%22round%22%2C%20%22lineJoin%22%3A%20%22round%22%2C%20%22opacity%22%3A%201.0%2C%20%22radius%22%3A%2012.392457273107668%2C%20%22stroke%22%3A%20true%2C%20%22weight%22%3A%203%7D%0A%20%20%20%20%20%20%20%20%20%20%20%20%29.addTo%28map_adb6d74cb18349f3821b952856c762ca%29%3B%0A%20%20%20%20%20%20%20%20%0A%20%20%20%20%0A%20%20%20%20%20%20%20%20var%20popup_7d457e30d7bc4f018e013166306ffaf4%20%3D%20L.popup%28%7B%22maxWidth%22%3A%20%22100%25%22%7D%29%3B%0A%0A%20%20%20%20%20%20%20%20%0A%20%20%20%20%20%20%20%20%20%20%20%20var%20html_ddd67b35a7fa4d1d963a5713c1e8fe56%20%3D%20%24%28%60%3Cdiv%20id%3D%22html_ddd67b35a7fa4d1d963a5713c1e8fe56%22%20style%3D%22width%3A%20100.0%25%3B%20height%3A%20100.0%25%3B%22%3ESouth%20Africa%3C/div%3E%60%29%5B0%5D%3B%0A%20%20%20%20%20%20%20%20%20%20%20%20popup_7d457e30d7bc4f018e013166306ffaf4.setContent%28html_ddd67b35a7fa4d1d963a5713c1e8fe56%29%3B%0A%20%20%20%20%20%20%20%20%0A%0A%20%20%20%20%20%20%20%20circle_marker_c8ca895d42974d3e84107e864878ca2f.bindPopup%28popup_7d457e30d7bc4f018e013166306ffaf4%29%0A%20%20%20%20%20%20%20%20%3B%0A%0A%20%20%20%20%20%20%20%20%0A%20%20%20%20%0A%20%20%20%20%0A%20%20%20%20%20%20%20%20%20%20%20%20var%20circle_marker_072f9f63a754436899e1884cc5d31e70%20%3D%20L.circleMarker%28%0A%20%20%20%20%20%20%20%20%20%20%20%20%20%20%20%20%5B-14.33333%2C%2028.5%5D%2C%0A%20%20%20%20%20%20%20%20%20%20%20%20%20%20%20%20%7B%22bubblingMouseEvents%22%3A%20true%2C%20%22color%22%3A%20%22%233388ff%22%2C%20%22dashArray%22%3A%20null%2C%20%22dashOffset%22%3A%20null%2C%20%22fill%22%3A%20true%2C%20%22fillColor%22%3A%20%22blue%22%2C%20%22fillOpacity%22%3A%200.2%2C%20%22fillRule%22%3A%20%22evenodd%22%2C%20%22lineCap%22%3A%20%22round%22%2C%20%22lineJoin%22%3A%20%22round%22%2C%20%22opacity%22%3A%201.0%2C%20%22radius%22%3A%2017.940846416721868%2C%20%22stroke%22%3A%20true%2C%20%22weight%22%3A%203%7D%0A%20%20%20%20%20%20%20%20%20%20%20%20%29.addTo%28map_adb6d74cb18349f3821b952856c762ca%29%3B%0A%20%20%20%20%20%20%20%20%0A%20%20%20%20%0A%20%20%20%20%20%20%20%20var%20popup_6e56bbfcc4404af595f8ace81d1bf9d9%20%3D%20L.popup%28%7B%22maxWidth%22%3A%20%22100%25%22%7D%29%3B%0A%0A%20%20%20%20%20%20%20%20%0A%20%20%20%20%20%20%20%20%20%20%20%20var%20html_5c9a285b852341cbbb7eef12fe05faaf%20%3D%20%24%28%60%3Cdiv%20id%3D%22html_5c9a285b852341cbbb7eef12fe05faaf%22%20style%3D%22width%3A%20100.0%25%3B%20height%3A%20100.0%25%3B%22%3EZambia%3C/div%3E%60%29%5B0%5D%3B%0A%20%20%20%20%20%20%20%20%20%20%20%20popup_6e56bbfcc4404af595f8ace81d1bf9d9.setContent%28html_5c9a285b852341cbbb7eef12fe05faaf%29%3B%0A%20%20%20%20%20%20%20%20%0A%0A%20%20%20%20%20%20%20%20circle_marker_072f9f63a754436899e1884cc5d31e70.bindPopup%28popup_6e56bbfcc4404af595f8ace81d1bf9d9%29%0A%20%20%20%20%20%20%20%20%3B%0A%0A%20%20%20%20%20%20%20%20%0A%20%20%20%20%0A%3C/script%3E onload=\"this.contentDocument.open();this.contentDocument.write(    decodeURIComponent(this.getAttribute('data-html')));this.contentDocument.close();\" allowfullscreen webkitallowfullscreen mozallowfullscreen></iframe></div></div>"
      ],
      "text/plain": [
       "<datascience.maps.Map at 0x7f1fb1316310>"
      ]
     },
     "execution_count": 89,
     "metadata": {},
     "output_type": "execute_result"
    }
   ],
   "source": [
    "# It may take a few seconds to generate this map.\n",
    "colors = {'africa': 'blue', 'europe': 'black', 'asia': 'red', 'americas': 'green'}\n",
    "scaled = poverty_map.with_columns(\n",
    "    'labels', poverty_map.column('name'),\n",
    "    'colors', poverty_map.apply(colors.get, 'region'),\n",
    "    'areas', 1e-4 * poverty_map.column('poverty_total')\n",
    ").drop('name', 'region', 'poverty_total')\n",
    "\n",
    "Circle.map_table(scaled)"
   ]
  },
  {
   "cell_type": "markdown",
   "metadata": {
    "deletable": false,
    "editable": false
   },
   "source": [
    "Although people live in extreme poverty throughout the world (with more than 5 million in the United States), the largest numbers are in Asia and Africa."
   ]
  },
  {
   "cell_type": "markdown",
   "metadata": {
    "deletable": false,
    "editable": false
   },
   "source": [
    "**Question 5.** Assign `largest` to a two-column table with the `name` (not the 3-letter code) and `poverty_total` of the 10 countries with the largest number of people living in extreme poverty.\n",
    "\n",
    "<!--\n",
    "BEGIN QUESTION\n",
    "name: q2_5\n",
    "-->"
   ]
  },
  {
   "cell_type": "code",
   "execution_count": 90,
   "metadata": {
    "deletable": false
   },
   "outputs": [
    {
     "data": {
      "text/html": [
       "<table border=\"1\" class=\"dataframe\">\n",
       "    <thead>\n",
       "        <tr>\n",
       "            <th>name</th> <th>poverty_total</th>\n",
       "        </tr>\n",
       "    </thead>\n",
       "    <tbody>\n",
       "        <tr>\n",
       "            <td>India           </td> <td>291,660,639  </td>\n",
       "        </tr>\n",
       "        <tr>\n",
       "            <td>Nigeria         </td> <td>98,319,537   </td>\n",
       "        </tr>\n",
       "        <tr>\n",
       "            <td>China           </td> <td>85,687,544   </td>\n",
       "        </tr>\n",
       "        <tr>\n",
       "            <td>Bangladesh      </td> <td>63,826,375   </td>\n",
       "        </tr>\n",
       "        <tr>\n",
       "            <td>Congo, Dem. Rep.</td> <td>56,635,412   </td>\n",
       "        </tr>\n",
       "        <tr>\n",
       "            <td>Indonesia       </td> <td>39,177,145   </td>\n",
       "        </tr>\n",
       "        <tr>\n",
       "            <td>Ethiopia        </td> <td>32,242,742   </td>\n",
       "        </tr>\n",
       "        <tr>\n",
       "            <td>Pakistan        </td> <td>22,858,700   </td>\n",
       "        </tr>\n",
       "        <tr>\n",
       "            <td>Tanzania        </td> <td>19,281,872   </td>\n",
       "        </tr>\n",
       "        <tr>\n",
       "            <td>Madagascar      </td> <td>18,543,643   </td>\n",
       "        </tr>\n",
       "    </tbody>\n",
       "</table>"
      ],
      "text/plain": [
       "name             | poverty_total\n",
       "India            | 291,660,639\n",
       "Nigeria          | 98,319,537\n",
       "China            | 85,687,544\n",
       "Bangladesh       | 63,826,375\n",
       "Congo, Dem. Rep. | 56,635,412\n",
       "Indonesia        | 39,177,145\n",
       "Ethiopia         | 32,242,742\n",
       "Pakistan         | 22,858,700\n",
       "Tanzania         | 19,281,872\n",
       "Madagascar       | 18,543,643"
      ]
     },
     "execution_count": 90,
     "metadata": {},
     "output_type": "execute_result"
    }
   ],
   "source": [
    "largest = poverty_map.sort(\"poverty_total\", descending=True).take(np.arange(0,10)).select(2, 4)\n",
    "largest.set_format('poverty_total', NumberFormatter)"
   ]
  },
  {
   "cell_type": "code",
   "execution_count": 91,
   "metadata": {
    "deletable": false,
    "editable": false
   },
   "outputs": [
    {
     "name": "stdout",
     "output_type": "stream",
     "text": [
      "~~~~~~~~~~~~~~~~~~~~~~~~~~~~~~~~~~~~~~~~~~~~~~~~~~~~~~~~~~~~~~~~~~~~~\n",
      "Running tests\n",
      "\n",
      "---------------------------------------------------------------------\n",
      "Test summary\n",
      "    Passed: 3\n",
      "    Failed: 0\n",
      "[ooooooooook] 100.0% passed\n",
      "\n"
     ]
    }
   ],
   "source": [
    "ok.grade(\"q2_5\");"
   ]
  },
  {
   "cell_type": "markdown",
   "metadata": {
    "deletable": false
   },
   "source": [
    "**Question 6.** Write a function called `poverty_timeline` that takes **the name of a country** as its argument. It should draw a line plot of the number of people living in poverty in that country with time on the horizontal axis. The line plot should have a point for each row in the `poverty` table for that country. To compute the population living in poverty from a poverty percentage, multiply by the population of the country **in that year**.\n",
    "\n",
    "*Hint:* This question is long. Feel free to create cells and experiment. "
   ]
  },
  {
   "cell_type": "code",
   "execution_count": 150,
   "metadata": {},
   "outputs": [],
   "source": [
    "def percentify(number):\n",
    "    \"\"\"Turns any number into a percent\"\"\"\n",
    "    percent = number / 100\n",
    "    return percent\n",
    "\n",
    "poverty_pop = poverty.join(['geo', 'time'], population, ['geo', 'time'])\n",
    "\n",
    "extreme_poverty_percent = poverty_pop.apply(percentify, \"extreme_poverty_percent_people_below_125_a_day\")\n",
    "\n",
    "poverty_pop = poverty_pop.with_column(\"extreme_poverty_percent_people_below_125_a_day\", extreme_poverty_percent)\n",
    "\n",
    "poverty_pop_total = poverty_pop.with_column(\"population_poverty\", extreme_poverty_percent * poverty_pop.column('population_total'))\n",
    "\n",
    "country_names = countries.select('name', 'country')\n",
    "\n",
    "country_poverty_pop =  final_poverty_pop.join('geo', country_names, 'country')\n",
    "\n",
    "def poverty_timeline(country):\n",
    "    '''Draw a timeline of people living in extreme poverty in a country.'''\n",
    "    geo = country_poverty_pop.where(\"name\", country)\n",
    "    # This solution will take multiple lines of code. Use as many as you need\n",
    "    return geo.plot('time', 'population_poverty')"
   ]
  },
  {
   "cell_type": "code",
   "execution_count": 92,
   "metadata": {},
   "outputs": [
    {
     "data": {
      "text/html": [
       "<table border=\"1\" class=\"dataframe\">\n",
       "    <thead>\n",
       "        <tr>\n",
       "            <th>geo</th> <th>time</th> <th>population_total</th>\n",
       "        </tr>\n",
       "    </thead>\n",
       "    <tbody>\n",
       "        <tr>\n",
       "            <td>afg </td> <td>1800</td> <td>3280000         </td>\n",
       "        </tr>\n",
       "        <tr>\n",
       "            <td>afg </td> <td>1801</td> <td>3280000         </td>\n",
       "        </tr>\n",
       "        <tr>\n",
       "            <td>afg </td> <td>1802</td> <td>3280000         </td>\n",
       "        </tr>\n",
       "        <tr>\n",
       "            <td>afg </td> <td>1803</td> <td>3280000         </td>\n",
       "        </tr>\n",
       "        <tr>\n",
       "            <td>afg </td> <td>1804</td> <td>3280000         </td>\n",
       "        </tr>\n",
       "        <tr>\n",
       "            <td>afg </td> <td>1805</td> <td>3280000         </td>\n",
       "        </tr>\n",
       "        <tr>\n",
       "            <td>afg </td> <td>1806</td> <td>3280000         </td>\n",
       "        </tr>\n",
       "        <tr>\n",
       "            <td>afg </td> <td>1807</td> <td>3280000         </td>\n",
       "        </tr>\n",
       "        <tr>\n",
       "            <td>afg </td> <td>1808</td> <td>3280000         </td>\n",
       "        </tr>\n",
       "        <tr>\n",
       "            <td>afg </td> <td>1809</td> <td>3280000         </td>\n",
       "        </tr>\n",
       "    </tbody>\n",
       "</table>\n",
       "<p>... (59287 rows omitted)</p>"
      ],
      "text/plain": [
       "geo  | time | population_total\n",
       "afg  | 1800 | 3280000\n",
       "afg  | 1801 | 3280000\n",
       "afg  | 1802 | 3280000\n",
       "afg  | 1803 | 3280000\n",
       "afg  | 1804 | 3280000\n",
       "afg  | 1805 | 3280000\n",
       "afg  | 1806 | 3280000\n",
       "afg  | 1807 | 3280000\n",
       "afg  | 1808 | 3280000\n",
       "afg  | 1809 | 3280000\n",
       "... (59287 rows omitted)"
      ]
     },
     "execution_count": 92,
     "metadata": {},
     "output_type": "execute_result"
    }
   ],
   "source": [
    "population"
   ]
  },
  {
   "cell_type": "markdown",
   "metadata": {
    "deletable": false,
    "editable": false
   },
   "source": [
    "Finally, draw the timelines below to see how the world is changing. You can check your work by comparing your graphs to the ones on [gapminder.org](https://www.gapminder.org/tools/#$state$entities$show$country$/$in@=ind;;;;&marker$axis_y$which=number_of_people_in_poverty&scaleType=linear&spaceRef:null;;;&chart-type=linechart).\n",
    "\n",
    "<!--\n",
    "BEGIN QUESTION\n",
    "name: q2_6\n",
    "manual: true\n",
    "-->\n",
    "<!-- EXPORT TO PDF -->"
   ]
  },
  {
   "cell_type": "code",
   "execution_count": 151,
   "metadata": {
    "editable": false,
    "export_pdf": true
   },
   "outputs": [
    {
     "data": {
      "image/png": "[encoded data removed]",
      "text/plain": [
       "<Figure size 432x432 with 1 Axes>"
      ]
     },
     "metadata": {},
     "output_type": "display_data"
    },
    {
     "data": {
      "image/png": "[encoded data removed]",
      "text/plain": [
       "<Figure size 432x432 with 1 Axes>"
      ]
     },
     "metadata": {},
     "output_type": "display_data"
    },
    {
     "data": {
      "image/png": "[encoded data removed]",
      "text/plain": [
       "<Figure size 432x432 with 1 Axes>"
      ]
     },
     "metadata": {},
     "output_type": "display_data"
    },
    {
     "data": {
      "image/png": "[encoded data removed]",
      "text/plain": [
       "<Figure size 432x432 with 1 Axes>"
      ]
     },
     "metadata": {},
     "output_type": "display_data"
    }
   ],
   "source": [
    "poverty_timeline('India')\n",
    "poverty_timeline('Nigeria')\n",
    "poverty_timeline('China')\n",
    "poverty_timeline('United States')"
   ]
  },
  {
   "cell_type": "markdown",
   "metadata": {
    "deletable": false,
    "editable": false
   },
   "source": [
    "Although the number of people living in extreme poverty has been increasing in Nigeria and the United States, the massive decreases in China and India have shaped the overall trend that extreme poverty is decreasing worldwide, both in percentage and in absolute number. \n",
    "\n",
    "To learn more, watch [Hans Rosling in a 2015 film](https://www.gapminder.org/videos/dont-panic-end-poverty/) about the UN goal of eradicating extreme poverty from the world. \n",
    "\n",
    "Below, we've also added an interactive dropdown menu for you to visualize `poverty_timeline` graphs for other countries. Note that each dropdown menu selection may take a few seconds to run."
   ]
  },
  {
   "cell_type": "code",
   "execution_count": 149,
   "metadata": {
    "deletable": false,
    "editable": false
   },
   "outputs": [
    {
     "data": {
      "application/vnd.jupyter.widget-view+json": {
       "model_id": "5ecdd0b0e99b41c88c00c4ee68fb4a17",
       "version_major": 2,
       "version_minor": 0
      },
      "text/plain": [
       "interactive(children=(Dropdown(description='country', options=('Angola', 'Albania', 'Argentina', 'Armenia', 'A…"
      ]
     },
     "metadata": {},
     "output_type": "display_data"
    }
   ],
   "source": [
    "# Just run this cell\n",
    "\n",
    "all_countries = poverty_map.column('name')\n",
    "_ = widgets.interact(poverty_timeline, country=list(all_countries))"
   ]
  },
  {
   "cell_type": "markdown",
   "metadata": {
    "deletable": false,
    "editable": false
   },
   "source": [
    "**You're finished!** Congratulations on mastering data visualization and table manipulation. Time to submit."
   ]
  },
  {
   "cell_type": "markdown",
   "metadata": {},
   "source": [
    "## 3. Submission\n"
   ]
  },
  {
   "cell_type": "markdown",
   "metadata": {
    "collapsed": true
   },
   "source": [
    "Once you're finished, select \"Save and Checkpoint\" in the File menu and then execute the `submit` cell below. The result will contain a link that you can use to check that your assignment has been submitted successfully. **IMPORTANT: Make sure to check that your submission is not empty. We cannot guarantee that the submission will be valid, so please check it now.** If you submit more than once before the deadline, we will only grade your final submission. If you mistakenly submit the wrong one, you can head to [okpy.org](https://okpy.org/) and flag the correct version. To do so, go to the website, click on this assignment, and find the version you would like to have graded. There should be an option to flag that submission for grading!\n",
    "\n",
    "**NOTE:** The tests that are provided are not comprehensive and act as sanity checks (i.e. to make sure you answer is in the correct form, etc.). Passing the tests for a question does not mean that you answered the question correctly."
   ]
  },
  {
   "cell_type": "code",
   "execution_count": null,
   "metadata": {},
   "outputs": [],
   "source": [
    "_ = ok.submit()"
   ]
  },
  {
   "cell_type": "code",
   "execution_count": 152,
   "metadata": {},
   "outputs": [
    {
     "name": "stdout",
     "output_type": "stream",
     "text": [
      "Running all tests...\n",
      "~~~~~~~~~~~~~~~~~~~~~~~~~~~~~~~~~~~~~~~~~~~~~~~~~~~~~~~~~~~~~~~~~~~~~\n",
      "Running tests\n",
      "\n",
      "---------------------------------------------------------------------\n",
      "Test summary\n",
      "    Passed: 2\n",
      "    Failed: 0\n",
      "[ooooooooook] 100.0% passed\n",
      "\n",
      "~~~~~~~~~~~~~~~~~~~~~~~~~~~~~~~~~~~~~~~~~~~~~~~~~~~~~~~~~~~~~~~~~~~~~\n",
      "Running tests\n",
      "\n",
      "---------------------------------------------------------------------\n",
      "Test summary\n",
      "    Passed: 4\n",
      "    Failed: 0\n",
      "[ooooooooook] 100.0% passed\n",
      "\n",
      "~~~~~~~~~~~~~~~~~~~~~~~~~~~~~~~~~~~~~~~~~~~~~~~~~~~~~~~~~~~~~~~~~~~~~\n",
      "Running tests\n",
      "\n",
      "---------------------------------------------------------------------\n",
      "Test summary\n",
      "    Passed: 2\n",
      "    Failed: 0\n",
      "[ooooooooook] 100.0% passed\n",
      "\n",
      "~~~~~~~~~~~~~~~~~~~~~~~~~~~~~~~~~~~~~~~~~~~~~~~~~~~~~~~~~~~~~~~~~~~~~\n",
      "Running tests\n",
      "\n",
      "---------------------------------------------------------------------\n",
      "Test summary\n",
      "    Passed: 4\n",
      "    Failed: 0\n",
      "[ooooooooook] 100.0% passed\n",
      "\n",
      "~~~~~~~~~~~~~~~~~~~~~~~~~~~~~~~~~~~~~~~~~~~~~~~~~~~~~~~~~~~~~~~~~~~~~\n",
      "Running tests\n",
      "\n",
      "---------------------------------------------------------------------\n",
      "Test summary\n",
      "    Passed: 2\n",
      "    Failed: 0\n",
      "[ooooooooook] 100.0% passed\n",
      "\n",
      "~~~~~~~~~~~~~~~~~~~~~~~~~~~~~~~~~~~~~~~~~~~~~~~~~~~~~~~~~~~~~~~~~~~~~\n",
      "Running tests\n",
      "\n",
      "---------------------------------------------------------------------\n",
      "Test summary\n",
      "    Passed: 1\n",
      "    Failed: 0\n",
      "[ooooooooook] 100.0% passed\n",
      "\n",
      "~~~~~~~~~~~~~~~~~~~~~~~~~~~~~~~~~~~~~~~~~~~~~~~~~~~~~~~~~~~~~~~~~~~~~\n",
      "Running tests\n",
      "\n",
      "---------------------------------------------------------------------\n",
      "Test summary\n",
      "    Passed: 2\n",
      "    Failed: 0\n",
      "[ooooooooook] 100.0% passed\n",
      "\n",
      "~~~~~~~~~~~~~~~~~~~~~~~~~~~~~~~~~~~~~~~~~~~~~~~~~~~~~~~~~~~~~~~~~~~~~\n",
      "Running tests\n",
      "\n",
      "---------------------------------------------------------------------\n",
      "Test summary\n",
      "    Passed: 3\n",
      "    Failed: 0\n",
      "[ooooooooook] 100.0% passed\n",
      "\n",
      "~~~~~~~~~~~~~~~~~~~~~~~~~~~~~~~~~~~~~~~~~~~~~~~~~~~~~~~~~~~~~~~~~~~~~\n",
      "Running tests\n",
      "\n",
      "---------------------------------------------------------------------\n",
      "Test summary\n",
      "    Passed: 2\n",
      "    Failed: 0\n",
      "[ooooooooook] 100.0% passed\n",
      "\n",
      "~~~~~~~~~~~~~~~~~~~~~~~~~~~~~~~~~~~~~~~~~~~~~~~~~~~~~~~~~~~~~~~~~~~~~\n",
      "Running tests\n",
      "\n",
      "---------------------------------------------------------------------\n",
      "Test summary\n",
      "    Passed: 1\n",
      "    Failed: 0\n",
      "[ooooooooook] 100.0% passed\n",
      "\n",
      "~~~~~~~~~~~~~~~~~~~~~~~~~~~~~~~~~~~~~~~~~~~~~~~~~~~~~~~~~~~~~~~~~~~~~\n",
      "Running tests\n",
      "\n",
      "---------------------------------------------------------------------\n",
      "Test summary\n",
      "    Passed: 2\n",
      "    Failed: 0\n",
      "[ooooooooook] 100.0% passed\n",
      "\n",
      "~~~~~~~~~~~~~~~~~~~~~~~~~~~~~~~~~~~~~~~~~~~~~~~~~~~~~~~~~~~~~~~~~~~~~\n",
      "Running tests\n",
      "\n",
      "---------------------------------------------------------------------\n",
      "Test summary\n",
      "    Passed: 3\n",
      "    Failed: 0\n",
      "[ooooooooook] 100.0% passed\n",
      "\n",
      "~~~~~~~~~~~~~~~~~~~~~~~~~~~~~~~~~~~~~~~~~~~~~~~~~~~~~~~~~~~~~~~~~~~~~\n",
      "Running tests\n",
      "\n",
      "---------------------------------------------------------------------\n",
      "Test summary\n",
      "    Passed: 1\n",
      "    Failed: 0\n",
      "[ooooooooook] 100.0% passed\n",
      "\n",
      "~~~~~~~~~~~~~~~~~~~~~~~~~~~~~~~~~~~~~~~~~~~~~~~~~~~~~~~~~~~~~~~~~~~~~\n",
      "Running tests\n",
      "\n",
      "---------------------------------------------------------------------\n",
      "Test summary\n",
      "    Passed: 2\n",
      "    Failed: 0\n",
      "[ooooooooook] 100.0% passed\n",
      "\n",
      "~~~~~~~~~~~~~~~~~~~~~~~~~~~~~~~~~~~~~~~~~~~~~~~~~~~~~~~~~~~~~~~~~~~~~\n",
      "Running tests\n",
      "\n",
      "---------------------------------------------------------------------\n",
      "Test summary\n",
      "    Passed: 3\n",
      "    Failed: 0\n",
      "[ooooooooook] 100.0% passed\n",
      "\n",
      "Finished running all tests.\n"
     ]
    }
   ],
   "source": [
    "# For your convenience, you can run this cell to run all the tests at once!\n",
    "import os\n",
    "print(\"Running all tests...\")\n",
    "_ = [ok.grade(q[:-3]) for q in os.listdir(\"tests\") if q.startswith('q') and len(q) <= 10]\n",
    "print(\"Finished running all tests.\")"
   ]
  },
  {
   "cell_type": "code",
   "execution_count": null,
   "metadata": {},
   "outputs": [],
   "source": []
  }
 ],
 "metadata": {
  "history": [
   {
    "code": "# Initialize OK\nfrom client.api.notebook import Notebook\nok = Notebook('project1.ok')",
    "id": "291ed46a06c14bb48c1943b160cf3307",
    "idx": 0,
    "time": "2021-02-14T01:33:53.565Z",
    "type": "execution"
   },
   {
    "id": "291ed46a06c14bb48c1943b160cf3307",
    "time": "2021-02-14T01:33:54.024Z",
    "type": "completion"
   },
   {
    "code": "from datascience import *\nimport numpy as np\n\n%matplotlib inline\nimport matplotlib.pyplot as plots\nplots.style.use('fivethirtyeight')\n\nfrom client.api.notebook import *\ndef new_save_notebook(self):\n    \"\"\" Saves the current notebook by\n        injecting JavaScript to save to .ipynb file.\n    \"\"\"\n    try:\n        from IPython.display import display, Javascript\n    except ImportError:\n        log.warning(\"Could not import IPython Display Function\")\n        print(\"Make sure to save your notebook before sending it to OK!\")\n        return\n\n    if self.mode == \"jupyter\":\n        display(Javascript('IPython.notebook.save_checkpoint();'))\n        display(Javascript('IPython.notebook.save_notebook();'))\n    elif self.mode == \"jupyterlab\":\n        display(Javascript('document.querySelector(\\'[data-command=\"docmanager:save\"]\\').click();'))   \n\n    print('Saving notebook...', end=' ')\n\n    ipynbs = [path for path in self.assignment.src\n              if os.path.splitext(path)[1] == '.ipynb']\n    # Wait for first .ipynb to save\n    if ipynbs:\n        if wait_for_save(ipynbs[0]):\n            print(\"Saved '{}'.\".format(ipynbs[0]))\n        else:\n            log.warning(\"Timed out waiting for IPython save\")\n            print(\"Could not automatically save \\'{}\\'\".format(ipynbs[0]))\n            print(\"Make sure your notebook\"\n                  \" is correctly named and saved before submitting to OK!\".format(ipynbs[0]))\n            return False                \n    else:\n        print(\"No valid file sources found\")\n    return True\n\ndef wait_for_save(filename, timeout=600):\n    \"\"\"Waits for FILENAME to update, waiting up to TIMEOUT seconds.\n    Returns True if a save was detected, and False otherwise.\n    \"\"\"\n    modification_time = os.path.getmtime(filename)\n    start_time = time.time()\n    while time.time() < start_time + timeout:\n        if (os.path.getmtime(filename) > modification_time and\n            os.path.getsize(filename) > 0):\n            return True\n        time.sleep(0.2)\n    print(\"\\nERROR!\\n YOUR SUBMISSION DID NOT GO THROUGH. PLEASE TRY AGAIN. IF THIS PROBLEM PERSISTS POST ON PIAZZA RIGHT AWAY.\\n ERROR!\" + \"\\n\"*20)\n    return False\n\nNotebook.save_notebook = new_save_notebook\n\nfrom client.api.notebook import Notebook\nok = Notebook('project1.ok')",
    "id": "eb3b057342004ec88eba06e9a634ae07",
    "idx": 4,
    "time": "2021-02-14T01:36:58.201Z",
    "type": "execution"
   },
   {
    "id": "eb3b057342004ec88eba06e9a634ae07",
    "time": "2021-02-14T01:37:00.378Z",
    "type": "completion"
   },
   {
    "code": "from datascience import *\nimport numpy as np\n\n%matplotlib inline\nimport matplotlib.pyplot as plots\nplots.style.use('fivethirtyeight')\n\nfrom client.api.notebook import *\ndef new_save_notebook(self):\n    \"\"\" Saves the current notebook by\n        injecting JavaScript to save to .ipynb file.\n    \"\"\"\n    try:\n        from IPython.display import display, Javascript\n    except ImportError:\n        log.warning(\"Could not import IPython Display Function\")\n        print(\"Make sure to save your notebook before sending it to OK!\")\n        return\n\n    if self.mode == \"jupyter\":\n        display(Javascript('IPython.notebook.save_checkpoint();'))\n        display(Javascript('IPython.notebook.save_notebook();'))\n    elif self.mode == \"jupyterlab\":\n        display(Javascript('document.querySelector(\\'[data-command=\"docmanager:save\"]\\').click();'))   \n\n    print('Saving notebook...', end=' ')\n\n    ipynbs = [path for path in self.assignment.src\n              if os.path.splitext(path)[1] == '.ipynb']\n    # Wait for first .ipynb to save\n    if ipynbs:\n        if wait_for_save(ipynbs[0]):\n            print(\"Saved '{}'.\".format(ipynbs[0]))\n        else:\n            log.warning(\"Timed out waiting for IPython save\")\n            print(\"Could not automatically save \\'{}\\'\".format(ipynbs[0]))\n            print(\"Make sure your notebook\"\n                  \" is correctly named and saved before submitting to OK!\".format(ipynbs[0]))\n            return False                \n    else:\n        print(\"No valid file sources found\")\n    return True\n\ndef wait_for_save(filename, timeout=600):\n    \"\"\"Waits for FILENAME to update, waiting up to TIMEOUT seconds.\n    Returns True if a save was detected, and False otherwise.\n    \"\"\"\n    modification_time = os.path.getmtime(filename)\n    start_time = time.time()\n    while time.time() < start_time + timeout:\n        if (os.path.getmtime(filename) > modification_time and\n            os.path.getsize(filename) > 0):\n            return True\n        time.sleep(0.2)\n    print(\"\\nERROR!\\n YOUR SUBMISSION DID NOT GO THROUGH. PLEASE TRY AGAIN. IF THIS PROBLEM PERSISTS POST ON PIAZZA RIGHT AWAY.\\n ERROR!\" + \"\\n\"*20)\n    return False\n\nNotebook.save_notebook = new_save_notebook\n\nfrom client.api.notebook import Notebook\nok = Notebook('project1.ok')",
    "id": "eb3b057342004ec88eba06e9a634ae07",
    "idx": 4,
    "time": "2021-02-14T01:37:16.179Z",
    "type": "execution"
   },
   {
    "id": "eb3b057342004ec88eba06e9a634ae07",
    "time": "2021-02-14T01:37:16.367Z",
    "type": "completion"
   },
   {
    "code": "_ = ok.submit()",
    "id": "08879b0fa3a7421183eadd30be1e7031",
    "idx": 6,
    "time": "2021-02-14T01:37:20.431Z",
    "type": "execution"
   },
   {
    "id": "08879b0fa3a7421183eadd30be1e7031",
    "time": "2021-02-14T01:37:21.223Z",
    "type": "completion"
   },
   {
    "code": "# Initialize OK\nfrom client.api.notebook import Notebook\nok = Notebook('project1.ok')",
    "id": "3fda58d7a5c148299d022d5344ea5d54",
    "idx": 0,
    "time": "2021-02-14T09:34:53.300Z",
    "type": "execution"
   },
   {
    "id": "3fda58d7a5c148299d022d5344ea5d54",
    "time": "2021-02-14T09:34:53.673Z",
    "type": "completion"
   },
   {
    "code": "from datascience import *\nimport numpy as np\n\n%matplotlib inline\nimport matplotlib.pyplot as plots\nplots.style.use('fivethirtyeight')\n\nfrom client.api.notebook import *\ndef new_save_notebook(self):\n    \"\"\" Saves the current notebook by\n        injecting JavaScript to save to .ipynb file.\n    \"\"\"\n    try:\n        from IPython.display import display, Javascript\n    except ImportError:\n        log.warning(\"Could not import IPython Display Function\")\n        print(\"Make sure to save your notebook before sending it to OK!\")\n        return\n\n    if self.mode == \"jupyter\":\n        display(Javascript('IPython.notebook.save_checkpoint();'))\n        display(Javascript('IPython.notebook.save_notebook();'))\n    elif self.mode == \"jupyterlab\":\n        display(Javascript('document.querySelector(\\'[data-command=\"docmanager:save\"]\\').click();'))   \n\n    print('Saving notebook...', end=' ')\n\n    ipynbs = [path for path in self.assignment.src\n              if os.path.splitext(path)[1] == '.ipynb']\n    # Wait for first .ipynb to save\n    if ipynbs:\n        if wait_for_save(ipynbs[0]):\n            print(\"Saved '{}'.\".format(ipynbs[0]))\n        else:\n            log.warning(\"Timed out waiting for IPython save\")\n            print(\"Could not automatically save \\'{}\\'\".format(ipynbs[0]))\n            print(\"Make sure your notebook\"\n                  \" is correctly named and saved before submitting to OK!\".format(ipynbs[0]))\n            return False                \n    else:\n        print(\"No valid file sources found\")\n    return True\n\ndef wait_for_save(filename, timeout=600):\n    \"\"\"Waits for FILENAME to update, waiting up to TIMEOUT seconds.\n    Returns True if a save was detected, and False otherwise.\n    \"\"\"\n    modification_time = os.path.getmtime(filename)\n    start_time = time.time()\n    while time.time() < start_time + timeout:\n        if (os.path.getmtime(filename) > modification_time and\n            os.path.getsize(filename) > 0):\n            return True\n        time.sleep(0.2)\n    print(\"\\nERROR!\\n YOUR SUBMISSION DID NOT GO THROUGH. PLEASE TRY AGAIN. IF THIS PROBLEM PERSISTS POST ON PIAZZA RIGHT AWAY.\\n ERROR!\" + \"\\n\"*20)\n    return False\n\nNotebook.save_notebook = new_save_notebook\n\nfrom client.api.notebook import Notebook\nok = Notebook('project1.ok')",
    "id": "788b87cdf9414cd9a4094717fc1d4d61",
    "idx": 4,
    "time": "2021-02-14T09:35:06.198Z",
    "type": "execution"
   },
   {
    "id": "788b87cdf9414cd9a4094717fc1d4d61",
    "time": "2021-02-14T09:35:08.225Z",
    "type": "completion"
   },
   {
    "code": "population = Table.read_table('population.csv').where(\"time\", are.below(2021))\npopulation.show(3)",
    "id": "7cefd461f756493785bbebf4969d040a",
    "idx": 9,
    "time": "2021-02-14T09:35:46.169Z",
    "type": "execution"
   },
   {
    "id": "7cefd461f756493785bbebf4969d040a",
    "time": "2021-02-14T09:35:46.377Z",
    "type": "completion"
   },
   {
    "code": "h_pop = population.where(\"geo\", \"HTI\")\nh_pop",
    "id": "c1fb1489a8a9485f835e04b02c9e6ea0",
    "idx": 12,
    "time": "2021-02-14T09:37:53.120Z",
    "type": "execution"
   },
   {
    "id": "c1fb1489a8a9485f835e04b02c9e6ea0",
    "time": "2021-02-14T09:37:53.268Z",
    "type": "completion"
   },
   {
    "code": "h_pop = population.where(\"geo\", \"hti\")\nh_pop",
    "id": "c1fb1489a8a9485f835e04b02c9e6ea0",
    "idx": 12,
    "time": "2021-02-14T09:38:16.317Z",
    "type": "execution"
   },
   {
    "id": "c1fb1489a8a9485f835e04b02c9e6ea0",
    "time": "2021-02-14T09:38:16.460Z",
    "type": "completion"
   },
   {
    "code": "h_pop = population.where(\"geo\", \"hti\").select(\"time\", \"population_total\")\nh_pop",
    "id": "c1fb1489a8a9485f835e04b02c9e6ea0",
    "idx": 12,
    "time": "2021-02-14T09:38:38.423Z",
    "type": "execution"
   },
   {
    "id": "c1fb1489a8a9485f835e04b02c9e6ea0",
    "time": "2021-02-14T09:38:38.570Z",
    "type": "completion"
   },
   {
    "code": "h_pop = population.where(\"geo\", \"hti\")\nh_pop",
    "id": "c1fb1489a8a9485f835e04b02c9e6ea0",
    "idx": 12,
    "time": "2021-02-14T09:38:48.144Z",
    "type": "execution"
   },
   {
    "id": "c1fb1489a8a9485f835e04b02c9e6ea0",
    "time": "2021-02-14T09:38:48.292Z",
    "type": "completion"
   },
   {
    "code": "h_pop = population.where(\"geo\", \"hti\").select(\"time\", \"population_total\")\nh_pop",
    "id": "c1fb1489a8a9485f835e04b02c9e6ea0",
    "idx": 12,
    "time": "2021-02-14T09:38:53.099Z",
    "type": "execution"
   },
   {
    "id": "c1fb1489a8a9485f835e04b02c9e6ea0",
    "time": "2021-02-14T09:38:53.242Z",
    "type": "completion"
   },
   {
    "code": "h_pop = population.where(\"geo\", \"hti\").select(\"time\", \"population_total\").where(\"time\", are.between_or_equal_to(1970, 2020))\nh_pop",
    "id": "c1fb1489a8a9485f835e04b02c9e6ea0",
    "idx": 12,
    "time": "2021-02-14T09:40:15.221Z",
    "type": "execution"
   },
   {
    "id": "c1fb1489a8a9485f835e04b02c9e6ea0",
    "time": "2021-02-14T09:40:15.372Z",
    "type": "completion"
   },
   {
    "code": "ok.grade(\"q1_1\");",
    "id": "0b9371d6592046a5bb984e225f9da397",
    "idx": 13,
    "time": "2021-02-14T09:40:26.374Z",
    "type": "execution"
   },
   {
    "id": "0b9371d6592046a5bb984e225f9da397",
    "time": "2021-02-14T09:40:26.621Z",
    "type": "completion"
   },
   {
    "code": "h_pop.set_format('population_total', NumberFormatter)\n\ntens = np.arange(1970, 2021, 10) # 1970, 1980, 1990, ...\nh_decade = h_pop.sort('time').where('time', are.contained_in(tens))\nh_decade.show()",
    "id": "1267ac95e65c4bbb816a3684f5c3fe9e",
    "idx": 15,
    "time": "2021-02-14T09:41:01.546Z",
    "type": "execution"
   },
   {
    "id": "1267ac95e65c4bbb816a3684f5c3fe9e",
    "time": "2021-02-14T09:41:01.644Z",
    "type": "completion"
   },
   {
    "code": "initial = h_decades.take(np.arange(5))",
    "id": "8fc3edd6ff3c41489d94e52793d848be",
    "idx": 17,
    "time": "2021-02-14T09:45:11.895Z",
    "type": "execution"
   },
   {
    "id": "8fc3edd6ff3c41489d94e52793d848be",
    "time": "2021-02-14T09:45:12.211Z",
    "type": "completion"
   },
   {
    "code": "h_pop.set_format('population_total', NumberFormatter)\n\ntens = np.arange(1970, 2021, 10) # 1970, 1980, 1990, ...\nh_decade = h_pop.sort('time').where('time', are.contained_in(tens))\nh_decade.show()",
    "id": "1267ac95e65c4bbb816a3684f5c3fe9e",
    "idx": 15,
    "time": "2021-02-14T09:45:19.027Z",
    "type": "execution"
   },
   {
    "id": "1267ac95e65c4bbb816a3684f5c3fe9e",
    "time": "2021-02-14T09:45:19.125Z",
    "type": "completion"
   },
   {
    "code": "initial = h_decade.take(np.arange(5))",
    "id": "8fc3edd6ff3c41489d94e52793d848be",
    "idx": 17,
    "time": "2021-02-14T09:45:22.616Z",
    "type": "execution"
   },
   {
    "id": "8fc3edd6ff3c41489d94e52793d848be",
    "time": "2021-02-14T09:45:22.696Z",
    "type": "completion"
   },
   {
    "code": "initial = h_decade.take(np.arange(5))",
    "id": "8fc3edd6ff3c41489d94e52793d848be",
    "idx": 17,
    "time": "2021-02-14T09:45:25.360Z",
    "type": "execution"
   },
   {
    "id": "8fc3edd6ff3c41489d94e52793d848be",
    "time": "2021-02-14T09:45:25.463Z",
    "type": "completion"
   },
   {
    "code": "initial = h_decade.take(0)",
    "id": "8fc3edd6ff3c41489d94e52793d848be",
    "idx": 17,
    "time": "2021-02-14T09:45:39.634Z",
    "type": "execution"
   },
   {
    "id": "8fc3edd6ff3c41489d94e52793d848be",
    "time": "2021-02-14T09:45:39.721Z",
    "type": "completion"
   },
   {
    "code": "initial = h_decade.take(np.arange(5))\ninitial",
    "id": "8fc3edd6ff3c41489d94e52793d848be",
    "idx": 17,
    "time": "2021-02-14T09:45:56.227Z",
    "type": "execution"
   },
   {
    "id": "8fc3edd6ff3c41489d94e52793d848be",
    "time": "2021-02-14T09:45:56.323Z",
    "type": "completion"
   },
   {
    "code": "initial = h_decade.take(np.arange(5))\nchanged = h_decade.take(np.arange(1,6))\n\ngrowth_rates = ((changed/initial)**0.1)-1\n\nh_1970_through_2010 = h_decade.where('time', are.below_or_equal_to(2010)) \nh_decade_growth = h_1970_through_2010.with_column('annual_growth', growth_rates)\n# Don't change this line!\nh_decade_growth.set_format('annual_growth', PercentFormatter)",
    "id": "8985a8150785429f868c07d8283d7c04",
    "idx": 18,
    "time": "2021-02-14T09:46:20.976Z",
    "type": "execution"
   },
   {
    "id": "8985a8150785429f868c07d8283d7c04",
    "time": "2021-02-14T09:46:21.070Z",
    "type": "completion"
   },
   {
    "code": "initial = h_decade.take(np.arange(5))\n\nchanged = h_decade.take(np.arange(1,6))\nchanged",
    "id": "8fc3edd6ff3c41489d94e52793d848be",
    "idx": 17,
    "time": "2021-02-14T09:47:26.410Z",
    "type": "execution"
   },
   {
    "id": "8fc3edd6ff3c41489d94e52793d848be",
    "time": "2021-02-14T09:47:26.509Z",
    "type": "completion"
   },
   {
    "code": "initial = h_decade.take(np.arange(5)).drop('time')\nchanged = h_decade.take(np.arange(1,6)).drop('time')\n\ngrowth_rates = ((changed/initial)**0.1)-1\n\nh_1970_through_2010 = h_decade.where('time', are.below_or_equal_to(2010)) \nh_decade_growth = h_1970_through_2010.with_column('annual_growth', growth_rates)\n# Don't change this line!\nh_decade_growth.set_format('annual_growth', PercentFormatter)",
    "id": "8985a8150785429f868c07d8283d7c04",
    "idx": 18,
    "time": "2021-02-14T09:48:25.241Z",
    "type": "execution"
   },
   {
    "id": "8985a8150785429f868c07d8283d7c04",
    "time": "2021-02-14T09:48:25.380Z",
    "type": "completion"
   },
   {
    "code": "initial = h_decade.take(np.arange(5)).column('population_total')\n\nchanged = h_decade.take(np.arange(1,6)).column('population_total')\nchanged",
    "id": "8fc3edd6ff3c41489d94e52793d848be",
    "idx": 17,
    "time": "2021-02-14T09:49:09.747Z",
    "type": "execution"
   },
   {
    "id": "8fc3edd6ff3c41489d94e52793d848be",
    "time": "2021-02-14T09:49:09.849Z",
    "type": "completion"
   },
   {
    "code": "initial = h_decade.take(np.arange(5)).column('population_total')\nchanged = h_decade.take(np.arange(1,6)).column('population_total')\n\ngrowth_rates = ((changed/initial)**0.1)-1\n\nh_1970_through_2010 = h_decade.where('time', are.below_or_equal_to(2010)) \nh_decade_growth = h_1970_through_2010.with_column('annual_growth', growth_rates)\n# Don't change this line!\nh_decade_growth.set_format('annual_growth', PercentFormatter)",
    "id": "8985a8150785429f868c07d8283d7c04",
    "idx": 18,
    "time": "2021-02-14T09:49:23.586Z",
    "type": "execution"
   },
   {
    "id": "8985a8150785429f868c07d8283d7c04",
    "time": "2021-02-14T09:49:23.688Z",
    "type": "completion"
   },
   {
    "code": "initial = h_decade.take(np.arange(5)).column('population_total')\ninitial\nchanged = h_decade.take(np.arange(1,6)).column('population_total')\nchanged",
    "id": "8fc3edd6ff3c41489d94e52793d848be",
    "idx": 17,
    "time": "2021-02-14T09:49:36.980Z",
    "type": "execution"
   },
   {
    "id": "8fc3edd6ff3c41489d94e52793d848be",
    "time": "2021-02-14T09:49:37.071Z",
    "type": "completion"
   },
   {
    "code": "initial = h_decade.take(np.arange(5)).column('population_total')\nchanged = h_decade.take(np.arange(1,6)).column('population_total')\n\ngrowth_rates = ((changed/initial)**0.1)-1\n\nh_1970_through_2010 = h_decade.where('time', are.below_or_equal_to(2010)) \nh_decade_growth = h_1970_through_2010.with_column('annual_growth', growth_rates)\n# Don't change this line!\nh_decade_growth.set_format('annual_growth', PercentFormatter)",
    "id": "8985a8150785429f868c07d8283d7c04",
    "idx": 17,
    "time": "2021-02-14T09:49:55.311Z",
    "type": "execution"
   },
   {
    "id": "8985a8150785429f868c07d8283d7c04",
    "time": "2021-02-14T09:49:55.408Z",
    "type": "completion"
   },
   {
    "code": "ok.grade(\"q1_2\");",
    "id": "441b32d2b89d426f9e4789aab7eaa49b",
    "idx": 18,
    "time": "2021-02-14T09:50:16.832Z",
    "type": "execution"
   },
   {
    "id": "441b32d2b89d426f9e4789aab7eaa49b",
    "time": "2021-02-14T09:50:17.029Z",
    "type": "completion"
   },
   {
    "code": "life_expectancy = Table.read_table('life_expectancy.csv').where('time', are.below(2021))\nchild_mortality = Table.read_table('child_mortality.csv').relabel(2, 'child_mortality_under_5_per_1000_born').where('time', are.below(2021))\nfertility = Table.read_table('fertility.csv').where('time', are.below(2021))",
    "id": "c10e70240e844e01883fd5357146492d",
    "idx": 20,
    "time": "2021-02-14T09:50:43.820Z",
    "type": "execution"
   },
   {
    "id": "c10e70240e844e01883fd5357146492d",
    "time": "2021-02-14T09:50:44.256Z",
    "type": "completion"
   },
   {
    "code": "life_expectancy = Table.read_table('life_expectancy.csv').where('time', are.below(2021))\nchild_mortality = Table.read_table('child_mortality.csv').relabel(2, 'child_mortality_under_5_per_1000_born').where('time', are.below(2021))\nfertility = Table.read_table('fertility.csv').where('time', are.below(2021))",
    "id": "c10e70240e844e01883fd5357146492d",
    "idx": 20,
    "time": "2021-02-14T09:51:10.196Z",
    "type": "execution"
   },
   {
    "id": "c10e70240e844e01883fd5357146492d",
    "time": "2021-02-14T09:51:10.623Z",
    "type": "completion"
   },
   {
    "code": "life_expectancy",
    "id": "d7378f57e3eb47b396af973681529124",
    "idx": 23,
    "time": "2021-02-14T09:51:17.350Z",
    "type": "execution"
   },
   {
    "id": "d7378f57e3eb47b396af973681529124",
    "time": "2021-02-14T09:51:17.447Z",
    "type": "completion"
   },
   {
    "code": "child_mortality",
    "id": "40afe415e3e946a6a047778f2e61e67f",
    "idx": 24,
    "time": "2021-02-14T09:51:19.888Z",
    "type": "execution"
   },
   {
    "id": "40afe415e3e946a6a047778f2e61e67f",
    "time": "2021-02-14T09:51:19.982Z",
    "type": "completion"
   },
   {
    "code": "fertility",
    "id": "8eafa47aa4084a28a94e61f2dcb54317",
    "idx": 25,
    "time": "2021-02-14T09:51:22.620Z",
    "type": "execution"
   },
   {
    "id": "8eafa47aa4084a28a94e61f2dcb54317",
    "time": "2021-02-14T09:51:22.719Z",
    "type": "completion"
   },
   {
    "code": "#Fill in code here\nlife_expectancy.where(\"geo\", 'hti')",
    "id": "bd93f4213bfa420ab6f408aa25aa5ce8",
    "idx": 27,
    "time": "2021-02-14T09:52:57.285Z",
    "type": "execution"
   },
   {
    "id": "bd93f4213bfa420ab6f408aa25aa5ce8",
    "time": "2021-02-14T09:52:57.431Z",
    "type": "completion"
   },
   {
    "code": "#Fill in code here\nlife_expectancy.where(\"geo\", 'hti').drop(\"geo\")",
    "id": "bd93f4213bfa420ab6f408aa25aa5ce8",
    "idx": 27,
    "time": "2021-02-14T09:53:10.264Z",
    "type": "execution"
   },
   {
    "id": "bd93f4213bfa420ab6f408aa25aa5ce8",
    "time": "2021-02-14T09:53:10.426Z",
    "type": "completion"
   },
   {
    "code": "#Fill in code here\nlife_expectancy.where(\"geo\", 'hti').drop(\"geo\").where('time', are.above_or_equal_to(1970))",
    "id": "bd93f4213bfa420ab6f408aa25aa5ce8",
    "idx": 27,
    "time": "2021-02-14T09:53:38.303Z",
    "type": "execution"
   },
   {
    "id": "bd93f4213bfa420ab6f408aa25aa5ce8",
    "time": "2021-02-14T09:53:38.463Z",
    "type": "completion"
   },
   {
    "code": "#Fill in code here\nlife_expectancy.where(\"geo\", 'hti').drop(\"geo\").where('time', are.above_or_equal_to(1970)).plot(\"time\", \"life_expectancy_years\")",
    "id": "bd93f4213bfa420ab6f408aa25aa5ce8",
    "idx": 27,
    "time": "2021-02-14T09:54:14.649Z",
    "type": "execution"
   },
   {
    "id": "bd93f4213bfa420ab6f408aa25aa5ce8",
    "time": "2021-02-14T09:54:15.160Z",
    "type": "completion"
   },
   {
    "code": "def fertility_over_time(country, start):\n    \"\"\"Create a two-column table that describes a country's total fertility rate each year.\"\"\"\n    country_fertility = fertility.where(\"geo\", country).drop('geo')\n    country_fertility_after_start = country_fertility.where(\"time\", are.above_or_equal_to(country))\n    cleaned_table = country_fertility_after_start.relabel(\"time\", \"Year\",\n                                                          'children_per_woman_total_fertility', \"Chilren per woman\"\n\nhaiti_code = \"hti\"\nfertility_over_time(haiti_code, 1970).plot(0, 1) # You should *not* change this line.",
    "id": "640a2c0a12504b0ba46f9c3e1ae37f53",
    "idx": 32,
    "time": "2021-02-14T10:20:34.969Z",
    "type": "execution"
   },
   {
    "id": "640a2c0a12504b0ba46f9c3e1ae37f53",
    "time": "2021-02-14T10:20:35.065Z",
    "type": "completion"
   },
   {
    "code": "def fertility_over_time(country, start):\n    \"\"\"Create a two-column table that describes a country's total fertility rate each year.\"\"\"\n    country_fertility = fertility.where(\"geo\", country).drop('geo')\n    country_fertility_after_start = country_fertility.where(\"time\", are.above_or_equal_to(country))\n    cleaned_table = country_fertility_after_start.relabel(\"time\", \"Year\",\n                                                          'children_per_woman_total_fertility', \"Chilren per woman\"\n\nhaiti_code = \"hti\"\nfertility_over_time(haiti_code, 1970).plot(0, 1) # You should *not* change this line.",
    "id": "640a2c0a12504b0ba46f9c3e1ae37f53",
    "idx": 32,
    "time": "2021-02-14T10:20:50.687Z",
    "type": "execution"
   },
   {
    "id": "640a2c0a12504b0ba46f9c3e1ae37f53",
    "time": "2021-02-14T10:20:50.880Z",
    "type": "completion"
   },
   {
    "code": "def fertility_over_time(country, start):\n    \"\"\"Create a two-column table that describes a country's total fertility rate each year.\"\"\"\n    country_fertility = fertility.where(\"geo\", country).drop('geo')\n    country_fertility_after_start = country_fertility.where(\"time\", are.above_or_equal_to(country))\n    cleaned_table = country_fertility_after_start.relabel(\"time\", \"Year\",\n                                                          'children_per_woman_total_fertility', \"Chilren per woman\"\n\nhaiti_code = hti\nfertility_over_time(haiti_code, 1970).plot(0, 1) # You should *not* change this line.",
    "id": "640a2c0a12504b0ba46f9c3e1ae37f53",
    "idx": 32,
    "time": "2021-02-14T10:21:03.082Z",
    "type": "execution"
   },
   {
    "id": "640a2c0a12504b0ba46f9c3e1ae37f53",
    "time": "2021-02-14T10:21:03.172Z",
    "type": "completion"
   },
   {
    "code": "def fertility_over_time(country, start):\n    \"\"\"Create a two-column table that describes a country's total fertility rate each year.\"\"\"\n    country_fertility = fertility.where(\"geo\", country).drop('geo')\n    country_fertility_after_start = country_fertility.where(\"time\", are.above_or_equal_to(country))\n    cleaned_table = country_fertility_after_start.relabel(\"time\", \"Year\",\n                                                          'children_per_woman_total_fertility', \"Chilren per woman\"\n\nhaiti_code = \"hti\"\nfertility_over_time(haiti_code, 1970).plot(0, 1) # You should *not* change this line.",
    "id": "640a2c0a12504b0ba46f9c3e1ae37f53",
    "idx": 32,
    "time": "2021-02-14T10:21:37.692Z",
    "type": "execution"
   },
   {
    "id": "640a2c0a12504b0ba46f9c3e1ae37f53",
    "time": "2021-02-14T10:21:37.786Z",
    "type": "completion"
   },
   {
    "code": "def fertility_over_time(country, start):\n    \"\"\"Create a two-column table that describes a country's total fertility rate each year.\"\"\"\n    country_fertility = fertility.where(\"geo\", country).drop('geo')\n    country_fertility_after_start = country_fertility.where(\"time\", are.above_or_equal_to(country))\n    cleaned_table = country_fertility_after_start.relabel(\"time\", \"Year\",\n                                                          'children_per_woman_total_fertility', \"Chilren per woman\"\n\nhaiti_code = \"hti\"\nfertility_over_time(haiti_code, 1970).plot(0, 1) # You should *not* change this line.",
    "id": "640a2c0a12504b0ba46f9c3e1ae37f53",
    "idx": 32,
    "time": "2021-02-14T10:21:47.762Z",
    "type": "execution"
   },
   {
    "id": "640a2c0a12504b0ba46f9c3e1ae37f53",
    "time": "2021-02-14T10:21:47.845Z",
    "type": "completion"
   },
   {
    "code": "def fertility_over_time(country, start):\n    \"\"\"Create a two-column table that describes a country's total fertility rate each year.\"\"\"\n    country_fertility = fertility.where(\"geo\", country).drop('geo')\n    country_fertility_after_start = country_fertility.where(\"time\", are.above_or_equal_to(country))\n    cleaned_table = country_fertility_after_start.relabel(\"time\", \"Year\",\n                                                          'children_per_woman_total_fertility', \"Chilren per woman\"\n\nlaiti_code = \"hti\"\nfertility_over_time(haiti_code, 1970).plot(0, 1) # You should *not* change this line.",
    "id": "640a2c0a12504b0ba46f9c3e1ae37f53",
    "idx": 32,
    "time": "2021-02-14T10:21:52.597Z",
    "type": "execution"
   },
   {
    "id": "640a2c0a12504b0ba46f9c3e1ae37f53",
    "time": "2021-02-14T10:21:52.691Z",
    "type": "completion"
   },
   {
    "code": "def fertility_over_time(country, start):\n    \"\"\"Create a two-column table that describes a country's total fertility rate each year.\"\"\"\n    country_fertility = fertility.where(\"geo\", country).drop('geo')\n    country_fertility_after_start = country_fertility.where(\"time\", are.above_or_equal_to(country))\n    cleaned_table = country_fertility_after_start.relabel(\"time\", \"Year\",\n                                                          'children_per_woman_total_fertility', \"Chilren per woman\"\n\nhaiti_code = \"hti\"\nfertility_over_time(haiti_code, 1970).plot(0, 1) # You should *not* change this line.",
    "id": "640a2c0a12504b0ba46f9c3e1ae37f53",
    "idx": 32,
    "time": "2021-02-14T10:21:56.107Z",
    "type": "execution"
   },
   {
    "id": "640a2c0a12504b0ba46f9c3e1ae37f53",
    "time": "2021-02-14T10:21:56.202Z",
    "type": "completion"
   },
   {
    "code": "def fertility_over_time(str(country), start):\n    \"\"\"Create a two-column table that describes a country's total fertility rate each year.\"\"\"\n    country_fertility = fertility.where(\"geo\", country).drop(\"geo\")\n    country_fertility_after_start = country_fertility.where(\"time\", are.above_or_equal_to(country))\n    cleaned_table = country_fertility_after_start.relabel(\"time\", \"Year\",\n                                                          'children_per_woman_total_fertility', \"Chilren per woman\"\n\nhaiti_code = hti\nfertility_over_time(haiti_code, 1970).plot(0, 1) # You should *not* change this line.",
    "id": "640a2c0a12504b0ba46f9c3e1ae37f53",
    "idx": 32,
    "time": "2021-02-14T10:22:49.827Z",
    "type": "execution"
   },
   {
    "id": "640a2c0a12504b0ba46f9c3e1ae37f53",
    "time": "2021-02-14T10:22:49.924Z",
    "type": "completion"
   },
   {
    "code": "def fertility_over_time(country, start):\n    \"\"\"Create a two-column table that describes a country's total fertility rate each year.\"\"\"\n    country_fertility = fertility.where(\"geo\", country).drop(\"geo\")\n    country_fertility_after_start = country_fertility.where(\"time\", are.above_or_equal_to(country))\n    cleaned_table = country_fertility_after_start.relabel(\"time\", \"Year\",\n                                                          'children_per_woman_total_fertility', \"Chilren per woman\"\n\nhaiti_code = hti\nfertility_over_time(haiti_code, 1970).plot(0, 1) # You should *not* change this line.",
    "id": "640a2c0a12504b0ba46f9c3e1ae37f53",
    "idx": 32,
    "time": "2021-02-14T10:23:00.507Z",
    "type": "execution"
   },
   {
    "id": "640a2c0a12504b0ba46f9c3e1ae37f53",
    "time": "2021-02-14T10:23:00.600Z",
    "type": "completion"
   },
   {
    "code": "def fertility_over_time(country, start):\n    \"\"\"Create a two-column table that describes a country's total fertility rate each year.\"\"\"\n    country_fertility = fertility.where(\"geo\", country).drop(\"geo\")\n    country_fertility_after_start = country_fertility.where(\"time\", are.above_or_equal_to(country))\n    cleaned_table = country_fertility_after_start.relabel(\"time\", \"Year\",\n                                                          'children_per_woman_total_fertility', \"Chilren per woman\"\n\nhaiti_code = \"hti\"\nfertility_over_time(haiti_code, 1970).plot(0, 1) # You should *not* change this line.",
    "id": "640a2c0a12504b0ba46f9c3e1ae37f53",
    "idx": 32,
    "time": "2021-02-14T10:23:08.509Z",
    "type": "execution"
   },
   {
    "id": "640a2c0a12504b0ba46f9c3e1ae37f53",
    "time": "2021-02-14T10:23:08.592Z",
    "type": "completion"
   },
   {
    "code": "def fertility_over_time(country, start):\n    \"\"\"Create a two-column table that describes a country's total fertility rate each year.\"\"\"\n    country_fertility = fertility.where(\"geo\", country).drop(\"geo\")\n    country_fertility_after_start = country_fertility.where(\"time\", are.above_or_equal_to(country))\n    cleaned_table = country_fertility_after_start.relabel(\"time\", \"Year\",\n                                                          'children_per_woman_total_fertility', \"Chilren per woman\"\n\nhaiti_code = \"hti\"\nfertility_over_time(haiti_code, 1970).plot(0, 1) # You should *not* change this line.",
    "id": "640a2c0a12504b0ba46f9c3e1ae37f53",
    "idx": 32,
    "time": "2021-02-14T10:28:31.474Z",
    "type": "execution"
   },
   {
    "id": "640a2c0a12504b0ba46f9c3e1ae37f53",
    "time": "2021-02-14T10:28:31.592Z",
    "type": "completion"
   },
   {
    "code": "ok.grade(\"q1_5\");",
    "id": "f2d4d01331c84058829e3076409c4a26",
    "idx": 33,
    "time": "2021-02-14T10:28:32.393Z",
    "type": "execution"
   },
   {
    "id": "f2d4d01331c84058829e3076409c4a26",
    "time": "2021-02-14T10:28:32.769Z",
    "type": "completion"
   },
   {
    "code": "def fertility_over_time(country, start):\n    \"\"\"Create a two-column table that describes a country's total fertility rate each year.\"\"\"\n    country_fertility = fertility.where(\"geo\", country)\n    country_fertility_after_start = country_fertility.where(\"time\", are.above_or_equal_to(country))\n    cleaned_table = country_fertility_after_start.relabel(\"time\", \"Year\",\n                                                          'children_per_woman_total_fertility', \"Chilren per woman\"\n\nhaiti_code = \"hti\"\nfertility_over_time(haiti_code, 1970).plot(0, 1) # You should *not* change this line.",
    "id": "640a2c0a12504b0ba46f9c3e1ae37f53",
    "idx": 32,
    "time": "2021-02-14T10:30:04.198Z",
    "type": "execution"
   },
   {
    "id": "640a2c0a12504b0ba46f9c3e1ae37f53",
    "time": "2021-02-14T10:30:04.354Z",
    "type": "completion"
   },
   {
    "code": "def fertility_over_time(country, start):\n    \"\"\"Create a two-column table that describes a country's total fertility rate each year.\"\"\"\n    country_fertility = fertility.where(\"geo\", country)\n    country_fertility_after_start = country_fertility.where(\"time\", are.above_or_equal_to(start))\n    cleaned_table = country_fertility_after_start.relabel(\"time\", \"Year\",\n                                                          'children_per_woman_total_fertility', \"Chilren per woman\"\n\nhaiti_code = \"hti\"\nfertility_over_time(haiti_code, 1970).plot(0, 1) # You should *not* change this line.",
    "id": "640a2c0a12504b0ba46f9c3e1ae37f53",
    "idx": 32,
    "time": "2021-02-14T10:30:16.163Z",
    "type": "execution"
   },
   {
    "id": "640a2c0a12504b0ba46f9c3e1ae37f53",
    "time": "2021-02-14T10:30:16.317Z",
    "type": "completion"
   },
   {
    "code": "def fertility_over_time(country, start):\n    \"\"\"Create a two-column table that describes a country's total fertility rate each year.\"\"\"\n    country_fertility = fertility.where(\"geo\", country)\n    country_fertility_after_start = country_fertility.where(\"time\", are.above_or_equal_to(start))\n    cleaned_table = country_fertility_after_start.relabel(\"time\", \"Year\",\n                                                          'children_per_woman_total_fertility', \"Chilren per woman\")\n\nhaiti_code = \"hti\"\nfertility_over_time(haiti_code, 1970).plot(0, 1) # You should *not* change this line.",
    "id": "640a2c0a12504b0ba46f9c3e1ae37f53",
    "idx": 32,
    "time": "2021-02-14T10:30:30.937Z",
    "type": "execution"
   },
   {
    "id": "640a2c0a12504b0ba46f9c3e1ae37f53",
    "time": "2021-02-14T10:30:31.205Z",
    "type": "completion"
   },
   {
    "code": "def fertility_over_time(country, start):\n    \"\"\"Create a two-column table that describes a country's total fertility rate each year.\"\"\"\n    country_fertility = fertility.where(\"geo\", country)\n    country_fertility_after_start = country_fertility.where(\"time\", are.above_or_equal_to(start))\n    cleaned_table = country_fertility_after_start.relabel(\"time\", \"Year\").relabel(\"children_per_woman_total_fertility\", \"Children per woman\")\n\nhaiti_code = \"hti\"\nfertility_over_time(haiti_code, 1970).plot(0, 1) # You should *not* change this line.",
    "id": "640a2c0a12504b0ba46f9c3e1ae37f53",
    "idx": 32,
    "time": "2021-02-14T10:31:28.051Z",
    "type": "execution"
   },
   {
    "id": "640a2c0a12504b0ba46f9c3e1ae37f53",
    "time": "2021-02-14T10:31:28.259Z",
    "type": "completion"
   },
   {
    "code": "def fertility_over_time(country, start):\n    \"\"\"Create a two-column table that describes a country's total fertility rate each year.\"\"\"\n    country_fertility = fertility.where(\"geo\", country)\n    country_fertility_after_start = country_fertility.where(\"time\", are.above_or_equal_to(start))\n    cleaned_table = country_fertility_after_start.relabel(\"time\", \"Year\").relabel(\"children_per_woman_total_fertility\", \"Children per woman\")\n\nhaiti_code = \"hti\"\nfertility_over_time(haiti_code, 1970).plot(0, 1) # You should *not* change this line.",
    "id": "640a2c0a12504b0ba46f9c3e1ae37f53",
    "idx": 32,
    "time": "2021-02-14T10:31:59.842Z",
    "type": "execution"
   },
   {
    "id": "640a2c0a12504b0ba46f9c3e1ae37f53",
    "time": "2021-02-14T10:32:00.059Z",
    "type": "completion"
   },
   {
    "code": "ok.grade(\"q1_5\");",
    "id": "f2d4d01331c84058829e3076409c4a26",
    "idx": 33,
    "time": "2021-02-14T10:32:03.229Z",
    "type": "execution"
   },
   {
    "id": "f2d4d01331c84058829e3076409c4a26",
    "time": "2021-02-14T10:32:03.471Z",
    "type": "completion"
   },
   {
    "code": "def fertility_over_time(country, start):\n    \"\"\"Create a two-column table that describes a country's total fertility rate each year.\"\"\"\n    country_fertility = fertility.where(\"geo\", country)\n    country_fertility_after_start = country_fertility.where(\"time\", are.above_or_equal_to(start))\n    cleaned_table = country_fertility_after_start.relabel(\"time\", \"Year\").relabel(\"children_per_woman_total_fertility\", \"Children per woman\")\n\nhaiti_code = \"hti\"\nfertility_over_time(haiti_code, 1970).plot(0, 1) # You should *not* change this line.",
    "id": "640a2c0a12504b0ba46f9c3e1ae37f53",
    "idx": 32,
    "time": "2021-02-14T10:32:40.646Z",
    "type": "execution"
   },
   {
    "id": "640a2c0a12504b0ba46f9c3e1ae37f53",
    "time": "2021-02-14T10:32:40.874Z",
    "type": "completion"
   },
   {
    "code": "def fertility_over_time(country, start):\n    \"\"\"Create a two-column table that describes a country's total fertility rate each year.\"\"\"\n    country_fertility = fertility.where(\"geo\", country)\n    country_fertility_after_start = country_fertility.where(\"time\", are.above_or_equal_to(start))\n    cleaned_table = country_fertility_after_start.relabel(\"time\", \"Year\").relabel(\"children_per_woman_total_fertility\", \"Children per woman\").drop(\"geo\")\n\nhaiti_code = \"hti\"\nfertility_over_time(haiti_code, 1970).plot(0, 1) # You should *not* change this line.",
    "id": "640a2c0a12504b0ba46f9c3e1ae37f53",
    "idx": 32,
    "time": "2021-02-14T10:33:26.124Z",
    "type": "execution"
   },
   {
    "id": "640a2c0a12504b0ba46f9c3e1ae37f53",
    "time": "2021-02-14T10:33:26.323Z",
    "type": "completion"
   },
   {
    "code": "def fertility_over_time(country, start):\n    \"\"\"Create a two-column table that describes a country's total fertility rate each year.\"\"\"\n    country_fertility = fertility.where(\"geo\", country)\n    country_fertility_after_start = country_fertility.where(\"time\", are.above_or_equal_to(start))\n    cleaned_table = country_fertility_after_start.relabel(\"time\", \n                        \"Year\").relabel(\"children_per_woman_total_fertility\", \n                            \"Children per woman\").drop(\"geo\")\n\nhaiti_code = \"hti\"\nfertility_over_time(haiti_code, 1970).plot(0, 1) # You should *not* change this line.",
    "id": "640a2c0a12504b0ba46f9c3e1ae37f53",
    "idx": 32,
    "time": "2021-02-14T10:33:47.094Z",
    "type": "execution"
   },
   {
    "id": "640a2c0a12504b0ba46f9c3e1ae37f53",
    "time": "2021-02-14T10:33:47.335Z",
    "type": "completion"
   },
   {
    "code": "def fertility_over_time(country, start):\n    \"\"\"Create a two-column table that describes a country's total fertility rate each year.\"\"\"\n    country_fertility = fertility.where(\"geo\", country)\n    country_fertility_after_start = country_fertility.where(\"time\", are.above_or_equal_to(start))\n    cleaned_table = country_fertility_after_start.relabel(\"time\", \n                        \"Year\").relabel(\"children_per_woman_total_fertility\", \n                            \"Children per woman\").drop(\"geo\")\n\nhaiti_code = \"hti\"\nfertility_over_time(haiti_code, 1970).plot(0, 1) # You should *not* change this line.",
    "id": "640a2c0a12504b0ba46f9c3e1ae37f53",
    "idx": 32,
    "time": "2021-02-14T10:35:07.458Z",
    "type": "execution"
   },
   {
    "id": "640a2c0a12504b0ba46f9c3e1ae37f53",
    "time": "2021-02-14T10:35:07.778Z",
    "type": "completion"
   },
   {
    "code": "def fertility_over_time(country, start):\n    \"\"\"Create a two-column table that describes a country's total fertility rate each year.\"\"\"\n    country_fertility = fertility.where(\"geo\", country)\n    country_fertility_after_start = country_fertility.where(\"time\", are.above_or_equal_to(start))\n    cleaned_table = country_fertility_after_start.relabel(\"time\", \n                        \"Year\").relabel(\"children_per_woman_total_fertility\", \n                            \"Children per woman\").drop(\"geo\")\n    return cleaned_table\n    \n#haiti_code = \"hti\"\n#fertility_over_time(haiti_code, 1970).plot(0, 1) # You should *not* change this line.",
    "id": "640a2c0a12504b0ba46f9c3e1ae37f53",
    "idx": 32,
    "time": "2021-02-14T10:35:39.566Z",
    "type": "execution"
   },
   {
    "id": "640a2c0a12504b0ba46f9c3e1ae37f53",
    "time": "2021-02-14T10:35:39.785Z",
    "type": "completion"
   },
   {
    "code": "def fertility_over_time(country, start):\n    \"\"\"Create a two-column table that describes a country's total fertility rate each year.\"\"\"\n    country_fertility = fertility.where(\"geo\", country)\n    country_fertility_after_start = country_fertility.where(\"time\", are.above_or_equal_to(start))\n    cleaned_table = country_fertility_after_start.relabel(\"time\", \n                        \"Year\").relabel(\"children_per_woman_total_fertility\", \n                            \"Children per woman\").drop(\"geo\")\n    return cleaned_table\n    \nhaiti_code = \"hti\"\nfertility_over_time(haiti_code, 1970).plot(0, 1) # You should *not* change this line.",
    "id": "640a2c0a12504b0ba46f9c3e1ae37f53",
    "idx": 32,
    "time": "2021-02-14T10:35:53.304Z",
    "type": "execution"
   },
   {
    "id": "640a2c0a12504b0ba46f9c3e1ae37f53",
    "time": "2021-02-14T10:35:53.843Z",
    "type": "completion"
   },
   {
    "code": "def fertility_over_time(country, start):\n    \"\"\"Create a two-column table that describes a country's total fertility rate each year.\"\"\"\n    country_fertility = fertility.where(\"geo\", country)\n    country_fertility_after_start = country_fertility.where(\"time\", are.above_or_equal_to(start))\n    cleaned_table = country_fertility_after_start.relabel(\"time\", \n                        \"Year\").relabel(\"children_per_woman_total_fertility\", \n                            \"Children per woman\").drop(\"geo\")\n    return cleaned_table\n    \nhaiti_code = \"hti\"\nfertility_over_time(haiti_code, 1970).plot(0, 1) # You should *not* change this line.",
    "id": "640a2c0a12504b0ba46f9c3e1ae37f53",
    "idx": 32,
    "time": "2021-02-14T10:36:27.897Z",
    "type": "execution"
   },
   {
    "id": "640a2c0a12504b0ba46f9c3e1ae37f53",
    "time": "2021-02-14T10:36:28.428Z",
    "type": "completion"
   },
   {
    "code": "ok.grade(\"q1_5\");",
    "id": "f2d4d01331c84058829e3076409c4a26",
    "idx": 33,
    "time": "2021-02-14T10:36:30.769Z",
    "type": "execution"
   },
   {
    "id": "f2d4d01331c84058829e3076409c4a26",
    "time": "2021-02-14T10:36:31.178Z",
    "type": "completion"
   },
   {
    "code": "hti_fertility = fertility_over_time(haiti_code, 1970)\nhti_child_mortality = child_mortality.where(\"geo\",\"hti\").where('time', are.above_or_equal_to(1970)).drop('geo')\nfertility_and_child_mortality = cleaned_table.(\"time\", hti_child_mortality)\npost_1969_fertility_and_child_mortality = fertility_and_child_mortality.relabel('child_mortality_under_5_per_1000_born',\n                                                                                'Child deaths per 1000 born')\n\n# Don't change this line!\npost_1969_fertility_and_child_mortality.scatter('Children per woman', 'Child deaths per 1000 born')",
    "id": "f791de9fdb264e9aa208cd434cf229f5",
    "idx": 38,
    "time": "2021-02-14T10:48:25.525Z",
    "type": "execution"
   },
   {
    "id": "f791de9fdb264e9aa208cd434cf229f5",
    "time": "2021-02-14T10:48:25.685Z",
    "type": "completion"
   },
   {
    "code": "hti_fertility = fertility_over_time(haiti_code, 1970)\nhti_child_mortality = child_mortality.where(\"geo\",\"hti\").where('time', are.above_or_equal_to(1970)).drop('geo')\nfertility_and_child_mortality = cleaned_table.join(\"time\", hti_child_mortality)\npost_1969_fertility_and_child_mortality = fertility_and_child_mortality.relabel('child_mortality_under_5_per_1000_born',\n                                                                                'Child deaths per 1000 born')\n\n# Don't change this line!\npost_1969_fertility_and_child_mortality.scatter('Children per woman', 'Child deaths per 1000 born')",
    "id": "f791de9fdb264e9aa208cd434cf229f5",
    "idx": 38,
    "time": "2021-02-14T10:48:36.274Z",
    "type": "execution"
   },
   {
    "id": "f791de9fdb264e9aa208cd434cf229f5",
    "time": "2021-02-14T10:48:36.563Z",
    "type": "completion"
   },
   {
    "code": "def fertility_over_time(country, start):\n    \"\"\"Create a two-column table that describes a country's total fertility rate each year.\"\"\"\n    country_fertility = fertility.where(\"geo\", country)\n    country_fertility_after_start = country_fertility.where(\"time\", are.above_or_equal_to(start))\n    cleaned_table = country_fertility_after_start.relabel(\"time\", \n                        \"Year\").relabel(\"children_per_woman_total_fertility\", \n                            \"Children per woman\").drop(\"geo\")\n    return cleaned_table\n    \n#haiti_code = \"hti\"\n#fertility_over_time(haiti_code, 1970).plot(0, 1) # You should *not* change this line.\ncleaned_table",
    "id": "640a2c0a12504b0ba46f9c3e1ae37f53",
    "idx": 32,
    "time": "2021-02-14T10:49:43.184Z",
    "type": "execution"
   },
   {
    "id": "640a2c0a12504b0ba46f9c3e1ae37f53",
    "time": "2021-02-14T10:49:43.448Z",
    "type": "completion"
   },
   {
    "code": "def fertility_over_time(country, start):\n    \"\"\"Create a two-column table that describes a country's total fertility rate each year.\"\"\"\n    country_fertility = fertility.where(\"geo\", country)\n    country_fertility_after_start = country_fertility.where(\"time\", are.above_or_equal_to(start))\n    cleaned_table = country_fertility_after_start.relabel(\"time\", \n                        \"Year\").relabel(\"children_per_woman_total_fertility\", \n                            \"Children per woman\").drop(\"geo\")\n    return cleaned_table\n    \nhaiti_code = \"hti\"\nfertility_over_time(haiti_code, 1970).plot(0, 1) # You should *not* change this line.\n",
    "id": "640a2c0a12504b0ba46f9c3e1ae37f53",
    "idx": 32,
    "time": "2021-02-14T10:50:15.221Z",
    "type": "execution"
   },
   {
    "id": "640a2c0a12504b0ba46f9c3e1ae37f53",
    "time": "2021-02-14T10:50:15.683Z",
    "type": "completion"
   },
   {
    "code": "ok.grade(\"q1_5\");",
    "id": "f2d4d01331c84058829e3076409c4a26",
    "idx": 33,
    "time": "2021-02-14T10:50:18.325Z",
    "type": "execution"
   },
   {
    "id": "f2d4d01331c84058829e3076409c4a26",
    "time": "2021-02-14T10:50:18.712Z",
    "type": "completion"
   },
   {
    "code": "hti_fertility = fertility_over_time(haiti_code, 1970)\nhti_child_mortality = child_mortality.where(\"geo\",\"hti\").where('time', are.above_or_equal_to(1970)).drop('geo')\nfertility_and_child_mortality = hti_fertility.join(\"time\", hti_child_mortality)\npost_1969_fertility_and_child_mortality = fertility_and_child_mortality.relabel('child_mortality_under_5_per_1000_born',\n                                                                                'Child deaths per 1000 born')\n\n# Don't change this line!\npost_1969_fertility_and_child_mortality.scatter('Children per woman', 'Child deaths per 1000 born')",
    "id": "f791de9fdb264e9aa208cd434cf229f5",
    "idx": 38,
    "time": "2021-02-14T10:50:33.751Z",
    "type": "execution"
   },
   {
    "id": "f791de9fdb264e9aa208cd434cf229f5",
    "time": "2021-02-14T10:50:34.094Z",
    "type": "completion"
   },
   {
    "code": "hti_fertility = fertility_over_time(haiti_code, 1970)\nhti_child_mortality = child_mortality.where(\"geo\",\"hti\").where('time', are.above_or_equal_to(1970)).drop('geo')\nfertility_and_child_mortality = hti_fertility.with_column(\"child_mortality_under_5_per_1000_born\", \n                                                          hti_child_mortality.column(\"child_mortality_under_5_per_1000_born\"))\npost_1969_fertility_and_child_mortality = fertility_and_child_mortality.relabel('child_mortality_under_5_per_1000_born',\n                                                                                'Child deaths per 1000 born')\n\n# Don't change this line!\npost_1969_fertility_and_child_mortality.scatter('Children per woman', 'Child deaths per 1000 born')",
    "id": "f791de9fdb264e9aa208cd434cf229f5",
    "idx": 38,
    "time": "2021-02-14T10:53:17.207Z",
    "type": "execution"
   },
   {
    "id": "f791de9fdb264e9aa208cd434cf229f5",
    "time": "2021-02-14T10:53:17.817Z",
    "type": "completion"
   },
   {
    "code": "ok.grade(\"q1_7\");",
    "id": "c5bc01dd125444ab86c925de41e306fa",
    "idx": 39,
    "time": "2021-02-14T10:53:30.806Z",
    "type": "execution"
   },
   {
    "id": "c5bc01dd125444ab86c925de41e306fa",
    "time": "2021-02-14T10:53:31.027Z",
    "type": "completion"
   },
   {
    "code": "# Don't change this line!\npost_1969_fertility_and_child_mortality.scatter('time', 'Child deaths per 1000 born')",
    "id": "98618126272a465f846bdc028d4e36f4",
    "idx": 42,
    "time": "2021-02-14T11:01:03.329Z",
    "type": "execution"
   },
   {
    "id": "98618126272a465f846bdc028d4e36f4",
    "time": "2021-02-14T11:01:03.480Z",
    "type": "completion"
   },
   {
    "code": "hti_fertility = fertility_over_time(haiti_code, 1970)\nhti_child_mortality = child_mortality.where(\"geo\",\"hti\").where('time', are.above_or_equal_to(1970)).drop('geo')\nfertility_and_child_mortality = hti_fertility.with_column(\"child_mortality_under_5_per_1000_born\", \n                                                          hti_child_mortality.column(\"child_mortality_under_5_per_1000_born\"))\npost_1969_fertility_and_child_mortality = fertility_and_child_mortality.relabel('child_mortality_under_5_per_1000_born',\n                                                                                'Child deaths per 1000 born')\n\n# Don't change this line!\npost_1969_fertility_and_child_mortality.scatter('Children per woman', 'Child deaths per 1000 born')",
    "id": "f791de9fdb264e9aa208cd434cf229f5",
    "idx": 38,
    "time": "2021-02-14T11:01:42.094Z",
    "type": "execution"
   },
   {
    "id": "f791de9fdb264e9aa208cd434cf229f5",
    "time": "2021-02-14T11:01:42.563Z",
    "type": "completion"
   },
   {
    "code": "# Don't change this line!\npost_1969_fertility_and_child_mortality.scatter('time', 'Child deaths per 1000 born')",
    "id": "98618126272a465f846bdc028d4e36f4",
    "idx": 42,
    "time": "2021-02-14T11:01:46.238Z",
    "type": "execution"
   },
   {
    "id": "98618126272a465f846bdc028d4e36f4",
    "time": "2021-02-14T11:01:46.386Z",
    "type": "completion"
   },
   {
    "code": "life_expectancy = Table.read_table('life_expectancy.csv').where('time', are.below(2021))\nchild_mortality = Table.read_table('child_mortality.csv').relabel(2, 'child_mortality_under_5_per_1000_born').where('time', are.below(2021))\nfertility = Table.read_table('fertility.csv').where('time', are.below(2021))",
    "id": "c10e70240e844e01883fd5357146492d",
    "idx": 20,
    "time": "2021-02-14T11:01:58.558Z",
    "type": "execution"
   },
   {
    "id": "c10e70240e844e01883fd5357146492d",
    "time": "2021-02-14T11:01:58.958Z",
    "type": "completion"
   },
   {
    "code": "hti_fertility = fertility_over_time(haiti_code, 1970)\nhti_child_mortality = child_mortality.where(\"geo\",\"hti\").where('time', are.above_or_equal_to(1970)).drop('geo')\nfertility_and_child_mortality = hti_fertility.with_column(\"child_mortality_under_5_per_1000_born\", \n                                                          hti_child_mortality.column(\"child_mortality_under_5_per_1000_born\"))\npost_1969_fertility_and_child_mortality = fertility_and_child_mortality.relabel('child_mortality_under_5_per_1000_born',\n                                                                                'Child deaths per 1000 born')\n\n# Don't change this line!\npost_1969_fertility_and_child_mortality.scatter('Children per woman', 'Child deaths per 1000 born')",
    "id": "f791de9fdb264e9aa208cd434cf229f5",
    "idx": 38,
    "time": "2021-02-14T11:02:06.024Z",
    "type": "execution"
   },
   {
    "id": "f791de9fdb264e9aa208cd434cf229f5",
    "time": "2021-02-14T11:02:06.654Z",
    "type": "completion"
   },
   {
    "code": "ok.grade(\"q1_7\");",
    "id": "c5bc01dd125444ab86c925de41e306fa",
    "idx": 39,
    "time": "2021-02-14T11:02:08.690Z",
    "type": "execution"
   },
   {
    "id": "c5bc01dd125444ab86c925de41e306fa",
    "time": "2021-02-14T11:02:08.837Z",
    "type": "completion"
   },
   {
    "code": "# Don't change this line!\npost_1969_fertility_and_child_mortality.scatter('time', 'Child deaths per 1000 born')",
    "id": "98618126272a465f846bdc028d4e36f4",
    "idx": 42,
    "time": "2021-02-14T11:02:11.275Z",
    "type": "execution"
   },
   {
    "id": "98618126272a465f846bdc028d4e36f4",
    "time": "2021-02-14T11:02:11.424Z",
    "type": "completion"
   },
   {
    "code": "# Initialize OK\nfrom client.api.notebook import Notebook\nok = Notebook('project1.ok')",
    "id": "f3c5df1719d04e6b9723bccd7041f15b",
    "idx": 0,
    "time": "2021-02-16T08:09:20.316Z",
    "type": "execution"
   },
   {
    "id": "f3c5df1719d04e6b9723bccd7041f15b",
    "time": "2021-02-16T08:09:20.854Z",
    "type": "completion"
   },
   {
    "code": "from datascience import *\nimport numpy as np\n\n%matplotlib inline\nimport matplotlib.pyplot as plots\nplots.style.use('fivethirtyeight')\n\nfrom client.api.notebook import *\ndef new_save_notebook(self):\n    \"\"\" Saves the current notebook by\n        injecting JavaScript to save to .ipynb file.\n    \"\"\"\n    try:\n        from IPython.display import display, Javascript\n    except ImportError:\n        log.warning(\"Could not import IPython Display Function\")\n        print(\"Make sure to save your notebook before sending it to OK!\")\n        return\n\n    if self.mode == \"jupyter\":\n        display(Javascript('IPython.notebook.save_checkpoint();'))\n        display(Javascript('IPython.notebook.save_notebook();'))\n    elif self.mode == \"jupyterlab\":\n        display(Javascript('document.querySelector(\\'[data-command=\"docmanager:save\"]\\').click();'))   \n\n    print('Saving notebook...', end=' ')\n\n    ipynbs = [path for path in self.assignment.src\n              if os.path.splitext(path)[1] == '.ipynb']\n    # Wait for first .ipynb to save\n    if ipynbs:\n        if wait_for_save(ipynbs[0]):\n            print(\"Saved '{}'.\".format(ipynbs[0]))\n        else:\n            log.warning(\"Timed out waiting for IPython save\")\n            print(\"Could not automatically save \\'{}\\'\".format(ipynbs[0]))\n            print(\"Make sure your notebook\"\n                  \" is correctly named and saved before submitting to OK!\".format(ipynbs[0]))\n            return False                \n    else:\n        print(\"No valid file sources found\")\n    return True\n\ndef wait_for_save(filename, timeout=600):\n    \"\"\"Waits for FILENAME to update, waiting up to TIMEOUT seconds.\n    Returns True if a save was detected, and False otherwise.\n    \"\"\"\n    modification_time = os.path.getmtime(filename)\n    start_time = time.time()\n    while time.time() < start_time + timeout:\n        if (os.path.getmtime(filename) > modification_time and\n            os.path.getsize(filename) > 0):\n            return True\n        time.sleep(0.2)\n    print(\"\\nERROR!\\n YOUR SUBMISSION DID NOT GO THROUGH. PLEASE TRY AGAIN. IF THIS PROBLEM PERSISTS POST ON PIAZZA RIGHT AWAY.\\n ERROR!\" + \"\\n\"*20)\n    return False\n\nNotebook.save_notebook = new_save_notebook\n\nfrom client.api.notebook import Notebook\nok = Notebook('project1.ok')",
    "id": "673c184d3d2449728fbf81eae24deafd",
    "idx": 4,
    "time": "2021-02-16T08:09:23.862Z",
    "type": "execution"
   },
   {
    "id": "673c184d3d2449728fbf81eae24deafd",
    "time": "2021-02-16T08:09:26.261Z",
    "type": "completion"
   },
   {
    "code": "_ = ok.submit()",
    "id": "1a90441d20d341fb838626f3e4ad72e2",
    "idx": 6,
    "time": "2021-02-16T08:09:30.873Z",
    "type": "execution"
   },
   {
    "id": "1a90441d20d341fb838626f3e4ad72e2",
    "time": "2021-02-16T08:10:00.485Z",
    "type": "completion"
   },
   {
    "code": "population = Table.read_table('population.csv').where(\"time\", are.below(2021))\npopulation.show(3)",
    "id": "1fc3f57540c0435391e666ed26d17c51",
    "idx": 9,
    "time": "2021-02-16T08:10:07.850Z",
    "type": "execution"
   },
   {
    "id": "1fc3f57540c0435391e666ed26d17c51",
    "time": "2021-02-16T08:10:08.116Z",
    "type": "completion"
   },
   {
    "code": "h_pop = population.where(\"geo\", \"hti\").select(\"time\", \"population_total\").where(\"time\", are.between_or_equal_to(1970, 2020))\nh_pop",
    "id": "9ed59a9ef2d24a038f8f9dfdd58fe43f",
    "idx": 12,
    "time": "2021-02-16T08:10:10.670Z",
    "type": "execution"
   },
   {
    "id": "9ed59a9ef2d24a038f8f9dfdd58fe43f",
    "time": "2021-02-16T08:10:10.838Z",
    "type": "completion"
   },
   {
    "code": "ok.grade(\"q1_1\");",
    "id": "46f637baeb38400b9dc6d5df2f73dca8",
    "idx": 13,
    "time": "2021-02-16T08:10:13.804Z",
    "type": "execution"
   },
   {
    "id": "46f637baeb38400b9dc6d5df2f73dca8",
    "time": "2021-02-16T08:10:14.001Z",
    "type": "completion"
   },
   {
    "code": "h_pop.set_format('population_total', NumberFormatter)\n\ntens = np.arange(1970, 2021, 10) # 1970, 1980, 1990, ...\nh_decade = h_pop.sort('time').where('time', are.contained_in(tens))\nh_decade.show()",
    "id": "0f9566d4f72840258c14f492fcf622e0",
    "idx": 15,
    "time": "2021-02-16T08:10:16.073Z",
    "type": "execution"
   },
   {
    "id": "0f9566d4f72840258c14f492fcf622e0",
    "time": "2021-02-16T08:10:16.279Z",
    "type": "completion"
   },
   {
    "code": "initial = h_decade.take(np.arange(5)).column('population_total')\nchanged = h_decade.take(np.arange(1,6)).column('population_total')\n\ngrowth_rates = ((changed/initial)**0.1)-1\n\nh_1970_through_2010 = h_decade.where('time', are.below_or_equal_to(2010)) \nh_decade_growth = h_1970_through_2010.with_column('annual_growth', growth_rates)\n# Don't change this line!\nh_decade_growth.set_format('annual_growth', PercentFormatter)",
    "id": "7e262fbe10a24954a2588e310b803fbb",
    "idx": 17,
    "time": "2021-02-16T08:10:19.337Z",
    "type": "execution"
   },
   {
    "id": "7e262fbe10a24954a2588e310b803fbb",
    "time": "2021-02-16T08:10:19.433Z",
    "type": "completion"
   },
   {
    "code": "ok.grade(\"q1_2\");",
    "id": "ba394739384343d786df4817ac4897d3",
    "idx": 18,
    "time": "2021-02-16T08:10:24.742Z",
    "type": "execution"
   },
   {
    "id": "ba394739384343d786df4817ac4897d3",
    "time": "2021-02-16T08:10:24.900Z",
    "type": "completion"
   },
   {
    "code": "life_expectancy = Table.read_table('life_expectancy.csv').where('time', are.below(2021))\nchild_mortality = Table.read_table('child_mortality.csv').relabel(2, 'child_mortality_under_5_per_1000_born').where('time', are.below(2021))\nfertility = Table.read_table('fertility.csv').where('time', are.below(2021))",
    "id": "b19630aec7fa45a3a6d6d525609f2e1f",
    "idx": 20,
    "time": "2021-02-16T08:13:03.934Z",
    "type": "execution"
   },
   {
    "id": "b19630aec7fa45a3a6d6d525609f2e1f",
    "time": "2021-02-16T08:13:04.525Z",
    "type": "completion"
   },
   {
    "code": "life_expectancy",
    "id": "a931abc1a431470cac25f762a050f246",
    "idx": 23,
    "time": "2021-02-16T08:13:06.520Z",
    "type": "execution"
   },
   {
    "id": "a931abc1a431470cac25f762a050f246",
    "time": "2021-02-16T08:13:06.624Z",
    "type": "completion"
   },
   {
    "code": "child_mortality",
    "id": "3403fef70e9b4424809e3554009a030d",
    "idx": 24,
    "time": "2021-02-16T08:13:08.954Z",
    "type": "execution"
   },
   {
    "id": "3403fef70e9b4424809e3554009a030d",
    "time": "2021-02-16T08:13:09.054Z",
    "type": "completion"
   },
   {
    "code": "fertility",
    "id": "c445608c619444b48bf5db9d0d5b4e60",
    "idx": 25,
    "time": "2021-02-16T08:13:13.127Z",
    "type": "execution"
   },
   {
    "id": "c445608c619444b48bf5db9d0d5b4e60",
    "time": "2021-02-16T08:13:13.234Z",
    "type": "completion"
   },
   {
    "code": "#Fill in code here\nlife_expectancy.where(\"geo\", 'hti').drop(\"geo\").where('time', are.above_or_equal_to(1970)).plot(\"time\", \"life_expectancy_years\")",
    "id": "c3f9d1d0692043e8987815949c4ca902",
    "idx": 27,
    "time": "2021-02-16T08:13:19.479Z",
    "type": "execution"
   },
   {
    "id": "c3f9d1d0692043e8987815949c4ca902",
    "time": "2021-02-16T08:13:19.992Z",
    "type": "completion"
   },
   {
    "code": "def fertility_over_time(country, start):\n    \"\"\"Create a two-column table that describes a country's total fertility rate each year.\"\"\"\n    country_fertility = fertility.where(\"geo\", country)\n    country_fertility_after_start = country_fertility.where(\"time\", are.above_or_equal_to(start))\n    cleaned_table = country_fertility_after_start.relabel(\"time\", \n                        \"Year\").relabel(\"children_per_woman_total_fertility\", \n                            \"Children per woman\").drop(\"geo\")\n    return cleaned_table\n    \nhaiti_code = \"hti\"\nfertility_over_time(haiti_code, 1970).plot(0, 1) # You should *not* change this line.\n",
    "id": "c457cacece2a4f3293e979bcfbd55e1d",
    "idx": 32,
    "time": "2021-02-16T08:13:25.416Z",
    "type": "execution"
   },
   {
    "id": "c457cacece2a4f3293e979bcfbd55e1d",
    "time": "2021-02-16T08:13:25.903Z",
    "type": "completion"
   },
   {
    "code": "ok.grade(\"q1_5\");",
    "id": "bc378a7c1a4c45458e278ff407d22760",
    "idx": 33,
    "time": "2021-02-16T08:13:28.821Z",
    "type": "execution"
   },
   {
    "id": "bc378a7c1a4c45458e278ff407d22760",
    "time": "2021-02-16T08:13:29.244Z",
    "type": "completion"
   },
   {
    "code": "ok.grade(\"q1_5\");",
    "id": "bc378a7c1a4c45458e278ff407d22760",
    "idx": 33,
    "time": "2021-02-16T08:14:02.532Z",
    "type": "execution"
   },
   {
    "id": "bc378a7c1a4c45458e278ff407d22760",
    "time": "2021-02-16T08:14:03.026Z",
    "type": "completion"
   },
   {
    "code": "hti_fertility = fertility_over_time(haiti_code, 1970)\nhti_child_mortality = child_mortality.where(\"geo\",\"hti\").where('time', are.above_or_equal_to(1970)).drop('geo')\nfertility_and_child_mortality = hti_fertility.with_column(\"child_mortality_under_5_per_1000_born\", \n                                                          hti_child_mortality.column(\"child_mortality_under_5_per_1000_born\"))\npost_1969_fertility_and_child_mortality = fertility_and_child_mortality.relabel('child_mortality_under_5_per_1000_born',\n                                                                                'Child deaths per 1000 born')\n\n# Don't change this line!\npost_1969_fertility_and_child_mortality.scatter('Children per woman', 'Child deaths per 1000 born')",
    "id": "8161466297c44a6399efd8ba08f52267",
    "idx": 38,
    "time": "2021-02-16T08:14:07.266Z",
    "type": "execution"
   },
   {
    "id": "8161466297c44a6399efd8ba08f52267",
    "time": "2021-02-16T08:14:07.758Z",
    "type": "completion"
   },
   {
    "code": "# Don't change this line!\npost_1969_fertility_and_child_mortality.scatter('time', 'Child deaths per 1000 born')",
    "id": "e86c82a80261491d8d2bf485831a6896",
    "idx": 42,
    "time": "2021-02-16T08:14:30.291Z",
    "type": "execution"
   },
   {
    "id": "e86c82a80261491d8d2bf485831a6896",
    "time": "2021-02-16T08:14:30.624Z",
    "type": "completion"
   },
   {
    "code": "# Don't change this line!\npost_1969_fertility_and_child_mortality.scatter('Year', 'Child deaths per 1000 born')",
    "id": "e86c82a80261491d8d2bf485831a6896",
    "idx": 42,
    "time": "2021-02-16T08:19:20.375Z",
    "type": "execution"
   },
   {
    "id": "e86c82a80261491d8d2bf485831a6896",
    "time": "2021-02-16T08:19:20.893Z",
    "type": "completion"
   },
   {
    "code": "# Don't change this line!\npost_1969_fertility_and_child_mortality.scatter('Year', 'Child deaths per 1000 born')",
    "id": "e86c82a80261491d8d2bf485831a6896",
    "idx": 42,
    "time": "2021-02-16T08:34:17.824Z",
    "type": "execution"
   },
   {
    "id": "e86c82a80261491d8d2bf485831a6896",
    "time": "2021-02-16T08:34:18.287Z",
    "type": "completion"
   },
   {
    "code": "_ = ok.submit()",
    "id": "a551ec443ce4449799bbc3d3dd989428",
    "idx": 46,
    "time": "2021-02-16T08:39:04.171Z",
    "type": "execution"
   },
   {
    "id": "a551ec443ce4449799bbc3d3dd989428",
    "time": "2021-02-16T08:39:05.280Z",
    "type": "completion"
   },
   {
    "code": "Table().with_columns(\n    '1960', fertility.where('time', 1960).column(2),\n    '2013', fertility.where('time', 2013).column(2)\n).hist(bins=np.arange(0, 10, 0.5), unit='child per woman')\n_ = plots.xlabel('Children per woman')\n_ = plots.ylabel('Percent per children per woman')\n_ = plots.xticks(np.arange(10))",
    "id": "aecd3aefbdfc4aed8c4e677ee5a047df",
    "idx": 49,
    "time": "2021-02-16T08:39:35.747Z",
    "type": "execution"
   },
   {
    "id": "aecd3aefbdfc4aed8c4e677ee5a047df",
    "time": "2021-02-16T08:39:36.942Z",
    "type": "completion"
   },
   {
    "code": "ok.grade(\"q1_9\");",
    "id": "15ae7ddc77904b1a86be85bb2c2c06fb",
    "idx": 52,
    "time": "2021-02-16T08:42:40.784Z",
    "type": "execution"
   },
   {
    "id": "15ae7ddc77904b1a86be85bb2c2c06fb",
    "time": "2021-02-16T08:42:40.993Z",
    "type": "completion"
   },
   {
    "code": "fertility_statements = make_array(3, 5, 6)",
    "id": "3a795039df3741bd9e7ad57380a6234c",
    "idx": 51,
    "time": "2021-02-16T08:42:43.977Z",
    "type": "execution"
   },
   {
    "id": "3a795039df3741bd9e7ad57380a6234c",
    "time": "2021-02-16T08:42:44.066Z",
    "type": "completion"
   },
   {
    "code": "ok.grade(\"q1_9\");",
    "id": "15ae7ddc77904b1a86be85bb2c2c06fb",
    "idx": 52,
    "time": "2021-02-16T08:42:45.925Z",
    "type": "execution"
   },
   {
    "id": "15ae7ddc77904b1a86be85bb2c2c06fb",
    "time": "2021-02-16T08:42:46.139Z",
    "type": "completion"
   },
   {
    "code": "#Fill in code here\npopulation.show(3)",
    "id": "d6817e7b6ac849948e645f321e4fe04d",
    "idx": 54,
    "time": "2021-02-16T08:43:56.325Z",
    "type": "execution"
   },
   {
    "id": "d6817e7b6ac849948e645f321e4fe04d",
    "time": "2021-02-16T08:43:56.429Z",
    "type": "completion"
   },
   {
    "code": "#Fill in code here\npopulation.group(\"time\")",
    "id": "d6817e7b6ac849948e645f321e4fe04d",
    "idx": 54,
    "time": "2021-02-16T08:44:22.352Z",
    "type": "execution"
   },
   {
    "id": "d6817e7b6ac849948e645f321e4fe04d",
    "time": "2021-02-16T08:44:24.644Z",
    "type": "completion"
   },
   {
    "code": "#Fill in code here\npopulation.show(3)\n",
    "id": "d6817e7b6ac849948e645f321e4fe04d",
    "idx": 54,
    "time": "2021-02-16T08:46:39.003Z",
    "type": "execution"
   },
   {
    "id": "d6817e7b6ac849948e645f321e4fe04d",
    "time": "2021-02-16T08:46:39.112Z",
    "type": "completion"
   },
   {
    "code": "#Fill in code here\npopulation.show(3)\npopulation.group([\"time\", \"population_total\"], sum)",
    "id": "d6817e7b6ac849948e645f321e4fe04d",
    "idx": 54,
    "time": "2021-02-16T08:46:54.853Z",
    "type": "execution"
   },
   {
    "id": "d6817e7b6ac849948e645f321e4fe04d",
    "time": "2021-02-16T08:46:59.191Z",
    "type": "completion"
   },
   {
    "code": "#Fill in code here\npopulation.show(3)\npopulation.group([\"time\", \"geo\"], sum)",
    "id": "d6817e7b6ac849948e645f321e4fe04d",
    "idx": 54,
    "time": "2021-02-16T08:48:14.619Z",
    "type": "execution"
   },
   {
    "id": "d6817e7b6ac849948e645f321e4fe04d",
    "time": "2021-02-16T08:48:19.179Z",
    "type": "completion"
   },
   {
    "code": "#Fill in code here\npopulation.show(3)\npopulation.drop(\"geo\").group(\"time\", sum)",
    "id": "d6817e7b6ac849948e645f321e4fe04d",
    "idx": 54,
    "time": "2021-02-16T08:48:57.458Z",
    "type": "execution"
   },
   {
    "id": "d6817e7b6ac849948e645f321e4fe04d",
    "time": "2021-02-16T08:48:59.457Z",
    "type": "completion"
   },
   {
    "code": "#Fill in code here\npopulation.show(3)\npopulation.drop(\"geo\").group(\"time\", sum).plot(\"time\", \"population_total\")",
    "id": "d6817e7b6ac849948e645f321e4fe04d",
    "idx": 54,
    "time": "2021-02-16T08:49:12.668Z",
    "type": "execution"
   },
   {
    "id": "d6817e7b6ac849948e645f321e4fe04d",
    "time": "2021-02-16T08:49:14.927Z",
    "type": "completion"
   },
   {
    "code": "#Fill in code here\npopulation.show(3)\npopulation.drop(\"geo\").group(\"time\", sum).plot(time, population_total)",
    "id": "d6817e7b6ac849948e645f321e4fe04d",
    "idx": 54,
    "time": "2021-02-16T08:50:09.466Z",
    "type": "execution"
   },
   {
    "id": "d6817e7b6ac849948e645f321e4fe04d",
    "time": "2021-02-16T08:50:11.539Z",
    "type": "completion"
   },
   {
    "code": "#Fill in code here\npopulation.show(3)\npopulation.drop(\"geo\").group(\"time\", sum).plot(\"time\", population_total)",
    "id": "d6817e7b6ac849948e645f321e4fe04d",
    "idx": 54,
    "time": "2021-02-16T08:50:25.905Z",
    "type": "execution"
   },
   {
    "id": "d6817e7b6ac849948e645f321e4fe04d",
    "time": "2021-02-16T08:50:28.080Z",
    "type": "completion"
   },
   {
    "code": "#Fill in code here\npopulation.show(3)\npopulation.drop(\"geo\").group(\"time\", sum).plot(\"time\", 'population_total')",
    "id": "d6817e7b6ac849948e645f321e4fe04d",
    "idx": 54,
    "time": "2021-02-16T08:50:44.643Z",
    "type": "execution"
   },
   {
    "id": "d6817e7b6ac849948e645f321e4fe04d",
    "time": "2021-02-16T08:50:46.675Z",
    "type": "completion"
   },
   {
    "code": "#Fill in code here\npopulation.show(3)\npopulation.drop(\"geo\").group(\"time\", sum)",
    "id": "d6817e7b6ac849948e645f321e4fe04d",
    "idx": 54,
    "time": "2021-02-16T08:50:58.350Z",
    "type": "execution"
   },
   {
    "id": "d6817e7b6ac849948e645f321e4fe04d",
    "time": "2021-02-16T08:51:00.453Z",
    "type": "completion"
   },
   {
    "code": "#Fill in code here\npopulation.show(3)\npopulation.drop(\"geo\").group(\"time\", sum).plot('time', 'population_total sum')",
    "id": "d6817e7b6ac849948e645f321e4fe04d",
    "idx": 54,
    "time": "2021-02-16T08:51:27.576Z",
    "type": "execution"
   },
   {
    "id": "d6817e7b6ac849948e645f321e4fe04d",
    "time": "2021-02-16T08:51:29.797Z",
    "type": "completion"
   },
   {
    "code": "# We first create a population table that only includes the \n# 50 countries with the largest 2020 populations. We focus on \n# these 50 countries only so that plotting later will run faster.\nbig_50 = population.where('time', are.equal_to(2020)).sort(\"population_total\", descending=True).take(np.arange(50)).column('geo')\npopulation_of_big_50 = population.where('time', are.above(1959)).where('geo', are.contained_in(big_50))\n\ndef stats_for_year(year):\n    \"\"\"Return a table of the stats for each country that year.\"\"\"\n    p = population_of_big_50.where('time', are.equal_to(year)).drop('time')\n    f = fertility.where('time', are.equal_to(year)).drop('time')\n    c = child_mortality.where('time', are.equal_to(year)).drop('time')\n    return Table().with_columns(\"geo\", big_50\n                ,\"population_total\", p\n                ,\"children_per_woman_fertility\", f\n                ,\"child_mortality_under_5_per_1000_born\", c)\n\n",
    "id": "20fd9d0a9878451dbef07e2d191333ba",
    "idx": 56,
    "time": "2021-02-16T08:59:10.844Z",
    "type": "execution"
   },
   {
    "id": "20fd9d0a9878451dbef07e2d191333ba",
    "time": "2021-02-16T08:59:11.425Z",
    "type": "completion"
   },
   {
    "code": "# We first create a population table that only includes the \n# 50 countries with the largest 2020 populations. We focus on \n# these 50 countries only so that plotting later will run faster.\nbig_50 = population.where('time', are.equal_to(2020)).sort(\"population_total\", descending=True).take(np.arange(50)).column('geo')\npopulation_of_big_50 = population.where('time', are.above(1959)).where('geo', are.contained_in(big_50))\n\ndef stats_for_year(year):\n    \"\"\"Return a table of the stats for each country that year.\"\"\"\n    p = population_of_big_50.where('time', are.equal_to(year)).drop('time')\n    f = fertility.where('time', are.equal_to(year)).drop('time')\n    c = child_mortality.where('time', are.equal_to(year)).drop('time')\n    return Table().with_columns(\"geo\", big_50\n                ,\"population_total\", p\n                ,\"children_per_woman_fertility\", f\n                ,\"child_mortality_under_5_per_1000_born\", c)\n\nstats_for_year(1980)",
    "id": "20fd9d0a9878451dbef07e2d191333ba",
    "idx": 56,
    "time": "2021-02-16T08:59:30.630Z",
    "type": "execution"
   },
   {
    "id": "20fd9d0a9878451dbef07e2d191333ba",
    "time": "2021-02-16T08:59:31.975Z",
    "type": "completion"
   },
   {
    "code": "ok.grade(\"q1_11\");",
    "id": "d493181450ad4381aaddb4a988db0b02",
    "idx": 57,
    "time": "2021-02-16T09:01:07.877Z",
    "type": "execution"
   },
   {
    "id": "d493181450ad4381aaddb4a988db0b02",
    "time": "2021-02-16T09:01:08.741Z",
    "type": "completion"
   },
   {
    "code": "# We first create a population table that only includes the \n# 50 countries with the largest 2020 populations. We focus on \n# these 50 countries only so that plotting later will run faster.\nbig_50 = population.where('time', are.equal_to(2020)).sort(\"population_total\", descending=True).take(np.arange(50)).column('geo')\npopulation_of_big_50 = population.where('time', are.above(1959)).where('geo', are.contained_in(big_50))\n\ndef stats_for_year(year):\n    \"\"\"Return a table of the stats for each country that year.\"\"\"\n    p = population_of_big_50.where('time', are.equal_to(year)).drop('time')\n    f = fertility.where('time', are.equal_to(year)).drop('time')\n    c = child_mortality.where('time', are.equal_to(year)).drop('time')\n    return Table().with_columns(\"geo\", big_50,\n                    \"population_total\", p,\n                    \"children_per_woman_fertility\", f,\n                    \"child_mortality_under_5_per_1000_born\", c)\n\nstats_for_year(2000)",
    "id": "20fd9d0a9878451dbef07e2d191333ba",
    "idx": 56,
    "time": "2021-02-16T09:01:41.535Z",
    "type": "execution"
   },
   {
    "id": "20fd9d0a9878451dbef07e2d191333ba",
    "time": "2021-02-16T09:01:42.827Z",
    "type": "completion"
   },
   {
    "code": "# We first create a population table that only includes the \n# 50 countries with the largest 2020 populations. We focus on \n# these 50 countries only so that plotting later will run faster.\nbig_50 = population.where('time', are.equal_to(2020)).sort(\"population_total\", descending=True).take(np.arange(50)).column('geo')\npopulation_of_big_50 = population.where('time', are.above(1959)).where('geo', are.contained_in(big_50))\n\ndef stats_for_year(year):\n    \"\"\"Return a table of the stats for each country that year.\"\"\"\n    p = population_of_big_50.where('time', are.equal_to(year)).drop('time')\n    f = fertility.where('time', are.equal_to(year)).drop('time')\n    c = child_mortality.where('time', are.equal_to(year)).drop('time')\n    return Table().with_columns(\"geo\", big_50)\n\nstats_for_year(2000)",
    "id": "20fd9d0a9878451dbef07e2d191333ba",
    "idx": 56,
    "time": "2021-02-16T09:01:57.922Z",
    "type": "execution"
   },
   {
    "id": "20fd9d0a9878451dbef07e2d191333ba",
    "time": "2021-02-16T09:01:59.260Z",
    "type": "completion"
   },
   {
    "code": "# We first create a population table that only includes the \n# 50 countries with the largest 2020 populations. We focus on \n# these 50 countries only so that plotting later will run faster.\nbig_50 = population.where('time', are.equal_to(2020)).sort(\"population_total\", descending=True).take(np.arange(50)).column('geo')\npopulation_of_big_50 = population.where('time', are.above(1959)).where('geo', are.contained_in(big_50))\n\ndef stats_for_year(year):\n    \"\"\"Return a table of the stats for each country that year.\"\"\"\n    p = population_of_big_50.where('time', are.equal_to(year)).drop('time')\n    f = fertility.where('time', are.equal_to(year)).drop('time')\n    c = child_mortality.where('time', are.equal_to(year)).drop('time')\n    return Table().with_columns(\"geo\", big_50,\"population_total\", p,\n            \n                               \n                               )\n\nstats_for_year(2000)",
    "id": "20fd9d0a9878451dbef07e2d191333ba",
    "idx": 56,
    "time": "2021-02-16T09:02:20.120Z",
    "type": "execution"
   },
   {
    "id": "20fd9d0a9878451dbef07e2d191333ba",
    "time": "2021-02-16T09:02:21.399Z",
    "type": "completion"
   },
   {
    "code": "ok.grade(\"q1_11\");",
    "id": "d493181450ad4381aaddb4a988db0b02",
    "idx": 57,
    "time": "2021-02-16T09:04:29.767Z",
    "type": "execution"
   },
   {
    "id": "d493181450ad4381aaddb4a988db0b02",
    "time": "2021-02-16T09:04:30.599Z",
    "type": "completion"
   },
   {
    "code": "# We first create a population table that only includes the \n# 50 countries with the largest 2020 populations. We focus on \n# these 50 countries only so that plotting later will run faster.\nbig_50 = population.where('time', are.equal_to(2020)).sort(\"population_total\", descending=True).take(np.arange(50)).column('geo')\npopulation_of_big_50 = population.where('time', are.above(1959)).where('geo', are.contained_in(big_50))\n\ndef stats_for_year(year):\n    \"\"\"Return a table of the stats for each country that year.\"\"\"\n    p = population_of_big_50.where('time', are.equal_to(year)).drop('time')\n    f = fertility.where('time', are.equal_to(year)).drop('time')\n    c = child_mortality.where('time', are.equal_to(year)).drop('time')\n    return Table().with_columns(\"geo\", big_50,\n                                \"population_total\", p,\n                                \"children_per_woman_fertility\", f,\n                                \"child_mortality_under_5_per_1000_born\", c)\n\n\nstats_for_year(1990)",
    "id": "20fd9d0a9878451dbef07e2d191333ba",
    "idx": 56,
    "time": "2021-02-16T09:06:03.099Z",
    "type": "execution"
   },
   {
    "id": "20fd9d0a9878451dbef07e2d191333ba",
    "time": "2021-02-16T09:06:04.410Z",
    "type": "completion"
   },
   {
    "code": "# We first create a population table that only includes the \n# 50 countries with the largest 2020 populations. We focus on \n# these 50 countries only so that plotting later will run faster.\nbig_50 = population.where('time', are.equal_to(2020)).sort(\"population_total\", descending=True).take(np.arange(50)).column('geo')\npopulation_of_big_50 = population.where('time', are.above(1959)).where('geo', are.contained_in(big_50))\n\ndef stats_for_year(year):\n    \"\"\"Return a table of the stats for each country that year.\"\"\"\n    p = population_of_big_50.where('time', are.equal_to(year)).drop('time')\n    f = fertility.where('time', are.equal_to(year)).drop('time')\n    c = child_mortality.where('time', are.equal_to(year)).drop('time')\n    return Table().with_columns(\n                                \"population_total\", p,\n                                \"children_per_woman_fertility\", f,\n                                \"child_mortality_under_5_per_1000_born\", c)\n\n\nstats_for_year(1990)",
    "id": "20fd9d0a9878451dbef07e2d191333ba",
    "idx": 56,
    "time": "2021-02-16T09:06:30.522Z",
    "type": "execution"
   },
   {
    "id": "20fd9d0a9878451dbef07e2d191333ba",
    "time": "2021-02-16T09:06:31.680Z",
    "type": "completion"
   },
   {
    "code": "# We first create a population table that only includes the \n# 50 countries with the largest 2020 populations. We focus on \n# these 50 countries only so that plotting later will run faster.\nbig_50 = population.where('time', are.equal_to(2020)).sort(\"population_total\", descending=True).take(np.arange(50)).column('geo')\npopulation_of_big_50 = population.where('time', are.above(1959)).where('geo', are.contained_in(big_50))\n\ndef stats_for_year(year):\n    \"\"\"Return a table of the stats for each country that year.\"\"\"\n    p = population_of_big_50.where('time', are.equal_to(year)).drop('time')\n    f = fertility.where('time', are.equal_to(year)).drop('time')\n    c = child_mortality.where('time', are.equal_to(year)).drop('time')\n    return Table().with_columns(big_50, p, f, c)\n\nstats_for_year(1990)",
    "id": "20fd9d0a9878451dbef07e2d191333ba",
    "idx": 56,
    "time": "2021-02-16T09:08:02.793Z",
    "type": "execution"
   },
   {
    "id": "20fd9d0a9878451dbef07e2d191333ba",
    "time": "2021-02-16T09:08:04.062Z",
    "type": "completion"
   },
   {
    "code": "# We first create a population table that only includes the \n# 50 countries with the largest 2020 populations. We focus on \n# these 50 countries only so that plotting later will run faster.\nbig_50 = population.where('time', are.equal_to(2020)).sort(\"population_total\", descending=True).take(np.arange(50)).column('geo')\npopulation_of_big_50 = population.where('time', are.above(1959)).where('geo', are.contained_in(big_50))\n\ndef stats_for_year(year):\n    \"\"\"Return a table of the stats for each country that year.\"\"\"\n    p = population_of_big_50.where('time', are.equal_to(year)).drop('time')\n    f = fertility.where('time', are.equal_to(year)).drop('time')\n    c = child_mortality.where('time', are.equal_to(year)).drop('time')\n    return Table().with_columns(\n                                \"population_total\", p,\n                                \"children_per_woman_fertility\", f,\n                                \"child_mortality_under_5_per_1000_born\", c)\n\n\nstats_for_year(1990)",
    "id": "20fd9d0a9878451dbef07e2d191333ba",
    "idx": 56,
    "time": "2021-02-16T09:08:27.688Z",
    "type": "execution"
   },
   {
    "id": "20fd9d0a9878451dbef07e2d191333ba",
    "time": "2021-02-16T09:08:28.898Z",
    "type": "completion"
   },
   {
    "code": "# We first create a population table that only includes the \n# 50 countries with the largest 2020 populations. We focus on \n# these 50 countries only so that plotting later will run faster.\nbig_50 = population.where('time', are.equal_to(2020)).sort(\"population_total\", descending=True).take(np.arange(50)).column('geo')\npopulation_of_big_50 = population.where('time', are.above(1959)).where('geo', are.contained_in(big_50))\n\ndef stats_for_year(year):\n    \"\"\"Return a table of the stats for each country that year.\"\"\"\n    p = population_of_big_50.where('time', are.equal_to(year)).drop('time')\n    f = fertility.where('time', are.equal_to(year)).drop('time')\n    c = child_mortality.where('time', are.equal_to(year)).drop('time')\n    return Table().with_columns(\n                                \"population_total\", p,\n                                )\n\n\nstats_for_year(1990)",
    "id": "20fd9d0a9878451dbef07e2d191333ba",
    "idx": 56,
    "time": "2021-02-16T09:09:41.748Z",
    "type": "execution"
   },
   {
    "id": "20fd9d0a9878451dbef07e2d191333ba",
    "time": "2021-02-16T09:09:42.908Z",
    "type": "completion"
   },
   {
    "code": "# We first create a population table that only includes the \n# 50 countries with the largest 2020 populations. We focus on \n# these 50 countries only so that plotting later will run faster.\nbig_50 = population.where('time', are.equal_to(2020)).sort(\"population_total\", descending=True).take(np.arange(50)).column('geo')\npopulation_of_big_50 = population.where('time', are.above(1959)).where('geo', are.contained_in(big_50))\n\ndef stats_for_year(year):\n    \"\"\"Return a table of the stats for each country that year.\"\"\"\n    p = population_of_big_50.where('time', are.equal_to(year)).drop('time')\n    f = fertility.where('time', are.equal_to(year)).drop('time')\n    c = child_mortality.where('time', are.equal_to(year)).drop('time')\n    return Table().with_columns(\n                                \"population_total\",\n                                )\n\n\nstats_for_year(1990)",
    "id": "20fd9d0a9878451dbef07e2d191333ba",
    "idx": 56,
    "time": "2021-02-16T09:09:54.344Z",
    "type": "execution"
   },
   {
    "id": "20fd9d0a9878451dbef07e2d191333ba",
    "time": "2021-02-16T09:09:55.496Z",
    "type": "completion"
   },
   {
    "code": "# We first create a population table that only includes the \n# 50 countries with the largest 2020 populations. We focus on \n# these 50 countries only so that plotting later will run faster.\nbig_50 = population.where('time', are.equal_to(2020)).sort(\"population_total\", descending=True).take(np.arange(50)).column('geo')\npopulation_of_big_50 = population.where('time', are.above(1959)).where('geo', are.contained_in(big_50))\n\ndef stats_for_year(year):\n    \"\"\"Return a table of the stats for each country that year.\"\"\"\n    p = population_of_big_50.where('time', are.equal_to(year)).drop('time')\n    f = fertility.where('time', are.equal_to(year)).drop('time')\n    c = child_mortality.where('time', are.equal_to(year)).drop('time')\n    population = big_50\n    return population\n\n\nstats_for_year(1990)",
    "id": "20fd9d0a9878451dbef07e2d191333ba",
    "idx": 56,
    "time": "2021-02-16T09:11:34.368Z",
    "type": "execution"
   },
   {
    "id": "20fd9d0a9878451dbef07e2d191333ba",
    "time": "2021-02-16T09:11:35.571Z",
    "type": "completion"
   },
   {
    "code": "# We first create a population table that only includes the \n# 50 countries with the largest 2020 populations. We focus on \n# these 50 countries only so that plotting later will run faster.\nbig_50 = population.where('time', are.equal_to(2020)).sort(\"population_total\", descending=True).take(np.arange(50)).column('geo')\npopulation_of_big_50 = population.where('time', are.above(1959)).where('geo', are.contained_in(big_50))\n\ndef stats_for_year(year):\n    \"\"\"Return a table of the stats for each country that year.\"\"\"\n    p = population_of_big_50.where('time', are.equal_to(year)).drop('time')\n    f = fertility.where('time', are.equal_to(year)).drop('time')\n    c = child_mortality.where('time', are.equal_to(year)).drop('time')\n    population = p\n    return population\n\n\nstats_for_year(1990)",
    "id": "20fd9d0a9878451dbef07e2d191333ba",
    "idx": 56,
    "time": "2021-02-16T09:12:28.666Z",
    "type": "execution"
   },
   {
    "id": "20fd9d0a9878451dbef07e2d191333ba",
    "time": "2021-02-16T09:12:29.828Z",
    "type": "completion"
   },
   {
    "code": "# We first create a population table that only includes the \n# 50 countries with the largest 2020 populations. We focus on \n# these 50 countries only so that plotting later will run faster.\nbig_50 = population.where('time', are.equal_to(2020)).sort(\"population_total\", descending=True).take(np.arange(50)).column('geo')\npopulation_of_big_50 = population.where('time', are.above(1959)).where('geo', are.contained_in(big_50))\n\ndef stats_for_year(year):\n    \"\"\"Return a table of the stats for each country that year.\"\"\"\n    p = population_of_big_50.where('time', are.equal_to(year)).drop('time')\n    f = fertility.where('time', are.equal_to(year)).drop('time')\n    c = child_mortality.where('time', are.equal_to(year)).drop('time')\n    population = population_of_big_50\n    return population\n\n\nstats_for_year(1990)",
    "id": "20fd9d0a9878451dbef07e2d191333ba",
    "idx": 56,
    "time": "2021-02-16T09:14:17.796Z",
    "type": "execution"
   },
   {
    "id": "20fd9d0a9878451dbef07e2d191333ba",
    "time": "2021-02-16T09:14:18.949Z",
    "type": "completion"
   },
   {
    "code": "# We first create a population table that only includes the \n# 50 countries with the largest 2020 populations. We focus on \n# these 50 countries only so that plotting later will run faster.\nbig_50 = population.where('time', are.equal_to(2020)).sort(\"population_total\", descending=True).take(np.arange(50)).column('geo')\npopulation_of_big_50 = population.where('time', are.above(1959)).where('geo', are.contained_in(big_50))\n\ndef stats_for_year(year):\n    \"\"\"Return a table of the stats for each country that year.\"\"\"\n    p = population_of_big_50.where('time', are.equal_to(year)).drop('time')\n    f = fertility.where('time', are.equal_to(year)).drop('time')\n    c = child_mortality.where('time', are.equal_to(year)).drop('time')\n    population = Table().with_columns('geo', p.column('geo'),\n                                      'population_total', p.column('population_total'),\n                                      'children_per_woman_total_fertility', f.column('children_per_woman_total_fertility'),\n                                      'child_mortality_under_5_per_1000_born', c.column('child_mortality_under_5_per_1000_born'))\n    return population\n\n\nstats_for_year(1990)",
    "id": "20fd9d0a9878451dbef07e2d191333ba",
    "idx": 56,
    "time": "2021-02-16T09:17:13.070Z",
    "type": "execution"
   },
   {
    "id": "20fd9d0a9878451dbef07e2d191333ba",
    "time": "2021-02-16T09:17:14.332Z",
    "type": "completion"
   },
   {
    "code": "# We first create a population table that only includes the \n# 50 countries with the largest 2020 populations. We focus on \n# these 50 countries only so that plotting later will run faster.\nbig_50 = population.where('time', are.equal_to(2020)).sort(\"population_total\", descending=True).take(np.arange(50)).column('geo')\npopulation_of_big_50 = population.where('time', are.above(1959)).where('geo', are.contained_in(big_50))\n\ndef stats_for_year(year):\n    \"\"\"Return a table of the stats for each country that year.\"\"\"\n    p = population_of_big_50.where('time', are.equal_to(year)).drop('time')\n    f = fertility.where('time', are.equal_to(year)).drop('time')\n    c = child_mortality.where('time', are.equal_to(year)).drop('time')\n    population = Table().with_columns('geo', p.column('geo'),\n                                      \n    return population\n\n\nstats_for_year(1990)",
    "id": "20fd9d0a9878451dbef07e2d191333ba",
    "idx": 56,
    "time": "2021-02-16T09:18:03.762Z",
    "type": "execution"
   },
   {
    "id": "20fd9d0a9878451dbef07e2d191333ba",
    "time": "2021-02-16T09:18:03.864Z",
    "type": "completion"
   },
   {
    "code": "# We first create a population table that only includes the \n# 50 countries with the largest 2020 populations. We focus on \n# these 50 countries only so that plotting later will run faster.\nbig_50 = population.where('time', are.equal_to(2020)).sort(\"population_total\", descending=True).take(np.arange(50)).column('geo')\npopulation_of_big_50 = population.where('time', are.above(1959)).where('geo', are.contained_in(big_50))\n\ndef stats_for_year(year):\n    \"\"\"Return a table of the stats for each country that year.\"\"\"\n    p = population_of_big_50.where('time', are.equal_to(year)).drop('time')\n    f = fertility.where('time', are.equal_to(year)).drop('time')\n    c = child_mortality.where('time', are.equal_to(year)).drop('time')\n    population = Table().with_columns('geo', p.column('geo'))\n                                      \n    return population\n\n\nstats_for_year(1990)",
    "id": "20fd9d0a9878451dbef07e2d191333ba",
    "idx": 56,
    "time": "2021-02-16T09:18:18.010Z",
    "type": "execution"
   },
   {
    "id": "20fd9d0a9878451dbef07e2d191333ba",
    "time": "2021-02-16T09:18:19.377Z",
    "type": "completion"
   },
   {
    "code": "# We first create a population table that only includes the \n# 50 countries with the largest 2020 populations. We focus on \n# these 50 countries only so that plotting later will run faster.\nbig_50 = population.where('time', are.equal_to(2020)).sort(\"population_total\", descending=True).take(np.arange(50)).column('geo')\npopulation_of_big_50 = population.where('time', are.above(1959)).where('geo', are.contained_in(big_50))\n\ndef stats_for_year(year):\n    \"\"\"Return a table of the stats for each country that year.\"\"\"\n    p = population_of_big_50.where('time', are.equal_to(year)).drop('time')\n    f = fertility.where('time', are.equal_to(year)).drop('time')\n    c = child_mortality.where('time', are.equal_to(year)).drop('time')\n    population = Table().with_columns('geo', p.column('geo'), 'population_total', p.column('population_total'))\n                                      \n                                      \n    return population\n\n\nstats_for_year(1990)",
    "id": "20fd9d0a9878451dbef07e2d191333ba",
    "idx": 56,
    "time": "2021-02-16T09:18:39.878Z",
    "type": "execution"
   },
   {
    "id": "20fd9d0a9878451dbef07e2d191333ba",
    "time": "2021-02-16T09:18:41.034Z",
    "type": "completion"
   },
   {
    "code": "# We first create a population table that only includes the \n# 50 countries with the largest 2020 populations. We focus on \n# these 50 countries only so that plotting later will run faster.\nbig_50 = population.where('time', are.equal_to(2020)).sort(\"population_total\", descending=True).take(np.arange(50)).column('geo')\npopulation_of_big_50 = population.where('time', are.above(1959)).where('geo', are.contained_in(big_50))\n\ndef stats_for_year(year):\n    \"\"\"Return a table of the stats for each country that year.\"\"\"\n    p = population_of_big_50.where('time', are.equal_to(year)).drop('time')\n    f = fertility.where('time', are.equal_to(year)).drop('time')\n    c = child_mortality.where('time', are.equal_to(year)).drop('time')\n    population = Table().with_columns('geo', p.column('geo'), 'population_total', p.column('population_total'),\n                                     'children_per_woman_total_fertility', f.column('children_per_woman_total_fertility'))\n                                      \n                                      \n    return population\n\n\nstats_for_year(1990)",
    "id": "20fd9d0a9878451dbef07e2d191333ba",
    "idx": 56,
    "time": "2021-02-16T09:18:59.299Z",
    "type": "execution"
   },
   {
    "id": "20fd9d0a9878451dbef07e2d191333ba",
    "time": "2021-02-16T09:19:00.644Z",
    "type": "completion"
   },
   {
    "code": "# We first create a population table that only includes the \n# 50 countries with the largest 2020 populations. We focus on \n# these 50 countries only so that plotting later will run faster.\nbig_50 = population.where('time', are.equal_to(2020)).sort(\"population_total\", descending=True).take(np.arange(50)).column('geo')\npopulation_of_big_50 = population.where('time', are.above(1959)).where('geo', are.contained_in(big_50))\n\ndef stats_for_year(year):\n    \"\"\"Return a table of the stats for each country that year.\"\"\"\n    p = population_of_big_50.where('time', are.equal_to(year)).drop('time')\n    f = fertility.where('time', are.equal_to(year)).drop('time')\n    c = child_mortality.where('time', are.equal_to(year)).drop('time')\n    population = Table().with_columns(\n                                     'children_per_woman_total_fertility', f.column('children_per_woman_total_fertility'))\n                                      \n                                      \n    return population\n\n\nstats_for_year(1990)",
    "id": "20fd9d0a9878451dbef07e2d191333ba",
    "idx": 56,
    "time": "2021-02-16T09:21:15.677Z",
    "type": "execution"
   },
   {
    "id": "20fd9d0a9878451dbef07e2d191333ba",
    "time": "2021-02-16T09:21:16.820Z",
    "type": "completion"
   },
   {
    "code": "# We first create a population table that only includes the \n# 50 countries with the largest 2020 populations. We focus on \n# these 50 countries only so that plotting later will run faster.\nbig_50 = population.where('time', are.equal_to(2020)).sort(\"population_total\", descending=True).take(np.arange(50)).column('geo')\npopulation_of_big_50 = population.where('time', are.above(1959)).where('geo', are.contained_in(big_50))\n\ndef stats_for_year(year):\n    \"\"\"Return a table of the stats for each country that year.\"\"\"\n    p = population_of_big_50.where('time', are.equal_to(year)).drop('time')\n    f = fertility.where('time', are.equal_to(year)).drop('time')\n    c = child_mortality.where('time', are.equal_to(year)).drop('time')\n    population = f\n                                      \n                                      \n    return population\n\n\nstats_for_year(1990)",
    "id": "20fd9d0a9878451dbef07e2d191333ba",
    "idx": 56,
    "time": "2021-02-16T09:21:54.321Z",
    "type": "execution"
   },
   {
    "id": "20fd9d0a9878451dbef07e2d191333ba",
    "time": "2021-02-16T09:21:55.510Z",
    "type": "completion"
   },
   {
    "code": "# We first create a population table that only includes the \n# 50 countries with the largest 2020 populations. We focus on \n# these 50 countries only so that plotting later will run faster.\nbig_50 = population.where('time', are.equal_to(2020)).sort(\"population_total\", descending=True).take(np.arange(50)).column('geo')\npopulation_of_big_50 = population.where('time', are.above(1959)).where('geo', are.contained_in(big_50))\nfertility_of_big_50 = fertility.where('time', are.above(1959)).where('geo', are.contained_in(big_50))\nchild_mortality_of_big_50 = child_mortality.where('time', are.above(1959)).where('geo', are.contained_in(big_50))\n\ndef stats_for_year(year):\n    \"\"\"Return a table of the stats for each country that year.\"\"\"\n    p = population_of_big_50.where('time', are.equal_to(year)).drop('time')\n    f = fertility_of_big_50.where('time', are.equal_to(year)).drop('time')\n    c = child_mortality_of_big_50.where('time', are.equal_to(year)).drop('time')\n    population = Table().with_columns(\"geo\", big_50, 'population_total', p.column('population_total'),\n                                     'children_per_woman_total_fertility', f.column('children_per_woman_total_fertility')\n                                     'child_mortality_under_5_per_1000_born', c.column('child_mortality_under_5_per_1000_born'))\n                                      \n                                      \n    return population\n\n\nstats_for_year(1990)",
    "id": "20fd9d0a9878451dbef07e2d191333ba",
    "idx": 56,
    "time": "2021-02-16T09:26:03.229Z",
    "type": "execution"
   },
   {
    "id": "20fd9d0a9878451dbef07e2d191333ba",
    "time": "2021-02-16T09:26:03.342Z",
    "type": "completion"
   },
   {
    "code": "# We first create a population table that only includes the \n# 50 countries with the largest 2020 populations. We focus on \n# these 50 countries only so that plotting later will run faster.\nbig_50 = population.where('time', are.equal_to(2020)).sort(\"population_total\", descending=True).take(np.arange(50)).column('geo')\npopulation_of_big_50 = population.where('time', are.above(1959)).where('geo', are.contained_in(big_50))\nfertility_of_big_50 = fertility.where('time', are.above(1959)).where('geo', are.contained_in(big_50))\nchild_mortality_of_big_50 = child_mortality.where('time', are.above(1959)).where('geo', are.contained_in(big_50))\n\ndef stats_for_year(year):\n    \"\"\"Return a table of the stats for each country that year.\"\"\"\n    p = population_of_big_50.where('time', are.equal_to(year)).drop('time')\n    f = fertility_of_big_50.where('time', are.equal_to(year)).drop('time')\n    c = child_mortality_of_big_50.where('time', are.equal_to(year)).drop('time')\n    population = Table().with_columns(\"geo\", big_50, 'population_total', p.column('population_total'),\n                                     'children_per_woman_total_fertility', f.column('children_per_woman_total_fertility'),\n                                     'child_mortality_under_5_per_1000_born', c.column('child_mortality_under_5_per_1000_born'))\n                                      \n                                      \n    return population\n\n\nstats_for_year(1990)",
    "id": "20fd9d0a9878451dbef07e2d191333ba",
    "idx": 56,
    "time": "2021-02-16T09:26:20.664Z",
    "type": "execution"
   },
   {
    "id": "20fd9d0a9878451dbef07e2d191333ba",
    "time": "2021-02-16T09:26:21.448Z",
    "type": "completion"
   },
   {
    "code": "ok.grade(\"q1_11\");",
    "id": "d493181450ad4381aaddb4a988db0b02",
    "idx": 57,
    "time": "2021-02-16T09:26:24.251Z",
    "type": "execution"
   },
   {
    "id": "d493181450ad4381aaddb4a988db0b02",
    "time": "2021-02-16T09:26:24.626Z",
    "type": "completion"
   },
   {
    "code": "# We first create a population table that only includes the \n# 50 countries with the largest 2020 populations. We focus on \n# these 50 countries only so that plotting later will run faster.\nbig_50 = population.where('time', are.equal_to(2020)).sort(\"population_total\", descending=True).take(np.arange(50)).column('geo')\npopulation_of_big_50 = population.where('time', are.above(1959)).where('geo', are.contained_in(big_50))\nfertility_of_big_50 = fertility.where('time', are.above(1959)).where('geo', are.contained_in(big_50))\nchild_mortality_of_big_50 = child_mortality.where('time', are.above(1959)).where('geo', are.contained_in(big_50))\n\ndef stats_for_year(year):\n    \"\"\"Return a table of the stats for each country that year.\"\"\"\n    p = population_of_big_50.where('time', are.equal_to(year)).drop('time')\n    f = fertility_of_big_50.where('time', are.equal_to(year)).drop('time')\n    c = child_mortality_of_big_50.where('time', are.equal_to(year)).drop('time')\n    population = Table().with_columns(\"geo\", big_50, 'population_total', p.column('population_total'),\n                                     'children_per_woman_total_fertility', f.column('children_per_woman_total_fertility'),\n                                     'child_mortality_under_5_per_1000_born', c.column('child_mortality_under_5_per_1000_born'))\n                                      \n                                      \n    return population",
    "id": "20fd9d0a9878451dbef07e2d191333ba",
    "idx": 56,
    "time": "2021-02-16T09:26:37.830Z",
    "type": "execution"
   },
   {
    "id": "20fd9d0a9878451dbef07e2d191333ba",
    "time": "2021-02-16T09:26:38.590Z",
    "type": "completion"
   },
   {
    "code": "ok.grade(\"q1_11\");",
    "id": "d493181450ad4381aaddb4a988db0b02",
    "idx": 57,
    "time": "2021-02-16T09:26:40.785Z",
    "type": "execution"
   },
   {
    "id": "d493181450ad4381aaddb4a988db0b02",
    "time": "2021-02-16T09:26:41.150Z",
    "type": "completion"
   },
   {
    "code": "#Fill in code here\npopulation.drop(\"geo\").group(\"time\", sum).plot('time', 'population_total sum')",
    "id": "d6817e7b6ac849948e645f321e4fe04d",
    "idx": 54,
    "time": "2021-02-16T09:28:16.251Z",
    "type": "execution"
   },
   {
    "id": "d6817e7b6ac849948e645f321e4fe04d",
    "time": "2021-02-16T09:28:18.433Z",
    "type": "completion"
   },
   {
    "code": "# We first create a population table that only includes the \n# 50 countries with the largest 2020 populations. We focus on \n# these 50 countries only so that plotting later will run faster.\nbig_50 = population.where('time', are.equal_to(2020)).sort(\"population_total\", descending=True).take(np.arange(50)).column('geo')\npopulation_of_big_50 = population.where('time', are.above(1959)).where('geo', are.contained_in(big_50))\nfertility_of_big_50 = fertility.where('time', are.above(1959)).where('geo', are.contained_in(big_50))\nchild_mortality_of_big_50 = child_mortality.where('time', are.above(1959)).where('geo', are.contained_in(big_50))\n\ndef stats_for_year(year):\n    \"\"\"Return a table of the stats for each country that year.\"\"\"\n    p = population_of_big_50.where('time', are.equal_to(year)).drop('time')\n    f = fertility_of_big_50.where('time', are.equal_to(year)).drop('time')\n    c = child_mortality_of_big_50.where('time', are.equal_to(year)).drop('time')\n    population = Table().with_columns(\"geo\", big_50, 'population_total', p.column('population_total'),\n                                     'children_per_woman_total_fertility', f.column('children_per_woman_total_fertility'),\n                                     'child_mortality_under_5_per_1000_born', c.column('child_mortality_under_5_per_1000_born'))\n                                      \n                                      \n    return population\n\nstats_for_year(1960)",
    "id": "20fd9d0a9878451dbef07e2d191333ba",
    "idx": 56,
    "time": "2021-02-16T09:28:51.462Z",
    "type": "execution"
   },
   {
    "id": "20fd9d0a9878451dbef07e2d191333ba",
    "time": "2021-02-16T09:28:52.228Z",
    "type": "completion"
   },
   {
    "code": "# We first create a population table that only includes the \n# 50 countries with the largest 2020 populations. We focus on \n# these 50 countries only so that plotting later will run faster.\nbig_50 = population.where('time', are.equal_to(2020)).sort(\"population_total\", descending=True).take(np.arange(50)).column('geo')\npopulation_of_big_50 = population.where('time', are.above(1959)).where('geo', are.contained_in(big_50))\n\ndef stats_for_year(year):\n    \"\"\"Return a table of the stats for each country that year.\"\"\"\n    p = population_of_big_50.where('time', are.equal_to(year)).drop('time')\n    f = fertility.where('time', are.equal_to(year)).drop('time')\n    c = child_mortality.where('time', are.equal_to(year)).drop('time')\n    joined = population_of_big_50.join('geo', f)\n    return joined\n...",
    "id": "20fd9d0a9878451dbef07e2d191333ba",
    "idx": 56,
    "time": "2021-02-16T09:39:12.035Z",
    "type": "execution"
   },
   {
    "id": "20fd9d0a9878451dbef07e2d191333ba",
    "time": "2021-02-16T09:39:12.570Z",
    "type": "completion"
   },
   {
    "code": "# We first create a population table that only includes the \n# 50 countries with the largest 2020 populations. We focus on \n# these 50 countries only so that plotting later will run faster.\nbig_50 = population.where('time', are.equal_to(2020)).sort(\"population_total\", descending=True).take(np.arange(50)).column('geo')\npopulation_of_big_50 = population.where('time', are.above(1959)).where('geo', are.contained_in(big_50))\n\ndef stats_for_year(year):\n    \"\"\"Return a table of the stats for each country that year.\"\"\"\n    p = population_of_big_50.where('time', are.equal_to(year)).drop('time')\n    f = fertility.where('time', are.equal_to(year)).drop('time')\n    c = child_mortality.where('time', are.equal_to(year)).drop('time')\n    joined = population_of_big_50.join('geo', f)\n    return joined\nstats_for_year(1960)",
    "id": "20fd9d0a9878451dbef07e2d191333ba",
    "idx": 56,
    "time": "2021-02-16T09:39:31.096Z",
    "type": "execution"
   },
   {
    "id": "20fd9d0a9878451dbef07e2d191333ba",
    "time": "2021-02-16T09:39:32.432Z",
    "type": "completion"
   },
   {
    "code": "# We first create a population table that only includes the \n# 50 countries with the largest 2020 populations. We focus on \n# these 50 countries only so that plotting later will run faster.\nbig_50 = population.where('time', are.equal_to(2020)).sort(\"population_total\", descending=True).take(np.arange(50)).column('geo')\npopulation_of_big_50 = population.where('time', are.above(1959)).where('geo', are.contained_in(big_50))\n\ndef stats_for_year(year):\n    \"\"\"Return a table of the stats for each country that year.\"\"\"\n    p = population_of_big_50.where('time', are.equal_to(year)).drop('time')\n    f = fertility.where('time', are.equal_to(year)).drop('time')\n    c = child_mortality.where('time', are.equal_to(year)).drop('time')\n    joined = population_of_big_50.join('geo', c)\n    return joined\nstats_for_year(1960)",
    "id": "20fd9d0a9878451dbef07e2d191333ba",
    "idx": 56,
    "time": "2021-02-16T09:40:18.335Z",
    "type": "execution"
   },
   {
    "id": "20fd9d0a9878451dbef07e2d191333ba",
    "time": "2021-02-16T09:40:19.641Z",
    "type": "completion"
   },
   {
    "code": "# We first create a population table that only includes the \n# 50 countries with the largest 2020 populations. We focus on \n# these 50 countries only so that plotting later will run faster.\nbig_50 = population.where('time', are.equal_to(2020)).sort(\"population_total\", descending=True).take(np.arange(50)).column('geo')\npopulation_of_big_50 = population.where('time', are.above(1959)).where('geo', are.contained_in(big_50))\n\ndef stats_for_year(year):\n    \"\"\"Return a table of the stats for each country that year.\"\"\"\n    p = population_of_big_50.where('time', are.equal_to(year)).drop('time')\n    f = fertility.where('time', are.equal_to(year)).drop('time')\n    c = child_mortality.where('time', are.equal_to(year)).drop('time')\n    joined = population_of_big_50.join('geo', c).show(100)\n    return joined\nstats_for_year(1960)",
    "id": "20fd9d0a9878451dbef07e2d191333ba",
    "idx": 56,
    "time": "2021-02-16T09:40:42.564Z",
    "type": "execution"
   },
   {
    "id": "20fd9d0a9878451dbef07e2d191333ba",
    "time": "2021-02-16T09:40:43.940Z",
    "type": "completion"
   },
   {
    "code": "# We first create a population table that only includes the \n# 50 countries with the largest 2020 populations. We focus on \n# these 50 countries only so that plotting later will run faster.\nbig_50 = population.where('time', are.equal_to(2020)).sort(\"population_total\", descending=True).take(np.arange(50)).column('geo')\npopulation_of_big_50 = population.where('time', are.above(1959)).where('geo', are.contained_in(big_50))\n\ndef stats_for_year(year):\n    \"\"\"Return a table of the stats for each country that year.\"\"\"\n    p = population_of_big_50.where('time', are.equal_to(year)).drop('time')\n    f = fertility.where('time', are.equal_to(year)).drop('time')\n    c = child_mortality.where('time', are.equal_to(year)).drop('time')\n    joined = p\nstats_for_year(1960)",
    "id": "20fd9d0a9878451dbef07e2d191333ba",
    "idx": 56,
    "time": "2021-02-16T09:42:47.767Z",
    "type": "execution"
   },
   {
    "id": "20fd9d0a9878451dbef07e2d191333ba",
    "time": "2021-02-16T09:42:48.976Z",
    "type": "completion"
   },
   {
    "code": "# We first create a population table that only includes the \n# 50 countries with the largest 2020 populations. We focus on \n# these 50 countries only so that plotting later will run faster.\nbig_50 = population.where('time', are.equal_to(2020)).sort(\"population_total\", descending=True).take(np.arange(50)).column('geo')\npopulation_of_big_50 = population.where('time', are.above(1959)).where('geo', are.contained_in(big_50))\n\ndef stats_for_year(year):\n    \"\"\"Return a table of the stats for each country that year.\"\"\"\n    p = population_of_big_50.where('time', are.equal_to(year)).drop('time')\n    f = fertility.where('time', are.equal_to(year)).drop('time')\n    c = child_mortality.where('time', are.equal_to(year)).drop('time')\n    joined = p\n    return joined\nstats_for_year(1960)",
    "id": "20fd9d0a9878451dbef07e2d191333ba",
    "idx": 56,
    "time": "2021-02-16T09:43:01.491Z",
    "type": "execution"
   },
   {
    "id": "20fd9d0a9878451dbef07e2d191333ba",
    "time": "2021-02-16T09:43:02.654Z",
    "type": "completion"
   },
   {
    "code": "# We first create a population table that only includes the \n# 50 countries with the largest 2020 populations. We focus on \n# these 50 countries only so that plotting later will run faster.\nbig_50 = population.where('time', are.equal_to(2020)).sort(\"population_total\", descending=True).take(np.arange(50)).column('geo')\npopulation_of_big_50 = population.where('time', are.above(1959)).where('geo', are.contained_in(big_50))\n\ndef stats_for_year(year):\n    \"\"\"Return a table of the stats for each country that year.\"\"\"\n    p = population_of_big_50.where('time', are.equal_to(year)).drop('time')\n    f = fertility.where('time', are.equal_to(year)).drop('time').where('geo', are.contained_in(big_50))\n    c = child_mortality.where('time', are.equal_to(year)).drop('time').where('geo', are.contained_in(big_50))\n    joined = f\n    return joined\nstats_for_year(1960)",
    "id": "20fd9d0a9878451dbef07e2d191333ba",
    "idx": 56,
    "time": "2021-02-16T09:44:38.522Z",
    "type": "execution"
   },
   {
    "id": "20fd9d0a9878451dbef07e2d191333ba",
    "time": "2021-02-16T09:44:39.707Z",
    "type": "completion"
   },
   {
    "code": "# We first create a population table that only includes the \n# 50 countries with the largest 2020 populations. We focus on \n# these 50 countries only so that plotting later will run faster.\nbig_50 = population.where('time', are.equal_to(2020)).sort(\"population_total\", descending=True).take(np.arange(50)).column('geo')\npopulation_of_big_50 = population.where('time', are.above(1959)).where('geo', are.contained_in(big_50))\n\ndef stats_for_year(year):\n    \"\"\"Return a table of the stats for each country that year.\"\"\"\n    p = population_of_big_50.where('time', are.equal_to(year)).drop('time')\n    f = fertility.where('time', are.equal_to(year)).drop('time').where('geo', are.contained_in(big_50))\n    c = child_mortality.where('time', are.equal_to(year)).drop('time').where('geo', are.contained_in(big_50))\n    joined = p\n    return joined\nstats_for_year(1960)",
    "id": "20fd9d0a9878451dbef07e2d191333ba",
    "idx": 56,
    "time": "2021-02-16T09:44:48.965Z",
    "type": "execution"
   },
   {
    "id": "20fd9d0a9878451dbef07e2d191333ba",
    "time": "2021-02-16T09:44:50.165Z",
    "type": "completion"
   },
   {
    "code": "# We first create a population table that only includes the \n# 50 countries with the largest 2020 populations. We focus on \n# these 50 countries only so that plotting later will run faster.\nbig_50 = population.where('time', are.equal_to(2020)).sort(\"population_total\", descending=True).take(np.arange(50)).column('geo')\npopulation_of_big_50 = population.where('time', are.above(1959)).where('geo', are.contained_in(big_50))\n\ndef stats_for_year(year):\n    \"\"\"Return a table of the stats for each country that year.\"\"\"\n    p = population_of_big_50.where('time', are.equal_to(year)).drop('time')\n    f = fertility.where('time', are.equal_to(year)).drop('time').where('geo', are.contained_in(big_50))\n    c = child_mortality.where('time', are.equal_to(year)).drop('time').where('geo', are.contained_in(big_50))\n    joined = c\n    return joined\nstats_for_year(1960)",
    "id": "20fd9d0a9878451dbef07e2d191333ba",
    "idx": 56,
    "time": "2021-02-16T09:45:03.303Z",
    "type": "execution"
   },
   {
    "id": "20fd9d0a9878451dbef07e2d191333ba",
    "time": "2021-02-16T09:45:04.456Z",
    "type": "completion"
   },
   {
    "code": "# We first create a population table that only includes the \n# 50 countries with the largest 2020 populations. We focus on \n# these 50 countries only so that plotting later will run faster.\nbig_50 = population.where('time', are.equal_to(2020)).sort(\"population_total\", descending=True).take(np.arange(50)).column('geo')\npopulation_of_big_50 = population.where('time', are.above(1959)).where('geo', are.contained_in(big_50))\n\ndef stats_for_year(year):\n    \"\"\"Return a table of the stats for each country that year.\"\"\"\n    p = population_of_big_50.where('time', are.equal_to(year)).drop('time')\n    f = fertility.where('time', are.equal_to(year)).drop('time').where('geo', are.contained_in(big_50))\n    c = child_mortality.where('time', are.equal_to(year)).drop('time').where('geo', are.contained_in(big_50))\n    joined = Table().\n    return joined\nstats_for_year(1960)",
    "id": "20fd9d0a9878451dbef07e2d191333ba",
    "idx": 56,
    "time": "2021-02-16T09:45:28.054Z",
    "type": "execution"
   },
   {
    "id": "20fd9d0a9878451dbef07e2d191333ba",
    "time": "2021-02-16T09:45:28.146Z",
    "type": "completion"
   },
   {
    "code": "# We first create a population table that only includes the \n# 50 countries with the largest 2020 populations. We focus on \n# these 50 countries only so that plotting later will run faster.\nbig_50 = population.where('time', are.equal_to(2020)).sort(\"population_total\", descending=True).take(np.arange(50)).column('geo')\npopulation_of_big_50 = population.where('time', are.above(1959)).where('geo', are.contained_in(big_50))\n\ndef stats_for_year(year):\n    \"\"\"Return a table of the stats for each country that year.\"\"\"\n    p = population_of_big_50.where('time', are.equal_to(year)).drop('time')\n    f = fertility.where('time', are.equal_to(year)).drop('time').where('geo', are.contained_in(big_50))\n    c = child_mortality.where('time', are.equal_to(year)).drop('time').where('geo', are.contained_in(big_50))\n    joined = Table().with_columns(\"geo\", p.column('geo'), \"pop\", p.column(\"population_total\"))\n    return joined\nstats_for_year(1960)",
    "id": "20fd9d0a9878451dbef07e2d191333ba",
    "idx": 56,
    "time": "2021-02-16T09:46:06.883Z",
    "type": "execution"
   },
   {
    "id": "20fd9d0a9878451dbef07e2d191333ba",
    "time": "2021-02-16T09:46:08.024Z",
    "type": "completion"
   },
   {
    "code": "# We first create a population table that only includes the \n# 50 countries with the largest 2020 populations. We focus on \n# these 50 countries only so that plotting later will run faster.\nbig_50 = population.where('time', are.equal_to(2020)).sort(\"population_total\", descending=True).take(np.arange(50)).column('geo')\npopulation_of_big_50 = population.where('time', are.above(1959)).where('geo', are.contained_in(big_50))\n\ndef stats_for_year(year):\n    \"\"\"Return a table of the stats for each country that year.\"\"\"\n    p = population_of_big_50.where('time', are.equal_to(year)).drop('time')\n    f = fertility.where('time', are.equal_to(year)).drop('time').where('geo', are.contained_in(big_50))\n    c = child_mortality.where('time', are.equal_to(year)).drop('time').where('geo', are.contained_in(big_50))\n    joined = Table().with_columns(\"geo\", p.column('geo'), \"pop\", p.column(\"population_total\"), )\n    return joined\nstats_for_year(1960)",
    "id": "20fd9d0a9878451dbef07e2d191333ba",
    "idx": 56,
    "time": "2021-02-16T09:46:20.663Z",
    "type": "execution"
   },
   {
    "id": "20fd9d0a9878451dbef07e2d191333ba",
    "time": "2021-02-16T09:46:21.796Z",
    "type": "completion"
   },
   {
    "code": "# We first create a population table that only includes the \n# 50 countries with the largest 2020 populations. We focus on \n# these 50 countries only so that plotting later will run faster.\nbig_50 = population.where('time', are.equal_to(2020)).sort(\"population_total\", descending=True).take(np.arange(50)).column('geo')\npopulation_of_big_50 = population.where('time', are.above(1959)).where('geo', are.contained_in(big_50))\n\ndef stats_for_year(year):\n    \"\"\"Return a table of the stats for each country that year.\"\"\"\n    p = population_of_big_50.where('time', are.equal_to(year)).drop('time')\n    f = fertility.where('time', are.equal_to(year)).drop('time').where('geo', are.contained_in(big_50))\n    c = child_mortality.where('time', are.equal_to(year)).drop('time').where('geo', are.contained_in(big_50))\n    joined = Table().with_columns(\"geo\", p.column('geo'), \"pop\", p.column(\"population_total\"),\n                                  \"fertility\", f.column(\"children_per_woman_total_fertility\"), \"child\", c.column(\"child_mortality_under_5_per_1000_born\"))\n    return joined\nstats_for_year(1960)",
    "id": "20fd9d0a9878451dbef07e2d191333ba",
    "idx": 56,
    "time": "2021-02-16T09:47:21.238Z",
    "type": "execution"
   },
   {
    "id": "20fd9d0a9878451dbef07e2d191333ba",
    "time": "2021-02-16T09:47:22.415Z",
    "type": "completion"
   },
   {
    "code": "# We first create a population table that only includes the \n# 50 countries with the largest 2020 populations. We focus on \n# these 50 countries only so that plotting later will run faster.\nbig_50 = population.where('time', are.equal_to(2020)).sort(\"population_total\", descending=True).take(np.arange(50)).column('geo')\npopulation_of_big_50 = population.where('time', are.above(1959)).where('geo', are.contained_in(big_50))\n\ndef stats_for_year(year):\n    \"\"\"Return a table of the stats for each country that year.\"\"\"\n    p = population_of_big_50.where('time', are.equal_to(year)).drop('time')\n    f = fertility.where('time', are.equal_to(year)).drop('time').where('geo', are.contained_in(big_50))\n    c = child_mortality.where('time', are.equal_to(year)).drop('time').where('geo', are.contained_in(big_50))\n    joined = Table().with_columns(\"geo\", p.column('geo'), \"population_total\", p.column(\"population_total\"),\n                                  \"children_per_woman_total_fertility\", f.column(\"children_per_woman_total_fertility\"),\n                                  \"child_mortality_under_5_per_1000_born\", c.column(\"child_mortality_under_5_per_1000_born\"))\n    return joined\nstats_for_year(1960)",
    "id": "20fd9d0a9878451dbef07e2d191333ba",
    "idx": 56,
    "time": "2021-02-16T09:48:19.357Z",
    "type": "execution"
   },
   {
    "id": "20fd9d0a9878451dbef07e2d191333ba",
    "time": "2021-02-16T09:48:20.655Z",
    "type": "completion"
   },
   {
    "code": "# We first create a population table that only includes the \n# 50 countries with the largest 2020 populations. We focus on \n# these 50 countries only so that plotting later will run faster.\nbig_50 = population.where('time', are.equal_to(2020)).sort(\"population_total\", descending=True).take(np.arange(50)).column('geo')\npopulation_of_big_50 = population.where('time', are.above(1959)).where('geo', are.contained_in(big_50))\n\ndef stats_for_year(year):\n    \"\"\"Return a table of the stats for each country that year.\"\"\"\n    p = population_of_big_50.where('time', are.equal_to(year)).drop('time')\n    f = fertility.where('time', are.equal_to(year)).drop('time').where('geo', are.contained_in(big_50))\n    c = child_mortality.where('time', are.equal_to(year)).drop('time').where('geo', are.contained_in(big_50))\n    big_50_table = Table().with_columns(\"geo\", p.column('geo'), \"population_total\", p.column(\"population_total\"),\n                                  \"children_per_woman_total_fertility\", f.column(\"children_per_woman_total_fertility\"),\n                                  \"child_mortality_under_5_per_1000_born\", c.column(\"child_mortality_under_5_per_1000_born\"))\n    return big_50_table\n",
    "id": "20fd9d0a9878451dbef07e2d191333ba",
    "idx": 56,
    "time": "2021-02-16T09:48:48.263Z",
    "type": "execution"
   },
   {
    "id": "20fd9d0a9878451dbef07e2d191333ba",
    "time": "2021-02-16T09:48:48.795Z",
    "type": "completion"
   },
   {
    "code": "ok.grade(\"q1_11\");",
    "id": "d493181450ad4381aaddb4a988db0b02",
    "idx": 57,
    "time": "2021-02-16T09:48:50.734Z",
    "type": "execution"
   },
   {
    "id": "d493181450ad4381aaddb4a988db0b02",
    "time": "2021-02-16T09:48:53.504Z",
    "type": "completion"
   },
   {
    "code": "countries = Table.read_table('countries.csv').where('country', are.contained_in(population.group('geo').column('geo')))\ncountries.select('country', 'name', 'world_6region')",
    "id": "f0d251b0e0034856803f306b0457a8b6",
    "idx": 65,
    "time": "2021-02-16T09:55:39.157Z",
    "type": "execution"
   },
   {
    "id": "f0d251b0e0034856803f306b0457a8b6",
    "time": "2021-02-16T09:55:41.487Z",
    "type": "completion"
   },
   {
    "code": "# We first create a population table that only includes the \n# 50 countries with the largest 2020 populations. We focus on \n# these 50 countries only so that plotting later will run faster.\nbig_50 = population.where('time', are.equal_to(2020)).sort(\"population_total\", descending=True).take(np.arange(50)).column('geo')\npopulation_of_big_50 = population.where('time', are.above(1959)).where('geo', are.contained_in(big_50))\n\ndef stats_for_year(year):\n    \"\"\"Return a table of the stats for each country that year.\"\"\"\n    p = population_of_big_50.where('time', are.equal_to(year)).drop('time')\n    f = fertility.where('time', are.equal_to(year)).drop('time').where('geo', are.contained_in(big_50))\n    c = child_mortality.where('time', are.equal_to(year)).drop('time').where('geo', are.contained_in(big_50))\n    big_50_table = Table().with_columns(\"geo\", p.column('geo'), \"population_total\", p.column(\"population_total\"),\n                                  \"children_per_woman_total_fertility\", f.column(\"children_per_woman_total_fertility\"),\n                                  \"child_mortality_under_5_per_1000_born\", c.column(\"child_mortality_under_5_per_1000_born\"))\n    return big_50_table\n\nstats_for_year(1990)",
    "id": "20fd9d0a9878451dbef07e2d191333ba",
    "idx": 56,
    "time": "2021-02-16T10:00:12.403Z",
    "type": "execution"
   },
   {
    "id": "20fd9d0a9878451dbef07e2d191333ba",
    "time": "2021-02-16T10:00:13.612Z",
    "type": "completion"
   },
   {
    "code": "def pop_for_year(year):\n    \"\"\"Returns the total population of all countries in the top 50 of population size\"\"\"\n    year_pop_total = sum(stats_for_year(year).column(\"population_total\"))\n    return year_pop_total\n\npop_for_year(1990)",
    "id": "01614ea0345e4a7f8ddfa23c92dc25b2",
    "idx": 59,
    "time": "2021-02-16T10:02:32.201Z",
    "type": "execution"
   },
   {
    "id": "01614ea0345e4a7f8ddfa23c92dc25b2",
    "time": "2021-02-16T10:02:32.976Z",
    "type": "completion"
   },
   {
    "code": "def pop_for_year(year):\n    \"\"\"Returns the total population of all countries in the top 50 of population size\"\"\"\n    year_pop_total = sum(stats_for_year(year).column(\"population_total\"))\n    return year_pop_total",
    "id": "01614ea0345e4a7f8ddfa23c92dc25b2",
    "idx": 59,
    "time": "2021-02-16T10:02:40.929Z",
    "type": "execution"
   },
   {
    "id": "01614ea0345e4a7f8ddfa23c92dc25b2",
    "time": "2021-02-16T10:02:41.022Z",
    "type": "completion"
   },
   {
    "code": "ok.grade(\"q1_12_0\");",
    "id": "d39c814e4e1a448590d0a238cf56c80b",
    "idx": 60,
    "time": "2021-02-16T10:02:42.301Z",
    "type": "execution"
   },
   {
    "id": "d39c814e4e1a448590d0a238cf56c80b",
    "time": "2021-02-16T10:02:45.086Z",
    "type": "completion"
   },
   {
    "code": "decades = Table().with_column('decade', np.arange(1960, 2021, 10))\n\ndecade_pop_total = decades.apply(pop_for_year, \"decade\")\npop_by_decade = decades.with_column('population', decade_pop_total)\npop_by_decade.set_format(1, NumberFormatter)",
    "id": "3167bc1a9c55412c8876ca6dbb14edaf",
    "idx": 62,
    "time": "2021-02-16T10:05:20.064Z",
    "type": "execution"
   },
   {
    "id": "3167bc1a9c55412c8876ca6dbb14edaf",
    "time": "2021-02-16T10:05:24.246Z",
    "type": "completion"
   },
   {
    "code": "ok.grade(\"q1_12\");",
    "id": "d04a7fc808ea4914857dec31654b5f22",
    "idx": 63,
    "time": "2021-02-16T10:05:28.746Z",
    "type": "execution"
   },
   {
    "id": "d04a7fc808ea4914857dec31654b5f22",
    "time": "2021-02-16T10:05:28.917Z",
    "type": "completion"
   },
   {
    "code": "# We first create a population table that only includes the \n# 50 countries with the largest 2020 populations. We focus on \n# these 50 countries only so that plotting later will run faster.\nbig_50 = population.where('time', are.equal_to(2020)).sort(\"population_total\", descending=True).take(np.arange(50)).column('geo')\npopulation_of_big_50 = population.where('time', are.above(1959)).where('geo', are.contained_in(big_50))\n\ndef stats_for_year(year):\n    \"\"\"Return a table of the stats for each country that year.\"\"\"\n    p = population_of_big_50.where('time', are.equal_to(year)).drop('time')\n    f = fertility.where('time', are.equal_to(year)).drop('time').where('geo', are.contained_in(big_50))\n    c = child_mortality.where('time', are.equal_to(year)).drop('time').where('geo', are.contained_in(big_50))\n    big_50_table = Table().with_columns(\"geo\", p.column('geo'), \"population_total\", p.column(\"population_total\"),\n                                  \"children_per_woman_total_fertility\", f.column(\"children_per_woman_total_fertility\"),\n                                  \"child_mortality_under_5_per_1000_born\", c.column(\"child_mortality_under_5_per_1000_born\"))\n    return big_50_table",
    "id": "20fd9d0a9878451dbef07e2d191333ba",
    "idx": 56,
    "time": "2021-02-16T10:05:55.146Z",
    "type": "execution"
   },
   {
    "id": "20fd9d0a9878451dbef07e2d191333ba",
    "time": "2021-02-16T10:05:55.687Z",
    "type": "completion"
   },
   {
    "code": "ok.grade(\"q1_11\");",
    "id": "d493181450ad4381aaddb4a988db0b02",
    "idx": 57,
    "time": "2021-02-16T10:05:56.851Z",
    "type": "execution"
   },
   {
    "id": "d493181450ad4381aaddb4a988db0b02",
    "time": "2021-02-16T10:05:59.600Z",
    "type": "completion"
   },
   {
    "code": "def pop_for_year(year):\n    \"\"\"Returns the total population of all countries in the top 50 of population size\"\"\"\n    year_pop_total = sum(stats_for_year(year).column(\"population_total\"))\n    return year_pop_total",
    "id": "01614ea0345e4a7f8ddfa23c92dc25b2",
    "idx": 59,
    "time": "2021-02-16T10:06:02.593Z",
    "type": "execution"
   },
   {
    "id": "01614ea0345e4a7f8ddfa23c92dc25b2",
    "time": "2021-02-16T10:06:02.683Z",
    "type": "completion"
   },
   {
    "code": "ok.grade(\"q1_12_0\");",
    "id": "d39c814e4e1a448590d0a238cf56c80b",
    "idx": 60,
    "time": "2021-02-16T10:06:04.133Z",
    "type": "execution"
   },
   {
    "id": "d39c814e4e1a448590d0a238cf56c80b",
    "time": "2021-02-16T10:06:06.948Z",
    "type": "completion"
   },
   {
    "code": "decades = Table().with_column('decade', np.arange(1960, 2021, 10))\n\ndecade_pop_total = decades.apply(pop_for_year, \"decade\")\npop_by_decade = decades.with_column('population', decade_pop_total)\npop_by_decade.set_format(1, NumberFormatter)",
    "id": "3167bc1a9c55412c8876ca6dbb14edaf",
    "idx": 62,
    "time": "2021-02-16T10:06:09.820Z",
    "type": "execution"
   },
   {
    "id": "3167bc1a9c55412c8876ca6dbb14edaf",
    "time": "2021-02-16T10:06:14.059Z",
    "type": "completion"
   },
   {
    "code": "ok.grade(\"q1_12\");",
    "id": "d04a7fc808ea4914857dec31654b5f22",
    "idx": 63,
    "time": "2021-02-16T10:06:15.824Z",
    "type": "execution"
   },
   {
    "id": "d04a7fc808ea4914857dec31654b5f22",
    "time": "2021-02-16T10:06:16.017Z",
    "type": "completion"
   },
   {
    "code": "region_counts = stats_for_year(2020)\nregion_counts",
    "id": "b6dd43b7f91244ea96b239615cd26494",
    "idx": 67,
    "time": "2021-02-16T10:11:39.843Z",
    "type": "execution"
   },
   {
    "id": "b6dd43b7f91244ea96b239615cd26494",
    "time": "2021-02-16T10:11:41.175Z",
    "type": "completion"
   },
   {
    "code": "region_counts = countries.join('geo', stats_for_year(2020))\nregion_counts",
    "id": "b6dd43b7f91244ea96b239615cd26494",
    "idx": 67,
    "time": "2021-02-16T10:13:18.114Z",
    "type": "execution"
   },
   {
    "id": "b6dd43b7f91244ea96b239615cd26494",
    "time": "2021-02-16T10:13:18.953Z",
    "type": "completion"
   },
   {
    "code": "region_counts = countries.join('geo', stats_for_year(2020), \"geo\")\nregion_counts",
    "id": "b6dd43b7f91244ea96b239615cd26494",
    "idx": 67,
    "time": "2021-02-16T10:13:26.699Z",
    "type": "execution"
   },
   {
    "id": "b6dd43b7f91244ea96b239615cd26494",
    "time": "2021-02-16T10:13:27.496Z",
    "type": "completion"
   },
   {
    "code": "region_counts = countries.join('country', stats_for_year(2020), \"geo\")\nregion_counts",
    "id": "b6dd43b7f91244ea96b239615cd26494",
    "idx": 67,
    "time": "2021-02-16T10:13:58.466Z",
    "type": "execution"
   },
   {
    "id": "b6dd43b7f91244ea96b239615cd26494",
    "time": "2021-02-16T10:13:59.255Z",
    "type": "completion"
   },
   {
    "code": "region_counts = countries.join('country', stats_for_year(2020), \"geo\").select(\"country\", 'world_6region')\nregion_counts",
    "id": "b6dd43b7f91244ea96b239615cd26494",
    "idx": 67,
    "time": "2021-02-16T10:14:40.513Z",
    "type": "execution"
   },
   {
    "id": "b6dd43b7f91244ea96b239615cd26494",
    "time": "2021-02-16T10:14:41.252Z",
    "type": "completion"
   },
   {
    "code": "country_region = countries.join('country', stats_for_year(2020), \"geo\").select(\"country\", 'world_6region')\nregion_counts = country_region.group(\"world_6region\")\nregion_counts",
    "id": "b6dd43b7f91244ea96b239615cd26494",
    "idx": 67,
    "time": "2021-02-16T10:16:30.077Z",
    "type": "execution"
   },
   {
    "id": "b6dd43b7f91244ea96b239615cd26494",
    "time": "2021-02-16T10:16:30.896Z",
    "type": "completion"
   },
   {
    "code": "country_region = countries.join('country', stats_for_year(2020), \"geo\").select(\"country\", 'world_6region')\nregion_counts = country_region.group(\"world_6region\")\nregion_counts",
    "id": "b6dd43b7f91244ea96b239615cd26494",
    "idx": 67,
    "time": "2021-02-16T10:17:14.434Z",
    "type": "execution"
   },
   {
    "id": "b6dd43b7f91244ea96b239615cd26494",
    "time": "2021-02-16T10:17:15.202Z",
    "type": "completion"
   },
   {
    "code": "ok.grade(\"q1_13\");",
    "id": "001ee4c52f0749aa8e00df60007df554",
    "idx": 68,
    "time": "2021-02-16T10:17:17.086Z",
    "type": "execution"
   },
   {
    "id": "001ee4c52f0749aa8e00df60007df554",
    "time": "2021-02-16T10:17:17.260Z",
    "type": "completion"
   },
   {
    "code": "country_region = countries.join('country', stats_for_year(2020), \"geo\").select(\"country\", 'world_6region')\nregion_counts = country_region.group(\"world_6region\").relable('world_6region', \"region\")\nregion_counts",
    "id": "b6dd43b7f91244ea96b239615cd26494",
    "idx": 67,
    "time": "2021-02-16T10:17:52.423Z",
    "type": "execution"
   },
   {
    "id": "b6dd43b7f91244ea96b239615cd26494",
    "time": "2021-02-16T10:17:53.244Z",
    "type": "completion"
   },
   {
    "code": "country_region = countries.join('country', stats_for_year(2020), \"geo\").select(\"country\", 'world_6region')\nregion_counts = country_region.group(\"world_6region\").relable('world_6region', 'region')\nregion_counts",
    "id": "b6dd43b7f91244ea96b239615cd26494",
    "idx": 67,
    "time": "2021-02-16T10:18:01.622Z",
    "type": "execution"
   },
   {
    "id": "b6dd43b7f91244ea96b239615cd26494",
    "time": "2021-02-16T10:18:02.362Z",
    "type": "completion"
   },
   {
    "code": "country_region = countries.join('country', stats_for_year(2020), \"geo\").select(\"country\", 'world_6region')\nregion_counts = country_region.group(\"world_6region\")\nregion_counts",
    "id": "b6dd43b7f91244ea96b239615cd26494",
    "idx": 67,
    "time": "2021-02-16T10:18:23.679Z",
    "type": "execution"
   },
   {
    "id": "b6dd43b7f91244ea96b239615cd26494",
    "time": "2021-02-16T10:18:24.439Z",
    "type": "completion"
   },
   {
    "code": "country_region = countries.join('country', stats_for_year(2020), \"geo\").select(\"country\", 'world_6region')\nregion_counts = country_region.group(\"world_6region\").relabel(\"world_6region\", \"region\")\nregion_counts",
    "id": "b6dd43b7f91244ea96b239615cd26494",
    "idx": 67,
    "time": "2021-02-16T10:19:08.026Z",
    "type": "execution"
   },
   {
    "id": "b6dd43b7f91244ea96b239615cd26494",
    "time": "2021-02-16T10:19:08.837Z",
    "type": "completion"
   },
   {
    "code": "ok.grade(\"q1_13\");",
    "id": "001ee4c52f0749aa8e00df60007df554",
    "idx": 68,
    "time": "2021-02-16T10:19:13.397Z",
    "type": "execution"
   },
   {
    "id": "001ee4c52f0749aa8e00df60007df554",
    "time": "2021-02-16T10:19:13.567Z",
    "type": "completion"
   },
   {
    "code": "from functools import lru_cache as cache\n\n# This cache annotation makes sure that if the same year\n# is passed as an argument twice, the work of computing\n# the result is only carried out once.\n@cache(None)\ndef stats_relabeled(year):\n    \"\"\"Relabeled and cached version of stats_for_year.\"\"\"\n    return stats_for_year(year).relabel(2, 'Children per woman').relabel(3, 'Child deaths per 1000 born')\n\ndef fertility_vs_child_mortality(year):\n    \"\"\"Draw a color scatter diagram comparing child mortality and fertility.\"\"\"\n    with_region = stats_relabeled(year).join('geo', countries.select('country', 'world_6region'), 'country')\n    with_region.scatter(2, 3, sizes=1, group=4, s=500)\n    plots.xlim(0,6)\n    plots.ylim(-25, 150)\n    plots.title(year)\n\nfertility_vs_child_mortality(2020)",
    "id": "4b439d13417647c7b7329257567e2e97",
    "idx": 70,
    "time": "2021-02-16T10:19:23.018Z",
    "type": "execution"
   },
   {
    "id": "4b439d13417647c7b7329257567e2e97",
    "time": "2021-02-16T10:19:24.408Z",
    "type": "completion"
   },
   {
    "code": "scatter_statements = make_array(2)",
    "id": "e08d2d3d0e3942d294baede8b153201c",
    "idx": 72,
    "time": "2021-02-16T10:21:32.406Z",
    "type": "execution"
   },
   {
    "id": "e08d2d3d0e3942d294baede8b153201c",
    "time": "2021-02-16T10:21:32.491Z",
    "type": "completion"
   },
   {
    "code": "ok.grade(\"q1_14\");",
    "id": "da95897eb6744460a31efe0f945a48ee",
    "idx": 73,
    "time": "2021-02-16T10:21:34.315Z",
    "type": "execution"
   },
   {
    "id": "da95897eb6744460a31efe0f945a48ee",
    "time": "2021-02-16T10:21:34.471Z",
    "type": "completion"
   },
   {
    "code": "import ipywidgets as widgets\n\n# This part takes a few minutes to run because it \n# computes 55 tables in advance: one for each year.\nTable().with_column('Year', np.arange(1960, 2016)).apply(stats_relabeled, 'Year')\n\n_ = widgets.interact(fertility_vs_child_mortality, \n                     year=widgets.IntSlider(min=1960, max=2015, value=1960))",
    "id": "4ad5e08285f0404e85a96dbf791d1398",
    "idx": 75,
    "time": "2021-02-16T10:22:03.781Z",
    "type": "execution"
   },
   {
    "id": "4ad5e08285f0404e85a96dbf791d1398",
    "time": "2021-02-16T10:22:36.608Z",
    "type": "completion"
   },
   {
    "code": "from functools import lru_cache as cache\n\n# This cache annotation makes sure that if the same year\n# is passed as an argument twice, the work of computing\n# the result is only carried out once.\n@cache(None)\ndef stats_relabeled(year):\n    \"\"\"Relabeled and cached version of stats_for_year.\"\"\"\n    return stats_for_year(year).relabel(2, 'Children per woman').relabel(3, 'Child deaths per 1000 born')\n\ndef fertility_vs_child_mortality(year):\n    \"\"\"Draw a color scatter diagram comparing child mortality and fertility.\"\"\"\n    with_region = stats_relabeled(year).join('geo', countries.select('country', 'world_6region'), 'country')\n    with_region.scatter(2, 3, sizes=1, group=4, s=500)\n    plots.xlim(0,6)\n    plots.ylim(-25, 150)\n    plots.title(year)\n\nfertility_vs_child_mortality(2020)",
    "id": "beb9fe9c52684cd09d8f8753745d8cd6",
    "idx": 70,
    "time": "2021-02-16T20:08:36.802Z",
    "type": "execution"
   },
   {
    "id": "beb9fe9c52684cd09d8f8753745d8cd6",
    "time": "2021-02-16T20:08:37.089Z",
    "type": "completion"
   },
   {
    "code": "# Initialize OK\nfrom client.api.notebook import Notebook\nok = Notebook('project1.ok')",
    "id": "5885b4d7bee54db4845d5cad0af3a121",
    "idx": 0,
    "time": "2021-02-16T20:09:04.396Z",
    "type": "execution"
   },
   {
    "code": "from datascience import *\nimport numpy as np\n\n%matplotlib inline\nimport matplotlib.pyplot as plots\nplots.style.use('fivethirtyeight')\n\nfrom client.api.notebook import *\ndef new_save_notebook(self):\n    \"\"\" Saves the current notebook by\n        injecting JavaScript to save to .ipynb file.\n    \"\"\"\n    try:\n        from IPython.display import display, Javascript\n    except ImportError:\n        log.warning(\"Could not import IPython Display Function\")\n        print(\"Make sure to save your notebook before sending it to OK!\")\n        return\n\n    if self.mode == \"jupyter\":\n        display(Javascript('IPython.notebook.save_checkpoint();'))\n        display(Javascript('IPython.notebook.save_notebook();'))\n    elif self.mode == \"jupyterlab\":\n        display(Javascript('document.querySelector(\\'[data-command=\"docmanager:save\"]\\').click();'))   \n\n    print('Saving notebook...', end=' ')\n\n    ipynbs = [path for path in self.assignment.src\n              if os.path.splitext(path)[1] == '.ipynb']\n    # Wait for first .ipynb to save\n    if ipynbs:\n        if wait_for_save(ipynbs[0]):\n            print(\"Saved '{}'.\".format(ipynbs[0]))\n        else:\n            log.warning(\"Timed out waiting for IPython save\")\n            print(\"Could not automatically save \\'{}\\'\".format(ipynbs[0]))\n            print(\"Make sure your notebook\"\n                  \" is correctly named and saved before submitting to OK!\".format(ipynbs[0]))\n            return False                \n    else:\n        print(\"No valid file sources found\")\n    return True\n\ndef wait_for_save(filename, timeout=600):\n    \"\"\"Waits for FILENAME to update, waiting up to TIMEOUT seconds.\n    Returns True if a save was detected, and False otherwise.\n    \"\"\"\n    modification_time = os.path.getmtime(filename)\n    start_time = time.time()\n    while time.time() < start_time + timeout:\n        if (os.path.getmtime(filename) > modification_time and\n            os.path.getsize(filename) > 0):\n            return True\n        time.sleep(0.2)\n    print(\"\\nERROR!\\n YOUR SUBMISSION DID NOT GO THROUGH. PLEASE TRY AGAIN. IF THIS PROBLEM PERSISTS POST ON PIAZZA RIGHT AWAY.\\n ERROR!\" + \"\\n\"*20)\n    return False\n\nNotebook.save_notebook = new_save_notebook\n\nfrom client.api.notebook import Notebook\nok = Notebook('project1.ok')",
    "id": "561f00b7f6a647479be0f8462ce01688",
    "idx": 4,
    "time": "2021-02-16T20:09:04.404Z",
    "type": "execution"
   },
   {
    "code": "_ = ok.submit()",
    "id": "2e33810bf05e4f618ec92771044d9d28",
    "idx": 6,
    "time": "2021-02-16T20:09:04.409Z",
    "type": "execution"
   },
   {
    "code": "population = Table.read_table('population.csv').where(\"time\", are.below(2021))\npopulation.show(3)",
    "id": "7d1db63e75ca40f2800ecf8a188fee34",
    "idx": 9,
    "time": "2021-02-16T20:09:04.417Z",
    "type": "execution"
   },
   {
    "code": "h_pop = population.where(\"geo\", \"hti\").select(\"time\", \"population_total\").where(\"time\", are.between_or_equal_to(1970, 2020))\nh_pop",
    "id": "cde92ca69abd415690202a986abce7ef",
    "idx": 12,
    "time": "2021-02-16T20:09:04.425Z",
    "type": "execution"
   },
   {
    "code": "ok.grade(\"q1_1\");",
    "id": "2fdcd88b4d0e4f7398e04be0373922d7",
    "idx": 13,
    "time": "2021-02-16T20:09:04.429Z",
    "type": "execution"
   },
   {
    "code": "h_pop.set_format('population_total', NumberFormatter)\n\ntens = np.arange(1970, 2021, 10) # 1970, 1980, 1990, ...\nh_decade = h_pop.sort('time').where('time', are.contained_in(tens))\nh_decade.show()",
    "id": "84435787303e45c88ef135e380f4d019",
    "idx": 15,
    "time": "2021-02-16T20:09:04.434Z",
    "type": "execution"
   },
   {
    "code": "initial = h_decade.take(np.arange(5)).column('population_total')\nchanged = h_decade.take(np.arange(1,6)).column('population_total')\n\ngrowth_rates = ((changed/initial)**0.1)-1\n\nh_1970_through_2010 = h_decade.where('time', are.below_or_equal_to(2010)) \nh_decade_growth = h_1970_through_2010.with_column('annual_growth', growth_rates)\n# Don't change this line!\nh_decade_growth.set_format('annual_growth', PercentFormatter)",
    "id": "5d015dbd7ce843e0af579698fb9a255b",
    "idx": 17,
    "time": "2021-02-16T20:09:04.439Z",
    "type": "execution"
   },
   {
    "code": "ok.grade(\"q1_2\");",
    "id": "4ccdb2956ec5408a8df5643e0c47fd71",
    "idx": 18,
    "time": "2021-02-16T20:09:04.443Z",
    "type": "execution"
   },
   {
    "code": "life_expectancy = Table.read_table('life_expectancy.csv').where('time', are.below(2021))\nchild_mortality = Table.read_table('child_mortality.csv').relabel(2, 'child_mortality_under_5_per_1000_born').where('time', are.below(2021))\nfertility = Table.read_table('fertility.csv').where('time', are.below(2021))",
    "id": "fbd601906470427080c3ba7ef0a11207",
    "idx": 20,
    "time": "2021-02-16T20:09:04.448Z",
    "type": "execution"
   },
   {
    "code": "life_expectancy",
    "id": "57d4042c1d03421c8f10314b4804c771",
    "idx": 23,
    "time": "2021-02-16T20:09:04.455Z",
    "type": "execution"
   },
   {
    "code": "child_mortality",
    "id": "fc7bf9f673434068af40617ab321b017",
    "idx": 24,
    "time": "2021-02-16T20:09:04.460Z",
    "type": "execution"
   },
   {
    "code": "fertility",
    "id": "7b749e038d3a41178e7bb4edf47f1f04",
    "idx": 25,
    "time": "2021-02-16T20:09:04.464Z",
    "type": "execution"
   },
   {
    "code": "#Fill in code here\nlife_expectancy.where(\"geo\", 'hti').drop(\"geo\").where('time', are.above_or_equal_to(1970)).plot(\"time\", \"life_expectancy_years\")",
    "id": "9d4cf0757ddd48dc8c627c8c607ec328",
    "idx": 27,
    "time": "2021-02-16T20:09:04.470Z",
    "type": "execution"
   },
   {
    "code": "def fertility_over_time(country, start):\n    \"\"\"Create a two-column table that describes a country's total fertility rate each year.\"\"\"\n    country_fertility = fertility.where(\"geo\", country)\n    country_fertility_after_start = country_fertility.where(\"time\", are.above_or_equal_to(start))\n    cleaned_table = country_fertility_after_start.relabel(\"time\", \n                        \"Year\").relabel(\"children_per_woman_total_fertility\", \n                            \"Children per woman\").drop(\"geo\")\n    return cleaned_table\n    \nhaiti_code = \"hti\"\nfertility_over_time(haiti_code, 1970).plot(0, 1) # You should *not* change this line.\n",
    "id": "5cea5e190edb44989c2b1eb77952d4bf",
    "idx": 32,
    "time": "2021-02-16T20:09:04.478Z",
    "type": "execution"
   },
   {
    "code": "ok.grade(\"q1_5\");",
    "id": "3e1e1dddfbd14f3db0ea038023fb49f1",
    "idx": 33,
    "time": "2021-02-16T20:09:04.482Z",
    "type": "execution"
   },
   {
    "code": "hti_fertility = fertility_over_time(haiti_code, 1970)\nhti_child_mortality = child_mortality.where(\"geo\",\"hti\").where('time', are.above_or_equal_to(1970)).drop('geo')\nfertility_and_child_mortality = hti_fertility.with_column(\"child_mortality_under_5_per_1000_born\", \n                                                          hti_child_mortality.column(\"child_mortality_under_5_per_1000_born\"))\npost_1969_fertility_and_child_mortality = fertility_and_child_mortality.relabel('child_mortality_under_5_per_1000_born',\n                                                                                'Child deaths per 1000 born')\n\n# Don't change this line!\npost_1969_fertility_and_child_mortality.scatter('Children per woman', 'Child deaths per 1000 born')",
    "id": "435efb104be74bc68272feb7d59f50c7",
    "idx": 38,
    "time": "2021-02-16T20:09:04.493Z",
    "type": "execution"
   },
   {
    "code": "ok.grade(\"q1_7\");",
    "id": "366819c1f024414a865c8bb919bc8b61",
    "idx": 39,
    "time": "2021-02-16T20:09:04.497Z",
    "type": "execution"
   },
   {
    "code": "# Don't change this line!\npost_1969_fertility_and_child_mortality.scatter('Year', 'Child deaths per 1000 born')",
    "id": "922147bd32ca4d18b140bcea4a92f032",
    "idx": 42,
    "time": "2021-02-16T20:09:04.503Z",
    "type": "execution"
   },
   {
    "code": "_ = ok.submit()",
    "id": "f487f9a9058b46708bcebffc7df8a2d6",
    "idx": 46,
    "time": "2021-02-16T20:09:04.510Z",
    "type": "execution"
   },
   {
    "code": "Table().with_columns(\n    '1960', fertility.where('time', 1960).column(2),\n    '2013', fertility.where('time', 2013).column(2)\n).hist(bins=np.arange(0, 10, 0.5), unit='child per woman')\n_ = plots.xlabel('Children per woman')\n_ = plots.ylabel('Percent per children per woman')\n_ = plots.xticks(np.arange(10))",
    "id": "12346fb75795494282d5aa4979228672",
    "idx": 49,
    "time": "2021-02-16T20:09:04.517Z",
    "type": "execution"
   },
   {
    "code": "fertility_statements = make_array(3, 5, 6)",
    "id": "bdfa4bdadc9b4b2384afc98d69e00c50",
    "idx": 51,
    "time": "2021-02-16T20:09:04.522Z",
    "type": "execution"
   },
   {
    "code": "ok.grade(\"q1_9\");",
    "id": "dadc10e40c544d57824982581ebd3a85",
    "idx": 52,
    "time": "2021-02-16T20:09:04.526Z",
    "type": "execution"
   },
   {
    "code": "#Fill in code here\npopulation.drop(\"geo\").group(\"time\", sum).plot('time', 'population_total sum')",
    "id": "b71ce20a0c71453c844fe35fd23881ad",
    "idx": 54,
    "time": "2021-02-16T20:09:04.533Z",
    "type": "execution"
   },
   {
    "code": "# We first create a population table that only includes the \n# 50 countries with the largest 2020 populations. We focus on \n# these 50 countries only so that plotting later will run faster.\nbig_50 = population.where('time', are.equal_to(2020)).sort(\"population_total\", descending=True).take(np.arange(50)).column('geo')\npopulation_of_big_50 = population.where('time', are.above(1959)).where('geo', are.contained_in(big_50))\n\ndef stats_for_year(year):\n    \"\"\"Return a table of the stats for each country that year.\"\"\"\n    p = population_of_big_50.where('time', are.equal_to(year)).drop('time')\n    f = fertility.where('time', are.equal_to(year)).drop('time').where('geo', are.contained_in(big_50))\n    c = child_mortality.where('time', are.equal_to(year)).drop('time').where('geo', are.contained_in(big_50))\n    big_50_table = Table().with_columns(\"geo\", p.column('geo'), \"population_total\", p.column(\"population_total\"),\n                                  \"children_per_woman_total_fertility\", f.column(\"children_per_woman_total_fertility\"),\n                                  \"child_mortality_under_5_per_1000_born\", c.column(\"child_mortality_under_5_per_1000_born\"))\n    return big_50_table",
    "id": "2360934d22ce493591e47115e12903fc",
    "idx": 56,
    "time": "2021-02-16T20:09:04.538Z",
    "type": "execution"
   },
   {
    "code": "ok.grade(\"q1_11\");",
    "id": "a0dba889bd3d471481b0615e82bba02d",
    "idx": 57,
    "time": "2021-02-16T20:09:04.543Z",
    "type": "execution"
   },
   {
    "code": "def pop_for_year(year):\n    \"\"\"Returns the total population of all countries in the top 50 of population size\"\"\"\n    year_pop_total = sum(stats_for_year(year).column(\"population_total\"))\n    return year_pop_total",
    "id": "f20ba5bc1b1e47a18d5c841c0f1e780f",
    "idx": 59,
    "time": "2021-02-16T20:09:04.548Z",
    "type": "execution"
   },
   {
    "code": "ok.grade(\"q1_12_0\");",
    "id": "ad63ecc24f2d42b1af937c3a17f17c68",
    "idx": 60,
    "time": "2021-02-16T20:09:04.552Z",
    "type": "execution"
   },
   {
    "code": "decades = Table().with_column('decade', np.arange(1960, 2021, 10))\n\ndecade_pop_total = decades.apply(pop_for_year, \"decade\")\npop_by_decade = decades.with_column('population', decade_pop_total)\npop_by_decade.set_format(1, NumberFormatter)",
    "id": "626c8ce897fb49b7b240f22533a8d478",
    "idx": 62,
    "time": "2021-02-16T20:09:04.558Z",
    "type": "execution"
   },
   {
    "code": "ok.grade(\"q1_12\");",
    "id": "46d8499cf5d04b8f8ed6ea967db2154a",
    "idx": 63,
    "time": "2021-02-16T20:09:04.562Z",
    "type": "execution"
   },
   {
    "code": "countries = Table.read_table('countries.csv').where('country', are.contained_in(population.group('geo').column('geo')))\ncountries.select('country', 'name', 'world_6region')",
    "id": "c626a7ce4aca4bd3930ab4e9799bc6d4",
    "idx": 65,
    "time": "2021-02-16T20:09:04.570Z",
    "type": "execution"
   },
   {
    "code": "country_region = countries.join('country', stats_for_year(2020), \"geo\").select(\"country\", 'world_6region')\nregion_counts = country_region.group(\"world_6region\").relabel(\"world_6region\", \"region\")\nregion_counts",
    "id": "a3e2e5377e0d419d943d075cd349f284",
    "idx": 67,
    "time": "2021-02-16T20:09:04.580Z",
    "type": "execution"
   },
   {
    "code": "ok.grade(\"q1_13\");",
    "id": "cf7b00ac06004301881699993104866f",
    "idx": 68,
    "time": "2021-02-16T20:09:04.584Z",
    "type": "execution"
   },
   {
    "code": "from functools import lru_cache as cache\n\n# This cache annotation makes sure that if the same year\n# is passed as an argument twice, the work of computing\n# the result is only carried out once.\n@cache(None)\ndef stats_relabeled(year):\n    \"\"\"Relabeled and cached version of stats_for_year.\"\"\"\n    return stats_for_year(year).relabel(2, 'Children per woman').relabel(3, 'Child deaths per 1000 born')\n\ndef fertility_vs_child_mortality(year):\n    \"\"\"Draw a color scatter diagram comparing child mortality and fertility.\"\"\"\n    with_region = stats_relabeled(year).join('geo', countries.select('country', 'world_6region'), 'country')\n    with_region.scatter(2, 3, sizes=1, group=4, s=500)\n    plots.xlim(0,6)\n    plots.ylim(-25, 150)\n    plots.title(year)\n\nfertility_vs_child_mortality(2020)",
    "id": "beb9fe9c52684cd09d8f8753745d8cd6",
    "idx": 70,
    "time": "2021-02-16T20:09:04.590Z",
    "type": "execution"
   },
   {
    "code": "scatter_statements = make_array(2)",
    "id": "b0fd2fec1b4c471582c6bf964edcddbb",
    "idx": 72,
    "time": "2021-02-16T20:09:04.595Z",
    "type": "execution"
   },
   {
    "code": "ok.grade(\"q1_14\");",
    "id": "d0f6b4017d784befb2ec25a387634a9d",
    "idx": 73,
    "time": "2021-02-16T20:09:04.599Z",
    "type": "execution"
   },
   {
    "id": "5885b4d7bee54db4845d5cad0af3a121",
    "time": "2021-02-16T20:09:04.932Z",
    "type": "completion"
   },
   {
    "id": "561f00b7f6a647479be0f8462ce01688",
    "time": "2021-02-16T20:09:06.971Z",
    "type": "completion"
   },
   {
    "id": "2e33810bf05e4f618ec92771044d9d28",
    "time": "2021-02-16T20:09:08.128Z",
    "type": "completion"
   },
   {
    "id": "7d1db63e75ca40f2800ecf8a188fee34",
    "time": "2021-02-16T20:09:08.347Z",
    "type": "completion"
   },
   {
    "id": "cde92ca69abd415690202a986abce7ef",
    "time": "2021-02-16T20:09:08.429Z",
    "type": "completion"
   },
   {
    "id": "2fdcd88b4d0e4f7398e04be0373922d7",
    "time": "2021-02-16T20:09:08.609Z",
    "type": "completion"
   },
   {
    "id": "84435787303e45c88ef135e380f4d019",
    "time": "2021-02-16T20:09:08.622Z",
    "type": "completion"
   },
   {
    "id": "5d015dbd7ce843e0af579698fb9a255b",
    "time": "2021-02-16T20:09:08.628Z",
    "type": "completion"
   },
   {
    "id": "4ccdb2956ec5408a8df5643e0c47fd71",
    "time": "2021-02-16T20:09:08.736Z",
    "type": "completion"
   },
   {
    "id": "fbd601906470427080c3ba7ef0a11207",
    "time": "2021-02-16T20:09:09.008Z",
    "type": "completion"
   },
   {
    "id": "57d4042c1d03421c8f10314b4804c771",
    "time": "2021-02-16T20:09:09.013Z",
    "type": "completion"
   },
   {
    "id": "fc7bf9f673434068af40617ab321b017",
    "time": "2021-02-16T20:09:09.111Z",
    "type": "completion"
   },
   {
    "id": "7b749e038d3a41178e7bb4edf47f1f04",
    "time": "2021-02-16T20:09:09.116Z",
    "type": "completion"
   },
   {
    "id": "9d4cf0757ddd48dc8c627c8c607ec328",
    "time": "2021-02-16T20:09:09.565Z",
    "type": "completion"
   },
   {
    "id": "5cea5e190edb44989c2b1eb77952d4bf",
    "time": "2021-02-16T20:09:09.872Z",
    "type": "completion"
   },
   {
    "id": "3e1e1dddfbd14f3db0ea038023fb49f1",
    "time": "2021-02-16T20:09:10.064Z",
    "type": "completion"
   },
   {
    "id": "435efb104be74bc68272feb7d59f50c7",
    "time": "2021-02-16T20:09:10.908Z",
    "type": "completion"
   },
   {
    "id": "366819c1f024414a865c8bb919bc8b61",
    "time": "2021-02-16T20:09:10.926Z",
    "type": "completion"
   },
   {
    "id": "922147bd32ca4d18b140bcea4a92f032",
    "time": "2021-02-16T20:09:11.067Z",
    "type": "completion"
   },
   {
    "id": "f487f9a9058b46708bcebffc7df8a2d6",
    "time": "2021-02-16T20:09:13.229Z",
    "type": "completion"
   },
   {
    "id": "12346fb75795494282d5aa4979228672",
    "time": "2021-02-16T20:09:14.559Z",
    "type": "completion"
   },
   {
    "id": "bdfa4bdadc9b4b2384afc98d69e00c50",
    "time": "2021-02-16T20:09:14.562Z",
    "type": "completion"
   },
   {
    "id": "dadc10e40c544d57824982581ebd3a85",
    "time": "2021-02-16T20:09:14.675Z",
    "type": "completion"
   },
   {
    "id": "b71ce20a0c71453c844fe35fd23881ad",
    "time": "2021-02-16T20:09:16.915Z",
    "type": "completion"
   },
   {
    "id": "2360934d22ce493591e47115e12903fc",
    "time": "2021-02-16T20:09:17.129Z",
    "type": "completion"
   },
   {
    "id": "a0dba889bd3d471481b0615e82bba02d",
    "time": "2021-02-16T20:09:20.419Z",
    "type": "completion"
   },
   {
    "id": "f20ba5bc1b1e47a18d5c841c0f1e780f",
    "time": "2021-02-16T20:09:20.425Z",
    "type": "completion"
   },
   {
    "id": "ad63ecc24f2d42b1af937c3a17f17c68",
    "time": "2021-02-16T20:09:23.772Z",
    "type": "completion"
   },
   {
    "id": "626c8ce897fb49b7b240f22533a8d478",
    "time": "2021-02-16T20:09:28.325Z",
    "type": "completion"
   },
   {
    "id": "46d8499cf5d04b8f8ed6ea967db2154a",
    "time": "2021-02-16T20:09:28.400Z",
    "type": "completion"
   },
   {
    "id": "c626a7ce4aca4bd3930ab4e9799bc6d4",
    "time": "2021-02-16T20:09:30.269Z",
    "type": "completion"
   },
   {
    "id": "a3e2e5377e0d419d943d075cd349f284",
    "time": "2021-02-16T20:09:31.076Z",
    "type": "completion"
   },
   {
    "id": "cf7b00ac06004301881699993104866f",
    "time": "2021-02-16T20:09:31.231Z",
    "type": "completion"
   },
   {
    "id": "beb9fe9c52684cd09d8f8753745d8cd6",
    "time": "2021-02-16T20:09:32.984Z",
    "type": "completion"
   },
   {
    "id": "b0fd2fec1b4c471582c6bf964edcddbb",
    "time": "2021-02-16T20:09:32.987Z",
    "type": "completion"
   },
   {
    "id": "d0f6b4017d784befb2ec25a387634a9d",
    "time": "2021-02-16T20:09:33.009Z",
    "type": "completion"
   },
   {
    "code": "from functools import lru_cache as cache\n\n# This cache annotation makes sure that if the same year\n# is passed as an argument twice, the work of computing\n# the result is only carried out once.\n@cache(None)\ndef stats_relabeled(year):\n    \"\"\"Relabeled and cached version of stats_for_year.\"\"\"\n    return stats_for_year(year).relabel(2, 'Children per woman').relabel(3, 'Child deaths per 1000 born')\n\ndef fertility_vs_child_mortality(year):\n    \"\"\"Draw a color scatter diagram comparing child mortality and fertility.\"\"\"\n    with_region = stats_relabeled(year).join('geo', countries.select('country', 'world_6region'), 'country')\n    with_region.scatter(2, 3, sizes=1, group=4, s=500)\n    plots.xlim(0,6)\n    plots.ylim(-25, 150)\n    plots.title(year)\n\nfertility_vs_child_mortality(2020)",
    "id": "beb9fe9c52684cd09d8f8753745d8cd6",
    "idx": 70,
    "time": "2021-02-16T20:10:13.685Z",
    "type": "execution"
   },
   {
    "id": "beb9fe9c52684cd09d8f8753745d8cd6",
    "time": "2021-02-16T20:10:15.815Z",
    "type": "completion"
   },
   {
    "code": "population = Table.read_table('population.csv')\ncountries = Table.read_table('countries.csv').where('country', are.contained_in(population.group('geo').column('geo')))\npoverty = Table.read_table('poverty.csv')\npoverty.show(3)",
    "id": "fe8ad9e4c42c498a8afb44a97dd78aa6",
    "idx": 80,
    "time": "2021-02-16T20:42:04.837Z",
    "type": "execution"
   },
   {
    "id": "fe8ad9e4c42c498a8afb44a97dd78aa6",
    "time": "2021-02-16T20:42:08.005Z",
    "type": "completion"
   },
   {
    "code": "population = Table.read_table('population.csv')\ncountries = Table.read_table('countries.csv').where('country', are.contained_in(population.group('geo').column('geo')))\npoverty = Table.read_table('poverty.csv')\npopulation.show(3)",
    "id": "fe8ad9e4c42c498a8afb44a97dd78aa6",
    "idx": 80,
    "time": "2021-02-16T20:44:01.346Z",
    "type": "execution"
   },
   {
    "id": "fe8ad9e4c42c498a8afb44a97dd78aa6",
    "time": "2021-02-16T20:44:05.433Z",
    "type": "completion"
   },
   {
    "code": "population = Table.read_table('population.csv')\ncountries = Table.read_table('countries.csv').where('country', are.contained_in(population.group('geo').column('geo')))\npoverty = Table.read_table('poverty.csv')\ncountries.show(3)",
    "id": "fe8ad9e4c42c498a8afb44a97dd78aa6",
    "idx": 80,
    "time": "2021-02-16T20:44:14.411Z",
    "type": "execution"
   },
   {
    "id": "fe8ad9e4c42c498a8afb44a97dd78aa6",
    "time": "2021-02-16T20:44:17.099Z",
    "type": "completion"
   },
   {
    "code": "population = Table.read_table('population.csv')\ncountries = Table.read_table('countries.csv').where('country', are.contained_in(population.group('geo').column('geo')))\npoverty = Table.read_table('poverty.csv')\npoverty.show(3)",
    "id": "fe8ad9e4c42c498a8afb44a97dd78aa6",
    "idx": 80,
    "time": "2021-02-16T20:45:00.687Z",
    "type": "execution"
   },
   {
    "id": "fe8ad9e4c42c498a8afb44a97dd78aa6",
    "time": "2021-02-16T20:45:03.488Z",
    "type": "completion"
   },
   {
    "code": "def first(values):\n    return values.item(0)\n\nlatest_poverty = first(poverty)\nlatest_poverty = latest_poverty.relabeled(0, 'geo').relabeled(1, 'time').relabeled(2, 'poverty_percent') # You should *not* change this line.\nlatest_poverty",
    "id": "492e626e4e41479f81d78df31cda0ae4",
    "idx": 82,
    "time": "2021-02-16T20:48:04.649Z",
    "type": "execution"
   },
   {
    "id": "492e626e4e41479f81d78df31cda0ae4",
    "time": "2021-02-16T20:48:05.293Z",
    "type": "completion"
   },
   {
    "code": "def first(values):\n    return values.item(0)\n\nlatest_poverty = poverty.group('geo')\nlatest_poverty = latest_poverty.relabeled(0, 'geo').relabeled(1, 'time').relabeled(2, 'poverty_percent') # You should *not* change this line.\nlatest_poverty",
    "id": "492e626e4e41479f81d78df31cda0ae4",
    "idx": 82,
    "time": "2021-02-16T20:51:12.246Z",
    "type": "execution"
   },
   {
    "id": "492e626e4e41479f81d78df31cda0ae4",
    "time": "2021-02-16T20:51:12.666Z",
    "type": "completion"
   },
   {
    "code": "def first(values):\n    return values.item(0)\n\nlatest_poverty = poverty.group('geo')\n#latest_poverty = latest_poverty.relabeled(0, 'geo').relabeled(1, 'time').relabeled(2, 'poverty_percent') # You should *not* change this line.\nlatest_poverty",
    "id": "492e626e4e41479f81d78df31cda0ae4",
    "idx": 82,
    "time": "2021-02-16T20:51:26.301Z",
    "type": "execution"
   },
   {
    "id": "492e626e4e41479f81d78df31cda0ae4",
    "time": "2021-02-16T20:51:26.470Z",
    "type": "completion"
   },
   {
    "code": "def first(values):\n    return values.item(0)\n\nlatest_poverty = poverty.group('geo', first)\n#latest_poverty = latest_poverty.relabeled(0, 'geo').relabeled(1, 'time').relabeled(2, 'poverty_percent') # You should *not* change this line.\nlatest_poverty",
    "id": "492e626e4e41479f81d78df31cda0ae4",
    "idx": 82,
    "time": "2021-02-16T20:51:47.226Z",
    "type": "execution"
   },
   {
    "id": "492e626e4e41479f81d78df31cda0ae4",
    "time": "2021-02-16T20:51:47.415Z",
    "type": "completion"
   },
   {
    "code": "def first(values):\n    return values.item(0)\n\nlatest_poverty = poverty.group('geo', first)\nlatest_poverty = latest_poverty.relabeled(0, 'geo').relabeled(1, 'time').relabeled(2, 'poverty_percent') # You should *not* change this line.\nlatest_poverty",
    "id": "492e626e4e41479f81d78df31cda0ae4",
    "idx": 82,
    "time": "2021-02-16T20:52:18.246Z",
    "type": "execution"
   },
   {
    "id": "492e626e4e41479f81d78df31cda0ae4",
    "time": "2021-02-16T20:52:18.451Z",
    "type": "completion"
   },
   {
    "code": "ok.grade(\"q2_1\");",
    "id": "deada6744d5b48ae8e6385bd5a1b2d58",
    "idx": 83,
    "time": "2021-02-16T20:52:22.678Z",
    "type": "execution"
   },
   {
    "id": "deada6744d5b48ae8e6385bd5a1b2d58",
    "time": "2021-02-16T20:52:22.889Z",
    "type": "completion"
   },
   {
    "code": "def first(values):\n    return values.item(0)\n\nlatest_poverty = poverty.where('geo', \"arg\")\n3latest_poverty = latest_poverty.relabeled(0, 'geo').relabeled(1, 'time').relabeled(2, 'poverty_percent') # You should *not* change this line.\nlatest_poverty",
    "id": "492e626e4e41479f81d78df31cda0ae4",
    "idx": 82,
    "time": "2021-02-16T20:54:13.620Z",
    "type": "execution"
   },
   {
    "id": "492e626e4e41479f81d78df31cda0ae4",
    "time": "2021-02-16T20:54:13.743Z",
    "type": "completion"
   },
   {
    "code": "def first(values):\n    return values.item(0)\n\nlatest_poverty = poverty.where('geo', \"arg\")\n#latest_poverty = latest_poverty.relabeled(0, 'geo').relabeled(1, 'time').relabeled(2, 'poverty_percent') # You should *not* change this line.\nlatest_poverty",
    "id": "492e626e4e41479f81d78df31cda0ae4",
    "idx": 82,
    "time": "2021-02-16T20:54:21.342Z",
    "type": "execution"
   },
   {
    "id": "492e626e4e41479f81d78df31cda0ae4",
    "time": "2021-02-16T20:54:21.535Z",
    "type": "completion"
   },
   {
    "code": "def first(values):\n    return values.item(0)\n\nlatest_poverty = poverty.where('geo', \"arg\").show(all)\n#latest_poverty = latest_poverty.relabeled(0, 'geo').relabeled(1, 'time').relabeled(2, 'poverty_percent') # You should *not* change this line.\nlatest_poverty",
    "id": "492e626e4e41479f81d78df31cda0ae4",
    "idx": 82,
    "time": "2021-02-16T20:54:34.706Z",
    "type": "execution"
   },
   {
    "id": "492e626e4e41479f81d78df31cda0ae4",
    "time": "2021-02-16T20:54:34.935Z",
    "type": "completion"
   },
   {
    "code": "def first(values):\n    return values.item(0)\n\nlatest_poverty = poverty.where('geo', \"arg\").show()\n#latest_poverty = latest_poverty.relabeled(0, 'geo').relabeled(1, 'time').relabeled(2, 'poverty_percent') # You should *not* change this line.\nlatest_poverty",
    "id": "492e626e4e41479f81d78df31cda0ae4",
    "idx": 82,
    "time": "2021-02-16T20:54:40.323Z",
    "type": "execution"
   },
   {
    "id": "492e626e4e41479f81d78df31cda0ae4",
    "time": "2021-02-16T20:54:40.653Z",
    "type": "completion"
   },
   {
    "code": "def first(values):\n    return values.item(0)\n\nlatest_poverty = poverty.group(['geo', \"time\"]).show()\n#latest_poverty = latest_poverty.relabeled(0, 'geo').relabeled(1, 'time').relabeled(2, 'poverty_percent') # You should *not* change this line.\nlatest_poverty",
    "id": "492e626e4e41479f81d78df31cda0ae4",
    "idx": 82,
    "time": "2021-02-16T20:58:47.410Z",
    "type": "execution"
   },
   {
    "id": "492e626e4e41479f81d78df31cda0ae4",
    "time": "2021-02-16T20:58:48.434Z",
    "type": "completion"
   },
   {
    "code": "def first(values):\n    return values.item(0)\n\nlatest_poverty = poverty.group(['geo', \"time\"]).sort(\"time\", descending=True)\n#latest_poverty = latest_poverty.relabeled(0, 'geo').relabeled(1, 'time').relabeled(2, 'poverty_percent') # You should *not* change this line.\nlatest_poverty",
    "id": "492e626e4e41479f81d78df31cda0ae4",
    "idx": 82,
    "time": "2021-02-16T20:59:37.006Z",
    "type": "execution"
   },
   {
    "id": "492e626e4e41479f81d78df31cda0ae4",
    "time": "2021-02-16T20:59:37.364Z",
    "type": "completion"
   },
   {
    "code": "def first(values):\n    return values.item(0)\n\nlatest_poverty = poverty.group(['geo', \"time\"], first)\nlatest_poverty = latest_poverty.relabeled(0, 'geo').relabeled(1, 'time').relabeled(2, 'poverty_percent') # You should *not* change this line.\nlatest_poverty",
    "id": "492e626e4e41479f81d78df31cda0ae4",
    "idx": 82,
    "time": "2021-02-16T21:01:08.731Z",
    "type": "execution"
   },
   {
    "id": "492e626e4e41479f81d78df31cda0ae4",
    "time": "2021-02-16T21:01:10.737Z",
    "type": "completion"
   },
   {
    "code": "def first(values):\n    return values.item(0)\n\nlatest_poverty = poverty.group(['geo', \"poverty_percent\"], first)\nlatest_poverty = latest_poverty.relabeled(0, 'geo').relabeled(1, 'time').relabeled(2, 'poverty_percent') # You should *not* change this line.\nlatest_poverty",
    "id": "492e626e4e41479f81d78df31cda0ae4",
    "idx": 82,
    "time": "2021-02-16T21:01:44.184Z",
    "type": "execution"
   },
   {
    "id": "492e626e4e41479f81d78df31cda0ae4",
    "time": "2021-02-16T21:01:44.520Z",
    "type": "completion"
   },
   {
    "code": "def first(values):\n    return values.item(0)\n\nlatest_poverty = poverty.group(['geo', \"extreme_poverty_percent_people_below_125_a_day\"], first)\nlatest_poverty = latest_poverty.relabeled(0, 'geo').relabeled(1, 'time').relabeled(2, 'poverty_percent') # You should *not* change this line.\nlatest_poverty",
    "id": "492e626e4e41479f81d78df31cda0ae4",
    "idx": 82,
    "time": "2021-02-16T21:02:30.015Z",
    "type": "execution"
   },
   {
    "id": "492e626e4e41479f81d78df31cda0ae4",
    "time": "2021-02-16T21:02:30.210Z",
    "type": "completion"
   },
   {
    "code": "def first(values):\n    return values.item(0)\n\nlatest_poverty = poverty.group('geo', first)\nlatest_poverty = latest_poverty.relabeled(0, 'geo').relabeled(1, 'time').relabeled(2, 'poverty_percent') # You should *not* change this line.\nlatest_poverty",
    "id": "492e626e4e41479f81d78df31cda0ae4",
    "idx": 82,
    "time": "2021-02-16T21:02:54.626Z",
    "type": "execution"
   },
   {
    "id": "492e626e4e41479f81d78df31cda0ae4",
    "time": "2021-02-16T21:02:54.822Z",
    "type": "completion"
   },
   {
    "code": "def first(values):\n    return values.item(0)\n\nlatest_poverty = poverty.group('geo').show()\n#latest_poverty = latest_poverty.relabeled(0, 'geo').relabeled(1, 'time').relabeled(2, 'poverty_percent') # You should *not* change this line.\nlatest_poverty",
    "id": "492e626e4e41479f81d78df31cda0ae4",
    "idx": 82,
    "time": "2021-02-16T21:03:37.625Z",
    "type": "execution"
   },
   {
    "id": "492e626e4e41479f81d78df31cda0ae4",
    "time": "2021-02-16T21:03:37.884Z",
    "type": "completion"
   },
   {
    "code": "def first(values):\n    return values.item(0)\n\nlatest_poverty = poverty.group(['geo', 'time']).show()\n''#latest_poverty = latest_poverty.relabeled(0, 'geo').relabeled(1, 'time').relabeled(2, 'poverty_percent') # You should *not* change this line.\nlatest_poverty",
    "id": "492e626e4e41479f81d78df31cda0ae4",
    "idx": 82,
    "time": "2021-02-16T21:04:26.648Z",
    "type": "execution"
   },
   {
    "id": "492e626e4e41479f81d78df31cda0ae4",
    "time": "2021-02-16T21:04:27.466Z",
    "type": "completion"
   },
   {
    "code": "def first(values):\n    return values.item(0)\n\nlatest_poverty = poverty.sort('time', descending = True).group(['geo', 'time']).show()\n''#latest_poverty = latest_poverty.relabeled(0, 'geo').relabeled(1, 'time').relabeled(2, 'poverty_percent') # You should *not* change this line.\nlatest_poverty",
    "id": "492e626e4e41479f81d78df31cda0ae4",
    "idx": 82,
    "time": "2021-02-16T21:05:26.495Z",
    "type": "execution"
   },
   {
    "id": "492e626e4e41479f81d78df31cda0ae4",
    "time": "2021-02-16T21:05:27.419Z",
    "type": "completion"
   },
   {
    "code": "def first(values):\n    return values.item(0)\n\nlatest_poverty = poverty.sort('time', descending = True).group(['geo', 'time']).show()\n#latest_poverty = latest_poverty.relabeled(0, 'geo').relabeled(1, 'time').relabeled(2, 'poverty_percent') # You should *not* change this line.\nlatest_poverty",
    "id": "492e626e4e41479f81d78df31cda0ae4",
    "idx": 82,
    "time": "2021-02-16T21:05:51.212Z",
    "type": "execution"
   },
   {
    "id": "492e626e4e41479f81d78df31cda0ae4",
    "time": "2021-02-16T21:05:51.953Z",
    "type": "completion"
   },
   {
    "code": "def first(values):\n    return values.item(0)\n\nlatest_poverty = poverty.sort('time', descending = True).group(['geo']).show()\n#latest_poverty = latest_poverty.relabeled(0, 'geo').relabeled(1, 'time').relabeled(2, 'poverty_percent') # You should *not* change this line.\nlatest_poverty",
    "id": "492e626e4e41479f81d78df31cda0ae4",
    "idx": 82,
    "time": "2021-02-16T21:06:02.535Z",
    "type": "execution"
   },
   {
    "id": "492e626e4e41479f81d78df31cda0ae4",
    "time": "2021-02-16T21:06:03.115Z",
    "type": "completion"
   },
   {
    "code": "def first(values):\n    return values.item(0)\n\nlatest_poverty = poverty.sort('time', descending = True).group('geo', first).show()\n#latest_poverty = latest_poverty.relabeled(0, 'geo').relabeled(1, 'time').relabeled(2, 'poverty_percent') # You should *not* change this line.\nlatest_poverty",
    "id": "492e626e4e41479f81d78df31cda0ae4",
    "idx": 82,
    "time": "2021-02-16T21:06:14.185Z",
    "type": "execution"
   },
   {
    "id": "492e626e4e41479f81d78df31cda0ae4",
    "time": "2021-02-16T21:06:14.690Z",
    "type": "completion"
   },
   {
    "code": "def first(values):\n    return values.item(0)\n\nlatest_poverty = poverty.where(\"geo\", \"ago\")\n#latest_poverty = poverty.sort('time', descending = True).group('geo', first)\n#latest_poverty = latest_poverty.relabeled(0, 'geo').relabeled(1, 'time').relabeled(2, 'poverty_percent') # You should *not* change this line.\nlatest_poverty",
    "id": "492e626e4e41479f81d78df31cda0ae4",
    "idx": 82,
    "time": "2021-02-16T21:07:36.273Z",
    "type": "execution"
   },
   {
    "id": "492e626e4e41479f81d78df31cda0ae4",
    "time": "2021-02-16T21:07:36.401Z",
    "type": "completion"
   },
   {
    "code": "def first(values):\n    return values.item(0)\n\nlatest_poverty = poverty.sort('time', descending = True).group('geo', first)\nlatest_poverty = latest_poverty.relabeled(0, 'geo').relabeled(1, 'time').relabeled(2, 'poverty_percent') # You should *not* change this line.\nlatest_poverty",
    "id": "492e626e4e41479f81d78df31cda0ae4",
    "idx": 82,
    "time": "2021-02-16T21:07:54.900Z",
    "type": "execution"
   },
   {
    "id": "492e626e4e41479f81d78df31cda0ae4",
    "time": "2021-02-16T21:07:55.114Z",
    "type": "completion"
   },
   {
    "code": "ok.grade(\"q2_1\");",
    "id": "deada6744d5b48ae8e6385bd5a1b2d58",
    "idx": 83,
    "time": "2021-02-16T21:08:00.047Z",
    "type": "execution"
   },
   {
    "id": "deada6744d5b48ae8e6385bd5a1b2d58",
    "time": "2021-02-16T21:08:00.433Z",
    "type": "completion"
   },
   {
    "code": "population = Table.read_table('population.csv')\ncountries = Table.read_table('countries.csv').where('country', are.contained_in(population.group('geo').column('geo')))\npoverty = Table.read_table('poverty.csv')\npopulation.show(3)",
    "id": "fe8ad9e4c42c498a8afb44a97dd78aa6",
    "idx": 80,
    "time": "2021-02-16T21:12:18.670Z",
    "type": "execution"
   },
   {
    "id": "fe8ad9e4c42c498a8afb44a97dd78aa6",
    "time": "2021-02-16T21:12:21.939Z",
    "type": "completion"
   },
   {
    "code": "population = Table.read_table('population.csv')\ncountries = Table.read_table('countries.csv').where('country', are.contained_in(population.group('geo').column('geo')))\npoverty = Table.read_table('poverty.csv')\npopulation.where('time', 2010)",
    "id": "fe8ad9e4c42c498a8afb44a97dd78aa6",
    "idx": 80,
    "time": "2021-02-16T21:12:31.708Z",
    "type": "execution"
   },
   {
    "id": "fe8ad9e4c42c498a8afb44a97dd78aa6",
    "time": "2021-02-16T21:12:34.964Z",
    "type": "completion"
   },
   {
    "code": "population_2010 = population.where('time', 2010)\npoverty_and_pop = latest_poverty.drop('time').join('geo', population_2010)\nrecent_poverty_total = ...\nrecent_poverty_total",
    "id": "8452c8e2e4fe48eb84aa51aa225ba413",
    "idx": 85,
    "time": "2021-02-16T21:13:08.013Z",
    "type": "execution"
   },
   {
    "id": "8452c8e2e4fe48eb84aa51aa225ba413",
    "time": "2021-02-16T21:13:08.789Z",
    "type": "completion"
   },
   {
    "code": "population_2010 = population.where('time', 2010)\npoverty_and_pop = latest_poverty.drop('time').join('geo', population_2010)\nrecent_poverty_total = ...\npoverty_and_pop",
    "id": "8452c8e2e4fe48eb84aa51aa225ba413",
    "idx": 85,
    "time": "2021-02-16T21:13:37.218Z",
    "type": "execution"
   },
   {
    "id": "8452c8e2e4fe48eb84aa51aa225ba413",
    "time": "2021-02-16T21:13:37.882Z",
    "type": "completion"
   },
   {
    "code": "population_2010 = population.where('time', 2010)\npoverty_and_pop = latest_poverty.drop('time').join('geo', population_2010).drop(\"time\")\nrecent_poverty_total = ...\npoverty_and_pop",
    "id": "8452c8e2e4fe48eb84aa51aa225ba413",
    "idx": 85,
    "time": "2021-02-16T21:14:04.247Z",
    "type": "execution"
   },
   {
    "id": "8452c8e2e4fe48eb84aa51aa225ba413",
    "time": "2021-02-16T21:14:04.913Z",
    "type": "completion"
   },
   {
    "code": "population_2010 = population.where('time', 2010)\npoverty_and_pop = latest_poverty.drop('time').join('geo', population_2010).drop(\"time\")\nrecent_poverty_total = poverty_and_pop.with_column(\"poverty_total\", \n                                                poverty_and_pop.column('poverty_percent')/100 * poverty_and_pop.column(\"population_total\"))\npoverty_and_pop",
    "id": "8452c8e2e4fe48eb84aa51aa225ba413",
    "idx": 85,
    "time": "2021-02-16T21:19:50.499Z",
    "type": "execution"
   },
   {
    "id": "8452c8e2e4fe48eb84aa51aa225ba413",
    "time": "2021-02-16T21:19:51.145Z",
    "type": "completion"
   },
   {
    "code": "population_2010 = population.where('time', 2010)\npoverty_and_pop = latest_poverty.drop('time').join('geo', population_2010).drop(\"time\")\nrecent_poverty_total = poverty_and_pop.with_column(\"poverty_total\", \n                                                poverty_and_pop.column('poverty_percent')/100 * poverty_and_pop.column(\"population_total\"))\nrecent_poverty_total",
    "id": "8452c8e2e4fe48eb84aa51aa225ba413",
    "idx": 85,
    "time": "2021-02-16T21:20:10.359Z",
    "type": "execution"
   },
   {
    "id": "8452c8e2e4fe48eb84aa51aa225ba413",
    "time": "2021-02-16T21:20:11.323Z",
    "type": "completion"
   },
   {
    "code": "ok.grade(\"q2_2\");",
    "id": "617f3cf1382244acbaebd09b34da4953",
    "idx": 86,
    "time": "2021-02-16T21:21:03.480Z",
    "type": "execution"
   },
   {
    "id": "617f3cf1382244acbaebd09b34da4953",
    "time": "2021-02-16T21:21:03.701Z",
    "type": "completion"
   },
   {
    "code": "population_2010 = population.where('time', 2010)\npoverty_and_pop = latest_poverty.drop('time').join('geo', population_2010).drop(\"time\")\nrecent_poverty_total = poverty_and_pop.with_column(\"poverty_total\", \n                                                round(poverty_and_pop.column('poverty_percent')/100 * poverty_and_pop.column(\"population_total\"))\nrecent_poverty_total",
    "id": "8452c8e2e4fe48eb84aa51aa225ba413",
    "idx": 85,
    "time": "2021-02-16T21:21:27.102Z",
    "type": "execution"
   },
   {
    "id": "8452c8e2e4fe48eb84aa51aa225ba413",
    "time": "2021-02-16T21:21:27.270Z",
    "type": "completion"
   },
   {
    "code": "population_2010 = population.where('time', 2010)\npoverty_and_pop = latest_poverty.drop('time').join('geo', population_2010).drop(\"time\")\nrecent_poverty_total = poverty_and_pop.with_column(\"poverty_total\", \n                                                round(poverty_and_pop.column('poverty_percent')/100 * poverty_and_pop.column(\"population_total\")))\nrecent_poverty_total",
    "id": "8452c8e2e4fe48eb84aa51aa225ba413",
    "idx": 85,
    "time": "2021-02-16T21:21:45.376Z",
    "type": "execution"
   },
   {
    "id": "8452c8e2e4fe48eb84aa51aa225ba413",
    "time": "2021-02-16T21:21:46.126Z",
    "type": "completion"
   },
   {
    "code": "population_2010 = population.where('time', 2010)\npoverty_and_pop = latest_poverty.drop('time').join('geo', population_2010).drop(\"time\")\nrecent_poverty_total = poverty_and_pop.with_column(\"poverty_total\", \n                    poverty_and_pop.column('poverty_percent')/100 * poverty_and_pop.column(\"population_total\"))\nrecent_poverty_total",
    "id": "8452c8e2e4fe48eb84aa51aa225ba413",
    "idx": 85,
    "time": "2021-02-16T21:22:46.540Z",
    "type": "execution"
   },
   {
    "id": "8452c8e2e4fe48eb84aa51aa225ba413",
    "time": "2021-02-16T21:22:47.259Z",
    "type": "completion"
   },
   {
    "code": "population_2010 = population.where('time', 2010)\npoverty_and_pop = latest_poverty.drop('time').join('geo', population_2010).drop(\"time\")\nrecent_poverty_total = poverty_and_pop.with_column(\"poverty_total\", \n                    poverty_and_pop.column('poverty_percent')/100 * poverty_and_pop.column(\"population_total\")).apply(round, \"poverty_total\")\nrecent_poverty_total",
    "id": "8452c8e2e4fe48eb84aa51aa225ba413",
    "idx": 85,
    "time": "2021-02-16T21:23:14.152Z",
    "type": "execution"
   },
   {
    "id": "8452c8e2e4fe48eb84aa51aa225ba413",
    "time": "2021-02-16T21:23:14.904Z",
    "type": "completion"
   },
   {
    "code": "population_2010 = population.where('time', 2010)\npoverty_and_pop = latest_poverty.drop('time').join('geo', population_2010).drop(\"time\")\nrecent_poverty_total = poverty_and_pop.column('poverty_percent')/100 * poverty_and_pop.column(\"population_total\")).apply(round, \"poverty_total\")\nrecent_poverty_total",
    "id": "8452c8e2e4fe48eb84aa51aa225ba413",
    "idx": 85,
    "time": "2021-02-16T21:23:45.045Z",
    "type": "execution"
   },
   {
    "id": "8452c8e2e4fe48eb84aa51aa225ba413",
    "time": "2021-02-16T21:23:45.191Z",
    "type": "completion"
   },
   {
    "code": "population_2010 = population.where('time', 2010)\npoverty_and_pop = latest_poverty.drop('time').join('geo', population_2010).drop(\"time\")\nrecent_poverty_total = poverty_and_pop.column('poverty_percent')/100 * poverty_and_pop.column(\"population_total\").apply(round, \"poverty_total\")\nrecent_poverty_total",
    "id": "8452c8e2e4fe48eb84aa51aa225ba413",
    "idx": 85,
    "time": "2021-02-16T21:23:55.180Z",
    "type": "execution"
   },
   {
    "id": "8452c8e2e4fe48eb84aa51aa225ba413",
    "time": "2021-02-16T21:23:56.087Z",
    "type": "completion"
   },
   {
    "code": "population_2010 = population.where('time', 2010)\npoverty_and_pop = latest_poverty.drop('time').join('geo', population_2010).drop(\"time\")\nrecent_poverty_total = poverty_and_pop.column('poverty_percent')/100 * poverty_and_pop.column(\"population_total\")\nrecent_poverty_total",
    "id": "8452c8e2e4fe48eb84aa51aa225ba413",
    "idx": 85,
    "time": "2021-02-16T21:24:50.296Z",
    "type": "execution"
   },
   {
    "id": "8452c8e2e4fe48eb84aa51aa225ba413",
    "time": "2021-02-16T21:24:51.059Z",
    "type": "completion"
   },
   {
    "code": "population_2010 = population.where('time', 2010)\npoverty_and_pop = latest_poverty.drop('time').join('geo', population_2010).drop(\"time\")\nrecent_poverty_total = poverty_and_pop.column('poverty_percent')/100 * poverty_and_pop.column(\"population_total\")\nrecent_poverty_total = poverty_and_pop.with_column(\"poverty_total\", recent_poverty_total_poverty_total.apply(round))\nrecent_poverty_total",
    "id": "8452c8e2e4fe48eb84aa51aa225ba413",
    "idx": 85,
    "time": "2021-02-16T21:26:30.151Z",
    "type": "execution"
   },
   {
    "id": "8452c8e2e4fe48eb84aa51aa225ba413",
    "time": "2021-02-16T21:26:30.789Z",
    "type": "completion"
   },
   {
    "code": "population_2010 = population.where('time', 2010)\npoverty_and_pop = latest_poverty.drop('time').join('geo', population_2010).drop(\"time\")\nrecent_poverty_total = poverty_and_pop.column('poverty_percent')/100 * poverty_and_pop.column(\"population_total\")\nrecent_poverty_total = poverty_and_pop.with_column(\"poverty_total\", recent_poverty_total.apply(round))\nrecent_poverty_total",
    "id": "8452c8e2e4fe48eb84aa51aa225ba413",
    "idx": 85,
    "time": "2021-02-16T21:26:47.967Z",
    "type": "execution"
   },
   {
    "id": "8452c8e2e4fe48eb84aa51aa225ba413",
    "time": "2021-02-16T21:26:48.611Z",
    "type": "completion"
   },
   {
    "code": "population_2010 = population.where('time', 2010)\npoverty_and_pop = latest_poverty.drop('time').join('geo', population_2010).drop(\"time\")\nrecent_poverty_total = poverty_and_pop.column('poverty_percent')/100 * poverty_and_pop.column(\"population_total\")\nrecent_poverty_total = poverty_and_pop.with_column(\"poverty_total\", recent_poverty_total)\nrecent_poverty_total",
    "id": "8452c8e2e4fe48eb84aa51aa225ba413",
    "idx": 85,
    "time": "2021-02-16T21:27:34.251Z",
    "type": "execution"
   },
   {
    "id": "8452c8e2e4fe48eb84aa51aa225ba413",
    "time": "2021-02-16T21:27:34.913Z",
    "type": "completion"
   },
   {
    "code": "population_2010 = population.where('time', 2010)\npoverty_and_pop = latest_poverty.drop('time').join('geo', population_2010).drop(\"time\")\nrecent_poverty_total = poverty_and_pop.column('poverty_percent')/100 * poverty_and_pop.column(\"population_total\")\nrecent_poverty_total = poverty_and_pop.with_column(\"poverty_total\", recent_poverty_total).apply(round, \"poverty_total\")\nrecent_poverty_total",
    "id": "8452c8e2e4fe48eb84aa51aa225ba413",
    "idx": 85,
    "time": "2021-02-16T21:27:50.913Z",
    "type": "execution"
   },
   {
    "id": "8452c8e2e4fe48eb84aa51aa225ba413",
    "time": "2021-02-16T21:27:51.825Z",
    "type": "completion"
   },
   {
    "code": "population_2010 = population.where('time', 2010)\npoverty_and_pop = latest_poverty.drop('time').join('geo', population_2010).drop(\"time\")\nrecent_poverty_total = poverty_and_pop.column('poverty_percent')/100 * poverty_and_pop.column(\"population_total\")\nrecent_poverty_total = poverty_and_pop.with_column(\"poverty_total\", recent_poverty_total).apply(round, \"poverty_total\")\nrecent_poverty_total = poverty_and_pop.with_column(\"poverty_total\", recent_poverty_pop)\nrecent_poverty_total",
    "id": "8452c8e2e4fe48eb84aa51aa225ba413",
    "idx": 85,
    "time": "2021-02-16T21:28:49.927Z",
    "type": "execution"
   },
   {
    "id": "8452c8e2e4fe48eb84aa51aa225ba413",
    "time": "2021-02-16T21:28:50.775Z",
    "type": "completion"
   },
   {
    "code": "population_2010 = population.where('time', 2010)\npoverty_and_pop = latest_poverty.drop('time').join('geo', population_2010).drop(\"time\")\nrecent_poverty_total = poverty_and_pop.column('poverty_percent')/100 * poverty_and_pop.column(\"population_total\")\nrecent_poverty_total = poverty_and_pop.with_column(\"poverty_total\", recent_poverty_total).apply(round, \"poverty_total\")\nrecent_poverty_total = poverty_and_pop.with_column(\"poverty_total\", recent_poverty_total)\nrecent_poverty_total",
    "id": "8452c8e2e4fe48eb84aa51aa225ba413",
    "idx": 85,
    "time": "2021-02-16T21:29:08.254Z",
    "type": "execution"
   },
   {
    "id": "8452c8e2e4fe48eb84aa51aa225ba413",
    "time": "2021-02-16T21:29:09.187Z",
    "type": "completion"
   },
   {
    "code": "ok.grade(\"q2_2\");",
    "id": "617f3cf1382244acbaebd09b34da4953",
    "idx": 86,
    "time": "2021-02-16T21:29:12.719Z",
    "type": "execution"
   },
   {
    "id": "617f3cf1382244acbaebd09b34da4953",
    "time": "2021-02-16T21:29:13.195Z",
    "type": "completion"
   },
   {
    "code": "population_2010 = population.where('time', 2010)\npoverty_and_pop = latest_poverty.drop('time').join('geo', population_2010).drop(\"time\")\npoverty_total_array = poverty_and_pop.column('poverty_percent')/100 * poverty_and_pop.column(\"population_total\")\nrounded_poverty_total = poverty_and_pop.with_column(\"poverty_total\", poverty_total_array).apply(round, \"poverty_total\")\nrecent_poverty_total = poverty_and_pop.with_column(\"poverty_total\", rounded_poverty_total)\nrecent_poverty_total",
    "id": "8452c8e2e4fe48eb84aa51aa225ba413",
    "idx": 85,
    "time": "2021-02-16T21:30:16.109Z",
    "type": "execution"
   },
   {
    "id": "8452c8e2e4fe48eb84aa51aa225ba413",
    "time": "2021-02-16T21:30:20.972Z",
    "type": "completion"
   },
   {
    "code": "ok.grade(\"q2_2\");",
    "id": "617f3cf1382244acbaebd09b34da4953",
    "idx": 86,
    "time": "2021-02-16T21:30:34.078Z",
    "type": "execution"
   },
   {
    "code": "ok.grade(\"q2_2\");",
    "id": "617f3cf1382244acbaebd09b34da4953",
    "idx": 86,
    "time": "2021-02-16T21:30:39.617Z",
    "type": "execution"
   },
   {
    "id": "617f3cf1382244acbaebd09b34da4953",
    "time": "2021-02-16T21:30:40.431Z",
    "type": "completion"
   },
   {
    "id": "617f3cf1382244acbaebd09b34da4953",
    "time": "2021-02-16T21:30:40.431Z",
    "type": "completion"
   },
   {
    "code": "poverty_percent = population_2010\npoverty_percent",
    "id": "30d7ce37219d4fe7a12fad2b2f3c7a35",
    "idx": 88,
    "time": "2021-02-16T21:33:28.067Z",
    "type": "execution"
   },
   {
    "id": "30d7ce37219d4fe7a12fad2b2f3c7a35",
    "time": "2021-02-16T21:33:28.405Z",
    "type": "completion"
   },
   {
    "code": "poverty_percent = sum(population_2010.column(\"population_total\"))\npoverty_percent",
    "id": "30d7ce37219d4fe7a12fad2b2f3c7a35",
    "idx": 88,
    "time": "2021-02-16T21:33:57.053Z",
    "type": "execution"
   },
   {
    "id": "30d7ce37219d4fe7a12fad2b2f3c7a35",
    "time": "2021-02-16T21:33:57.283Z",
    "type": "completion"
   },
   {
    "code": "poverty_percent = sum(recent_poverty_total.column(\"poverty_total\")) / sum(population_2010.column(\"population_total\"))\npoverty_percent",
    "id": "30d7ce37219d4fe7a12fad2b2f3c7a35",
    "idx": 88,
    "time": "2021-02-16T21:34:41.750Z",
    "type": "execution"
   },
   {
    "id": "30d7ce37219d4fe7a12fad2b2f3c7a35",
    "time": "2021-02-16T21:34:43.144Z",
    "type": "completion"
   },
   {
    "code": "ok.grade(\"q2_3\");",
    "id": "a534d86af1fe46ab97fdacc1cb3d744d",
    "idx": 89,
    "time": "2021-02-16T21:34:47.037Z",
    "type": "execution"
   },
   {
    "id": "a534d86af1fe46ab97fdacc1cb3d744d",
    "time": "2021-02-16T21:34:47.311Z",
    "type": "completion"
   },
   {
    "code": "poverty_percent = sum(recent_poverty_total.column(\"poverty_total\")) / sum(population_2010.column(\"population_total\")) * 100\npoverty_percent",
    "id": "30d7ce37219d4fe7a12fad2b2f3c7a35",
    "idx": 88,
    "time": "2021-02-16T21:35:04.787Z",
    "type": "execution"
   },
   {
    "id": "30d7ce37219d4fe7a12fad2b2f3c7a35",
    "time": "2021-02-16T21:35:04.925Z",
    "type": "completion"
   },
   {
    "code": "ok.grade(\"q2_3\");",
    "id": "a534d86af1fe46ab97fdacc1cb3d744d",
    "idx": 89,
    "time": "2021-02-16T21:35:07.043Z",
    "type": "execution"
   },
   {
    "id": "a534d86af1fe46ab97fdacc1cb3d744d",
    "time": "2021-02-16T21:35:07.286Z",
    "type": "completion"
   },
   {
    "code": "poverty_map = recent_poverty_total.join(\"geo\", countries)\npoverty_map",
    "id": "8b6d8f9d5f94472482c06916de83aace",
    "idx": 93,
    "time": "2021-02-16T21:36:15.657Z",
    "type": "execution"
   },
   {
    "id": "8b6d8f9d5f94472482c06916de83aace",
    "time": "2021-02-16T21:36:16.606Z",
    "type": "completion"
   },
   {
    "code": "poverty_map = recent_poverty_total.join(\"geo\", countries, \"country\")\npoverty_map",
    "id": "8b6d8f9d5f94472482c06916de83aace",
    "idx": 93,
    "time": "2021-02-16T21:36:51.478Z",
    "type": "execution"
   },
   {
    "id": "8b6d8f9d5f94472482c06916de83aace",
    "time": "2021-02-16T21:36:51.866Z",
    "type": "completion"
   },
   {
    "code": "joined_poverty_country_map = recent_poverty_total.join(\"geo\", countries, \"country\")\njoined_poverty_country_map",
    "id": "8b6d8f9d5f94472482c06916de83aace",
    "idx": 93,
    "time": "2021-02-16T21:38:14.223Z",
    "type": "execution"
   },
   {
    "id": "8b6d8f9d5f94472482c06916de83aace",
    "time": "2021-02-16T21:38:14.437Z",
    "type": "completion"
   },
   {
    "code": "joined_poverty_country_map = recent_poverty_total.join(\"geo\", countries, \"country\")\npoverty_map.with_columns('latitude', joined_poverty_country_map.column('latitude'), \n                        'longitude', joined_poverty_country_map.column('longitude'), \n                        'name', joined_poverty_country_map.column('name'), \n                        'region', joined_poverty_country_map.column('region'), \n                        'poverty_total', joined_poverty_country_map.column('poverty_total'))\npoverty_map",
    "id": "8b6d8f9d5f94472482c06916de83aace",
    "idx": 93,
    "time": "2021-02-16T21:40:56.627Z",
    "type": "execution"
   },
   {
    "id": "8b6d8f9d5f94472482c06916de83aace",
    "time": "2021-02-16T21:40:56.785Z",
    "type": "completion"
   },
   {
    "code": "joined_poverty_country_map = recent_poverty_total.join(\"geo\", countries, \"country\")\npoverty_map = joined_poverty_country_map.with_columns('latitude', joined_poverty_country_map.column('latitude'), \n                        'longitude', joined_poverty_country_map.column('longitude'), \n                        'name', joined_poverty_country_map.column('name'), \n                        'region', joined_poverty_country_map.column('region'), \n                        'poverty_total', joined_poverty_country_map.column('poverty_total'))\npoverty_map",
    "id": "8b6d8f9d5f94472482c06916de83aace",
    "idx": 93,
    "time": "2021-02-16T21:41:43.660Z",
    "type": "execution"
   },
   {
    "id": "8b6d8f9d5f94472482c06916de83aace",
    "time": "2021-02-16T21:41:44.365Z",
    "type": "completion"
   },
   {
    "code": "joined_poverty_country_map = recent_poverty_total.join(\"geo\", countries, \"country\")\npoverty_map = Table().with_columns('latitude', joined_poverty_country_map.column('latitude'), \n                        'longitude', joined_poverty_country_map.column('longitude'), \n                        'name', joined_poverty_country_map.column('name'), \n                        'region', joined_poverty_country_map.column('region'), \n                        'poverty_total', joined_poverty_country_map.column('poverty_total'))\npoverty_map",
    "id": "8b6d8f9d5f94472482c06916de83aace",
    "idx": 93,
    "time": "2021-02-16T21:42:05.147Z",
    "type": "execution"
   },
   {
    "id": "8b6d8f9d5f94472482c06916de83aace",
    "time": "2021-02-16T21:42:05.886Z",
    "type": "completion"
   },
   {
    "code": "joined_poverty_country_map = recent_poverty_total.join(\"geo\", countries, \"country\")\n\"\"\"poverty_map = Table().with_columns('latitude', joined_poverty_country_map.column('latitude'), \n                        'longitude', joined_poverty_country_map.column('longitude'), \n                        'name', joined_poverty_country_map.column('name'), \n                        'region', joined_poverty_country_map.column('region'), \n                        'poverty_total', joined_poverty_country_map.column('poverty_total'))\"\"\"\njoined_poverty_country_map",
    "id": "8b6d8f9d5f94472482c06916de83aace",
    "idx": 93,
    "time": "2021-02-16T21:42:49.589Z",
    "type": "execution"
   },
   {
    "id": "8b6d8f9d5f94472482c06916de83aace",
    "time": "2021-02-16T21:43:03.714Z",
    "type": "completion"
   },
   {
    "code": "joined_poverty_country_map = recent_poverty_total.join(\"geo\", countries, \"country\")\npoverty_map = Table().with_columns('latitude', joined_poverty_country_map.column('latitude'), \n                        'longitude', joined_poverty_country_map.column('longitude'), \n                        'name', joined_poverty_country_map.column('name'), \n                        'region', joined_poverty_country_map.column('world_4region'), \n                        'poverty_total', joined_poverty_country_map.column('poverty_total'))\npoverty_map",
    "id": "8b6d8f9d5f94472482c06916de83aace",
    "idx": 93,
    "time": "2021-02-16T21:44:33.365Z",
    "type": "execution"
   },
   {
    "id": "8b6d8f9d5f94472482c06916de83aace",
    "time": "2021-02-16T21:44:33.630Z",
    "type": "completion"
   },
   {
    "code": "ok.grade(\"q2_4\");",
    "id": "a9ea18f00f88440c8ad8f2a5ae69fa9f",
    "idx": 94,
    "time": "2021-02-16T21:44:42.167Z",
    "type": "execution"
   },
   {
    "id": "a9ea18f00f88440c8ad8f2a5ae69fa9f",
    "time": "2021-02-16T21:44:42.460Z",
    "type": "completion"
   },
   {
    "code": "# It may take a few seconds to generate this map.\ncolors = {'africa': 'blue', 'europe': 'black', 'asia': 'red', 'americas': 'green'}\nscaled = poverty_map.with_columns(\n    'labels', poverty_map.column('name'),\n    'colors', poverty_map.apply(colors.get, 'region'),\n    'areas', 1e-4 * poverty_map.column('poverty_total')\n).drop('name', 'region', 'poverty_total')\n\nCircle.map_table(scaled)",
    "id": "47b3c6c833af4786bed456c99bf0cc3f",
    "idx": 96,
    "time": "2021-02-16T21:45:03.009Z",
    "type": "execution"
   },
   {
    "id": "47b3c6c833af4786bed456c99bf0cc3f",
    "time": "2021-02-16T21:45:05.253Z",
    "type": "completion"
   },
   {
    "code": "largest = poverty_map.sort(\"poverty_total\", descending=True)\nlargest\n#largest.set_format('poverty_total', NumberFormatter)",
    "id": "669347b1bcd746858a8fd7838ccaacbf",
    "idx": 99,
    "time": "2021-02-16T21:46:31.146Z",
    "type": "execution"
   },
   {
    "id": "669347b1bcd746858a8fd7838ccaacbf",
    "time": "2021-02-16T21:46:31.351Z",
    "type": "completion"
   },
   {
    "code": "largest = poverty_map.sort(\"poverty_total\", descending=True).take(np.arange(0,10))\nlargest\n#largest.set_format('poverty_total', NumberFormatter)",
    "id": "669347b1bcd746858a8fd7838ccaacbf",
    "idx": 99,
    "time": "2021-02-16T21:47:54.956Z",
    "type": "execution"
   },
   {
    "id": "669347b1bcd746858a8fd7838ccaacbf",
    "time": "2021-02-16T21:47:55.087Z",
    "type": "completion"
   },
   {
    "code": "largest = poverty_map.sort(\"poverty_total\", descending=True).take(np.arange(0,10)).select(2, 4)\n#largest.set_format('poverty_total', NumberFormatter)",
    "id": "669347b1bcd746858a8fd7838ccaacbf",
    "idx": 99,
    "time": "2021-02-16T21:48:34.953Z",
    "type": "execution"
   },
   {
    "id": "669347b1bcd746858a8fd7838ccaacbf",
    "time": "2021-02-16T21:48:35.141Z",
    "type": "completion"
   },
   {
    "code": "largest = poverty_map.sort(\"poverty_total\", descending=True).take(np.arange(0,10)).select(2, 4)\nlargest\n#largest.set_format('poverty_total', NumberFormatter)",
    "id": "669347b1bcd746858a8fd7838ccaacbf",
    "idx": 99,
    "time": "2021-02-16T21:48:39.990Z",
    "type": "execution"
   },
   {
    "id": "669347b1bcd746858a8fd7838ccaacbf",
    "time": "2021-02-16T21:48:40.146Z",
    "type": "completion"
   },
   {
    "code": "largest = poverty_map.sort(\"poverty_total\", descending=True).take(np.arange(0,10)).select(2, 4)\nlargest.set_format('poverty_total', NumberFormatter)",
    "id": "669347b1bcd746858a8fd7838ccaacbf",
    "idx": 99,
    "time": "2021-02-16T21:48:49.936Z",
    "type": "execution"
   },
   {
    "id": "669347b1bcd746858a8fd7838ccaacbf",
    "time": "2021-02-16T21:48:50.077Z",
    "type": "completion"
   },
   {
    "code": "ok.grade(\"q2_5\");",
    "id": "9ebc78bf18724faeb3842ebef1396272",
    "idx": 100,
    "time": "2021-02-16T21:49:01.935Z",
    "type": "execution"
   },
   {
    "id": "9ebc78bf18724faeb3842ebef1396272",
    "time": "2021-02-16T21:49:02.135Z",
    "type": "completion"
   },
   {
    "code": "population",
    "id": "85f0852881e44864a18330cb026bb146",
    "idx": 103,
    "time": "2021-02-17T00:14:55.718Z",
    "type": "execution"
   }
  ],
  "kernelspec": {
   "display_name": "Python 3",
   "language": "python",
   "name": "python3"
  },
  "language_info": {
   "codemirror_mode": {
    "name": "ipython",
    "version": 3
   },
   "file_extension": ".py",
   "mimetype": "text/x-python",
   "name": "python",
   "nbconvert_exporter": "python",
   "pygments_lexer": "ipython3",
   "version": "3.8.6"
  }
 },
 "nbformat": 4,
 "nbformat_minor": 1
}
